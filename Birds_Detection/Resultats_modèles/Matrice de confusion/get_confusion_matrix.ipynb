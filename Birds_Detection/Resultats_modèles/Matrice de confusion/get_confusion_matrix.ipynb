{
 "cells": [
  {
   "cell_type": "code",
   "execution_count": 2,
   "metadata": {},
   "outputs": [],
   "source": [
    "import numpy as np"
   ]
  },
  {
   "cell_type": "code",
   "execution_count": 3,
   "metadata": {},
   "outputs": [],
   "source": [
    "NB_total=[274, 930, 70, 492, 350]\n",
    "TP=[59, 270, 18, 113, 75]\n",
    "FP=[13, 211, 2, 29, 55]\n",
    "NB_imagettes_folder=[13961, 70420, 115279, 238759, 283899]\n"
   ]
  },
  {
   "cell_type": "code",
   "execution_count": 4,
   "metadata": {},
   "outputs": [
    {
     "data": {
      "text/plain": [
       "array([[1, 2],\n",
       "       [3, 4]])"
      ]
     },
     "execution_count": 4,
     "metadata": {},
     "output_type": "execute_result"
    }
   ],
   "source": [
    "np.array([[1,2],[3,4]])"
   ]
  },
  {
   "cell_type": "code",
   "execution_count": 5,
   "metadata": {},
   "outputs": [
    {
     "data": {
      "text/plain": [
       "array([[ 60,  40],\n",
       "       [ 40, 110]])"
      ]
     },
     "execution_count": 5,
     "metadata": {},
     "output_type": "execute_result"
    }
   ],
   "source": [
    "\n",
    "def get_confusion_matrix(nb_oiseaux,tp,fp,nb_imagettes):\n",
    "    fn=nb_oiseaux-tp\n",
    "    tn=nb_imagettes-fp-fn-tp\n",
    "    confusion_matrix=np.array([[tp,fp],[fn,tn]])\n",
    "    return confusion_matrix\n",
    "    \n",
    "get_confusion_matrix(100,60,40,250)    \n"
   ]
  },
  {
   "cell_type": "code",
   "execution_count": 6,
   "metadata": {},
   "outputs": [
    {
     "data": {
      "text/plain": [
       "array([[1, 2],\n",
       "       [3, 4]])"
      ]
     },
     "execution_count": 6,
     "metadata": {},
     "output_type": "execute_result"
    }
   ],
   "source": [
    "np.array([[1,2],[3,4]])"
   ]
  },
  {
   "cell_type": "code",
   "execution_count": 18,
   "metadata": {},
   "outputs": [
    {
     "data": {
      "image/png": "[encoded data removed]",
      "text/plain": [
       "<Figure size 432x432 with 1 Axes>"
      ]
     },
     "metadata": {
      "needs_background": "light"
     },
     "output_type": "display_data"
    }
   ],
   "source": [
    "import seaborn as sns\n",
    "import matplotlib.pyplot as plt\n",
    "\n",
    "mat_conf=get_confusion_matrix(nb_oiseaux,tp,fp,nb_imagettes)\n",
    "\n",
    "fig, ax = plt.subplots(figsize=(6,6))\n",
    "group_names = [\"True Neg\",\"False Pos\",\"False Neg\",\"True Pos\"]\n",
    "\n",
    "group_counts = [\"{0:0.0f}\".format(value) for value in\n",
    "                mat_conf.flatten()]\n",
    "\n",
    "group_percentages = [\"{0:.2%}\".format(value) for value in\n",
    "                     mat_conf.flatten()/np.sum(a)]\n",
    "\n",
    "labels = [f\"{v1}\\n{v2}\\n{v3}\" for v1, v2, v3 in\n",
    "          zip(group_names,group_counts,group_percentages)]\n",
    "\n",
    "labels = [f\"{v1}\\n{v2}\" for v1, v2 in\n",
    "          zip(group_names,group_counts)]\n",
    "\n",
    "labels = np.asarray(labels).reshape(2,2)\n",
    "sns.heatmap(mat_conf, annot=labels, fmt=\"\", cmap='Blues', cbar=False).set_title('matrice de confusion');\n",
    "#sns.heatmap(a, annot=labels, fmt=\"\", cmap='Blues', cbar=False).set_title('matrice de confusion');"
   ]
  },
  {
   "cell_type": "code",
   "execution_count": 20,
   "metadata": {},
   "outputs": [
    {
     "data": {
      "image/png": "[encoded data removed]",
      "text/plain": [
       "<Figure size 432x432 with 1 Axes>"
      ]
     },
     "metadata": {
      "needs_background": "light"
     },
     "output_type": "display_data"
    }
   ],
   "source": [
    "import seaborn as sns\n",
    "import matplotlib.pyplot as plt\n",
    "\n",
    "\n",
    "def clear_map(mat_conf):\n",
    "    mat_conf=get_confusion_matrix(nb_oiseaux,tp,fp,nb_imagettes)\n",
    "\n",
    "    fig, ax = plt.subplots(figsize=(6,6))\n",
    "    group_names = [\"True Neg\",\"False Pos\",\"False Neg\",\"True Pos\"]\n",
    "\n",
    "    group_counts = [\"{0:0.0f}\".format(value) for value in\n",
    "                    mat_conf.flatten()]\n",
    "\n",
    "    group_percentages = [\"{0:.2%}\".format(value) for value in\n",
    "                         mat_conf.flatten()/np.sum(a)]\n",
    "\n",
    "    labels = [f\"{v1}\\n{v2}\\n{v3}\" for v1, v2, v3 in\n",
    "              zip(group_names,group_counts,group_percentages)]\n",
    "\n",
    "    labels = [f\"{v1}\\n{v2}\" for v1, v2 in\n",
    "              zip(group_names,group_counts)]\n",
    "\n",
    "    labels = np.asarray(labels).reshape(2,2)\n",
    "    sns.heatmap(mat_conf, annot=labels, fmt=\"\", cmap='Blues', cbar=False).set_title('matrice de confusion');\n",
    "    \n",
    "clear_map(mat_conf)  \n",
    "#sns.heatmap(a, annot=labels, fmt=\"\", cmap='Blues', cbar=False).set_title('matrice de confusion');\n"
   ]
  },
  {
   "cell_type": "code",
   "execution_count": 11,
   "metadata": {},
   "outputs": [
    {
     "ename": "SyntaxError",
     "evalue": "invalid syntax (<ipython-input-11-587e86317a5f>, line 2)",
     "output_type": "error",
     "traceback": [
      "\u001b[0;36m  File \u001b[0;32m\"<ipython-input-11-587e86317a5f>\"\u001b[0;36m, line \u001b[0;32m2\u001b[0m\n\u001b[0;31m    nombre TP par dossier [166, 472, 16, 265, 95]\u001b[0m\n\u001b[0m            ^\u001b[0m\n\u001b[0;31mSyntaxError\u001b[0m\u001b[0;31m:\u001b[0m invalid syntax\n"
     ]
    }
   ],
   "source": [
    "\n",
    "nombre TP par dossier [166, 472, 16, 265, 95]\n",
    "nombre FP par dossier [19, 159, 1, 37, 57]\n",
    "seaborn.heatmap(mat, annot=True, fmt='d');\n"
   ]
  },
  {
   "cell_type": "code",
   "execution_count": 9,
   "metadata": {},
   "outputs": [
    {
     "name": "stdout",
     "output_type": "stream",
     "text": [
      "[[   59    13]\n",
      " [  215 13674]]\n"
     ]
    },
    {
     "ename": "NameError",
     "evalue": "name 'labels' is not defined",
     "output_type": "error",
     "traceback": [
      "\u001b[0;31m---------------------------------------------------------------------------\u001b[0m",
      "\u001b[0;31mNameError\u001b[0m                                 Traceback (most recent call last)",
      "\u001b[0;32m<ipython-input-9-5da057df68b4>\u001b[0m in \u001b[0;36m<module>\u001b[0;34m\u001b[0m\n\u001b[1;32m      6\u001b[0m     \u001b[0mmat_conf\u001b[0m\u001b[0;34m=\u001b[0m\u001b[0mget_confusion_matrix\u001b[0m\u001b[0;34m(\u001b[0m\u001b[0mnb_oiseaux\u001b[0m\u001b[0;34m,\u001b[0m\u001b[0mtp\u001b[0m\u001b[0;34m,\u001b[0m\u001b[0mfp\u001b[0m\u001b[0;34m,\u001b[0m\u001b[0mnb_imagettes\u001b[0m\u001b[0;34m)\u001b[0m\u001b[0;34m\u001b[0m\u001b[0;34m\u001b[0m\u001b[0m\n\u001b[1;32m      7\u001b[0m     \u001b[0mi\u001b[0m\u001b[0;34m+=\u001b[0m\u001b[0;36m1\u001b[0m\u001b[0;34m;\u001b[0m\u001b[0;34m\u001b[0m\u001b[0;34m\u001b[0m\u001b[0m\n\u001b[0;32m----> 8\u001b[0;31m     \u001b[0mb\u001b[0m\u001b[0;34m=\u001b[0m\u001b[0msns\u001b[0m\u001b[0;34m.\u001b[0m\u001b[0mheatmap\u001b[0m\u001b[0;34m(\u001b[0m\u001b[0mmat_conf\u001b[0m\u001b[0;34m,\u001b[0m \u001b[0mannot\u001b[0m\u001b[0;34m=\u001b[0m\u001b[0mlabels\u001b[0m\u001b[0;34m,\u001b[0m \u001b[0mfmt\u001b[0m\u001b[0;34m=\u001b[0m\u001b[0;34m\"\"\u001b[0m\u001b[0;34m,\u001b[0m \u001b[0mcmap\u001b[0m\u001b[0;34m=\u001b[0m\u001b[0;34m'Blues'\u001b[0m\u001b[0;34m,\u001b[0m \u001b[0mcbar\u001b[0m\u001b[0;34m=\u001b[0m\u001b[0;32mFalse\u001b[0m\u001b[0;34m)\u001b[0m\u001b[0;34m\u001b[0m\u001b[0;34m\u001b[0m\u001b[0m\n\u001b[0m\u001b[1;32m      9\u001b[0m     \u001b[0;31m#b=sns.heatmap(a, annot=labels, fmt=\"\", cmap='Blues', cbar=False).set_title('matrice de confusion');\u001b[0m\u001b[0;34m\u001b[0m\u001b[0;34m\u001b[0m\u001b[0;34m\u001b[0m\u001b[0m\n\u001b[1;32m     10\u001b[0m \u001b[0;34m\u001b[0m\u001b[0m\n",
      "\u001b[0;31mNameError\u001b[0m: name 'labels' is not defined"
     ]
    },
    {
     "data": {
      "image/png": "[encoded data removed]",
      "text/plain": [
       "<Figure size 1152x360 with 1 Axes>"
      ]
     },
     "metadata": {
      "needs_background": "light"
     },
     "output_type": "display_data"
    }
   ],
   "source": [
    "i=1\n",
    "plt.figure(figsize=(16,5))\n",
    "for nb_oiseaux,tp,fp,nb_imagettes in zip(NB_total,TP,FP,NB_imagettes_folder):\n",
    "    print(get_confusion_matrix(nb_oiseaux,tp,fp,nb_imagettes))\n",
    "    plt.subplot(1,5,i)\n",
    "    mat_conf=get_confusion_matrix(nb_oiseaux,tp,fp,nb_imagettes)\n",
    "    i+=1;\n",
    "    b=sns.heatmap(mat_conf, annot=labels, fmt=\"\", cmap='Blues', cbar=False)\n",
    "    #b=sns.heatmap(a, annot=labels, fmt=\"\", cmap='Blues', cbar=False).set_title('matrice de confusion');\n",
    "    \n",
    "    "
   ]
  },
  {
   "cell_type": "code",
   "execution_count": null,
   "metadata": {},
   "outputs": [],
   "source": []
  },
  {
   "cell_type": "code",
   "execution_count": null,
   "metadata": {},
   "outputs": [],
   "source": [
    "TP=[94, 339, 34, 136, 115]\n",
    "FP=[2685, 18847, 9751, 22522, 17070]\n",
    "\n",
    "i=1\n",
    "for nb_oiseaux,tp,fp,nb_imagettes in zip(NB_total,TP,FP,NB_imagettes_folder):\n",
    "    print(\"Matrice de confusion dossier\", i)\n",
    "    print(get_confusion_matrix(nb_oiseaux,tp,fp,nb_imagettes))\n",
    "    i+=1"
   ]
  },
  {
   "cell_type": "code",
   "execution_count": 18,
   "metadata": {},
   "outputs": [
    {
     "name": "stdout",
     "output_type": "stream",
     "text": [
      "Matrice de confusion dossier 1\n",
      "[[   21   468]\n",
      " [  253 13219]]\n",
      "Matrice de confusion dossier 2\n",
      "[[  134  1821]\n",
      " [  796 67669]]\n",
      "Matrice de confusion dossier 3\n",
      "[[     4    327]\n",
      " [    66 114882]]\n",
      "Matrice de confusion dossier 4\n",
      "[[    45   1577]\n",
      " [   447 236690]]\n",
      "Matrice de confusion dossier 5\n",
      "[[    19   1258]\n",
      " [   331 282291]]\n"
     ]
    }
   ],
   "source": [
    "TP=[21, 134, 4, 45, 19]\n",
    "FP=[468, 1821, 327, 1577, 1258]\n",
    "\n",
    "i=1\n",
    "for nb_oiseaux,tp,fp,nb_imagettes in zip(NB_total,TP,FP,NB_imagettes_folder):\n",
    "    print(\"Matrice de confusion dossier\", i)\n",
    "    print(get_confusion_matrix(nb_oiseaux,tp,fp,nb_imagettes))\n",
    "    i+=1"
   ]
  },
  {
   "cell_type": "code",
   "execution_count": 25,
   "metadata": {},
   "outputs": [
    {
     "name": "stdout",
     "output_type": "stream",
     "text": [
      "Matrice de confusion pour seuil à 1\n",
      "[[   761    284]\n",
      " [  1355 719918]]\n",
      "Matrice de confusion pour seuil à 2\n",
      "[[   707    252]\n",
      " [  1409 719950]]\n",
      "Matrice de confusion pour seuil à 3\n",
      "[[   680    231]\n",
      " [  1436 719971]]\n",
      "Matrice de confusion pour seuil à 4\n",
      "[[   652    222]\n",
      " [  1464 719980]]\n",
      "Matrice de confusion pour seuil à 5\n",
      "[[   620    209]\n",
      " [  1496 719993]]\n",
      "Matrice de confusion pour seuil à 6\n",
      "[[   596    191]\n",
      " [  1520 720011]]\n",
      "Matrice de confusion pour seuil à 7\n",
      "[[   569    177]\n",
      " [  1547 720025]]\n",
      "Matrice de confusion pour seuil à 8\n",
      "[[   460    140]\n",
      " [  1656 720062]]\n"
     ]
    }
   ],
   "source": [
    "TP=[761,707,680,652,620,596,569,460]\n",
    "FP=[284,252,231,222,209,191,177,140]\n",
    "nb_oiseaux=np.sum(NB_total)\n",
    "nb_imagettes=np.sum(NB_imagettes_folder)\n",
    "i=1\n",
    "for tp,fp in zip(TP,FP):\n",
    "    print(\"Matrice de confusion pour seuil à\", i)\n",
    "    print(get_confusion_matrix(nb_oiseaux,tp,fp,nb_imagettes))\n",
    "    i+=1"
   ]
  },
  {
   "cell_type": "code",
   "execution_count": 27,
   "metadata": {},
   "outputs": [
    {
     "name": "stdout",
     "output_type": "stream",
     "text": [
      "Matrice de confusion dossier 1\n",
      "[[   99    13]\n",
      " [  175 13674]]\n",
      "Matrice de confusion dossier 2\n",
      "[[  340   188]\n",
      " [  590 69302]]\n",
      "Matrice de confusion dossier 3\n",
      "[[    21      1]\n",
      " [    49 115208]]\n",
      "Matrice de confusion dossier 4\n",
      "[[   208     33]\n",
      " [   284 238234]]\n",
      "Matrice de confusion dossier 5\n",
      "[[    93     71]\n",
      " [   257 283478]]\n"
     ]
    }
   ],
   "source": [
    "TP= [99, 340, 21, 208, 93]\n",
    "FP = [13, 188, 1, 33, 71]\n",
    "\n",
    "i=1\n",
    "for nb_oiseaux,tp,fp,nb_imagettes in zip(NB_total,TP,FP,NB_imagettes_folder):\n",
    "    print(\"Matrice de confusion dossier\", i)\n",
    "    print(get_confusion_matrix(nb_oiseaux,tp,fp,nb_imagettes))\n",
    "    i+=1"
   ]
  },
  {
   "cell_type": "code",
   "execution_count": 10,
   "metadata": {},
   "outputs": [
    {
     "name": "stdout",
     "output_type": "stream",
     "text": [
      "Matrice de confusion dossier 1\n",
      "[[  213   105]\n",
      " [   61 23982]]\n",
      "Matrice de confusion dossier 2\n",
      "[[   511   3575]\n",
      " [   419 134785]]\n",
      "Matrice de confusion dossier 3\n",
      "[[    23    124]\n",
      " [    47 175005]]\n",
      "Matrice de confusion dossier 4\n",
      "[[   267   2164]\n",
      " [   225 312921]]\n",
      "Matrice de confusion dossier 5\n",
      "[[   114   7250]\n",
      " [   236 383503]]\n"
     ]
    }
   ],
   "source": [
    "#Filtre light sans préselection\n",
    "NB_imagettes_folder= [24361, 139290, 175199, 315577, 391103]\n",
    "\n",
    "TP=[213, 511, 23, 267, 114]\n",
    "FP= [105, 3575, 124, 2164, 7250]\n",
    "\n",
    "i=1\n",
    "for nb_oiseaux,tp,fp,nb_imagettes in zip(NB_total,TP,FP,NB_imagettes_folder):\n",
    "    print(\"Matrice de confusion dossier\", i)\n",
    "    print(get_confusion_matrix(nb_oiseaux,tp,fp,nb_imagettes))\n",
    "    i+=1"
   ]
  },
  {
   "cell_type": "code",
   "execution_count": 12,
   "metadata": {},
   "outputs": [
    {
     "name": "stdout",
     "output_type": "stream",
     "text": [
      "Matrice de confusion dossier 1\n",
      "[[  213   105]\n",
      " [   61 23982]]\n",
      "Matrice de confusion dossier 2\n",
      "[[   511   3575]\n",
      " [   419 134785]]\n",
      "Matrice de confusion dossier 3\n",
      "[[    23    124]\n",
      " [    47 175005]]\n",
      "Matrice de confusion dossier 4\n",
      "[[   267   2164]\n",
      " [   225 312921]]\n",
      "Matrice de confusion dossier 5\n",
      "[[   114   7250]\n",
      " [   236 383503]]\n"
     ]
    }
   ],
   "source": [
    "#Filtre light threshold 0.9\n",
    "\n",
    "Tp =[167, 366, 19, 109, 63]\n",
    "Fp = [44, 1291, 12, 528, 2126]\n",
    "\n",
    "\n",
    "i=1\n",
    "for nb_oiseaux,tp,fp,nb_imagettes in zip(NB_total,TP,FP,NB_imagettes_folder):\n",
    "    print(\"Matrice de confusion dossier\", i)\n",
    "    print(get_confusion_matrix(nb_oiseaux,tp,fp,nb_imagettes))\n",
    "    i+=1"
   ]
  },
  {
   "cell_type": "code",
   "execution_count": 13,
   "metadata": {},
   "outputs": [
    {
     "name": "stdout",
     "output_type": "stream",
     "text": [
      "Matrice de confusion dossier 1\n",
      "[[  195    51]\n",
      " [   79 24036]]\n",
      "Matrice de confusion dossier 2\n",
      "[[   378   5571]\n",
      " [   552 132789]]\n",
      "Matrice de confusion dossier 3\n",
      "[[     3      3]\n",
      " [    67 175126]]\n",
      "Matrice de confusion dossier 4\n",
      "[[   242    572]\n",
      " [   250 314513]]\n",
      "Matrice de confusion dossier 5\n",
      "[[    64   1458]\n",
      " [   286 389295]]\n"
     ]
    }
   ],
   "source": [
    "#Filtre light sans préselection de 50\n",
    "\n",
    "TP =[195, 378, 3, 242, 64]\n",
    "FP = [51, 5571, 3, 572, 1458]\n",
    "\n",
    "i=1\n",
    "for nb_oiseaux,tp,fp,nb_imagettes in zip(NB_total,TP,FP,NB_imagettes_folder):\n",
    "    print(\"Matrice de confusion dossier\", i)\n",
    "    print(get_confusion_matrix(nb_oiseaux,tp,fp,nb_imagettes))\n",
    "    i+=1"
   ]
  },
  {
   "cell_type": "code",
   "execution_count": 120,
   "metadata": {},
   "outputs": [
    {
     "ename": "NameError",
     "evalue": "name 'cmap' is not defined",
     "output_type": "error",
     "traceback": [
      "\u001b[0;31m---------------------------------------------------------------------------\u001b[0m",
      "\u001b[0;31mNameError\u001b[0m                                 Traceback (most recent call last)",
      "\u001b[0;32m<ipython-input-120-d5adae8bbb91>\u001b[0m in \u001b[0;36m<module>\u001b[0;34m\u001b[0m\n\u001b[1;32m     11\u001b[0m \u001b[0;34m\u001b[0m\u001b[0m\n\u001b[1;32m     12\u001b[0m \u001b[0;31m# We use ax parameter to tell seaborn which subplot to use for this plot\u001b[0m\u001b[0;34m\u001b[0m\u001b[0;34m\u001b[0m\u001b[0;34m\u001b[0m\u001b[0m\n\u001b[0;32m---> 13\u001b[0;31m \u001b[0msns\u001b[0m\u001b[0;34m.\u001b[0m\u001b[0mheatmap\u001b[0m\u001b[0;34m(\u001b[0m\u001b[0mdata\u001b[0m\u001b[0;34m=\u001b[0m\u001b[0ma\u001b[0m\u001b[0;34m,\u001b[0m \u001b[0max\u001b[0m\u001b[0;34m=\u001b[0m\u001b[0max1\u001b[0m\u001b[0;34m,\u001b[0m \u001b[0mcmap\u001b[0m \u001b[0;34m=\u001b[0m \u001b[0mcmap\u001b[0m\u001b[0;34m,\u001b[0m \u001b[0msquare\u001b[0m\u001b[0;34m=\u001b[0m\u001b[0;32mTrue\u001b[0m\u001b[0;34m,\u001b[0m \u001b[0mcbar_kws\u001b[0m\u001b[0;34m=\u001b[0m\u001b[0;34m{\u001b[0m\u001b[0;34m'shrink'\u001b[0m\u001b[0;34m:\u001b[0m \u001b[0;36m.3\u001b[0m\u001b[0;34m}\u001b[0m\u001b[0;34m,\u001b[0m \u001b[0mannot\u001b[0m\u001b[0;34m=\u001b[0m\u001b[0;32mTrue\u001b[0m\u001b[0;34m,\u001b[0m \u001b[0mannot_kws\u001b[0m\u001b[0;34m=\u001b[0m\u001b[0;34m{\u001b[0m\u001b[0;34m'fontsize'\u001b[0m\u001b[0;34m:\u001b[0m \u001b[0;36m12\u001b[0m\u001b[0;34m}\u001b[0m\u001b[0;34m)\u001b[0m\u001b[0;34m\u001b[0m\u001b[0;34m\u001b[0m\u001b[0m\n\u001b[0m\u001b[1;32m     14\u001b[0m \u001b[0msns\u001b[0m\u001b[0;34m.\u001b[0m\u001b[0mheatmap\u001b[0m\u001b[0;34m(\u001b[0m\u001b[0mdata\u001b[0m\u001b[0;34m=\u001b[0m\u001b[0msubset2\u001b[0m\u001b[0;34m.\u001b[0m\u001b[0mcorr\u001b[0m\u001b[0;34m(\u001b[0m\u001b[0;34m)\u001b[0m\u001b[0;34m,\u001b[0m \u001b[0max\u001b[0m\u001b[0;34m=\u001b[0m\u001b[0max2\u001b[0m\u001b[0;34m,\u001b[0m \u001b[0mcmap\u001b[0m \u001b[0;34m=\u001b[0m \u001b[0mcmap\u001b[0m\u001b[0;34m,\u001b[0m \u001b[0msquare\u001b[0m\u001b[0;34m=\u001b[0m\u001b[0;32mTrue\u001b[0m\u001b[0;34m,\u001b[0m \u001b[0mcbar_kws\u001b[0m\u001b[0;34m=\u001b[0m\u001b[0;34m{\u001b[0m\u001b[0;34m'shrink'\u001b[0m\u001b[0;34m:\u001b[0m \u001b[0;36m.3\u001b[0m\u001b[0;34m}\u001b[0m\u001b[0;34m,\u001b[0m \u001b[0mannot\u001b[0m\u001b[0;34m=\u001b[0m\u001b[0;32mTrue\u001b[0m\u001b[0;34m,\u001b[0m \u001b[0mannot_kws\u001b[0m\u001b[0;34m=\u001b[0m\u001b[0;34m{\u001b[0m\u001b[0;34m'fontsize'\u001b[0m\u001b[0;34m:\u001b[0m \u001b[0;36m12\u001b[0m\u001b[0;34m}\u001b[0m\u001b[0;34m)\u001b[0m\u001b[0;34m\u001b[0m\u001b[0;34m\u001b[0m\u001b[0m\n\u001b[1;32m     15\u001b[0m \u001b[0msns\u001b[0m\u001b[0;34m.\u001b[0m\u001b[0mheatmap\u001b[0m\u001b[0;34m(\u001b[0m\u001b[0mdata\u001b[0m\u001b[0;34m=\u001b[0m\u001b[0msubset3\u001b[0m\u001b[0;34m.\u001b[0m\u001b[0mcorr\u001b[0m\u001b[0;34m(\u001b[0m\u001b[0;34m)\u001b[0m\u001b[0;34m,\u001b[0m \u001b[0max\u001b[0m\u001b[0;34m=\u001b[0m\u001b[0max3\u001b[0m\u001b[0;34m,\u001b[0m \u001b[0mcmap\u001b[0m \u001b[0;34m=\u001b[0m \u001b[0mcmap\u001b[0m\u001b[0;34m,\u001b[0m \u001b[0msquare\u001b[0m\u001b[0;34m=\u001b[0m\u001b[0;32mTrue\u001b[0m\u001b[0;34m,\u001b[0m \u001b[0mcbar_kws\u001b[0m\u001b[0;34m=\u001b[0m\u001b[0;34m{\u001b[0m\u001b[0;34m'shrink'\u001b[0m\u001b[0;34m:\u001b[0m \u001b[0;36m.3\u001b[0m\u001b[0;34m}\u001b[0m\u001b[0;34m,\u001b[0m \u001b[0mannot\u001b[0m\u001b[0;34m=\u001b[0m\u001b[0;32mTrue\u001b[0m\u001b[0;34m,\u001b[0m \u001b[0mannot_kws\u001b[0m\u001b[0;34m=\u001b[0m\u001b[0;34m{\u001b[0m\u001b[0;34m'fontsize'\u001b[0m\u001b[0;34m:\u001b[0m \u001b[0;36m12\u001b[0m\u001b[0;34m}\u001b[0m\u001b[0;34m)\u001b[0m\u001b[0;34m\u001b[0m\u001b[0;34m\u001b[0m\u001b[0m\n",
      "\u001b[0;31mNameError\u001b[0m: name 'cmap' is not defined"
     ]
    },
    {
     "data": {
      "image/png": "[encoded data removed]",
      "text/plain": [
       "<Figure size 1440x1440 with 5 Axes>"
      ]
     },
     "metadata": {
      "needs_background": "light"
     },
     "output_type": "display_data"
    }
   ],
   "source": [
    "import matplotlib.pyplot as plt\n",
    "import seaborn as sns\n",
    "\n",
    "# Here we create a figure instance, and two subplots\n",
    "fig = plt.figure(figsize = (20,20)) # width x height\n",
    "ax1 = fig.add_subplot(3, 3, 1) # row, column, position\n",
    "ax2 = fig.add_subplot(3, 3, 2)\n",
    "ax3 = fig.add_subplot(3, 3, 3)\n",
    "ax4 = fig.add_subplot(3, 3, 4)\n",
    "ax5 = fig.add_subplot(3, 3, 5)\n",
    "\n",
    "# We use ax parameter to tell seaborn which subplot to use for this plot\n",
    "sns.heatmap(data=a, ax=ax1, cmap = cmap, square=True, cbar_kws={'shrink': .3}, annot=True, annot_kws={'fontsize': 12})\n",
    "sns.heatmap(data=subset2.corr(), ax=ax2, cmap = cmap, square=True, cbar_kws={'shrink': .3}, annot=True, annot_kws={'fontsize': 12})\n",
    "sns.heatmap(data=subset3.corr(), ax=ax3, cmap = cmap, square=True, cbar_kws={'shrink': .3}, annot=True, annot_kws={'fontsize': 12})\n",
    "sns.heatmap(data=subset4.corr(), ax=ax4, cmap = cmap, square=True, cbar_kws={'shrink': .3}, annot=True, annot_kws={'fontsize': 12})\n",
    "sns.heatmap(data=subset5.corr(), ax=ax5, cmap = cmap, square=True, cbar_kws={'shrink': .3}, annot=True, annot_kws={'fontsize': 12})"
   ]
  },
  {
   "cell_type": "code",
   "execution_count": 131,
   "metadata": {},
   "outputs": [
    {
     "data": {
      "image/png": "[encoded data removed]",
      "text/plain": [
       "<Figure size 1440x1440 with 8 Axes>"
      ]
     },
     "metadata": {
      "needs_background": "light"
     },
     "output_type": "display_data"
    }
   ],
   "source": [
    "fig = plt.figure(figsize = (20,20)) # width x height\n",
    "ax1 = fig.add_subplot(3, 3, 1) # row, column, position\n",
    "ax2 = fig.add_subplot(3, 3, 2)\n",
    "ax3 = fig.add_subplot(3, 3, 3)\n",
    "ax4 = fig.add_subplot(3, 3, 4)\n",
    "ax5 = fig.add_subplot(3, 3, 5)\n",
    "\n",
    "i=\"0\"\n",
    "string=\"fe\"+i\n",
    "# We use ax parameter to tell seaborn which subplot to use for this plot\n",
    "sns.heatmap(data=a, ax=ax1)\n",
    "sns.heatmap(data=a, ax=ax2,  square=True, cbar_kws={'shrink': .3}, annot=True, annot_kws={'fontsize': 12})\n",
    "sns.heatmap(data=a, ax=ax3,  square=True, cbar_kws={'shrink': .3}, annot=True, annot_kws={'fontsize': 12}).set_title(string);"
   ]
  },
  {
   "cell_type": "code",
   "execution_count": 133,
   "metadata": {},
   "outputs": [
    {
     "data": {
      "image/png": "[encoded data removed]",
      "text/plain": [
       "<Figure size 432x288 with 2 Axes>"
      ]
     },
     "metadata": {
      "needs_background": "light"
     },
     "output_type": "display_data"
    }
   ],
   "source": [
    "import seaborn as sns\n",
    "cmap = sns.diverging_palette( 220 , 10 , as_cmap = True )\n",
    "sb1 = sns.heatmap(\n",
    "    a, \n",
    "    cmap = cmap,\n",
    "    square=True, \n",
    "    cbar_kws={ 'shrink' : .9 }, \n",
    "    annot = True, \n",
    "    annot_kws = { 'fontsize' : 12 })"
   ]
  },
  {
   "cell_type": "code",
   "execution_count": 136,
   "metadata": {},
   "outputs": [
    {
     "ename": "AttributeError",
     "evalue": "'numpy.ndarray' object has no attribute 'get'",
     "output_type": "error",
     "traceback": [
      "\u001b[0;31m---------------------------------------------------------------------------\u001b[0m",
      "\u001b[0;31mAttributeError\u001b[0m                            Traceback (most recent call last)",
      "\u001b[0;32m<ipython-input-136-f9d8aa6102e6>\u001b[0m in \u001b[0;36m<module>\u001b[0;34m\u001b[0m\n\u001b[1;32m      4\u001b[0m \u001b[0;34m\u001b[0m\u001b[0m\n\u001b[1;32m      5\u001b[0m \u001b[0;31m# We use ax parameter to tell seaborn which subplot to use for this plot\u001b[0m\u001b[0;34m\u001b[0m\u001b[0;34m\u001b[0m\u001b[0;34m\u001b[0m\u001b[0m\n\u001b[0;32m----> 6\u001b[0;31m \u001b[0msns\u001b[0m\u001b[0;34m.\u001b[0m\u001b[0mpointplot\u001b[0m\u001b[0;34m(\u001b[0m\u001b[0mx\u001b[0m\u001b[0;34m=\u001b[0m\u001b[0;36m1\u001b[0m\u001b[0;34m,\u001b[0m \u001b[0my\u001b[0m\u001b[0;34m=\u001b[0m\u001b[0;36m1\u001b[0m\u001b[0;34m,\u001b[0m \u001b[0mdata\u001b[0m\u001b[0;34m=\u001b[0m\u001b[0ma\u001b[0m\u001b[0;34m,\u001b[0m \u001b[0max\u001b[0m\u001b[0;34m=\u001b[0m\u001b[0max1\u001b[0m\u001b[0;34m)\u001b[0m\u001b[0;34m\u001b[0m\u001b[0;34m\u001b[0m\u001b[0m\n\u001b[0m",
      "\u001b[0;32m~/anaconda3/lib/python3.7/site-packages/seaborn/categorical.py\u001b[0m in \u001b[0;36mpointplot\u001b[0;34m(x, y, hue, data, order, hue_order, estimator, ci, n_boot, units, markers, linestyles, dodge, join, scale, orient, color, palette, errwidth, capsize, ax, **kwargs)\u001b[0m\n\u001b[1;32m   3333\u001b[0m                             \u001b[0mestimator\u001b[0m\u001b[0;34m,\u001b[0m \u001b[0mci\u001b[0m\u001b[0;34m,\u001b[0m \u001b[0mn_boot\u001b[0m\u001b[0;34m,\u001b[0m \u001b[0munits\u001b[0m\u001b[0;34m,\u001b[0m\u001b[0;34m\u001b[0m\u001b[0;34m\u001b[0m\u001b[0m\n\u001b[1;32m   3334\u001b[0m                             \u001b[0mmarkers\u001b[0m\u001b[0;34m,\u001b[0m \u001b[0mlinestyles\u001b[0m\u001b[0;34m,\u001b[0m \u001b[0mdodge\u001b[0m\u001b[0;34m,\u001b[0m \u001b[0mjoin\u001b[0m\u001b[0;34m,\u001b[0m \u001b[0mscale\u001b[0m\u001b[0;34m,\u001b[0m\u001b[0;34m\u001b[0m\u001b[0;34m\u001b[0m\u001b[0m\n\u001b[0;32m-> 3335\u001b[0;31m                             orient, color, palette, errwidth, capsize)\n\u001b[0m\u001b[1;32m   3336\u001b[0m \u001b[0;34m\u001b[0m\u001b[0m\n\u001b[1;32m   3337\u001b[0m     \u001b[0;32mif\u001b[0m \u001b[0max\u001b[0m \u001b[0;32mis\u001b[0m \u001b[0;32mNone\u001b[0m\u001b[0;34m:\u001b[0m\u001b[0;34m\u001b[0m\u001b[0;34m\u001b[0m\u001b[0m\n",
      "\u001b[0;32m~/anaconda3/lib/python3.7/site-packages/seaborn/categorical.py\u001b[0m in \u001b[0;36m__init__\u001b[0;34m(self, x, y, hue, data, order, hue_order, estimator, ci, n_boot, units, markers, linestyles, dodge, join, scale, orient, color, palette, errwidth, capsize)\u001b[0m\n\u001b[1;32m   1676\u001b[0m         \u001b[0;34m\"\"\"Initialize the plotter.\"\"\"\u001b[0m\u001b[0;34m\u001b[0m\u001b[0;34m\u001b[0m\u001b[0m\n\u001b[1;32m   1677\u001b[0m         self.establish_variables(x, y, hue, data, orient,\n\u001b[0;32m-> 1678\u001b[0;31m                                  order, hue_order, units)\n\u001b[0m\u001b[1;32m   1679\u001b[0m         \u001b[0mself\u001b[0m\u001b[0;34m.\u001b[0m\u001b[0mestablish_colors\u001b[0m\u001b[0;34m(\u001b[0m\u001b[0mcolor\u001b[0m\u001b[0;34m,\u001b[0m \u001b[0mpalette\u001b[0m\u001b[0;34m,\u001b[0m \u001b[0;36m1\u001b[0m\u001b[0;34m)\u001b[0m\u001b[0;34m\u001b[0m\u001b[0;34m\u001b[0m\u001b[0m\n\u001b[1;32m   1680\u001b[0m         \u001b[0mself\u001b[0m\u001b[0;34m.\u001b[0m\u001b[0mestimate_statistic\u001b[0m\u001b[0;34m(\u001b[0m\u001b[0mestimator\u001b[0m\u001b[0;34m,\u001b[0m \u001b[0mci\u001b[0m\u001b[0;34m,\u001b[0m \u001b[0mn_boot\u001b[0m\u001b[0;34m)\u001b[0m\u001b[0;34m\u001b[0m\u001b[0;34m\u001b[0m\u001b[0m\n",
      "\u001b[0;32m~/anaconda3/lib/python3.7/site-packages/seaborn/categorical.py\u001b[0m in \u001b[0;36mestablish_variables\u001b[0;34m(self, x, y, hue, data, orient, order, hue_order, units)\u001b[0m\n\u001b[1;32m    144\u001b[0m             \u001b[0;31m# See if we need to get variables from `data`\u001b[0m\u001b[0;34m\u001b[0m\u001b[0;34m\u001b[0m\u001b[0;34m\u001b[0m\u001b[0m\n\u001b[1;32m    145\u001b[0m             \u001b[0;32mif\u001b[0m \u001b[0mdata\u001b[0m \u001b[0;32mis\u001b[0m \u001b[0;32mnot\u001b[0m \u001b[0;32mNone\u001b[0m\u001b[0;34m:\u001b[0m\u001b[0;34m\u001b[0m\u001b[0;34m\u001b[0m\u001b[0m\n\u001b[0;32m--> 146\u001b[0;31m                 \u001b[0mx\u001b[0m \u001b[0;34m=\u001b[0m \u001b[0mdata\u001b[0m\u001b[0;34m.\u001b[0m\u001b[0mget\u001b[0m\u001b[0;34m(\u001b[0m\u001b[0mx\u001b[0m\u001b[0;34m,\u001b[0m \u001b[0mx\u001b[0m\u001b[0;34m)\u001b[0m\u001b[0;34m\u001b[0m\u001b[0;34m\u001b[0m\u001b[0m\n\u001b[0m\u001b[1;32m    147\u001b[0m                 \u001b[0my\u001b[0m \u001b[0;34m=\u001b[0m \u001b[0mdata\u001b[0m\u001b[0;34m.\u001b[0m\u001b[0mget\u001b[0m\u001b[0;34m(\u001b[0m\u001b[0my\u001b[0m\u001b[0;34m,\u001b[0m \u001b[0my\u001b[0m\u001b[0;34m)\u001b[0m\u001b[0;34m\u001b[0m\u001b[0;34m\u001b[0m\u001b[0m\n\u001b[1;32m    148\u001b[0m                 \u001b[0mhue\u001b[0m \u001b[0;34m=\u001b[0m \u001b[0mdata\u001b[0m\u001b[0;34m.\u001b[0m\u001b[0mget\u001b[0m\u001b[0;34m(\u001b[0m\u001b[0mhue\u001b[0m\u001b[0;34m,\u001b[0m \u001b[0mhue\u001b[0m\u001b[0;34m)\u001b[0m\u001b[0;34m\u001b[0m\u001b[0;34m\u001b[0m\u001b[0m\n",
      "\u001b[0;31mAttributeError\u001b[0m: 'numpy.ndarray' object has no attribute 'get'"
     ]
    },
    {
     "data": {
      "image/png": "[encoded data removed]",
      "text/plain": [
       "<Figure size 432x288 with 2 Axes>"
      ]
     },
     "metadata": {
      "needs_background": "light"
     },
     "output_type": "display_data"
    }
   ],
   "source": [
    "fig = plt.figure()\n",
    "ax1 = fig.add_subplot(211)\n",
    "ax2 = fig.add_subplot(212)\n",
    "\n",
    "# We use ax parameter to tell seaborn which subplot to use for this plot\n",
    "sns.pointplot(x=1, y=1, data=a, ax=ax1)"
   ]
  },
  {
   "cell_type": "code",
   "execution_count": 137,
   "metadata": {},
   "outputs": [
    {
     "data": {
      "image/png": "[encoded data removed]",
      "text/plain": [
       "<Figure size 432x288 with 4 Axes>"
      ]
     },
     "metadata": {
      "needs_background": "light"
     },
     "output_type": "display_data"
    }
   ],
   "source": [
    "# Tout stocker dans une liste en haut\n",
    "\n",
    "import seaborn  as sns\n",
    "import matplotlib.pyplot as plt\n",
    "flights = sns.load_dataset(\"flights\")\n",
    "flights = flights.pivot(\"month\", \"year\", \"passengers\")\n",
    "f,(ax1,ax2,ax3, axcb) = plt.subplots(1,4, \n",
    "            gridspec_kw={'width_ratios':[1,1,1,0.08]})\n",
    "ax1.get_shared_y_axes().join(ax2,ax3)\n",
    "g1 = sns.heatmap(flights,cmap=\"YlGnBu\",cbar=False,ax=ax1)\n",
    "g1.set_ylabel('')\n",
    "g1.set_xlabel('')\n",
    "g2 = sns.heatmap(flights,cmap=\"YlGnBu\",cbar=False,ax=ax2)\n",
    "g2.set_ylabel('')\n",
    "g2.set_xlabel('')\n",
    "g2.set_yticks([])\n",
    "g3 = sns.heatmap(flights,cmap=\"YlGnBu\",ax=ax3, cbar_ax=axcb)\n",
    "g3.set_ylabel('')\n",
    "g3.set_xlabel('')\n",
    "g3.set_yticks([])\n",
    "\n",
    "# may be needed to rotate the ticklabels correctly:\n",
    "for ax in [g1,g2,g3]:\n",
    "    tl = ax.get_xticklabels()\n",
    "    ax.set_xticklabels(tl, rotation=90)\n",
    "    tly = ax.get_yticklabels()\n",
    "    ax.set_yticklabels(tly, rotation=0)\n",
    "\n",
    "plt.show()\n",
    "\n",
    "\n"
   ]
  },
  {
   "cell_type": "code",
   "execution_count": 140,
   "metadata": {},
   "outputs": [
    {
     "data": {
      "text/plain": [
       "<Figure size 1152x360 with 0 Axes>"
      ]
     },
     "metadata": {},
     "output_type": "display_data"
    }
   ],
   "source": [
    "Liste_confusion=[]\n",
    "i=1\n",
    "plt.figure(figsize=(16,5))\n",
    "for nb_oiseaux,tp,fp,nb_imagettes in zip(NB_total,TP,FP,NB_imagettes_folder):\n",
    "    #print(get_confusion_matrix(nb_oiseaux,tp,fp,nb_imagettes))\n",
    "    #plt.subplot(1,5,i)\n",
    "    a=get_confusion_matrix(nb_oiseaux,tp,fp,nb_imagettes)\n",
    "    Liste_confusion.append(a)\n",
    "    i+=1;\n",
    "    #b=sns.heatmap(a, annot=labels, fmt=\"\", cmap='Blues', cbar=False)\n",
    "    #b=sns.heatmap(a, annot=labels, fmt=\"\", cmap='Blues', cbar=False).set_title('matrice de confusion');\n",
    "    \n",
    "    "
   ]
  },
  {
   "cell_type": "code",
   "execution_count": 211,
   "metadata": {},
   "outputs": [
    {
     "data": {
      "text/plain": [
       "<Figure size 864x864 with 0 Axes>"
      ]
     },
     "metadata": {},
     "output_type": "display_data"
    },
    {
     "data": {
      "image/png": "[encoded data removed]",
      "text/plain": [
       "<Figure size 432x288 with 4 Axes>"
      ]
     },
     "metadata": {
      "needs_background": "light"
     },
     "output_type": "display_data"
    },
    {
     "data": {
      "text/plain": [
       "<Figure size 1152x1152 with 0 Axes>"
      ]
     },
     "metadata": {},
     "output_type": "display_data"
    }
   ],
   "source": [
    "# Tout stocker dans une liste en haut\n",
    "\n",
    "import seaborn  as sns\n",
    "import matplotlib.pyplot as plt\n",
    "#flights = sns.load_dataset(\"flights\")\n",
    "#flights = flights.pivot(\"month\", \"year\", \"passengers\")\n",
    "conf1=Liste_confusion[0]\n",
    "conf2=Liste_confusion[1]\n",
    "conf3=Liste_confusion[2]\n",
    "\n",
    "\n",
    "plt.figure(figsize=(12,12))\n",
    "f,(ax1,ax2,ax3, axcb) = plt.subplots(1,4, gridspec_kw={'width_ratios':[1,1,1,0.08]})\n",
    "\n",
    "ax1.get_shared_y_axes().join(ax2,ax3)\n",
    "g1 = sns.heatmap(conf1,cmap=\"YlGnBu\",annot=True,cbar=False,ax=ax1)\n",
    "g2.set_title('matrice de confusion 1');\n",
    "g1.set_ylabel('')\n",
    "g1.set_xlabel('')\n",
    "g2 = sns.heatmap(conf2,cmap=\"YlGnBu\",cbar=False,annot=True,ax=ax2)\n",
    "g2.set_title('matrice de confusion 2');\n",
    "#g2.set_ylabel('')\n",
    "#g2.set_xlabel('')\n",
    "g2.set_yticks([])\n",
    "g3 = sns.heatmap(conf3,ax=ax3, annot=True,cbar=False)\n",
    "g2.set_title('matrice de confusion 3');\n",
    "g3.set_ylabel('')\n",
    "g3.set_xlabel('')\n",
    "g3.set_yticks([])\n",
    "\n",
    "# may be needed to rotate the ticklabels correctly:\n",
    "for ax in [g1,g2,g3]:\n",
    "    tl = ax.get_xticklabels()\n",
    "    ax.set_xticklabels(tl, rotation=90)\n",
    "    tly = ax.get_yticklabels()\n",
    "    ax.set_yticklabels(tly, rotation=0)\n",
    "\n",
    "plt.figure(figsize=(16,16))\n",
    "plt.show()\n",
    "\n",
    "\n"
   ]
  },
  {
   "cell_type": "code",
   "execution_count": 197,
   "metadata": {},
   "outputs": [
    {
     "data": {
      "image/png": "[encoded data removed]",
      "text/plain": [
       "<Figure size 432x288 with 4 Axes>"
      ]
     },
     "execution_count": 197,
     "metadata": {},
     "output_type": "execute_result"
    }
   ],
   "source": [
    "f"
   ]
  },
  {
   "cell_type": "code",
   "execution_count": null,
   "metadata": {},
   "outputs": [],
   "source": []
  }
 ],
 "metadata": {
  "kernelspec": {
   "display_name": "Python 3",
   "language": "python",
   "name": "python3"
  },
  "language_info": {
   "codemirror_mode": {
    "name": "ipython",
    "version": 3
   },
   "file_extension": ".py",
   "mimetype": "text/x-python",
   "name": "python",
   "nbconvert_exporter": "python",
   "pygments_lexer": "ipython3",
   "version": "3.7.4"
  }
 },
 "nbformat": 4,
 "nbformat_minor": 4
}
