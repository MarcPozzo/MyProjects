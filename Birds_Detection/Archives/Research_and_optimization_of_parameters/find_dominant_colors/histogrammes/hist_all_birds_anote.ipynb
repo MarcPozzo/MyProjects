{
 "cells": [
  {
   "cell_type": "markdown",
   "metadata": {},
   "source": [
    "## Distribution de l'ensemble des pixels pour les imagettes anotées d'oiseaux de chaque dossier"
   ]
  },
  {
   "cell_type": "code",
   "execution_count": 7,
   "metadata": {
    "jupyter": {
     "source_hidden": true
    }
   },
   "outputs": [],
   "source": [
    "#D'abord faire un histogramme tout court des birds par folder\n",
    "#Puis hist par rapport med(birds)-med(images)/med(images)\n",
    "import pandas as pd\n",
    "import cv2\n",
    "import matplotlib.pyplot as plt\n",
    "import colorsys\n",
    "import numpy as np\n",
    "import ast"
   ]
  },
  {
   "cell_type": "code",
   "execution_count": 2,
   "metadata": {},
   "outputs": [
    {
     "data": {
      "text/html": [
       "<div>\n",
       "<style scoped>\n",
       "    .dataframe tbody tr th:only-of-type {\n",
       "        vertical-align: middle;\n",
       "    }\n",
       "\n",
       "    .dataframe tbody tr th {\n",
       "        vertical-align: top;\n",
       "    }\n",
       "\n",
       "    .dataframe thead th {\n",
       "        text-align: right;\n",
       "    }\n",
       "</style>\n",
       "<table border=\"1\" class=\"dataframe\">\n",
       "  <thead>\n",
       "    <tr style=\"text-align: right;\">\n",
       "      <th></th>\n",
       "      <th>path</th>\n",
       "      <th>filename</th>\n",
       "      <th>width</th>\n",
       "      <th>height</th>\n",
       "      <th>classe</th>\n",
       "      <th>xmin</th>\n",
       "      <th>ymin</th>\n",
       "      <th>xmax</th>\n",
       "      <th>ymax</th>\n",
       "      <th>index</th>\n",
       "      <th>imagetteName</th>\n",
       "    </tr>\n",
       "  </thead>\n",
       "  <tbody>\n",
       "    <tr>\n",
       "      <td>0</td>\n",
       "      <td>./TGO 2019 - photos caméras/Parcelle 1 Guilbot...</td>\n",
       "      <td>DSCF0029.JPG</td>\n",
       "      <td>5200</td>\n",
       "      <td>3900</td>\n",
       "      <td>incertain</td>\n",
       "      <td>828</td>\n",
       "      <td>1592</td>\n",
       "      <td>875</td>\n",
       "      <td>1641</td>\n",
       "      <td>0</td>\n",
       "      <td>DSCF0029_incertain_0.JPG</td>\n",
       "    </tr>\n",
       "    <tr>\n",
       "      <td>1</td>\n",
       "      <td>./TGO 2019 - photos caméras/Parcelle 1 Guilbot...</td>\n",
       "      <td>DSCF0029.JPG</td>\n",
       "      <td>5200</td>\n",
       "      <td>3900</td>\n",
       "      <td>ground</td>\n",
       "      <td>881</td>\n",
       "      <td>1587</td>\n",
       "      <td>928</td>\n",
       "      <td>1636</td>\n",
       "      <td>1</td>\n",
       "      <td>DSCF0029_ground_1.JPG</td>\n",
       "    </tr>\n",
       "    <tr>\n",
       "      <td>2</td>\n",
       "      <td>./TGO 2019 - photos caméras/Parcelle 1 Guilbot...</td>\n",
       "      <td>DSCF0180.JPG</td>\n",
       "      <td>5200</td>\n",
       "      <td>3900</td>\n",
       "      <td>corneille</td>\n",
       "      <td>2842</td>\n",
       "      <td>2731</td>\n",
       "      <td>2876</td>\n",
       "      <td>2767</td>\n",
       "      <td>2</td>\n",
       "      <td>DSCF0180_corneille_2.JPG</td>\n",
       "    </tr>\n",
       "    <tr>\n",
       "      <td>3</td>\n",
       "      <td>./TGO 2019 - photos caméras/Parcelle 1 Guilbot...</td>\n",
       "      <td>DSCF0180.JPG</td>\n",
       "      <td>5200</td>\n",
       "      <td>3900</td>\n",
       "      <td>corneille</td>\n",
       "      <td>2799</td>\n",
       "      <td>2731</td>\n",
       "      <td>2833</td>\n",
       "      <td>2767</td>\n",
       "      <td>3</td>\n",
       "      <td>DSCF0180_corneille_3.JPG</td>\n",
       "    </tr>\n",
       "    <tr>\n",
       "      <td>4</td>\n",
       "      <td>./TGO 2019 - photos caméras/Parcelle 1 Guilbot...</td>\n",
       "      <td>DSCF0258.JPG</td>\n",
       "      <td>5200</td>\n",
       "      <td>3900</td>\n",
       "      <td>pigeon</td>\n",
       "      <td>3249</td>\n",
       "      <td>2638</td>\n",
       "      <td>3541</td>\n",
       "      <td>3286</td>\n",
       "      <td>4</td>\n",
       "      <td>DSCF0258_pigeon_4.JPG</td>\n",
       "    </tr>\n",
       "  </tbody>\n",
       "</table>\n",
       "</div>"
      ],
      "text/plain": [
       "                                                path      filename  width  \\\n",
       "0  ./TGO 2019 - photos caméras/Parcelle 1 Guilbot...  DSCF0029.JPG   5200   \n",
       "1  ./TGO 2019 - photos caméras/Parcelle 1 Guilbot...  DSCF0029.JPG   5200   \n",
       "2  ./TGO 2019 - photos caméras/Parcelle 1 Guilbot...  DSCF0180.JPG   5200   \n",
       "3  ./TGO 2019 - photos caméras/Parcelle 1 Guilbot...  DSCF0180.JPG   5200   \n",
       "4  ./TGO 2019 - photos caméras/Parcelle 1 Guilbot...  DSCF0258.JPG   5200   \n",
       "\n",
       "   height     classe  xmin  ymin  xmax  ymax  index              imagetteName  \n",
       "0    3900  incertain   828  1592   875  1641      0  DSCF0029_incertain_0.JPG  \n",
       "1    3900     ground   881  1587   928  1636      1     DSCF0029_ground_1.JPG  \n",
       "2    3900  corneille  2842  2731  2876  2767      2  DSCF0180_corneille_2.JPG  \n",
       "3    3900  corneille  2799  2731  2833  2767      3  DSCF0180_corneille_3.JPG  \n",
       "4    3900     pigeon  3249  2638  3541  3286      4     DSCF0258_pigeon_4.JPG  "
      ]
     },
     "execution_count": 2,
     "metadata": {},
     "output_type": "execute_result"
    }
   ],
   "source": [
    "images=pd.read_csv(\"/mnt/VegaSlowDataDisk/c3po/Images_aquises/imagettes.csv\")\n",
    "images.head()"
   ]
  },
  {
   "cell_type": "code",
   "execution_count": 12,
   "metadata": {
    "jupyter": {
     "source_hidden": true
    }
   },
   "outputs": [],
   "source": [
    "   \n",
    "fichierClasses= \"/mnt/VegaSlowDataDisk/c3po/Images_aquises/Table_Labels_to_Class.csv\" # overwritten by --classes myFile\n",
    "frame=pd.read_csv(fichierClasses,index_col=False)\n",
    "\n",
    "def to_reference_labels (df,class_colum,frame=frame):\n",
    "\n",
    "    #flatten list in Labels_File\n",
    "    cat=[]\n",
    "    for i in range(len(frame[\"categories\"]) ):\n",
    "        cat.append( frame[\"categories\"][i] )\n",
    "\n",
    "    liste = [ast.literal_eval(item) for item in cat]\n",
    "\n",
    "    # set nouvelle_classe to be the \"unified\" class name\n",
    "    for j in range(len(frame[\"categories\"])):\n",
    "        #classesToReplace = frame[\"categories\"][j].split(\",\")[0][2:-1]\n",
    "        className = frame[\"categories\"][j].split(\",\")[0][2:-1]\n",
    "        #df[\"nouvelle_classe\"]=df[\"classe\"].replace(classesToReplace,className)\n",
    "        df[class_colum]=df[class_colum].replace(liste[j],className)\n",
    "\n",
    "    return df\n",
    "\n",
    "images=to_reference_labels (images,\"classe\")\n",
    "liste_to_keep=[\"corneille\",\"faisan\",\"pigeon\",\"oiseau\"]\n",
    "images=images[images[\"classe\"].isin(liste_to_keep)]  \n",
    "fold_path=\"/mnt/VegaSlowDataDisk/c3po/Images_aquises/Rec_images/\""
   ]
  },
  {
   "cell_type": "markdown",
   "metadata": {},
   "source": [
    "## Dossier 0"
   ]
  },
  {
   "cell_type": "code",
   "execution_count": 16,
   "metadata": {},
   "outputs": [
    {
     "name": "stdout",
     "output_type": "stream",
     "text": [
      "median sur ensemble des pixels 31.47540807723999\n"
     ]
    },
    {
     "data": {
      "image/png": "[encoded data removed]",
      "text/plain": [
       "<Figure size 864x864 with 1 Axes>"
      ]
     },
     "metadata": {
      "needs_background": "light"
     },
     "output_type": "display_data"
    }
   ],
   "source": [
    "color_range_liste=[]\n",
    "images_fold0=images[images[\"path\"]=='./DonneesPI/timeLapsePhotos_Pi1_0']\n",
    "liste_images_fold0=[]\n",
    "liste_images_fold0=list(images_fold0[\"imagetteName\"].unique())\n",
    "liste_images_fold0[0]\n",
    "\n",
    "\n",
    "\n",
    "\n",
    "for image_path in liste_images_fold0:\n",
    "    \n",
    "    path=fold_path+image_path\n",
    "    #print(path)\n",
    "    image_bgr=cv2.imread(path)\n",
    "    image_rgb = cv2.cvtColor(image_bgr, cv2.COLOR_BGR2RGB)\n",
    "    image_rgb_reshape=(image_rgb.reshape(-1,3))\n",
    "\n",
    "\n",
    "\n",
    "\n",
    "    for i in range(len(image_rgb_reshape)):\n",
    "        pixel=image_rgb_reshape[i]\n",
    "        red=pixel[0]\n",
    "        green=pixel[1]\n",
    "        blue=pixel[2]\n",
    "        hsv=colorsys.rgb_to_hsv(red,green,blue)\n",
    "        color_range=hsv[0]*360\n",
    "        color_range_liste.append(color_range)\n",
    "    \n",
    "    \n",
    "plt.figure(figsize=(12,12))\n",
    "print(\"median sur ensemble des pixels\",np.median(color_range_liste))\n",
    "plt.subplot(3,1,2)\n",
    "plt.hist(color_range_liste,bins=40);"
   ]
  },
  {
   "cell_type": "markdown",
   "metadata": {},
   "source": [
    "## Dossier 1"
   ]
  },
  {
   "cell_type": "code",
   "execution_count": 17,
   "metadata": {
    "jupyter": {
     "source_hidden": true
    }
   },
   "outputs": [
    {
     "name": "stdout",
     "output_type": "stream",
     "text": [
      "median sur ensemble des pixels 28.965518474578857\n"
     ]
    },
    {
     "data": {
      "image/png": "[encoded data removed]",
      "text/plain": [
       "<Figure size 864x864 with 1 Axes>"
      ]
     },
     "metadata": {
      "needs_background": "light"
     },
     "output_type": "display_data"
    }
   ],
   "source": [
    "color_range_liste=[]\n",
    "images_fold0=images[images[\"path\"]=='./DonneesPI/timeLapsePhotos_Pi1_1']\n",
    "liste_images_fold0=[]\n",
    "liste_images_fold0=list(images_fold0[\"imagetteName\"].unique())\n",
    "liste_images_fold0[0]\n",
    "\n",
    "\n",
    "\n",
    "\n",
    "for image_path in liste_images_fold0:\n",
    "    \n",
    "    path=fold_path+image_path\n",
    "    #print(path)\n",
    "    image_bgr=cv2.imread(path)\n",
    "    image_rgb = cv2.cvtColor(image_bgr, cv2.COLOR_BGR2RGB)\n",
    "    image_rgb_reshape=(image_rgb.reshape(-1,3))\n",
    "\n",
    "\n",
    "\n",
    "\n",
    "    for i in range(len(image_rgb_reshape)):\n",
    "        pixel=image_rgb_reshape[i]\n",
    "        red=pixel[0]\n",
    "        green=pixel[1]\n",
    "        blue=pixel[2]\n",
    "        hsv=colorsys.rgb_to_hsv(red,green,blue)\n",
    "        color_range=hsv[0]*360\n",
    "        color_range_liste.append(color_range)\n",
    "    \n",
    "    \n",
    "plt.figure(figsize=(12,12))\n",
    "print(\"median sur ensemble des pixels\",np.median(color_range_liste))\n",
    "plt.subplot(3,1,2)\n",
    "plt.hist(color_range_liste,bins=40);"
   ]
  },
  {
   "cell_type": "markdown",
   "metadata": {},
   "source": [
    "## Dossier 2"
   ]
  },
  {
   "cell_type": "code",
   "execution_count": 18,
   "metadata": {
    "jupyter": {
     "source_hidden": true
    }
   },
   "outputs": [
    {
     "name": "stdout",
     "output_type": "stream",
     "text": [
      "median sur ensemble des pixels 311.99999928474426\n"
     ]
    },
    {
     "data": {
      "image/png": "[encoded data removed]",
      "text/plain": [
       "<Figure size 864x864 with 1 Axes>"
      ]
     },
     "metadata": {
      "needs_background": "light"
     },
     "output_type": "display_data"
    }
   ],
   "source": [
    "color_range_liste=[]\n",
    "images_fold0=images[images[\"path\"]=='./DonneesPI/timeLapsePhotos_Pi1_2']\n",
    "liste_images_fold0=[]\n",
    "liste_images_fold0=list(images_fold0[\"imagetteName\"].unique())\n",
    "liste_images_fold0[0]\n",
    "\n",
    "\n",
    "\n",
    "\n",
    "for image_path in liste_images_fold0:\n",
    "    \n",
    "    path=fold_path+image_path\n",
    "    #print(path)\n",
    "    image_bgr=cv2.imread(path)\n",
    "    image_rgb = cv2.cvtColor(image_bgr, cv2.COLOR_BGR2RGB)\n",
    "    image_rgb_reshape=(image_rgb.reshape(-1,3))\n",
    "\n",
    "\n",
    "\n",
    "\n",
    "    for i in range(len(image_rgb_reshape)):\n",
    "        pixel=image_rgb_reshape[i]\n",
    "        red=pixel[0]\n",
    "        green=pixel[1]\n",
    "        blue=pixel[2]\n",
    "        hsv=colorsys.rgb_to_hsv(red,green,blue)\n",
    "        color_range=hsv[0]*360\n",
    "        color_range_liste.append(color_range)\n",
    "    \n",
    "    \n",
    "plt.figure(figsize=(12,12))\n",
    "print(\"median sur ensemble des pixels\",np.median(color_range_liste))\n",
    "plt.subplot(3,1,2)\n",
    "plt.hist(color_range_liste,bins=40);"
   ]
  },
  {
   "cell_type": "markdown",
   "metadata": {},
   "source": [
    "## Dossier3"
   ]
  },
  {
   "cell_type": "code",
   "execution_count": 19,
   "metadata": {
    "jupyter": {
     "source_hidden": true
    }
   },
   "outputs": [
    {
     "name": "stdout",
     "output_type": "stream",
     "text": [
      "median sur ensemble des pixels 21.95122003555298\n"
     ]
    },
    {
     "data": {
      "image/png": "[encoded data removed]",
      "text/plain": [
       "<Figure size 864x864 with 1 Axes>"
      ]
     },
     "metadata": {
      "needs_background": "light"
     },
     "output_type": "display_data"
    }
   ],
   "source": [
    "color_range_liste=[]\n",
    "images_fold0=images[images[\"path\"]=='./DonneesPI/timeLapsePhotos_Pi1_3']\n",
    "liste_images_fold0=[]\n",
    "liste_images_fold0=list(images_fold0[\"imagetteName\"].unique())\n",
    "liste_images_fold0[0]\n",
    "\n",
    "\n",
    "\n",
    "\n",
    "for image_path in liste_images_fold0:\n",
    "    \n",
    "    path=fold_path+image_path\n",
    "    #print(path)\n",
    "    image_bgr=cv2.imread(path)\n",
    "    image_rgb = cv2.cvtColor(image_bgr, cv2.COLOR_BGR2RGB)\n",
    "    image_rgb_reshape=(image_rgb.reshape(-1,3))\n",
    "\n",
    "\n",
    "\n",
    "\n",
    "    for i in range(len(image_rgb_reshape)):\n",
    "        pixel=image_rgb_reshape[i]\n",
    "        red=pixel[0]\n",
    "        green=pixel[1]\n",
    "        blue=pixel[2]\n",
    "        hsv=colorsys.rgb_to_hsv(red,green,blue)\n",
    "        color_range=hsv[0]*360\n",
    "        color_range_liste.append(color_range)\n",
    "    \n",
    "    \n",
    "plt.figure(figsize=(12,12))\n",
    "print(\"median sur ensemble des pixels\",np.median(color_range_liste))\n",
    "plt.subplot(3,1,2)\n",
    "plt.hist(color_range_liste,bins=40);"
   ]
  },
  {
   "cell_type": "markdown",
   "metadata": {},
   "source": [
    "## Dossier 4"
   ]
  },
  {
   "cell_type": "code",
   "execution_count": 20,
   "metadata": {
    "jupyter": {
     "source_hidden": true
    }
   },
   "outputs": [
    {
     "name": "stdout",
     "output_type": "stream",
     "text": [
      "median sur ensemble des pixels 30.88235378265381\n"
     ]
    },
    {
     "data": {
      "image/png": "[encoded data removed]",
      "text/plain": [
       "<Figure size 864x864 with 1 Axes>"
      ]
     },
     "metadata": {
      "needs_background": "light"
     },
     "output_type": "display_data"
    }
   ],
   "source": [
    "color_range_liste=[]\n",
    "images_fold0=images[images[\"path\"]=='./DonneesPI/timeLapsePhotos_Pi1_4']\n",
    "liste_images_fold0=[]\n",
    "liste_images_fold0=list(images_fold0[\"imagetteName\"].unique())\n",
    "liste_images_fold0[0]\n",
    "\n",
    "\n",
    "\n",
    "\n",
    "for image_path in liste_images_fold0:\n",
    "    \n",
    "    path=fold_path+image_path\n",
    "    #print(path)\n",
    "    image_bgr=cv2.imread(path)\n",
    "    image_rgb = cv2.cvtColor(image_bgr, cv2.COLOR_BGR2RGB)\n",
    "    image_rgb_reshape=(image_rgb.reshape(-1,3))\n",
    "\n",
    "\n",
    "\n",
    "\n",
    "    for i in range(len(image_rgb_reshape)):\n",
    "        pixel=image_rgb_reshape[i]\n",
    "        red=pixel[0]\n",
    "        green=pixel[1]\n",
    "        blue=pixel[2]\n",
    "        hsv=colorsys.rgb_to_hsv(red,green,blue)\n",
    "        color_range=hsv[0]*360\n",
    "        color_range_liste.append(color_range)\n",
    "    \n",
    "    \n",
    "plt.figure(figsize=(12,12))\n",
    "print(\"median sur ensemble des pixels\",np.median(color_range_liste))\n",
    "plt.subplot(3,1,2)\n",
    "plt.hist(color_range_liste,bins=40);"
   ]
  },
  {
   "cell_type": "code",
   "execution_count": 55,
   "metadata": {},
   "outputs": [],
   "source": []
  },
  {
   "cell_type": "code",
   "execution_count": null,
   "metadata": {},
   "outputs": [],
   "source": []
  },
  {
   "cell_type": "code",
   "execution_count": null,
   "metadata": {},
   "outputs": [],
   "source": []
  },
  {
   "cell_type": "code",
   "execution_count": null,
   "metadata": {},
   "outputs": [],
   "source": []
  },
  {
   "cell_type": "code",
   "execution_count": null,
   "metadata": {},
   "outputs": [],
   "source": []
  }
 ],
 "metadata": {
  "kernelspec": {
   "display_name": "Python 3",
   "language": "python",
   "name": "python3"
  },
  "language_info": {
   "codemirror_mode": {
    "name": "ipython",
    "version": 3
   },
   "file_extension": ".py",
   "mimetype": "text/x-python",
   "name": "python",
   "nbconvert_exporter": "python",
   "pygments_lexer": "ipython3",
   "version": "3.7.4"
  }
 },
 "nbformat": 4,
 "nbformat_minor": 4
}
