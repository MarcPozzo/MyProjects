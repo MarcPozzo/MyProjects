{
 "cells": [
  {
   "cell_type": "code",
   "execution_count": null,
   "metadata": {},
   "outputs": [],
   "source": [
    "import pickle\n",
    "filename = 'finalized_model.sav'\n",
    "#pickle.dump(lg, open(filename, 'wb'))\n",
    "\n",
    "model = load_model('model.h8',compile=False)\n",
    "intermediate_layer_model = Model(input=model.input, output=model.layers[-2].output)\n",
    "X_train_features = intermediate_layer_model.predict(preprocess_input(X_train_img))\n",
    "# some time later...\n",
    "# load the model from disk\n",
    "loaded_model = pickle.load(open(filename, 'rb'))\n",
    "result = loaded_model.score(X_train_features, y_test)\n",
    "y_predict=loaded_model.predict(X_train_features)\n",
    "#print(lg.score(X_test_features, y_test))\n",
    "print(metrics.classification_report(y_test, y_predict))\n"
   ]
  }
 ],
 "metadata": {
  "kernelspec": {
   "display_name": "Python 3",
   "language": "python",
   "name": "python3"
  },
  "language_info": {
   "codemirror_mode": {
    "name": "ipython",
    "version": 3
   },
   "file_extension": ".py",
   "mimetype": "text/x-python",
   "name": "python",
   "nbconvert_exporter": "python",
   "pygments_lexer": "ipython3",
   "version": "3.7.4"
  }
 },
 "nbformat": 4,
 "nbformat_minor": 4
}
