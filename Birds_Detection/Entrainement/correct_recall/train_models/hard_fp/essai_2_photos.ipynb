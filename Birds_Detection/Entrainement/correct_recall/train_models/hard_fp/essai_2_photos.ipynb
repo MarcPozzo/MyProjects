{
 "cells": [
  {
   "cell_type": "code",
   "execution_count": null,
   "metadata": {},
   "outputs": [],
   "source": [
    "#Only with imagettes generates by the best models"
   ]
  },
  {
   "cell_type": "code",
   "execution_count": 13,
   "metadata": {},
   "outputs": [],
   "source": [
    "#D'abord vérifier si on a du Lenet"
   ]
  },
  {
   "cell_type": "code",
   "execution_count": 25,
   "metadata": {},
   "outputs": [],
   "source": [
    "# import the necessary packages\n",
    "from tensorflow.keras.models import Sequential\n",
    "from tensorflow.keras.layers import BatchNormalization\n",
    "from tensorflow.keras.layers import Conv2D\n",
    "from tensorflow.keras.layers import MaxPooling2D\n",
    "from tensorflow.keras.layers import Activation\n",
    "from tensorflow.keras.layers import Flatten\n",
    "from tensorflow.keras.layers import Dropout\n",
    "from tensorflow.keras.layers import Dense\n",
    "from tensorflow.keras.optimizers import Adam\n",
    "from tensorflow.keras.losses import categorical_crossentropy\n",
    "from tensorflow.keras.utils import to_categorical\n",
    "from tensorflow.keras.datasets import mnist\n",
    "import tensorflow as tf\n",
    "import numpy as np\n",
    "import time\n",
    "import sys\n",
    "import os\n",
    "import matplotlib.pyplot as plt\n",
    "import pandas as pd\n",
    "from sklearn import linear_model, preprocessing \n",
    "from keras.applications.imagenet_utils import preprocess_input\n",
    "from sklearn import metrics\n",
    "%matplotlib inline\n"
   ]
  },
  {
   "cell_type": "code",
   "execution_count": 26,
   "metadata": {},
   "outputs": [],
   "source": [
    "\n",
    "\n",
    "def dictionnaire_conversion():\n",
    "    dic_labels_to_num={}\n",
    "    dic_num_to_labels={}\n",
    "\n",
    "    dic_labels_to_num[\"autre\"]=0\n",
    "    dic_labels_to_num[\"chevreuil\"]=1\n",
    "    dic_labels_to_num[\"corneille\"]=2\n",
    "    dic_labels_to_num[\"faisan\"]=3\n",
    "    dic_labels_to_num[\"lapin\"]=4\n",
    "    dic_labels_to_num[\"pigeon\"]=5\n",
    "    dic_labels_to_num[\"oiseau\"]=6\n",
    "    \n",
    "    dic_num_to_labels[0]=\"autre\"\n",
    "    dic_num_to_labels[1]=\"chevreuil\"\n",
    "    dic_num_to_labels[2]=\"corneille\"\n",
    "    dic_num_to_labels[3]=\"faisan\"\n",
    "    dic_num_to_labels[4]=\"lapin\"\n",
    "    dic_num_to_labels[5]=\"pigeon\"\n",
    "    dic_num_to_labels[6]=\"oiseau\"\n",
    "    \n",
    "    return dic_labels_to_num,dic_num_to_labels\n",
    "\n",
    "\n",
    "\n",
    "\n",
    "def build_model(width, height, depth, classes):\n",
    "\t# initialize the input shape and channels dimension to be\n",
    "\t# \"channels last\" ordering\n",
    "\tinputShape = (height, width, depth)\n",
    "\tchanDim = -1\n",
    "\t# build the model using Keras' Sequential API\n",
    "\tmodel = Sequential([\n",
    "\t\t# CONV => RELU => BN => POOL layer set\n",
    "\t\tConv2D(16, (3, 3), padding=\"same\", input_shape=inputShape),\n",
    "\t\tActivation(\"relu\"),\n",
    "\t\tBatchNormalization(axis=chanDim),\n",
    "\t\tMaxPooling2D(pool_size=(2, 2)),\n",
    "\t\t# (CONV => RELU => BN) * 2 => POOL layer set\n",
    "\t\tConv2D(32, (3, 3), padding=\"same\"),\n",
    "\t\tActivation(\"relu\"),\n",
    "\t\tBatchNormalization(axis=chanDim),\n",
    "\t\tConv2D(32, (3, 3), padding=\"same\"),\n",
    "\t\tActivation(\"relu\"),\n",
    "\t\tBatchNormalization(axis=chanDim),\n",
    "\t\tMaxPooling2D(pool_size=(2, 2)),\n",
    "\t\t# (CONV => RELU => BN) * 3 => POOL layer set\n",
    "\t\tConv2D(64, (3, 3), padding=\"same\"),\n",
    "\t\tActivation(\"relu\"),\n",
    "\t\tBatchNormalization(axis=chanDim),\n",
    "\t\tConv2D(64, (3, 3), padding=\"same\"),\n",
    "\t\tActivation(\"relu\"),\n",
    "\t\tBatchNormalization(axis=chanDim),\n",
    "\t\tConv2D(64, (3, 3), padding=\"same\"),\n",
    "\t\tActivation(\"relu\"),\n",
    "\t\tBatchNormalization(axis=chanDim),\n",
    "\t\tMaxPooling2D(pool_size=(2, 2)),\n",
    "\t\t# first (and only) set of FC => RELU layers\n",
    "\t\tFlatten(),\n",
    "\t\tDense(256),\n",
    "\t\tActivation(\"relu\"),\n",
    "\t\tBatchNormalization(),\n",
    "\t\tDropout(0.5),\n",
    "\t\t# softmax classifier\n",
    "\t\tDense(classes),\n",
    "\t\tActivation(\"softmax\")\n",
    "\t])\n",
    "\t# return the built model to the calling function\n",
    "\treturn model"
   ]
  },
  {
   "cell_type": "code",
   "execution_count": 27,
   "metadata": {},
   "outputs": [],
   "source": [
    "#Essayons de faire lenet avec tf voir ci-dessous . Il y a aussi une commande pour voir le résumer peut être .resume\n",
    "def build_model(width, height, depth, classes,drop_out_rate):\n",
    "\t# initialize the input shape and channels dimension to be\n",
    "\t# \"channels last\" ordering\n",
    "\tinputShape = (height, width, depth)\n",
    "\tchanDim = -1\n",
    "\t# build the model using Keras' Sequential API\n",
    "\tmodel = Sequential([\n",
    "\t\t# CONV => RELU => BN => POOL layer set\n",
    "\t\tConv2D(30, (5, 5), padding=\"same\", input_shape=inputShape),\n",
    "\t\tActivation(\"relu\"),\n",
    "\t\tBatchNormalization(axis=chanDim),\n",
    "\t\tMaxPooling2D(pool_size=(2, 2)),\n",
    "        \n",
    "\t\t# (CONV => RELU => BN) * 2 => POOL layer set\n",
    "\t\tConv2D(16, (3, 3), padding=\"same\"),\n",
    "\t\tActivation(\"relu\"),\n",
    "\t\tBatchNormalization(axis=chanDim),\n",
    "\t\tMaxPooling2D(pool_size=(2, 2)),\n",
    "\n",
    "        \n",
    "\t\t# first (and only) set of FC => RELU layers\n",
    "\t\tFlatten(),\n",
    "\t\tDense(128),\n",
    "\t\tActivation(\"relu\"),\n",
    "\t\tBatchNormalization(),\n",
    "\t\tDropout(drop_out_rate),\n",
    "        \n",
    "\t\t# softmax classifier\n",
    "\t\tDense(classes),\n",
    "\t\tActivation(\"softmax\")\n",
    "\t])\n",
    "\t# return the built model to the calling function\n",
    "\treturn model"
   ]
  },
  {
   "cell_type": "code",
   "execution_count": null,
   "metadata": {},
   "outputs": [],
   "source": []
  },
  {
   "cell_type": "code",
   "execution_count": null,
   "metadata": {},
   "outputs": [],
   "source": []
  },
  {
   "cell_type": "code",
   "execution_count": null,
   "metadata": {},
   "outputs": [],
   "source": []
  },
  {
   "cell_type": "code",
   "execution_count": 28,
   "metadata": {},
   "outputs": [],
   "source": [
    "#Paramètres\n",
    "\n",
    "#generateur_path='/mnt/VegaSlowDataDisk/c3po/Chaine_de_traitement/Train_imagettes_annotées/type_oiseau/Materiel/generateur.csv'\n",
    "test_size=0.2\n",
    "epochs=200\n",
    "batch_size = 600\n",
    "zoom_range = 1.25\n",
    "horizontal_flip = True\n",
    "Minimum_Number_Class=100\n",
    "dropout_rate=0.3\n",
    "#steps_per_epoch=len(data_train)//batch_size\n",
    "steps_per_epoch=1\n",
    "#validation_steps=len(data_test)//batch_size\n",
    "validation_steps=1\n"
   ]
  },
  {
   "cell_type": "code",
   "execution_count": 29,
   "metadata": {},
   "outputs": [
    {
     "name": "stdout",
     "output_type": "stream",
     "text": [
      "class: 13\n",
      "img_paths: 6220\n"
     ]
    }
   ],
   "source": [
    "\n",
    "base_img_paths=\"/home/marcpozzo/Desktop/c3po/Images_aquises/\"\n",
    "generateur_path='/mnt/VegaSlowDataDisk/c3po/Images_aquises/generateur_bigger.csv'\n",
    "\n",
    "df=pd.read_csv(generateur_path)\n",
    "df.drop('labels',inplace=True,axis=1)\n",
    "\n",
    "df[\"class\"].unique()\n",
    "for c in df:\n",
    "    print(''+c+':',len(df[c].unique()))\n",
    "df[\"class\"].unique()\n",
    "\n",
    "\n",
    "All_Unique=df[\"class\"].unique()\n",
    "Utilisable=[]\n",
    "for i in df[\"class\"].unique():\n",
    "    if df[\"class\"][df[\"class\"]==i].count()>Minimum_Number_Class:\n",
    "        Utilisable.append(i)\n",
    "Utilisable\n",
    "Non_Utilisable=set(All_Unique)-set(Utilisable)\n",
    "Non_Utilisable\n",
    "for i in Non_Utilisable:\n",
    "    df=df[df[\"class\"]!=i]\n",
    "df=df[df[\"class\"]!=\"oiseau\"]  \n",
    "df[\"class\"].unique()\n",
    "\n",
    "\n",
    "for i in range(len(df[\"class\"])):\n",
    "    image_name=df[\"img_paths\"].iloc[i]\n",
    "    df[\"img_paths\"].iloc[i]=os.path.join(base_img_paths,image_name)\n",
    "    "
   ]
  },
  {
   "cell_type": "code",
   "execution_count": 30,
   "metadata": {},
   "outputs": [
    {
     "name": "stderr",
     "output_type": "stream",
     "text": [
      "/home/marcpozzo/anaconda3/lib/python3.7/site-packages/pandas/core/indexing.py:205: SettingWithCopyWarning: \n",
      "A value is trying to be set on a copy of a slice from a DataFrame\n",
      "\n",
      "See the caveats in the documentation: http://pandas.pydata.org/pandas-docs/stable/user_guide/indexing.html#returning-a-view-versus-a-copy\n",
      "  self._setitem_with_indexer(indexer, value)\n"
     ]
    },
    {
     "data": {
      "text/html": [
       "<div>\n",
       "<style scoped>\n",
       "    .dataframe tbody tr th:only-of-type {\n",
       "        vertical-align: middle;\n",
       "    }\n",
       "\n",
       "    .dataframe tbody tr th {\n",
       "        vertical-align: top;\n",
       "    }\n",
       "\n",
       "    .dataframe thead th {\n",
       "        text-align: right;\n",
       "    }\n",
       "</style>\n",
       "<table border=\"1\" class=\"dataframe\">\n",
       "  <thead>\n",
       "    <tr style=\"text-align: right;\">\n",
       "      <th></th>\n",
       "      <th>path</th>\n",
       "      <th>filename</th>\n",
       "      <th>imagetteName</th>\n",
       "      <th>max_cat</th>\n",
       "      <th>predict_cat</th>\n",
       "      <th>xmin</th>\n",
       "      <th>xmax</th>\n",
       "      <th>ymin</th>\n",
       "      <th>ymax</th>\n",
       "      <th>former_index</th>\n",
       "      <th>IsFP</th>\n",
       "      <th>reel_classe</th>\n",
       "      <th>img_paths</th>\n",
       "      <th>class</th>\n",
       "    </tr>\n",
       "  </thead>\n",
       "  <tbody>\n",
       "    <tr>\n",
       "      <td>0</td>\n",
       "      <td>./DonneesPI/timeLapsePhotos_Pi1_0</td>\n",
       "      <td>image_2019-04-30_18-17-30.jpg</td>\n",
       "      <td>image_2019-04-30_18-17-30_356_51_5.jpg</td>\n",
       "      <td>0.513831</td>\n",
       "      <td>5.0</td>\n",
       "      <td>509</td>\n",
       "      <td>518</td>\n",
       "      <td>290</td>\n",
       "      <td>298</td>\n",
       "      <td>356.0</td>\n",
       "      <td>1</td>\n",
       "      <td>0</td>\n",
       "      <td>/mnt/VegaSlowDataDisk/c3po/Annotation_automati...</td>\n",
       "      <td>autre</td>\n",
       "    </tr>\n",
       "    <tr>\n",
       "      <td>1</td>\n",
       "      <td>./DonneesPI/timeLapsePhotos_Pi1_0</td>\n",
       "      <td>image_2019-04-30_18-17-30.jpg</td>\n",
       "      <td>image_2019-04-30_18-17-30_295_91_5.jpg</td>\n",
       "      <td>0.914196</td>\n",
       "      <td>5.0</td>\n",
       "      <td>992</td>\n",
       "      <td>1014</td>\n",
       "      <td>321</td>\n",
       "      <td>339</td>\n",
       "      <td>295.0</td>\n",
       "      <td>1</td>\n",
       "      <td>0</td>\n",
       "      <td>/mnt/VegaSlowDataDisk/c3po/Annotation_automati...</td>\n",
       "      <td>autre</td>\n",
       "    </tr>\n",
       "    <tr>\n",
       "      <td>2</td>\n",
       "      <td>./DonneesPI/timeLapsePhotos_Pi1_0</td>\n",
       "      <td>image_2019-04-30_18-17-30.jpg</td>\n",
       "      <td>image_2019-04-30_18-17-30_296_93_2.jpg</td>\n",
       "      <td>0.932135</td>\n",
       "      <td>2.0</td>\n",
       "      <td>1197</td>\n",
       "      <td>1211</td>\n",
       "      <td>319</td>\n",
       "      <td>333</td>\n",
       "      <td>296.0</td>\n",
       "      <td>0</td>\n",
       "      <td>2</td>\n",
       "      <td>/mnt/VegaSlowDataDisk/c3po/Annotation_automati...</td>\n",
       "      <td>corneille</td>\n",
       "    </tr>\n",
       "    <tr>\n",
       "      <td>3</td>\n",
       "      <td>./DonneesPI/timeLapsePhotos_Pi1_0</td>\n",
       "      <td>image_2019-04-30_18-17-47.jpg</td>\n",
       "      <td>image_2019-04-30_18-17-47_689_74_5.jpg</td>\n",
       "      <td>0.742045</td>\n",
       "      <td>5.0</td>\n",
       "      <td>982</td>\n",
       "      <td>987</td>\n",
       "      <td>334</td>\n",
       "      <td>339</td>\n",
       "      <td>689.0</td>\n",
       "      <td>1</td>\n",
       "      <td>0</td>\n",
       "      <td>/mnt/VegaSlowDataDisk/c3po/Annotation_automati...</td>\n",
       "      <td>autre</td>\n",
       "    </tr>\n",
       "    <tr>\n",
       "      <td>4</td>\n",
       "      <td>./DonneesPI/timeLapsePhotos_Pi1_0</td>\n",
       "      <td>image_2019-04-30_18-17-47.jpg</td>\n",
       "      <td>image_2019-04-30_18-17-47_683_73_5.jpg</td>\n",
       "      <td>0.725646</td>\n",
       "      <td>5.0</td>\n",
       "      <td>853</td>\n",
       "      <td>867</td>\n",
       "      <td>339</td>\n",
       "      <td>356</td>\n",
       "      <td>683.0</td>\n",
       "      <td>1</td>\n",
       "      <td>0</td>\n",
       "      <td>/mnt/VegaSlowDataDisk/c3po/Annotation_automati...</td>\n",
       "      <td>autre</td>\n",
       "    </tr>\n",
       "  </tbody>\n",
       "</table>\n",
       "</div>"
      ],
      "text/plain": [
       "                                path                       filename  \\\n",
       "0  ./DonneesPI/timeLapsePhotos_Pi1_0  image_2019-04-30_18-17-30.jpg   \n",
       "1  ./DonneesPI/timeLapsePhotos_Pi1_0  image_2019-04-30_18-17-30.jpg   \n",
       "2  ./DonneesPI/timeLapsePhotos_Pi1_0  image_2019-04-30_18-17-30.jpg   \n",
       "3  ./DonneesPI/timeLapsePhotos_Pi1_0  image_2019-04-30_18-17-47.jpg   \n",
       "4  ./DonneesPI/timeLapsePhotos_Pi1_0  image_2019-04-30_18-17-47.jpg   \n",
       "\n",
       "                             imagetteName   max_cat  predict_cat  xmin  xmax  \\\n",
       "0  image_2019-04-30_18-17-30_356_51_5.jpg  0.513831          5.0   509   518   \n",
       "1  image_2019-04-30_18-17-30_295_91_5.jpg  0.914196          5.0   992  1014   \n",
       "2  image_2019-04-30_18-17-30_296_93_2.jpg  0.932135          2.0  1197  1211   \n",
       "3  image_2019-04-30_18-17-47_689_74_5.jpg  0.742045          5.0   982   987   \n",
       "4  image_2019-04-30_18-17-47_683_73_5.jpg  0.725646          5.0   853   867   \n",
       "\n",
       "   ymin  ymax  former_index  IsFP  reel_classe  \\\n",
       "0   290   298         356.0     1            0   \n",
       "1   321   339         295.0     1            0   \n",
       "2   319   333         296.0     0            2   \n",
       "3   334   339         689.0     1            0   \n",
       "4   339   356         683.0     1            0   \n",
       "\n",
       "                                           img_paths      class  \n",
       "0  /mnt/VegaSlowDataDisk/c3po/Annotation_automati...      autre  \n",
       "1  /mnt/VegaSlowDataDisk/c3po/Annotation_automati...      autre  \n",
       "2  /mnt/VegaSlowDataDisk/c3po/Annotation_automati...  corneille  \n",
       "3  /mnt/VegaSlowDataDisk/c3po/Annotation_automati...      autre  \n",
       "4  /mnt/VegaSlowDataDisk/c3po/Annotation_automati...      autre  "
      ]
     },
     "execution_count": 30,
     "metadata": {},
     "output_type": "execute_result"
    }
   ],
   "source": [
    "dic_labels_to_num,dic_num_to_labels=dictionnaire_conversion()\n",
    "\n",
    "n_path=\"/mnt/VegaSlowDataDisk/c3po/Annotation_automatique/\"\n",
    "gen_imagettes=pd.read_csv(n_path+\"fp+an_gen_tf.csv\")\n",
    "\n",
    "folder_imagettes=\"tf_200ep/\"\n",
    "\n",
    "liste_img_paths=[]\n",
    "for i in range(len(gen_imagettes)):\n",
    "    liste_img_paths.append(n_path+folder_imagettes+gen_imagettes[\"imagetteName\"].iloc[i])\n",
    "\n",
    "gen_imagettes[\"img_paths\"]=liste_img_paths\n",
    "gen_imagettes.head()\n",
    "\n",
    "gen_imagettes[\"class\"]=\"autre\"\n",
    "\n",
    "for i in range(len(gen_imagettes)):\n",
    "    if gen_imagettes[\"IsFP\"].iloc[i]==0:\n",
    "        gen_imagettes[\"class\"].iloc[i]=dic_num_to_labels[gen_imagettes[\"reel_classe\"].iloc[i]]\n",
    "    \n",
    "gen_imagettes.head()  "
   ]
  },
  {
   "cell_type": "code",
   "execution_count": null,
   "metadata": {},
   "outputs": [],
   "source": []
  },
  {
   "cell_type": "code",
   "execution_count": null,
   "metadata": {},
   "outputs": [],
   "source": []
  },
  {
   "cell_type": "code",
   "execution_count": 31,
   "metadata": {},
   "outputs": [
    {
     "data": {
      "text/html": [
       "<div>\n",
       "<style scoped>\n",
       "    .dataframe tbody tr th:only-of-type {\n",
       "        vertical-align: middle;\n",
       "    }\n",
       "\n",
       "    .dataframe tbody tr th {\n",
       "        vertical-align: top;\n",
       "    }\n",
       "\n",
       "    .dataframe thead th {\n",
       "        text-align: right;\n",
       "    }\n",
       "</style>\n",
       "<table border=\"1\" class=\"dataframe\">\n",
       "  <thead>\n",
       "    <tr style=\"text-align: right;\">\n",
       "      <th></th>\n",
       "      <th>img_paths</th>\n",
       "      <th>class</th>\n",
       "    </tr>\n",
       "  </thead>\n",
       "  <tbody>\n",
       "    <tr>\n",
       "      <td>0</td>\n",
       "      <td>/mnt/VegaSlowDataDisk/c3po/Annotation_automati...</td>\n",
       "      <td>autre</td>\n",
       "    </tr>\n",
       "    <tr>\n",
       "      <td>1</td>\n",
       "      <td>/mnt/VegaSlowDataDisk/c3po/Annotation_automati...</td>\n",
       "      <td>autre</td>\n",
       "    </tr>\n",
       "    <tr>\n",
       "      <td>2</td>\n",
       "      <td>/mnt/VegaSlowDataDisk/c3po/Annotation_automati...</td>\n",
       "      <td>corneille</td>\n",
       "    </tr>\n",
       "    <tr>\n",
       "      <td>3</td>\n",
       "      <td>/mnt/VegaSlowDataDisk/c3po/Annotation_automati...</td>\n",
       "      <td>autre</td>\n",
       "    </tr>\n",
       "    <tr>\n",
       "      <td>4</td>\n",
       "      <td>/mnt/VegaSlowDataDisk/c3po/Annotation_automati...</td>\n",
       "      <td>autre</td>\n",
       "    </tr>\n",
       "  </tbody>\n",
       "</table>\n",
       "</div>"
      ],
      "text/plain": [
       "                                           img_paths      class\n",
       "0  /mnt/VegaSlowDataDisk/c3po/Annotation_automati...      autre\n",
       "1  /mnt/VegaSlowDataDisk/c3po/Annotation_automati...      autre\n",
       "2  /mnt/VegaSlowDataDisk/c3po/Annotation_automati...  corneille\n",
       "3  /mnt/VegaSlowDataDisk/c3po/Annotation_automati...      autre\n",
       "4  /mnt/VegaSlowDataDisk/c3po/Annotation_automati...      autre"
      ]
     },
     "execution_count": 31,
     "metadata": {},
     "output_type": "execute_result"
    }
   ],
   "source": [
    "to_drop=['path', 'filename', 'imagetteName', 'max_cat', 'max_cat', 'xmin', 'xmax','ymin', 'ymax', 'former_index','reel_classe','IsFP','predict_cat']\n",
    "gen_imagettes.drop(to_drop,inplace=True,axis=1)\n",
    "gen_imagettes.head()"
   ]
  },
  {
   "cell_type": "code",
   "execution_count": 32,
   "metadata": {},
   "outputs": [
    {
     "name": "stderr",
     "output_type": "stream",
     "text": [
      "/home/marcpozzo/anaconda3/lib/python3.7/site-packages/ipykernel_launcher.py:2: FutureWarning: Sorting because non-concatenation axis is not aligned. A future version\n",
      "of pandas will change to not sort by default.\n",
      "\n",
      "To accept the future behavior, pass 'sort=False'.\n",
      "\n",
      "To retain the current behavior and silence the warning, pass 'sort=True'.\n",
      "\n",
      "  \n"
     ]
    }
   ],
   "source": [
    "#gen_imagettes.drop(\"predict_cat\",inplace=True,axis=1)\n",
    "df=pd.concat([df,gen_imagettes])"
   ]
  },
  {
   "cell_type": "code",
   "execution_count": 33,
   "metadata": {},
   "outputs": [],
   "source": [
    "df=df[df[\"class\"]!=\"oiseau\"]"
   ]
  },
  {
   "cell_type": "code",
   "execution_count": 34,
   "metadata": {},
   "outputs": [
    {
     "data": {
      "text/plain": [
       "array(['autre', 'corneille', 'pigeon', 'chevreuil', 'lapin', 'faisan'],\n",
       "      dtype=object)"
      ]
     },
     "execution_count": 34,
     "metadata": {},
     "output_type": "execute_result"
    }
   ],
   "source": [
    "df[\"class\"].unique()"
   ]
  },
  {
   "cell_type": "code",
   "execution_count": null,
   "metadata": {},
   "outputs": [],
   "source": []
  },
  {
   "cell_type": "code",
   "execution_count": 11,
   "metadata": {},
   "outputs": [
    {
     "name": "stdout",
     "output_type": "stream",
     "text": [
      "Found 12444 validated image filenames belonging to 6 classes.\n",
      "Found 3112 validated image filenames belonging to 6 classes.\n"
     ]
    }
   ],
   "source": [
    "from numpy.random import seed\n",
    "from sklearn.model_selection import train_test_split\n",
    "from keras.preprocessing.image import ImageDataGenerator\n",
    "seed(1)\n",
    "tf.random.set_seed(2)\n",
    "\n",
    "data_train,data_test= train_test_split(df,stratify=df[\"class\"], test_size=test_size,random_state=42)\n",
    "train_data_generator = ImageDataGenerator(\n",
    "        preprocessing_function = preprocess_input\n",
    "        # data augmentation\n",
    "        #rotation_range = 10,\n",
    "        #zoom_range = zoom_range,\n",
    "        #horizontal_flip = horizontal_flip\n",
    "        )\n",
    "\n",
    "test_data_generator = ImageDataGenerator(preprocessing_function = preprocess_input)\n",
    "    #preprocessing_function = preprocess_input)\n",
    "\n",
    "\n",
    "\n",
    "\n",
    "train_generator = train_data_generator.flow_from_dataframe(dataframe=data_train,\n",
    "                                                          directory=\"\",\n",
    "                                                           x_col = \"img_paths\",\n",
    "                                                           class_mode =\"sparse\",\n",
    "                                                          target_size = (28 , 28), \n",
    "                                                          batch_size = len(data_train) )\n",
    "\n",
    "\n",
    "test_generator = test_data_generator.flow_from_dataframe(dataframe=data_test,\n",
    "                                                          directory=\"\",\n",
    "                                                           x_col = \"img_paths\",\n",
    "                                                           class_mode =\"sparse\",\n",
    "                                                          target_size = (28 , 28), \n",
    "                                                          batch_size = len(data_test))\n",
    "\n",
    "gen=train_generator[0]\n",
    "\n",
    "x_train=gen[0]\n",
    "y_train=gen[1]\n",
    "\n",
    "\n",
    "\n",
    "gen_test=test_generator[0]\n",
    "\n",
    "x_test=gen_test[0]\n",
    "y_test=gen_test[1]\n"
   ]
  },
  {
   "cell_type": "code",
   "execution_count": 43,
   "metadata": {},
   "outputs": [
    {
     "name": "stdout",
     "output_type": "stream",
     "text": [
      "(1556, 28, 28, 6)\n"
     ]
    },
    {
     "data": {
      "text/plain": [
       "<tensorflow.python.keras.callbacks.History at 0x7f8ad8ff6bd0>"
      ]
     },
     "execution_count": 43,
     "metadata": {},
     "output_type": "execute_result"
    }
   ],
   "source": [
    "x_reshape=x_test.reshape((-1, 28, 28, 6))\n",
    "print(x_reshape.shape)\n",
    "y_reshape=y_train[:1556]\n",
    "model=build_model(28, 28, 6, 6,0.2)\n",
    "model.compile(loss='sparse_categorical_crossentropy',  # fonction de perte\n",
    "              optimizer='adam',                 # algorithme de descente de gradient\n",
    "              metrics=['accuracy'])        \n",
    "model.fit(x_reshape,y_reshape,epochs=5,verbose=0)"
   ]
  },
  {
   "cell_type": "code",
   "execution_count": null,
   "metadata": {},
   "outputs": [],
   "source": []
  },
  {
   "cell_type": "code",
   "execution_count": null,
   "metadata": {},
   "outputs": [],
   "source": [
    "#First test the influence of number of epochs on the other recall"
   ]
  },
  {
   "cell_type": "code",
   "execution_count": 18,
   "metadata": {},
   "outputs": [
    {
     "data": {
      "text/plain": [
       "array([[[175.89209   ,   5.9252586 ,   2.2210007 ],\n",
       "        [175.89209   ,   3.117745  ,   4.2210007 ],\n",
       "        [167.70763   ,   1.7224185 ,   8.221001  ],\n",
       "        ...,\n",
       "        [147.55655   ,   2.7918572 ,   7.2210007 ],\n",
       "        [147.55655   ,   2.7918572 ,   7.2210007 ],\n",
       "        [147.55655   ,   2.7918572 ,   7.2210007 ]],\n",
       "\n",
       "       [[175.89209   ,   3.117745  ,   4.2210007 ],\n",
       "        [175.89209   ,   2.5205903 ,   5.2210007 ],\n",
       "        [175.89209   ,   1.8224626 ,   7.2210007 ],\n",
       "        ...,\n",
       "        [147.55655   ,   2.4522567 ,   8.221001  ],\n",
       "        [147.55655   ,   2.4522567 ,   8.221001  ],\n",
       "        [147.55655   ,   2.4522567 ,   8.221001  ]],\n",
       "\n",
       "       [[175.89209   ,   2.1154158 ,   6.2210007 ],\n",
       "        [175.89209   ,   1.8224626 ,   7.2210007 ],\n",
       "        [175.89209   ,   1.4271774 ,   9.221001  ],\n",
       "        ...,\n",
       "        [147.28745   ,   2.5148873 ,   7.2210007 ],\n",
       "        [147.28745   ,   1.9694179 ,   9.221001  ],\n",
       "        [147.28745   ,   1.9694179 ,   9.221001  ]],\n",
       "\n",
       "       ...,\n",
       "\n",
       "       [[230.15524   ,   0.3985721 ,  48.32      ],\n",
       "        [230.15524   ,   0.3985721 ,  48.32      ],\n",
       "        [230.15524   ,   0.3985721 ,  48.32      ],\n",
       "        ...,\n",
       "        [230.15524   ,   0.47765383,  40.32      ],\n",
       "        [230.15524   ,   0.4898017 ,  39.32      ],\n",
       "        [230.15524   ,   0.4898017 ,  39.32      ]],\n",
       "\n",
       "       [[230.15524   ,   0.4157816 ,  46.32      ],\n",
       "        [230.15524   ,   0.406995  ,  47.32      ],\n",
       "        [230.15524   ,   0.3985721 ,  48.32      ],\n",
       "        ...,\n",
       "        [230.15524   ,   0.45508042,  42.32      ],\n",
       "        [230.15524   ,   0.4898017 ,  39.32      ],\n",
       "        [230.15524   ,   0.51605046,  37.32      ]],\n",
       "\n",
       "       [[230.15524   ,   0.4345443 ,  44.32      ],\n",
       "        [230.15524   ,   0.4157816 ,  46.32      ],\n",
       "        [230.15524   ,   0.3985721 ,  48.32      ],\n",
       "        ...,\n",
       "        [225.43675   ,   0.49074337,  43.32      ],\n",
       "        [230.15524   ,   0.50258356,  38.32      ],\n",
       "        [230.15524   ,   0.5302589 ,  36.32      ]]], dtype=float32)"
      ]
     },
     "execution_count": 18,
     "metadata": {},
     "output_type": "execute_result"
    }
   ],
   "source": [
    "import cv2\n",
    "cv2.cvtColor(x_test[0], cv2.COLOR_RGB2HSV)"
   ]
  },
  {
   "cell_type": "code",
   "execution_count": 90,
   "metadata": {},
   "outputs": [
    {
     "name": "stdout",
     "output_type": "stream",
     "text": [
      "              precision    recall  f1-score   support\n",
      "\n",
      "           0    0.97603   0.94593   0.96074      2238\n",
      "           1    0.80392   0.89130   0.84536        46\n",
      "           2    0.89216   0.89655   0.89435       406\n",
      "           3    0.80469   0.91964   0.85833       112\n",
      "           4    0.46269   0.72093   0.56364        43\n",
      "           5    0.86851   0.94007   0.90288       267\n",
      "\n",
      "    accuracy                        0.93413      3112\n",
      "   macro avg    0.80133   0.88574   0.83755      3112\n",
      "weighted avg    0.94006   0.93413   0.93624      3112\n",
      "\n"
     ]
    }
   ],
   "source": [
    "history=model.fit(x_train,y_train,epochs=100,validation_data=(x_test,y_test),verbose=0)\n",
    "y_predict=model.predict(x_test).argmax(axis=1)\n",
    "print(metrics.classification_report(y_predict,y_test,digits=5))\n",
    "#model.save(\"tf_match_100ep\")"
   ]
  },
  {
   "cell_type": "code",
   "execution_count": null,
   "metadata": {},
   "outputs": [],
   "source": []
  },
  {
   "cell_type": "code",
   "execution_count": 92,
   "metadata": {},
   "outputs": [
    {
     "name": "stdout",
     "output_type": "stream",
     "text": [
      "              precision    recall  f1-score   support\n",
      "\n",
      "           0    0.98202   0.94081   0.96097      2264\n",
      "           1    0.74510   0.92683   0.82609        41\n",
      "           2    0.87255   0.91282   0.89223       390\n",
      "           3    0.72656   0.95876   0.82667        97\n",
      "           4    0.56716   0.70370   0.62810        54\n",
      "           5    0.87543   0.95113   0.91171       266\n",
      "\n",
      "    accuracy                        0.93445      3112\n",
      "   macro avg    0.79480   0.89901   0.84096      3112\n",
      "weighted avg    0.94091   0.93445   0.93641      3112\n",
      "\n",
      "INFO:tensorflow:Assets written to: tf_match_200ep/assets\n"
     ]
    }
   ],
   "source": [
    "history=model.fit(x_train,y_train,epochs=200,validation_data=(x_test,y_test),verbose=0)\n",
    "y_predict=model.predict(x_test).argmax(axis=1)\n",
    "print(metrics.classification_report(y_predict,y_test,digits=5))\n",
    "#model.save(\"tf_match_300ep\")"
   ]
  },
  {
   "cell_type": "code",
   "execution_count": 93,
   "metadata": {},
   "outputs": [
    {
     "name": "stdout",
     "output_type": "stream",
     "text": [
      "              precision    recall  f1-score   support\n",
      "\n",
      "           0    0.98248   0.94334   0.96251      2259\n",
      "           1    0.66667   0.89474   0.76404        38\n",
      "           2    0.90686   0.88729   0.89697       417\n",
      "           3    0.70312   0.96774   0.81448        93\n",
      "           4    0.46269   0.81579   0.59048        38\n",
      "           5    0.88235   0.95506   0.91727       267\n",
      "\n",
      "    accuracy                        0.93541      3112\n",
      "   macro avg    0.76736   0.91066   0.82429      3112\n",
      "weighted avg    0.94521   0.93541   0.93846      3112\n",
      "\n",
      "INFO:tensorflow:Assets written to: tf_match_500ep/assets\n"
     ]
    }
   ],
   "source": [
    "history=model.fit(x_train,y_train,epochs=200,validation_data=(x_test,y_test),verbose=0)\n",
    "y_predict=model.predict(x_test).argmax(axis=1)\n",
    "print(metrics.classification_report(y_predict,y_test,digits=5))\n",
    "#model.save(\"tf_match_800ep\")"
   ]
  },
  {
   "cell_type": "code",
   "execution_count": 94,
   "metadata": {},
   "outputs": [
    {
     "data": {
      "image/png": "[encoded data removed]",
      "text/plain": [
       "<Figure size 1152x864 with 1 Axes>"
      ]
     },
     "metadata": {
      "needs_background": "light"
     },
     "output_type": "display_data"
    }
   ],
   "source": [
    "plt.figure(figsize=(16,12))\n",
    "\n",
    "plt.plot(history.history['acc'],label=\"train\");\n",
    "plt.plot(history.history['val_acc'],label=\"test\");\n",
    "plt.xlabel('Epochs')\n",
    "plt.ylabel('Accuracy')\n",
    "plt.title(\"Accuracy en fonction du nombre d'epoch\");\n",
    "plt.legend();"
   ]
  },
  {
   "cell_type": "code",
   "execution_count": 14,
   "metadata": {},
   "outputs": [],
   "source": []
  },
  {
   "cell_type": "code",
   "execution_count": null,
   "metadata": {},
   "outputs": [],
   "source": []
  }
 ],
 "metadata": {
  "kernelspec": {
   "display_name": "Python 3",
   "language": "python",
   "name": "python3"
  },
  "language_info": {
   "codemirror_mode": {
    "name": "ipython",
    "version": 3
   },
   "file_extension": ".py",
   "mimetype": "text/x-python",
   "name": "python",
   "nbconvert_exporter": "python",
   "pygments_lexer": "ipython3",
   "version": "3.7.4"
  }
 },
 "nbformat": 4,
 "nbformat_minor": 4
}
