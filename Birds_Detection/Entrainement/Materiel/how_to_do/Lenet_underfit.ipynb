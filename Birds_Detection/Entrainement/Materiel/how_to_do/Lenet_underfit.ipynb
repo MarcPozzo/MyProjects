{
 "cells": [
  {
   "cell_type": "code",
   "execution_count": 1,
   "metadata": {},
   "outputs": [
    {
     "name": "stderr",
     "output_type": "stream",
     "text": [
      "Using TensorFlow backend.\n"
     ]
    }
   ],
   "source": [
    "import numpy as np # Pour la manipulation de tableaux\n",
    "from keras.applications import  resnet50\n",
    "from sklearn import metrics \n",
    "import os\n",
    "\n",
    "import pandas as pd # Pour manipuler des DataFrames pandas\n",
    "\n",
    "import matplotlib.pyplot as plt # Pour l'affichage d'images\n",
    "from matplotlib import cm # Pour importer de nouvelles cartes de couleur\n",
    "%matplotlib inline\n",
    "\n",
    "from keras.models import Sequential # Pour construire un réseau de neurones\n",
    "from keras.layers import Dense, Conv2D # Pour instancier une couche dense\n",
    "from keras.utils import np_utils\n",
    "\n",
    "from keras.models import Sequential\n",
    "from keras.layers import Dense, Activation,GlobalAveragePooling2D, MaxPooling2D\n",
    "from keras.layers import Dropout\n",
    "from keras.layers import Flatten\n",
    "from keras.layers.convolutional import Conv2D\n",
    "from keras.models import Model\n",
    "import cv2\n",
    "import keras\n",
    "from numpy.random import seed\n",
    "import tensorflow\n",
    "\n",
    "from keras.preprocessing.image import ImageDataGenerator\n",
    "import itertools # Pour créer des iterateurs\n",
    "\n",
    "from sklearn import linear_model, preprocessing \n",
    "\n",
    "\n",
    "\n",
    "%matplotlib inline\n",
    "import numpy as np\n",
    "\n",
    "import matplotlib.pyplot as plt\n",
    "import time, cv2\n",
    "import seaborn as sns\n",
    "\n",
    "import pandas as pd\n",
    "from sklearn.model_selection import train_test_split\n",
    "\n",
    "from keras.layers import Dense, Dropout, Flatten, GlobalAveragePooling2D\n",
    "from keras.optimizers import Adam\n",
    "from keras.models import Model, Sequential\n",
    "from keras.preprocessing.image import ImageDataGenerator\n",
    "import keras\n",
    "from keras import backend as K\n",
    "from keras.preprocessing.image import img_to_array\n",
    "from keras.preprocessing.image import load_img\n",
    "from keras.applications.vgg16 import preprocess_input"
   ]
  },
  {
   "cell_type": "code",
   "execution_count": 2,
   "metadata": {},
   "outputs": [
    {
     "data": {
      "text/html": [
       "<div>\n",
       "<style scoped>\n",
       "    .dataframe tbody tr th:only-of-type {\n",
       "        vertical-align: middle;\n",
       "    }\n",
       "\n",
       "    .dataframe tbody tr th {\n",
       "        vertical-align: top;\n",
       "    }\n",
       "\n",
       "    .dataframe thead th {\n",
       "        text-align: right;\n",
       "    }\n",
       "</style>\n",
       "<table border=\"1\" class=\"dataframe\">\n",
       "  <thead>\n",
       "    <tr style=\"text-align: right;\">\n",
       "      <th></th>\n",
       "      <th>class</th>\n",
       "      <th>img_paths</th>\n",
       "    </tr>\n",
       "  </thead>\n",
       "  <tbody>\n",
       "    <tr>\n",
       "      <td>0</td>\n",
       "      <td>oiseau</td>\n",
       "      <td>Rec_images/DSCF0029_incertain_0.JPG</td>\n",
       "    </tr>\n",
       "    <tr>\n",
       "      <td>1</td>\n",
       "      <td>autre</td>\n",
       "      <td>Rec_images/DSCF0029_ground_1.JPG</td>\n",
       "    </tr>\n",
       "    <tr>\n",
       "      <td>2</td>\n",
       "      <td>corneille</td>\n",
       "      <td>Rec_images/DSCF0180_corneille_2.JPG</td>\n",
       "    </tr>\n",
       "    <tr>\n",
       "      <td>3</td>\n",
       "      <td>corneille</td>\n",
       "      <td>Rec_images/DSCF0180_corneille_3.JPG</td>\n",
       "    </tr>\n",
       "    <tr>\n",
       "      <td>4</td>\n",
       "      <td>pigeon</td>\n",
       "      <td>Rec_images/DSCF0258_pigeon_4.JPG</td>\n",
       "    </tr>\n",
       "  </tbody>\n",
       "</table>\n",
       "</div>"
      ],
      "text/plain": [
       "       class                            img_paths\n",
       "0     oiseau  Rec_images/DSCF0029_incertain_0.JPG\n",
       "1      autre     Rec_images/DSCF0029_ground_1.JPG\n",
       "2  corneille  Rec_images/DSCF0180_corneille_2.JPG\n",
       "3  corneille  Rec_images/DSCF0180_corneille_3.JPG\n",
       "4     pigeon     Rec_images/DSCF0258_pigeon_4.JPG"
      ]
     },
     "execution_count": 2,
     "metadata": {},
     "output_type": "execute_result"
    }
   ],
   "source": [
    "#df=pd.read_csv(\"/home/marcpozzo/Desktop/c3po/Images_aquises/generateur.csv\")\n",
    "df=pd.read_csv(\"generateur.csv\")\n",
    "df.drop('labels',inplace=True,axis=1)\n",
    "df.head()"
   ]
  },
  {
   "cell_type": "code",
   "execution_count": 3,
   "metadata": {},
   "outputs": [
    {
     "name": "stdout",
     "output_type": "stream",
     "text": [
      "class: 12\n",
      "img_paths: 6220\n"
     ]
    },
    {
     "data": {
      "text/plain": [
       "array(['oiseau', 'autre', 'corneille', 'pigeon', 'pie', 'chat', 'abeille',\n",
       "       'chevreuil', 'lapin', 'faisan', 'sanglier', 'cheval'], dtype=object)"
      ]
     },
     "execution_count": 3,
     "metadata": {},
     "output_type": "execute_result"
    }
   ],
   "source": [
    "#df=df[(df[\"class\"]=='corneille') | (df[\"class\"]=='pigeon') | (df[\"class\"]=='faisan')   ]\n",
    "df[\"class\"].unique()\n",
    "for c in df:\n",
    "    print(''+c+':',len(df[c].unique()))\n",
    "df[\"class\"].unique()"
   ]
  },
  {
   "cell_type": "code",
   "execution_count": null,
   "metadata": {},
   "outputs": [],
   "source": []
  },
  {
   "cell_type": "code",
   "execution_count": 4,
   "metadata": {},
   "outputs": [
    {
     "data": {
      "text/plain": [
       "array(['autre', 'corneille', 'pigeon', 'chevreuil', 'lapin', 'faisan'],\n",
       "      dtype=object)"
      ]
     },
     "execution_count": 4,
     "metadata": {},
     "output_type": "execute_result"
    }
   ],
   "source": [
    "All_Unique=df[\"class\"].unique()\n",
    "Utilisable=[]\n",
    "for i in df[\"class\"].unique():\n",
    "    if df[\"class\"][df[\"class\"]==i].count()>100:\n",
    "        Utilisable.append(i)\n",
    "Utilisable\n",
    "Non_Utilisable=set(All_Unique)-set(Utilisable)\n",
    "Non_Utilisable\n",
    "for i in Non_Utilisable:\n",
    "    df=df[df[\"class\"]!=i]\n",
    "df=df[df[\"class\"]!=\"oiseau\"]  \n",
    "df[\"class\"].unique()"
   ]
  },
  {
   "cell_type": "code",
   "execution_count": 5,
   "metadata": {},
   "outputs": [
    {
     "data": {
      "text/html": [
       "<div>\n",
       "<style scoped>\n",
       "    .dataframe tbody tr th:only-of-type {\n",
       "        vertical-align: middle;\n",
       "    }\n",
       "\n",
       "    .dataframe tbody tr th {\n",
       "        vertical-align: top;\n",
       "    }\n",
       "\n",
       "    .dataframe thead th {\n",
       "        text-align: right;\n",
       "    }\n",
       "</style>\n",
       "<table border=\"1\" class=\"dataframe\">\n",
       "  <thead>\n",
       "    <tr style=\"text-align: right;\">\n",
       "      <th></th>\n",
       "      <th>class</th>\n",
       "      <th>img_paths</th>\n",
       "    </tr>\n",
       "  </thead>\n",
       "  <tbody>\n",
       "    <tr>\n",
       "      <td>1</td>\n",
       "      <td>autre</td>\n",
       "      <td>/home/marcpozzo/Desktop/c3po/Images_aquises/Re...</td>\n",
       "    </tr>\n",
       "    <tr>\n",
       "      <td>2</td>\n",
       "      <td>corneille</td>\n",
       "      <td>/home/marcpozzo/Desktop/c3po/Images_aquises/Re...</td>\n",
       "    </tr>\n",
       "    <tr>\n",
       "      <td>3</td>\n",
       "      <td>corneille</td>\n",
       "      <td>/home/marcpozzo/Desktop/c3po/Images_aquises/Re...</td>\n",
       "    </tr>\n",
       "    <tr>\n",
       "      <td>4</td>\n",
       "      <td>pigeon</td>\n",
       "      <td>/home/marcpozzo/Desktop/c3po/Images_aquises/Re...</td>\n",
       "    </tr>\n",
       "    <tr>\n",
       "      <td>5</td>\n",
       "      <td>autre</td>\n",
       "      <td>/home/marcpozzo/Desktop/c3po/Images_aquises/Re...</td>\n",
       "    </tr>\n",
       "  </tbody>\n",
       "</table>\n",
       "</div>"
      ],
      "text/plain": [
       "       class                                          img_paths\n",
       "1      autre  /home/marcpozzo/Desktop/c3po/Images_aquises/Re...\n",
       "2  corneille  /home/marcpozzo/Desktop/c3po/Images_aquises/Re...\n",
       "3  corneille  /home/marcpozzo/Desktop/c3po/Images_aquises/Re...\n",
       "4     pigeon  /home/marcpozzo/Desktop/c3po/Images_aquises/Re...\n",
       "5      autre  /home/marcpozzo/Desktop/c3po/Images_aquises/Re..."
      ]
     },
     "execution_count": 5,
     "metadata": {},
     "output_type": "execute_result"
    }
   ],
   "source": [
    "os.path.join(\"/home/marcpozzo/Desktop/c3po/Images_aquises/\",\"Rec_images/DSCF0029_ground_1.JPG\")\n",
    "for i in range(len(df[\"class\"])):\n",
    "    df[\"img_paths\"].iloc[i]=os.path.join(\"/home/marcpozzo/Desktop/c3po/Images_aquises/\",df[\"img_paths\"].iloc[i])\n",
    "    \n",
    "df.head()\n"
   ]
  },
  {
   "cell_type": "code",
   "execution_count": 165,
   "metadata": {},
   "outputs": [
    {
     "data": {
      "text/plain": [
       "(4475, 2)"
      ]
     },
     "execution_count": 165,
     "metadata": {},
     "output_type": "execute_result"
    }
   ],
   "source": [
    "df[\"class\"] = df[\"class\"].astype(str)\n",
    "data_train=df.iloc[:1500]\n",
    "data_test=df.iloc[1500:]\n",
    "data_train,data_test=train_test_split(df,test_size=0.25,random_state=42)\n",
    "data_train.shape"
   ]
  },
  {
   "cell_type": "code",
   "execution_count": null,
   "metadata": {},
   "outputs": [],
   "source": []
  },
  {
   "cell_type": "code",
   "execution_count": 167,
   "metadata": {},
   "outputs": [
    {
     "name": "stdout",
     "output_type": "stream",
     "text": [
      "0.17997066834276138 0.1800670016750419\n",
      "0.138696836371255 0.1390284757118928\n",
      "0.056149172428242196 0.05611390284757119\n"
     ]
    }
   ],
   "source": [
    "print( len(train[train[\"class\"]==\"corneille\"]) / (len(train  )) ,     len(test[test[\"class\"]==\"corneille\"]) / (len(test  )       ) )\n",
    "print( len(train[train[\"class\"]==\"pigeon\"]) / (len(train  )) ,     len(test[test[\"class\"]==\"pigeon\"]) / (len(test  )       ) )\n",
    "print( len(train[train[\"class\"]==\"faisan\"]) / (len(train  )) ,     len(test[test[\"class\"]==\"faisan\"]) / (len(test  )       ) )"
   ]
  },
  {
   "cell_type": "code",
   "execution_count": 6,
   "metadata": {},
   "outputs": [
    {
     "name": "stdout",
     "output_type": "stream",
     "text": [
      "Found 4773 validated image filenames belonging to 6 classes.\n",
      "Found 1194 validated image filenames belonging to 6 classes.\n",
      "Epoch 1/50\n",
      "11/11 [==============================] - 3s 280ms/step - loss: 6.9716 - accuracy: 0.4211 - val_loss: 2.8316 - val_accuracy: 0.3425\n",
      "Epoch 2/50\n",
      "11/11 [==============================] - 3s 272ms/step - loss: 1.9301 - accuracy: 0.5310 - val_loss: 1.3105 - val_accuracy: 0.6461\n",
      "Epoch 3/50\n",
      "11/11 [==============================] - 3s 266ms/step - loss: 1.1765 - accuracy: 0.6540 - val_loss: 1.0613 - val_accuracy: 0.6713\n",
      "Epoch 4/50\n",
      "11/11 [==============================] - 3s 263ms/step - loss: 0.9390 - accuracy: 0.6995 - val_loss: 0.8673 - val_accuracy: 0.7063\n",
      "Epoch 5/50\n",
      "11/11 [==============================] - 3s 265ms/step - loss: 0.8303 - accuracy: 0.7441 - val_loss: 0.9732 - val_accuracy: 0.7481\n",
      "Epoch 6/50\n",
      "11/11 [==============================] - 3s 273ms/step - loss: 0.7508 - accuracy: 0.7668 - val_loss: 0.7693 - val_accuracy: 0.7758\n",
      "Epoch 7/50\n",
      "11/11 [==============================] - 3s 279ms/step - loss: 0.6534 - accuracy: 0.8024 - val_loss: 0.7835 - val_accuracy: 0.7575\n",
      "Epoch 8/50\n",
      "11/11 [==============================] - 3s 267ms/step - loss: 0.5616 - accuracy: 0.8315 - val_loss: 0.8789 - val_accuracy: 0.7947\n",
      "Epoch 9/50\n",
      "11/11 [==============================] - 3s 279ms/step - loss: 0.5160 - accuracy: 0.8493 - val_loss: 0.6314 - val_accuracy: 0.8388\n",
      "Epoch 10/50\n",
      "11/11 [==============================] - 3s 280ms/step - loss: 0.4787 - accuracy: 0.8562 - val_loss: 0.6795 - val_accuracy: 0.8263\n",
      "Epoch 11/50\n",
      "11/11 [==============================] - 3s 259ms/step - loss: 0.4125 - accuracy: 0.8770 - val_loss: 0.5688 - val_accuracy: 0.8363\n",
      "Epoch 12/50\n",
      "11/11 [==============================] - 3s 282ms/step - loss: 0.3870 - accuracy: 0.8845 - val_loss: 0.6720 - val_accuracy: 0.8388\n",
      "Epoch 13/50\n",
      "11/11 [==============================] - 3s 259ms/step - loss: 0.3706 - accuracy: 0.8895 - val_loss: 0.5167 - val_accuracy: 0.8487\n",
      "Epoch 14/50\n",
      "11/11 [==============================] - 3s 256ms/step - loss: 0.3590 - accuracy: 0.8923 - val_loss: 0.5791 - val_accuracy: 0.8514\n",
      "Epoch 15/50\n",
      "11/11 [==============================] - 3s 259ms/step - loss: 0.3202 - accuracy: 0.9044 - val_loss: 0.5910 - val_accuracy: 0.8564\n",
      "Epoch 16/50\n",
      "11/11 [==============================] - 3s 256ms/step - loss: 0.2826 - accuracy: 0.9145 - val_loss: 0.6698 - val_accuracy: 0.8350\n",
      "Epoch 17/50\n",
      "11/11 [==============================] - 3s 257ms/step - loss: 0.2891 - accuracy: 0.9133 - val_loss: 0.4596 - val_accuracy: 0.8741\n",
      "Epoch 18/50\n",
      "11/11 [==============================] - 3s 270ms/step - loss: 0.2824 - accuracy: 0.9131 - val_loss: 0.5647 - val_accuracy: 0.8426\n",
      "Epoch 19/50\n",
      "11/11 [==============================] - 3s 257ms/step - loss: 0.2366 - accuracy: 0.9280 - val_loss: 0.5871 - val_accuracy: 0.8550\n",
      "Epoch 20/50\n",
      "11/11 [==============================] - 3s 260ms/step - loss: 0.2324 - accuracy: 0.9305 - val_loss: 0.6098 - val_accuracy: 0.8589\n",
      "Epoch 21/50\n",
      "11/11 [==============================] - 3s 261ms/step - loss: 0.2153 - accuracy: 0.9357 - val_loss: 0.5755 - val_accuracy: 0.8678\n",
      "Epoch 22/50\n",
      "11/11 [==============================] - 3s 258ms/step - loss: 0.2113 - accuracy: 0.9362 - val_loss: 0.5500 - val_accuracy: 0.8637\n",
      "Epoch 23/50\n",
      "11/11 [==============================] - 3s 266ms/step - loss: 0.1995 - accuracy: 0.9376 - val_loss: 0.6783 - val_accuracy: 0.8753\n",
      "Epoch 24/50\n",
      "11/11 [==============================] - 3s 254ms/step - loss: 0.1949 - accuracy: 0.9401 - val_loss: 0.5203 - val_accuracy: 0.8690\n",
      "Epoch 25/50\n",
      "11/11 [==============================] - 3s 253ms/step - loss: 0.1818 - accuracy: 0.9445 - val_loss: 0.5521 - val_accuracy: 0.8763\n",
      "Epoch 26/50\n",
      "11/11 [==============================] - 3s 250ms/step - loss: 0.1712 - accuracy: 0.9472 - val_loss: 0.5805 - val_accuracy: 0.8715\n",
      "Epoch 27/50\n",
      "11/11 [==============================] - 3s 253ms/step - loss: 0.1784 - accuracy: 0.9440 - val_loss: 0.6329 - val_accuracy: 0.8703\n",
      "Epoch 28/50\n",
      "11/11 [==============================] - 3s 261ms/step - loss: 0.1815 - accuracy: 0.9442 - val_loss: 0.6920 - val_accuracy: 0.8737\n",
      "Epoch 29/50\n",
      "11/11 [==============================] - 3s 252ms/step - loss: 0.1719 - accuracy: 0.9451 - val_loss: 0.6424 - val_accuracy: 0.8652\n",
      "Epoch 30/50\n",
      "11/11 [==============================] - 3s 243ms/step - loss: 0.1547 - accuracy: 0.9534 - val_loss: 0.4422 - val_accuracy: 0.8854\n",
      "Epoch 31/50\n",
      "11/11 [==============================] - 3s 251ms/step - loss: 0.1554 - accuracy: 0.9550 - val_loss: 0.5522 - val_accuracy: 0.8788\n",
      "Epoch 32/50\n",
      "11/11 [==============================] - 3s 250ms/step - loss: 0.1363 - accuracy: 0.9616 - val_loss: 0.5796 - val_accuracy: 0.8753\n",
      "Epoch 33/50\n",
      "11/11 [==============================] - 3s 255ms/step - loss: 0.1304 - accuracy: 0.9652 - val_loss: 0.5450 - val_accuracy: 0.8854\n",
      "Epoch 34/50\n",
      "11/11 [==============================] - 3s 253ms/step - loss: 0.1435 - accuracy: 0.9593 - val_loss: 0.4410 - val_accuracy: 0.8800\n",
      "Epoch 35/50\n",
      "11/11 [==============================] - 3s 252ms/step - loss: 0.1321 - accuracy: 0.9607 - val_loss: 0.5221 - val_accuracy: 0.8665\n",
      "Epoch 36/50\n",
      "11/11 [==============================] - 3s 255ms/step - loss: 0.1331 - accuracy: 0.9611 - val_loss: 0.5622 - val_accuracy: 0.8715\n",
      "Epoch 37/50\n",
      "11/11 [==============================] - 3s 258ms/step - loss: 0.1376 - accuracy: 0.9602 - val_loss: 0.4414 - val_accuracy: 0.8900\n",
      "Epoch 38/50\n",
      "11/11 [==============================] - 3s 251ms/step - loss: 0.1261 - accuracy: 0.9641 - val_loss: 0.5708 - val_accuracy: 0.8841\n",
      "Epoch 39/50\n",
      "11/11 [==============================] - 3s 250ms/step - loss: 0.1249 - accuracy: 0.9643 - val_loss: 0.7028 - val_accuracy: 0.8791\n",
      "Epoch 40/50\n",
      "11/11 [==============================] - 3s 253ms/step - loss: 0.1429 - accuracy: 0.9563 - val_loss: 0.5677 - val_accuracy: 0.8750\n",
      "Epoch 41/50\n",
      "11/11 [==============================] - 3s 255ms/step - loss: 0.1170 - accuracy: 0.9655 - val_loss: 0.6014 - val_accuracy: 0.8892\n",
      "Epoch 42/50\n",
      "11/11 [==============================] - 3s 257ms/step - loss: 0.1103 - accuracy: 0.9691 - val_loss: 0.6877 - val_accuracy: 0.8753\n",
      "Epoch 43/50\n",
      "11/11 [==============================] - 3s 247ms/step - loss: 0.1109 - accuracy: 0.9643 - val_loss: 0.4425 - val_accuracy: 0.8838\n",
      "Epoch 44/50\n",
      "11/11 [==============================] - 3s 258ms/step - loss: 0.0950 - accuracy: 0.9742 - val_loss: 0.5603 - val_accuracy: 0.8804\n",
      "Epoch 45/50\n",
      "11/11 [==============================] - 3s 247ms/step - loss: 0.0986 - accuracy: 0.9714 - val_loss: 0.7260 - val_accuracy: 0.8778\n",
      "Epoch 46/50\n",
      "11/11 [==============================] - 3s 257ms/step - loss: 0.0889 - accuracy: 0.9746 - val_loss: 0.5251 - val_accuracy: 0.8900\n",
      "Epoch 47/50\n",
      "11/11 [==============================] - 3s 249ms/step - loss: 0.0785 - accuracy: 0.9783 - val_loss: 0.5141 - val_accuracy: 0.8791\n",
      "Epoch 48/50\n",
      "11/11 [==============================] - 3s 254ms/step - loss: 0.0832 - accuracy: 0.9758 - val_loss: 0.6828 - val_accuracy: 0.8778\n",
      "Epoch 49/50\n",
      "11/11 [==============================] - 3s 261ms/step - loss: 0.0903 - accuracy: 0.9725 - val_loss: 0.4268 - val_accuracy: 0.8788\n",
      "Epoch 50/50\n",
      "11/11 [==============================] - 3s 251ms/step - loss: 0.0939 - accuracy: 0.9707 - val_loss: 0.5847 - val_accuracy: 0.8741\n",
      "51 50\n",
      "51 50\n"
     ]
    },
    {
     "data": {
      "image/png": "[encoded data removed]",
      "text/plain": [
       "<Figure size 1152x864 with 1 Axes>"
      ]
     },
     "metadata": {
      "needs_background": "light"
     },
     "output_type": "display_data"
    }
   ],
   "source": [
    "from numpy.random import seed\n",
    "seed(1)\n",
    "tensorflow.random.set_seed(2)\n",
    "\n",
    "epochs=50\n",
    "batch_size = 400\n",
    "\n",
    "data_train,data_test= train_test_split(df,stratify=df[\"class\"], test_size=0.2,random_state=42)\n",
    "\n",
    "\n",
    "train_data_generator = ImageDataGenerator(\n",
    "        preprocessing_function = preprocess_input,\n",
    "        # data augmentation\n",
    "        #rotation_range = 10,\n",
    "        #zoom_range = 1.1,\n",
    "        horizontal_flip = False\n",
    "        )\n",
    "\n",
    "test_data_generator = ImageDataGenerator(\n",
    "    preprocessing_function = preprocess_input)\n",
    "\n",
    "\n",
    "\n",
    "\n",
    "train_generator = train_data_generator.flow_from_dataframe(dataframe=data_train,\n",
    "                                                          directory=\"\",\n",
    "                                                           x_col = \"img_paths\",\n",
    "                                                           class_mode =\"sparse\",\n",
    "                                                          target_size = (28 , 28), \n",
    "                                                          batch_size = batch_size)\n",
    "\n",
    "\n",
    "test_generator = test_data_generator.flow_from_dataframe(dataframe=data_test,\n",
    "                                                          directory=\"\",\n",
    "                                                           x_col = \"img_paths\",\n",
    "                                                           class_mode =\"sparse\",\n",
    "                                                          target_size = (28 , 28), \n",
    "                                                          batch_size = batch_size)\n",
    "\n",
    "\n",
    "\n",
    "lenet = Sequential()\n",
    "\n",
    "conv_1 = Conv2D(filters = 30,                     # Nombre de filtres\n",
    "                kernel_size = (5, 5),            # Dimensions du noyau\n",
    "                padding = 'valid',               # Mode de Dépassement\n",
    "                input_shape = (28, 28, 3),       # Dimensions de l'image en entrée\n",
    "                activation = 'relu')             # Fonction d'activation\n",
    "\n",
    "max_pool_1 = MaxPooling2D(pool_size = (2, 2))\n",
    "\n",
    "conv_2 = Conv2D(filters = 16,                    \n",
    "                kernel_size = (3, 3),          \n",
    "                padding = 'valid',             \n",
    "                activation = 'relu')\n",
    "\n",
    "max_pool_2 = MaxPooling2D(pool_size = (2, 2))\n",
    "\n",
    "flatten = Flatten()\n",
    "\n",
    "dropout = Dropout(rate = 0.2)\n",
    "\n",
    "dense_1 = Dense(units = 128,\n",
    "                activation = 'relu')\n",
    "\n",
    "dense_2 = Dense(units = 6,\n",
    "                activation = 'softmax')\n",
    "\n",
    "lenet.add(conv_1)\n",
    "lenet.add(max_pool_1)\n",
    "lenet.add(conv_2)\n",
    "lenet.add(max_pool_2)\n",
    "#lenet.add(dropout)\n",
    "lenet.add(flatten)\n",
    "lenet.add(dense_1)\n",
    "lenet.add(dense_2)\n",
    "\n",
    "# Compilation\n",
    "lenet.compile(loss='sparse_categorical_crossentropy',  # fonction de perte\n",
    "              optimizer='adam',                 # algorithme de descente de gradient\n",
    "              metrics=['accuracy'])             # métrique d'évaluation\n",
    "\n",
    "\n",
    "\n",
    "\n",
    "history=lenet.fit_generator( train_generator,\n",
    "                           steps_per_epoch=len(data_train)//batch_size,\n",
    "                           epochs=epochs,\n",
    "                           workers=-1,\n",
    "                           validation_data=test_generator,\n",
    "                           validation_steps=len(data_test)//batch_size)\n",
    "                          \n",
    "\n",
    "\n",
    "\n",
    "\n",
    "train_acc=[]\n",
    "test_acc=[]\n",
    "train_acc=history.history['accuracy']\n",
    "test_acc=(history.history['val_accuracy'])\n",
    "test_acc.insert(0,0)\n",
    "print( len(test_acc),len(train_acc) )\n",
    "\n",
    "plt.figure(figsize=(16,12))\n",
    "plt.plot(train_acc,label=\"train\");\n",
    "#plt.plot(train_acc,label=\"train\");\n",
    "#plt.labels(\"entrainement\")\n",
    "plt.plot(test_acc,label=\"test\");\n",
    "plt.legend()\n",
    "print(len(test_acc),len(train_acc))"
   ]
  },
  {
   "cell_type": "code",
   "execution_count": null,
   "metadata": {},
   "outputs": [],
   "source": []
  },
  {
   "cell_type": "code",
   "execution_count": null,
   "metadata": {},
   "outputs": [],
   "source": []
  }
 ],
 "metadata": {
  "kernelspec": {
   "display_name": "Python 3",
   "language": "python",
   "name": "python3"
  },
  "language_info": {
   "codemirror_mode": {
    "name": "ipython",
    "version": 3
   },
   "file_extension": ".py",
   "mimetype": "text/x-python",
   "name": "python",
   "nbconvert_exporter": "python",
   "pygments_lexer": "ipython3",
   "version": "3.7.4"
  }
 },
 "nbformat": 4,
 "nbformat_minor": 4
}
