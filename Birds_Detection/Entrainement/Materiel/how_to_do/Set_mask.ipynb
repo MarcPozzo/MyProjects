{
 "cells": [
  {
   "cell_type": "code",
   "execution_count": 2,
   "metadata": {},
   "outputs": [],
   "source": [
    "import os\n",
    "import json\n",
    "import numpy as np\n",
    "import cv2\n",
    "import matplotlib.pyplot as plt"
   ]
  },
  {
   "cell_type": "code",
   "execution_count": 2,
   "metadata": {},
   "outputs": [],
   "source": [
    "/mnt/VegaSlowDataDisk/c3po_interface_mark.bak/Materiels/positions/"
   ]
  },
  {
   "cell_type": "code",
   "execution_count": 9,
   "metadata": {},
   "outputs": [],
   "source": [
    "    #json_file=\"/mnt/VegaSlowDataDisk/c3po_interface/code/positions/reperes.json\"\n",
    "    json_file=\"/mnt/VegaSlowDataDisk/c3po_interface_mark.bak/Materiels/positions/3reperes_GMT_positions.json\"\n",
    "\n",
    "    with open(json_file) as json_file:\n",
    "        data = json.load(json_file)                                                                                                             \n",
    "        mapdata = (data['map'])\n",
    "        mapmarkers = (mapdata['markers'])\n",
    "        shotdata= (data['shot'])\n",
    "        shotmarkers=(shotdata['markers'])"
   ]
  },
  {
   "cell_type": "code",
   "execution_count": 10,
   "metadata": {},
   "outputs": [],
   "source": [
    "nombre_points=len(data[\"shot\"]['markers'])\n",
    "nombre_points\n",
    "X=[]\n",
    "Y=[]\n",
    "Liste=[]\n",
    "\n",
    "for i in range(nombre_points):\n",
    "    Liste_partielle=[]\n",
    "    coord=data[\"shot\"]['markers'][i][\"coord\"]\n",
    "    X.append(coord[\"lat\"])\n",
    "    Y.append(coord[\"lng\"])\n",
    "    Liste_partielle.append(coord[\"lat\"])\n",
    "    Liste_partielle.append(coord[\"lng\"])\n",
    "    Liste.append(Liste_partielle)\n",
    "    "
   ]
  },
  {
   "cell_type": "code",
   "execution_count": 11,
   "metadata": {},
   "outputs": [],
   "source": [
    "sommets=np.array([Liste],np.int32)\n",
    "\n",
    "#im_path=\"/home/utilisateur/Documents/sureté/cmbce-c3po_interface-60b6d29abdbc/bin/image_inputs/image_2019-04-30_18-17-14.jpg\"\n",
    "im_path=\"/mnt/VegaSlowDataDisk/c3po/Images_aquises/DonneesPI/timeLapsePhotos_Pi1_4/image_2019-06-15_08-22-42.jpg\"\n",
    "image=cv2.imread(im_path)\n",
    "\n",
    "img_gray = cv2.imread(im_path, cv2.IMREAD_GRAYSCALE) \n",
    "img_color = cv2.imread(im_path, cv2.IMREAD_COLOR)\n",
    "\n",
    "img_gray.shape\n",
    "mask = np.zeros_like(img_gray)\n",
    "mask = cv2.fillPoly(mask, sommets, color = 1)\n",
    "mask_inv=-(mask-1)\n"
   ]
  },
  {
   "cell_type": "code",
   "execution_count": 12,
   "metadata": {},
   "outputs": [
    {
     "data": {
      "text/plain": [
       "<matplotlib.image.AxesImage at 0x7f82b1670810>"
      ]
     },
     "execution_count": 12,
     "metadata": {},
     "output_type": "execute_result"
    },
    {
     "data": {
      "image/png": "[encoded data removed]",
      "text/plain": [
       "<Figure size 432x288 with 1 Axes>"
      ]
     },
     "metadata": {
      "needs_background": "light"
     },
     "output_type": "display_data"
    }
   ],
   "source": [
    "mask_3D=np.zeros((720,1280,3))\n",
    "mask_3D[:,:,0]=mask\n",
    "mask_3D[:,:,1]=mask\n",
    "mask_3D[:,:,2]=mask/mnt/VegaSlowDataDisk/c3po_interface_mark.bak/Materiels/positions/3reperes_GMT_positions.json\n",
    "\n",
    "\n",
    "mask_3D_inv=np.zeros((720,1280,3))\n",
    "mask_3D_inv[:,:,0]=mask_inv\n",
    "mask_3D_inv[:,:,1]=mask_inv\n",
    "mask_3D_inv[:,:,2]=mask_inv\n",
    "\n",
    "mask_3D=mask_3D.astype(int)\n",
    "plt.imshow(np.multiply(img_color,mask_3D))\n",
    "plt.imshow(img_color*mask_3D)"
   ]
  },
  {
   "cell_type": "code",
   "execution_count": null,
   "metadata": {},
   "outputs": [],
   "source": []
  },
  {
   "cell_type": "code",
   "execution_count": null,
   "metadata": {},
   "outputs": [],
   "source": []
  }
 ],
 "metadata": {
  "kernelspec": {
   "display_name": "Python 3",
   "language": "python",
   "name": "python3"
  },
  "language_info": {
   "codemirror_mode": {
    "name": "ipython",
    "version": 3
   },
   "file_extension": ".py",
   "mimetype": "text/x-python",
   "name": "python",
   "nbconvert_exporter": "python",
   "pygments_lexer": "ipython3",
   "version": "3.7.4"
  }
 },
 "nbformat": 4,
 "nbformat_minor": 4
}
