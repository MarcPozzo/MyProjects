{
 "cells": [
  {
   "cell_type": "code",
   "execution_count": 3,
   "metadata": {},
   "outputs": [
    {
     "name": "stderr",
     "output_type": "stream",
     "text": [
      "Using TensorFlow backend.\n"
     ]
    }
   ],
   "source": [
    "import numpy as np # Pour la manipulation de tableaux\n",
    "from keras.applications import  resnet50\n",
    "from sklearn import metrics \n",
    "import os\n",
    "\n",
    "import pandas as pd # Pour manipuler des DataFrames pandas\n",
    "\n",
    "import matplotlib.pyplot as plt # Pour l'affichage d'images\n",
    "from matplotlib import cm # Pour importer de nouvelles cartes de couleur\n",
    "%matplotlib inline\n",
    "\n",
    "from keras.models import Sequential # Pour construire un réseau de neurones\n",
    "from keras.layers import Dense, Conv2D # Pour instancier une couche dense\n",
    "from keras.utils import np_utils\n",
    "\n",
    "from keras.models import Sequential\n",
    "from keras.layers import Dense, Activation,GlobalAveragePooling2D, MaxPooling2D\n",
    "from keras.layers import Dropout\n",
    "from keras.layers import Flatten\n",
    "from keras.layers.convolutional import Conv2D\n",
    "from keras.models import Model\n",
    "import cv2\n",
    "import keras\n",
    "from numpy.random import seed\n",
    "import tensorflow\n",
    "\n",
    "from keras.preprocessing.image import ImageDataGenerator\n",
    "import itertools # Pour créer des iterateurs\n",
    "\n",
    "from sklearn import linear_model, preprocessing \n",
    "\n",
    "\n",
    "\n",
    "%matplotlib inline\n",
    "import numpy as np\n",
    "\n",
    "import matplotlib.pyplot as plt\n",
    "import time, cv2\n",
    "import seaborn as sns\n",
    "\n",
    "import pandas as pd\n",
    "from sklearn.model_selection import train_test_split\n",
    "\n",
    "from keras.layers import Dense, Dropout, Flatten, GlobalAveragePooling2D\n",
    "from keras.optimizers import Adam\n",
    "from keras.models import Model, Sequential\n",
    "from keras.preprocessing.image import ImageDataGenerator\n",
    "import keras\n",
    "from keras import backend as K\n",
    "from keras.preprocessing.image import img_to_array\n",
    "from keras.preprocessing.image import load_img\n",
    "from keras.applications.vgg16 import preprocess_input"
   ]
  },
  {
   "cell_type": "code",
   "execution_count": 5,
   "metadata": {},
   "outputs": [],
   "source": [
    "#Paramètres\n",
    "base_img_paths=\"/home/marcpozzo/Desktop/c3po/Images_aquises/\"\n",
    "generateur_path='/mnt/VegaSlowDataDisk/c3po/Chaine_de_traitement/Train_imagettes_annotées/type_oiseau/Materiel/generateur.csv'\n",
    "test_size=0.2\n",
    "epochs=200\n",
    "batch_size = 600\n",
    "class_mode=\"sparse\"\n",
    "zoom_range = 1.1\n",
    "horizontal_flip = False\n",
    "Minimum_Number_Class=100\n",
    "dropout_rate=0\n",
    "\n",
    "#steps_per_epoch=1\n",
    "\n",
    "#validation_steps=1"
   ]
  },
  {
   "cell_type": "code",
   "execution_count": 6,
   "metadata": {},
   "outputs": [
    {
     "name": "stdout",
     "output_type": "stream",
     "text": [
      "labels       0\n",
      "class        0\n",
      "img_paths    0\n",
      "dtype: int64\n",
      "incertain 216\n",
      "ground 2975\n",
      "corneille 1044\n",
      "pigeon 828\n",
      "pie 1\n",
      "chat 2\n",
      "Abeille 1\n",
      "chevreuil 136\n",
      "Corneille 4\n",
      "Lapin 1\n",
      "lapin 176\n",
      "dirt 99\n",
      "crow 25\n",
      "leaf 12\n",
      "shadow 9\n",
      "faisan 335\n",
      "oiseau 2\n",
      "sanglier 4\n",
      "rock 14\n",
      "other 2\n",
      "plastic 1\n",
      "flying crow 1\n",
      "autre 18\n",
      "ciel 3\n",
      "ombre 4\n",
      "cheval 27\n",
      "voiture 133\n",
      "avion 6\n",
      "tracteur 141\n"
     ]
    }
   ],
   "source": [
    "#df=pd.read_csv(\"/home/marcpozzo/Desktop/c3po/Images_aquises/generateur.csv\")\n",
    "df=pd.read_csv(generateur_path)\n",
    "print(pd.isnull(df).sum())\n",
    "#df.drop('labels',inplace=True,axis=1)\n",
    "for i in df[\"labels\"].unique():\n",
    "    print(i,len(df[\"labels\"][df[\"labels\"]==i]))"
   ]
  },
  {
   "cell_type": "code",
   "execution_count": 7,
   "metadata": {},
   "outputs": [
    {
     "data": {
      "text/plain": [
       "array(['incertain', 'ground', 'corneille', 'pigeon', 'pie', 'chevreuil',\n",
       "       'Corneille', 'Lapin', 'lapin', 'dirt', 'crow', 'faisan', 'oiseau',\n",
       "       'flying crow', 'voiture', 'tracteur'], dtype=object)"
      ]
     },
     "execution_count": 7,
     "metadata": {},
     "output_type": "execute_result"
    }
   ],
   "source": [
    "Non_utilisable=['Abeille',\n",
    "                'chat','leaf','shadow','sanglier', 'rock','other', 'plastic','autre', 'ciel', 'ombre','cheval','avion']\n",
    "\n",
    "for i in Non_utilisable:\n",
    "    df=df[df[\"labels\"]!=i]\n",
    "df[\"labels\"].unique()"
   ]
  },
  {
   "cell_type": "code",
   "execution_count": 10,
   "metadata": {},
   "outputs": [
    {
     "data": {
      "text/html": [
       "<div>\n",
       "<style scoped>\n",
       "    .dataframe tbody tr th:only-of-type {\n",
       "        vertical-align: middle;\n",
       "    }\n",
       "\n",
       "    .dataframe tbody tr th {\n",
       "        vertical-align: top;\n",
       "    }\n",
       "\n",
       "    .dataframe thead th {\n",
       "        text-align: right;\n",
       "    }\n",
       "</style>\n",
       "<table border=\"1\" class=\"dataframe\">\n",
       "  <thead>\n",
       "    <tr style=\"text-align: right;\">\n",
       "      <th></th>\n",
       "      <th>labels</th>\n",
       "      <th>class</th>\n",
       "      <th>img_paths</th>\n",
       "    </tr>\n",
       "  </thead>\n",
       "  <tbody>\n",
       "    <tr>\n",
       "      <td>0</td>\n",
       "      <td>incertain</td>\n",
       "      <td>oiseau</td>\n",
       "      <td>Rec_images/DSCF0029_incertain_0.JPG</td>\n",
       "    </tr>\n",
       "    <tr>\n",
       "      <td>1</td>\n",
       "      <td>ground</td>\n",
       "      <td>autre</td>\n",
       "      <td>Rec_images/DSCF0029_ground_1.JPG</td>\n",
       "    </tr>\n",
       "    <tr>\n",
       "      <td>2</td>\n",
       "      <td>corneille</td>\n",
       "      <td>corneille</td>\n",
       "      <td>Rec_images/DSCF0180_corneille_2.JPG</td>\n",
       "    </tr>\n",
       "    <tr>\n",
       "      <td>3</td>\n",
       "      <td>corneille</td>\n",
       "      <td>corneille</td>\n",
       "      <td>Rec_images/DSCF0180_corneille_3.JPG</td>\n",
       "    </tr>\n",
       "    <tr>\n",
       "      <td>4</td>\n",
       "      <td>pigeon</td>\n",
       "      <td>pigeon</td>\n",
       "      <td>Rec_images/DSCF0258_pigeon_4.JPG</td>\n",
       "    </tr>\n",
       "  </tbody>\n",
       "</table>\n",
       "</div>"
      ],
      "text/plain": [
       "      labels      class                            img_paths\n",
       "0  incertain     oiseau  Rec_images/DSCF0029_incertain_0.JPG\n",
       "1     ground      autre     Rec_images/DSCF0029_ground_1.JPG\n",
       "2  corneille  corneille  Rec_images/DSCF0180_corneille_2.JPG\n",
       "3  corneille  corneille  Rec_images/DSCF0180_corneille_3.JPG\n",
       "4     pigeon     pigeon     Rec_images/DSCF0258_pigeon_4.JPG"
      ]
     },
     "execution_count": 10,
     "metadata": {},
     "output_type": "execute_result"
    }
   ],
   "source": [
    "df.head()"
   ]
  },
  {
   "cell_type": "code",
   "execution_count": 11,
   "metadata": {},
   "outputs": [
    {
     "name": "stdout",
     "output_type": "stream",
     "text": [
      "9\n"
     ]
    },
    {
     "data": {
      "text/html": [
       "<div>\n",
       "<style scoped>\n",
       "    .dataframe tbody tr th:only-of-type {\n",
       "        vertical-align: middle;\n",
       "    }\n",
       "\n",
       "    .dataframe tbody tr th {\n",
       "        vertical-align: top;\n",
       "    }\n",
       "\n",
       "    .dataframe thead th {\n",
       "        text-align: right;\n",
       "    }\n",
       "</style>\n",
       "<table border=\"1\" class=\"dataframe\">\n",
       "  <thead>\n",
       "    <tr style=\"text-align: right;\">\n",
       "      <th></th>\n",
       "      <th>labels</th>\n",
       "      <th>class</th>\n",
       "      <th>img_paths</th>\n",
       "    </tr>\n",
       "  </thead>\n",
       "  <tbody>\n",
       "    <tr>\n",
       "      <td>0</td>\n",
       "      <td>incertain</td>\n",
       "      <td>oiseau</td>\n",
       "      <td>Rec_images/DSCF0029_incertain_0.JPG</td>\n",
       "    </tr>\n",
       "    <tr>\n",
       "      <td>1</td>\n",
       "      <td>ground</td>\n",
       "      <td>autre</td>\n",
       "      <td>Rec_images/DSCF0029_ground_1.JPG</td>\n",
       "    </tr>\n",
       "    <tr>\n",
       "      <td>2</td>\n",
       "      <td>corneille</td>\n",
       "      <td>corneille</td>\n",
       "      <td>Rec_images/DSCF0180_corneille_2.JPG</td>\n",
       "    </tr>\n",
       "    <tr>\n",
       "      <td>3</td>\n",
       "      <td>corneille</td>\n",
       "      <td>corneille</td>\n",
       "      <td>Rec_images/DSCF0180_corneille_3.JPG</td>\n",
       "    </tr>\n",
       "    <tr>\n",
       "      <td>4</td>\n",
       "      <td>pigeon</td>\n",
       "      <td>pigeon</td>\n",
       "      <td>Rec_images/DSCF0258_pigeon_4.JPG</td>\n",
       "    </tr>\n",
       "    <tr>\n",
       "      <td>...</td>\n",
       "      <td>...</td>\n",
       "      <td>...</td>\n",
       "      <td>...</td>\n",
       "    </tr>\n",
       "    <tr>\n",
       "      <td>6215</td>\n",
       "      <td>ground</td>\n",
       "      <td>autre</td>\n",
       "      <td>Rec_images/image_2019-04-30_18-55-20_ground_62...</td>\n",
       "    </tr>\n",
       "    <tr>\n",
       "      <td>6216</td>\n",
       "      <td>pigeon</td>\n",
       "      <td>pigeon</td>\n",
       "      <td>Rec_images/image_2019-04-30_18-55-20_pigeon_62...</td>\n",
       "    </tr>\n",
       "    <tr>\n",
       "      <td>6217</td>\n",
       "      <td>ground</td>\n",
       "      <td>autre</td>\n",
       "      <td>Rec_images/image_2019-04-30_18-55-20_ground_62...</td>\n",
       "    </tr>\n",
       "    <tr>\n",
       "      <td>6218</td>\n",
       "      <td>pigeon</td>\n",
       "      <td>pigeon</td>\n",
       "      <td>Rec_images/image_2019-04-30_18-55-20_pigeon_62...</td>\n",
       "    </tr>\n",
       "    <tr>\n",
       "      <td>6219</td>\n",
       "      <td>ground</td>\n",
       "      <td>autre</td>\n",
       "      <td>Rec_images/image_2019-04-30_18-55-20_ground_62...</td>\n",
       "    </tr>\n",
       "  </tbody>\n",
       "</table>\n",
       "<p>6117 rows × 3 columns</p>\n",
       "</div>"
      ],
      "text/plain": [
       "         labels      class                                          img_paths\n",
       "0     incertain     oiseau                Rec_images/DSCF0029_incertain_0.JPG\n",
       "1        ground      autre                   Rec_images/DSCF0029_ground_1.JPG\n",
       "2     corneille  corneille                Rec_images/DSCF0180_corneille_2.JPG\n",
       "3     corneille  corneille                Rec_images/DSCF0180_corneille_3.JPG\n",
       "4        pigeon     pigeon                   Rec_images/DSCF0258_pigeon_4.JPG\n",
       "...         ...        ...                                                ...\n",
       "6215     ground      autre  Rec_images/image_2019-04-30_18-55-20_ground_62...\n",
       "6216     pigeon     pigeon  Rec_images/image_2019-04-30_18-55-20_pigeon_62...\n",
       "6217     ground      autre  Rec_images/image_2019-04-30_18-55-20_ground_62...\n",
       "6218     pigeon     pigeon  Rec_images/image_2019-04-30_18-55-20_pigeon_62...\n",
       "6219     ground      autre  Rec_images/image_2019-04-30_18-55-20_ground_62...\n",
       "\n",
       "[6117 rows x 3 columns]"
      ]
     },
     "execution_count": 11,
     "metadata": {},
     "output_type": "execute_result"
    }
   ],
   "source": [
    "df[\"class\"]=df[\"class\"].replace(\"pie\",\"oiseau\")\n",
    "df[\"class\"][df[\"labels\"]==\"voiture\"]=\"voiture\"\n",
    "df[\"class\"][df[\"labels\"]==\"tracteur\"]=\"tracteur\"\n",
    "print(len(df[\"class\"].unique()))\n",
    "df"
   ]
  },
  {
   "cell_type": "code",
   "execution_count": 12,
   "metadata": {},
   "outputs": [
    {
     "data": {
      "text/plain": [
       "array(['incertain', 'ground', 'corneille', 'pigeon', 'pie', 'chevreuil',\n",
       "       'Corneille', 'Lapin', 'lapin', 'dirt', 'crow', 'faisan', 'oiseau',\n",
       "       'flying crow', 'voiture', 'tracteur'], dtype=object)"
      ]
     },
     "execution_count": 12,
     "metadata": {},
     "output_type": "execute_result"
    }
   ],
   "source": [
    "df[\"class\"].unique()\n",
    "to_change=['chat','abeille','sanglier','cheval']\n",
    "df[\"class\"]=df[\"class\"].replace(to_change,\"autre_animaux\")\n",
    "len(df[df[\"class\"]==\"autre_animaux\"])\n",
    "df1=df[df[\"class\"]!=\"autre_animaux\"]\n",
    "df1[\"labels\"].unique()"
   ]
  },
  {
   "cell_type": "code",
   "execution_count": 13,
   "metadata": {},
   "outputs": [
    {
     "name": "stdout",
     "output_type": "stream",
     "text": [
      "labels: 16\n",
      "class: 9\n",
      "img_paths: 6117\n"
     ]
    },
    {
     "data": {
      "text/plain": [
       "array(['incertain', 'ground', 'corneille', 'pigeon', 'pie', 'chevreuil',\n",
       "       'Corneille', 'Lapin', 'lapin', 'dirt', 'crow', 'faisan', 'oiseau',\n",
       "       'flying crow', 'voiture', 'tracteur'], dtype=object)"
      ]
     },
     "execution_count": 13,
     "metadata": {},
     "output_type": "execute_result"
    }
   ],
   "source": [
    "df[\"class\"].unique()\n",
    "for c in df:\n",
    "    print(''+c+':',len(df[c].unique()))\n",
    "df[\"labels\"].unique()"
   ]
  },
  {
   "cell_type": "code",
   "execution_count": 14,
   "metadata": {},
   "outputs": [
    {
     "name": "stdout",
     "output_type": "stream",
     "text": [
      "incertain 216\n",
      "ground 2975\n",
      "corneille 1044\n",
      "pigeon 828\n",
      "chevreuil 136\n",
      "lapin 176\n",
      "faisan 335\n",
      "voiture 133\n",
      "tracteur 141\n"
     ]
    }
   ],
   "source": [
    "All_Unique=df[\"labels\"].unique()\n",
    "Utilisable=[]\n",
    "for i in df[\"labels\"].unique():\n",
    "    if df[\"labels\"][df[\"labels\"]==i].count()>Minimum_Number_Class:\n",
    "        Utilisable.append(i)\n",
    "Utilisable\n",
    "Non_Utilisable=set(All_Unique)-set(Utilisable)\n",
    "Non_Utilisable\n",
    "for i in Non_Utilisable:\n",
    "    df=df[df[\"labels\"]!=i]\n",
    "#df=df[df[\"class\"]!=\"oiseau\"]  \n",
    "df[\"labels\"].unique()\n",
    "for i in df[\"labels\"].unique():\n",
    "    print(i,len(df[\"labels\"][df[\"labels\"]==i]))"
   ]
  },
  {
   "cell_type": "code",
   "execution_count": 15,
   "metadata": {},
   "outputs": [
    {
     "data": {
      "text/html": [
       "<div>\n",
       "<style scoped>\n",
       "    .dataframe tbody tr th:only-of-type {\n",
       "        vertical-align: middle;\n",
       "    }\n",
       "\n",
       "    .dataframe tbody tr th {\n",
       "        vertical-align: top;\n",
       "    }\n",
       "\n",
       "    .dataframe thead th {\n",
       "        text-align: right;\n",
       "    }\n",
       "</style>\n",
       "<table border=\"1\" class=\"dataframe\">\n",
       "  <thead>\n",
       "    <tr style=\"text-align: right;\">\n",
       "      <th></th>\n",
       "      <th>labels</th>\n",
       "      <th>class</th>\n",
       "      <th>img_paths</th>\n",
       "    </tr>\n",
       "  </thead>\n",
       "  <tbody>\n",
       "    <tr>\n",
       "      <td>0</td>\n",
       "      <td>incertain</td>\n",
       "      <td>oiseau</td>\n",
       "      <td>/home/marcpozzo/Desktop/c3po/Images_aquises/Re...</td>\n",
       "    </tr>\n",
       "    <tr>\n",
       "      <td>1</td>\n",
       "      <td>ground</td>\n",
       "      <td>autre</td>\n",
       "      <td>/home/marcpozzo/Desktop/c3po/Images_aquises/Re...</td>\n",
       "    </tr>\n",
       "    <tr>\n",
       "      <td>2</td>\n",
       "      <td>corneille</td>\n",
       "      <td>corneille</td>\n",
       "      <td>/home/marcpozzo/Desktop/c3po/Images_aquises/Re...</td>\n",
       "    </tr>\n",
       "    <tr>\n",
       "      <td>3</td>\n",
       "      <td>corneille</td>\n",
       "      <td>corneille</td>\n",
       "      <td>/home/marcpozzo/Desktop/c3po/Images_aquises/Re...</td>\n",
       "    </tr>\n",
       "    <tr>\n",
       "      <td>4</td>\n",
       "      <td>pigeon</td>\n",
       "      <td>pigeon</td>\n",
       "      <td>/home/marcpozzo/Desktop/c3po/Images_aquises/Re...</td>\n",
       "    </tr>\n",
       "  </tbody>\n",
       "</table>\n",
       "</div>"
      ],
      "text/plain": [
       "      labels      class                                          img_paths\n",
       "0  incertain     oiseau  /home/marcpozzo/Desktop/c3po/Images_aquises/Re...\n",
       "1     ground      autre  /home/marcpozzo/Desktop/c3po/Images_aquises/Re...\n",
       "2  corneille  corneille  /home/marcpozzo/Desktop/c3po/Images_aquises/Re...\n",
       "3  corneille  corneille  /home/marcpozzo/Desktop/c3po/Images_aquises/Re...\n",
       "4     pigeon     pigeon  /home/marcpozzo/Desktop/c3po/Images_aquises/Re..."
      ]
     },
     "execution_count": 15,
     "metadata": {},
     "output_type": "execute_result"
    }
   ],
   "source": [
    "\n",
    "for i in range(len(df[\"class\"])):\n",
    "    image_name=df[\"img_paths\"].iloc[i]\n",
    "    df[\"img_paths\"].iloc[i]=os.path.join(base_img_paths,image_name)\n",
    "    \n",
    "df.head()"
   ]
  },
  {
   "cell_type": "code",
   "execution_count": null,
   "metadata": {},
   "outputs": [],
   "source": []
  },
  {
   "cell_type": "code",
   "execution_count": 16,
   "metadata": {},
   "outputs": [],
   "source": [
    "#df[\"labels\"][df[\"class\"]==\"autre\"].unique()\n",
    "data_train,data_test= train_test_split(df,stratify=df[\"class\"], test_size=test_size,random_state=42)\n"
   ]
  },
  {
   "cell_type": "code",
   "execution_count": 17,
   "metadata": {},
   "outputs": [
    {
     "name": "stdout",
     "output_type": "stream",
     "text": [
      "Found 4787 validated image filenames belonging to 9 classes.\n",
      "Found 1197 validated image filenames belonging to 9 classes.\n",
      "Epoch 1/2\n",
      "7/7 [==============================] - 64s 9s/step - loss: 8.7384 - accuracy: 0.3021 - val_loss: 2.9645 - val_accuracy: 0.2817\n",
      "Epoch 2/2\n",
      "7/7 [==============================] - 19s 3s/step - loss: 2.6999 - accuracy: 0.3294 - val_loss: 2.2535 - val_accuracy: 0.4573\n"
     ]
    }
   ],
   "source": [
    "validation_steps=len(data_test)//batch_size\n",
    "steps_per_epoch=len(data_train)//batch_size\n",
    "\n",
    "epochs=2\n",
    "seed(1)\n",
    "tensorflow.random.set_seed(2)\n",
    "class_mode=\"sparse\"\n",
    "\n",
    "data_train,data_test= train_test_split(df,stratify=df[\"class\"], test_size=test_size,random_state=42)\n",
    "train_data_generator = ImageDataGenerator(\n",
    "        preprocessing_function = preprocess_input,\n",
    "        # data augmentation\n",
    "        #rotation_range = 10,\n",
    "        zoom_range = zoom_range,\n",
    "        horizontal_flip = horizontal_flip\n",
    "        )\n",
    "\n",
    "test_data_generator = ImageDataGenerator(\n",
    "    preprocessing_function = preprocess_input)\n",
    "\n",
    "\n",
    "\n",
    "\n",
    "train_generator = train_data_generator.flow_from_dataframe(dataframe=data_train,\n",
    "                                                          directory=\"\",\n",
    "                                                           x_col = \"img_paths\",\n",
    "                                                           class_mode =class_mode,\n",
    "                                                          target_size = (28 , 28), \n",
    "                                                          batch_size = batch_size)\n",
    "\n",
    "\n",
    "test_generator = test_data_generator.flow_from_dataframe(dataframe=data_test,\n",
    "                                                          directory=\"\",\n",
    "                                                           x_col = \"img_paths\",\n",
    "                                                           class_mode =class_mode,\n",
    "                                                          target_size = (28 , 28), \n",
    "                                                          batch_size = batch_size)\n",
    "\n",
    "\n",
    "\n",
    "lenet = Sequential()\n",
    "\n",
    "conv_1 = Conv2D(filters = 30,                     # Nombre de filtres\n",
    "                kernel_size = (5, 5),            # Dimensions du noyau\n",
    "                padding = 'valid',               # Mode de Dépassement\n",
    "                input_shape = (28, 28, 3),       # Dimensions de l'image en entrée\n",
    "                activation = 'relu')             # Fonction d'activation\n",
    "\n",
    "max_pool_1 = MaxPooling2D(pool_size = (2, 2))\n",
    "\n",
    "conv_2 = Conv2D(filters = 16,                    \n",
    "                kernel_size = (3, 3),          \n",
    "                padding = 'valid',             \n",
    "                activation = 'relu')\n",
    "\n",
    "max_pool_2 = MaxPooling2D(pool_size = (2, 2))\n",
    "\n",
    "flatten = Flatten()\n",
    "\n",
    "dropout = Dropout(rate = dropout_rate)\n",
    "\n",
    "dense_1 = Dense(units = 128,\n",
    "                activation = 'relu')\n",
    "\n",
    "dense_2 = Dense(units = 9,\n",
    "                activation = 'softmax')\n",
    "\n",
    "lenet.add(conv_1)\n",
    "lenet.add(max_pool_1)\n",
    "lenet.add(conv_2)\n",
    "lenet.add(max_pool_2)\n",
    "lenet.add(dropout)\n",
    "lenet.add(flatten)\n",
    "lenet.add(dense_1)\n",
    "lenet.add(dense_2)\n",
    "\n",
    "# Compilation\n",
    "lenet.compile(loss='sparse_categorical_crossentropy',  # fonction de perte\n",
    "              optimizer='adam',                 # algorithme de descente de gradient\n",
    "              metrics=['accuracy'])             # métrique d'évaluation\n",
    "\n",
    "\n",
    "\n",
    "\n",
    "history=lenet.fit_generator( train_generator,\n",
    "                           steps_per_epoch=len(data_train)//batch_size,\n",
    "                           epochs=epochs,\n",
    "                           workers=-1,\n",
    "                           validation_data=test_generator,\n",
    "                           validation_steps=len(data_test)//batch_size)\n",
    "                          "
   ]
  },
  {
   "cell_type": "code",
   "execution_count": 31,
   "metadata": {},
   "outputs": [],
   "source": [
    "def convert_image(X):\n",
    "    X_img=[]\n",
    "    for image in X:\n",
    "        # Load image\n",
    "        img=cv2.imread(image)\n",
    "        # Resize image\n",
    "        img=cv2.resize(img,(28,28))\n",
    "        # for the black and white image\n",
    "        if img.shape==(28, 28):\n",
    "            img=img.reshape([28,28,1])\n",
    "            img=np.concatenate([img,img,img],axis=2)\n",
    "        # cv2 load the image BGR sequence color (not RGB)\n",
    "        X_img.append(img[...,::-1])\n",
    "    return np.array(X_img)\n",
    "\n",
    "# Load the images train\n",
    "X_train_img = convert_image(data_train.img_paths)\n",
    "Y_train = data_train['class']\n",
    "\n",
    "# Load the images test\n",
    "X_test_img = convert_image(data_test.img_paths)\n",
    "Y_test = data_test['class']"
   ]
  },
  {
   "cell_type": "code",
   "execution_count": 108,
   "metadata": {},
   "outputs": [],
   "source": [
    "prediction_train=lenet.predict_classes(X_train_img)\n",
    "prediction_test=lenet.predict_classes(X_test_img)"
   ]
  },
  {
   "cell_type": "code",
   "execution_count": 74,
   "metadata": {},
   "outputs": [
    {
     "data": {
      "text/plain": [
       "{'autre': 0,\n",
       " 'chevreuil': 1,\n",
       " 'corneille': 2,\n",
       " 'faisan': 3,\n",
       " 'lapin': 4,\n",
       " 'oiseau': 5,\n",
       " 'pigeon': 6,\n",
       " 'tracteur': 7,\n",
       " 'voiture': 8}"
      ]
     },
     "execution_count": 74,
     "metadata": {},
     "output_type": "execute_result"
    }
   ],
   "source": [
    "dictionnaire=train_generator.class_indices\n",
    "dictionnaire"
   ]
  },
  {
   "cell_type": "code",
   "execution_count": 139,
   "metadata": {},
   "outputs": [
    {
     "data": {
      "text/plain": [
       "{0: 'autre',\n",
       " 1: 'chevreuil',\n",
       " 2: 'corneille',\n",
       " 3: 'faisan',\n",
       " 4: 'lapin',\n",
       " 5: 'oiseau',\n",
       " 6: 'pigeon',\n",
       " 7: 'tracteur',\n",
       " 8: 'voiture'}"
      ]
     },
     "execution_count": 139,
     "metadata": {},
     "output_type": "execute_result"
    }
   ],
   "source": [
    "dictionnaire_inv = {v: k for k, v in dictionnaire.items()}\n",
    "dictionnaire_inv"
   ]
  },
  {
   "cell_type": "code",
   "execution_count": 182,
   "metadata": {},
   "outputs": [],
   "source": [
    "arr=range(0,9)\n",
    "df=pd.DataFrame({\"int_cat\": arr})\n",
    "df[\"str_cat\"]=\"None\"\n",
    "for i in range(9):\n",
    "    df[\"str_cat\"].iloc[i]=dictionnaire_inv[df[\"int_cat\"].iloc[i]]\n",
    "df.to_csv(\"conversion_cat_generator.csv\",index=False)"
   ]
  },
  {
   "cell_type": "code",
   "execution_count": 184,
   "metadata": {},
   "outputs": [
    {
     "data": {
      "text/html": [
       "<div>\n",
       "<style scoped>\n",
       "    .dataframe tbody tr th:only-of-type {\n",
       "        vertical-align: middle;\n",
       "    }\n",
       "\n",
       "    .dataframe tbody tr th {\n",
       "        vertical-align: top;\n",
       "    }\n",
       "\n",
       "    .dataframe thead th {\n",
       "        text-align: right;\n",
       "    }\n",
       "</style>\n",
       "<table border=\"1\" class=\"dataframe\">\n",
       "  <thead>\n",
       "    <tr style=\"text-align: right;\">\n",
       "      <th></th>\n",
       "      <th>int_cat</th>\n",
       "      <th>str_cat</th>\n",
       "    </tr>\n",
       "  </thead>\n",
       "  <tbody>\n",
       "    <tr>\n",
       "      <td>0</td>\n",
       "      <td>0</td>\n",
       "      <td>autre</td>\n",
       "    </tr>\n",
       "    <tr>\n",
       "      <td>1</td>\n",
       "      <td>1</td>\n",
       "      <td>chevreuil</td>\n",
       "    </tr>\n",
       "    <tr>\n",
       "      <td>2</td>\n",
       "      <td>2</td>\n",
       "      <td>corneille</td>\n",
       "    </tr>\n",
       "    <tr>\n",
       "      <td>3</td>\n",
       "      <td>3</td>\n",
       "      <td>faisan</td>\n",
       "    </tr>\n",
       "    <tr>\n",
       "      <td>4</td>\n",
       "      <td>4</td>\n",
       "      <td>lapin</td>\n",
       "    </tr>\n",
       "    <tr>\n",
       "      <td>5</td>\n",
       "      <td>5</td>\n",
       "      <td>oiseau</td>\n",
       "    </tr>\n",
       "    <tr>\n",
       "      <td>6</td>\n",
       "      <td>6</td>\n",
       "      <td>pigeon</td>\n",
       "    </tr>\n",
       "    <tr>\n",
       "      <td>7</td>\n",
       "      <td>7</td>\n",
       "      <td>tracteur</td>\n",
       "    </tr>\n",
       "    <tr>\n",
       "      <td>8</td>\n",
       "      <td>8</td>\n",
       "      <td>voiture</td>\n",
       "    </tr>\n",
       "  </tbody>\n",
       "</table>\n",
       "</div>"
      ],
      "text/plain": [
       "   int_cat    str_cat\n",
       "0        0      autre\n",
       "1        1  chevreuil\n",
       "2        2  corneille\n",
       "3        3     faisan\n",
       "4        4      lapin\n",
       "5        5     oiseau\n",
       "6        6     pigeon\n",
       "7        7   tracteur\n",
       "8        8    voiture"
      ]
     },
     "execution_count": 184,
     "metadata": {},
     "output_type": "execute_result"
    }
   ],
   "source": [
    "a=pd.read_csv(\"conversion_cat_generator.csv\")"
   ]
  },
  {
   "cell_type": "code",
   "execution_count": 145,
   "metadata": {},
   "outputs": [],
   "source": [
    "Keys=[]\n",
    "Values=[]\n",
    "\n",
    "for i in range(len(prediction_train)):\n",
    "    Keys.append(prediction_train[i])\n",
    "    Values.append(dictionnaire_inv[prediction_train[i]])"
   ]
  },
  {
   "cell_type": "code",
   "execution_count": null,
   "metadata": {},
   "outputs": [],
   "source": []
  },
  {
   "cell_type": "code",
   "execution_count": 158,
   "metadata": {},
   "outputs": [
    {
     "name": "stdout",
     "output_type": "stream",
     "text": [
      "              precision    recall  f1-score   support\n",
      "\n",
      "       autre       0.62      0.88      0.73      2380\n",
      "   chevreuil       0.00      0.00      0.00       109\n",
      "   corneille       0.42      0.02      0.04       835\n",
      "      faisan       0.04      0.00      0.01       268\n",
      "       lapin       0.00      0.00      0.00       141\n",
      "      oiseau       0.06      0.37      0.10       173\n",
      "      pigeon       0.01      0.00      0.00       662\n",
      "    tracteur       0.00      0.00      0.00       113\n",
      "     voiture       0.00      0.00      0.00       106\n",
      "\n",
      "    accuracy                           0.46      4787\n",
      "   macro avg       0.13      0.14      0.10      4787\n",
      "weighted avg       0.39      0.46      0.37      4787\n",
      "\n"
     ]
    }
   ],
   "source": [
    "print(metrics.classification_report(Y_train, Values))"
   ]
  },
  {
   "cell_type": "code",
   "execution_count": null,
   "metadata": {},
   "outputs": [],
   "source": []
  },
  {
   "cell_type": "code",
   "execution_count": 161,
   "metadata": {},
   "outputs": [
    {
     "name": "stderr",
     "output_type": "stream",
     "text": [
      "/home/marcpozzo/anaconda3/lib/python3.7/site-packages/ipykernel_launcher.py:2: UserWarning: Update your `Model` call to the Keras 2 API: `Model(inputs=Tensor(\"co..., outputs=Tensor(\"de...)`\n",
      "  \n"
     ]
    },
    {
     "name": "stdout",
     "output_type": "stream",
     "text": [
      "              precision    recall  f1-score   support\n",
      "\n",
      "       autre       0.98      0.96      0.97      2380\n",
      "   chevreuil       0.98      0.98      0.98       109\n",
      "   corneille       0.91      0.96      0.93       835\n",
      "      faisan       0.96      0.96      0.96       268\n",
      "       lapin       0.84      0.90      0.87       141\n",
      "      oiseau       0.84      0.69      0.76       173\n",
      "      pigeon       0.93      0.97      0.95       662\n",
      "    tracteur       0.96      0.99      0.97       113\n",
      "     voiture       1.00      0.99      1.00       106\n",
      "\n",
      "    accuracy                           0.95      4787\n",
      "   macro avg       0.93      0.93      0.93      4787\n",
      "weighted avg       0.95      0.95      0.95      4787\n",
      "\n"
     ]
    }
   ],
   "source": [
    "#Avec argmax ....\n",
    "intermediate_layer_model = Model(input=lenet.input, output=lenet.layers[-1].output)\n",
    "\n",
    "X_train_features = intermediate_layer_model.predict(preprocess_input(X_train_img))\n",
    "arg_predict=X_train_features.argmax(axis=1)\n",
    "\n",
    "Values=[]\n",
    "\n",
    "for i in range(len(arg_predict)) :\n",
    "    Keys.append(arg_predict[i])\n",
    "    Values.append(dictionnaire_inv[arg_predict[i]])\n",
    "\n",
    "print(metrics.classification_report(Y_train, Values))"
   ]
  },
  {
   "cell_type": "code",
   "execution_count": null,
   "metadata": {},
   "outputs": [],
   "source": []
  },
  {
   "cell_type": "code",
   "execution_count": null,
   "metadata": {},
   "outputs": [],
   "source": []
  },
  {
   "cell_type": "code",
   "execution_count": 162,
   "metadata": {},
   "outputs": [
    {
     "name": "stdout",
     "output_type": "stream",
     "text": [
      "              precision    recall  f1-score   support\n",
      "\n",
      "       autre       0.95      0.96      0.95       595\n",
      "   chevreuil       0.89      0.89      0.89        27\n",
      "   corneille       0.85      0.89      0.87       209\n",
      "      faisan       0.84      0.78      0.81        67\n",
      "       lapin       0.62      0.66      0.64        35\n",
      "      oiseau       0.42      0.33      0.37        43\n",
      "      pigeon       0.91      0.89      0.90       166\n",
      "    tracteur       0.90      0.93      0.91        28\n",
      "     voiture       1.00      1.00      1.00        27\n",
      "\n",
      "    accuracy                           0.89      1197\n",
      "   macro avg       0.82      0.81      0.82      1197\n",
      "weighted avg       0.89      0.89      0.89      1197\n",
      "\n"
     ]
    },
    {
     "name": "stderr",
     "output_type": "stream",
     "text": [
      "/home/marcpozzo/anaconda3/lib/python3.7/site-packages/ipykernel_launcher.py:2: UserWarning: Update your `Model` call to the Keras 2 API: `Model(inputs=Tensor(\"co..., outputs=Tensor(\"de...)`\n",
      "  \n"
     ]
    }
   ],
   "source": [
    "#Avec argmax ....\n",
    "intermediate_layer_model = Model(input=lenet.input, output=lenet.layers[-1].output)\n",
    "\n",
    "X_test_features = intermediate_layer_model.predict(preprocess_input(X_test_img))\n",
    "arg_predict=X_test_features.argmax(axis=1)\n",
    "\n",
    "Values=[]\n",
    "\n",
    "for i in range(len(arg_predict)) :\n",
    "    Keys.append(arg_predict[i])\n",
    "    Values.append(dictionnaire_inv[arg_predict[i]])\n",
    "\n",
    "print(metrics.classification_report(Y_test, Values))"
   ]
  }
 ],
 "metadata": {
  "kernelspec": {
   "display_name": "Python 3",
   "language": "python",
   "name": "python3"
  },
  "language_info": {
   "codemirror_mode": {
    "name": "ipython",
    "version": 3
   },
   "file_extension": ".py",
   "mimetype": "text/x-python",
   "name": "python",
   "nbconvert_exporter": "python",
   "pygments_lexer": "ipython3",
   "version": "3.7.4"
  }
 },
 "nbformat": 4,
 "nbformat_minor": 4
}
