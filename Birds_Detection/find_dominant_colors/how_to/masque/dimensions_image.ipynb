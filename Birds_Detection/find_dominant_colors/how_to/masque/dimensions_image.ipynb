{
 "cells": [
  {
   "cell_type": "code",
   "execution_count": 20,
   "metadata": {},
   "outputs": [],
   "source": [
    "import os\n",
    "import glob\n",
    "import cv2\n",
    "import pandas as pd"
   ]
  },
  {
   "cell_type": "code",
   "execution_count": 8,
   "metadata": {},
   "outputs": [],
   "source": [
    "path=\"/mnt/VegaSlowDataDisk/c3po/Images_aquises/DonneesPI/timeLapsePhotos_Pi1_0/\"\n",
    "liste_image=os.listdir(path)\n",
    "\n",
    "#cd \n",
    "liste_image=glob.glob(path+\"*.jpg\")"
   ]
  },
  {
   "cell_type": "code",
   "execution_count": 10,
   "metadata": {},
   "outputs": [
    {
     "data": {
      "text/plain": [
       "{(720, 1280, 3), (1024, 1280, 3)}"
      ]
     },
     "execution_count": 10,
     "metadata": {},
     "output_type": "execute_result"
    }
   ],
   "source": [
    "liste_dim=[]\n",
    "\n",
    "for image in liste_image:\n",
    "    #print(image)\n",
    "    liste_dim.append(cv2.imread(image).shape)\n",
    "\n",
    "\n",
    "set(liste_dim)"
   ]
  },
  {
   "cell_type": "code",
   "execution_count": 11,
   "metadata": {},
   "outputs": [
    {
     "data": {
      "text/plain": [
       "{(720, 1280, 3)}"
      ]
     },
     "execution_count": 11,
     "metadata": {},
     "output_type": "execute_result"
    }
   ],
   "source": [
    "set(liste_dim)"
   ]
  },
  {
   "cell_type": "code",
   "execution_count": 13,
   "metadata": {},
   "outputs": [
    {
     "data": {
      "text/plain": [
       "3"
      ]
     },
     "execution_count": 13,
     "metadata": {},
     "output_type": "execute_result"
    }
   ],
   "source": [
    "liste_dim.count((1024, 1280, 3))"
   ]
  },
  {
   "cell_type": "code",
   "execution_count": 18,
   "metadata": {},
   "outputs": [
    {
     "name": "stdout",
     "output_type": "stream",
     "text": [
      "Le nombre d image de mauvaise dimension dans le dossier 1 est  3\n"
     ]
    }
   ],
   "source": [
    "\n",
    "elm_count = liste_dim.count((1024, 1280, 3))\n",
    "print('Le nombre d image de mauvaise dimension dans le dossier 1 est ', elm_count)"
   ]
  },
  {
   "cell_type": "code",
   "execution_count": null,
   "metadata": {},
   "outputs": [],
   "source": [
    "Maintenant focalison nous seulement dans imagettes"
   ]
  },
  {
   "cell_type": "code",
   "execution_count": 21,
   "metadata": {},
   "outputs": [
    {
     "data": {
      "text/html": [
       "<div>\n",
       "<style scoped>\n",
       "    .dataframe tbody tr th:only-of-type {\n",
       "        vertical-align: middle;\n",
       "    }\n",
       "\n",
       "    .dataframe tbody tr th {\n",
       "        vertical-align: top;\n",
       "    }\n",
       "\n",
       "    .dataframe thead th {\n",
       "        text-align: right;\n",
       "    }\n",
       "</style>\n",
       "<table border=\"1\" class=\"dataframe\">\n",
       "  <thead>\n",
       "    <tr style=\"text-align: right;\">\n",
       "      <th></th>\n",
       "      <th>path</th>\n",
       "      <th>filename</th>\n",
       "      <th>width</th>\n",
       "      <th>height</th>\n",
       "      <th>classe</th>\n",
       "      <th>xmin</th>\n",
       "      <th>ymin</th>\n",
       "      <th>xmax</th>\n",
       "      <th>ymax</th>\n",
       "      <th>index</th>\n",
       "      <th>imagetteName</th>\n",
       "    </tr>\n",
       "  </thead>\n",
       "  <tbody>\n",
       "    <tr>\n",
       "      <td>0</td>\n",
       "      <td>./TGO 2019 - photos caméras/Parcelle 1 Guilbot...</td>\n",
       "      <td>DSCF0029.JPG</td>\n",
       "      <td>5200</td>\n",
       "      <td>3900</td>\n",
       "      <td>incertain</td>\n",
       "      <td>828</td>\n",
       "      <td>1592</td>\n",
       "      <td>875</td>\n",
       "      <td>1641</td>\n",
       "      <td>0</td>\n",
       "      <td>DSCF0029_incertain_0.JPG</td>\n",
       "    </tr>\n",
       "    <tr>\n",
       "      <td>1</td>\n",
       "      <td>./TGO 2019 - photos caméras/Parcelle 1 Guilbot...</td>\n",
       "      <td>DSCF0029.JPG</td>\n",
       "      <td>5200</td>\n",
       "      <td>3900</td>\n",
       "      <td>ground</td>\n",
       "      <td>881</td>\n",
       "      <td>1587</td>\n",
       "      <td>928</td>\n",
       "      <td>1636</td>\n",
       "      <td>1</td>\n",
       "      <td>DSCF0029_ground_1.JPG</td>\n",
       "    </tr>\n",
       "    <tr>\n",
       "      <td>2</td>\n",
       "      <td>./TGO 2019 - photos caméras/Parcelle 1 Guilbot...</td>\n",
       "      <td>DSCF0180.JPG</td>\n",
       "      <td>5200</td>\n",
       "      <td>3900</td>\n",
       "      <td>corneille</td>\n",
       "      <td>2842</td>\n",
       "      <td>2731</td>\n",
       "      <td>2876</td>\n",
       "      <td>2767</td>\n",
       "      <td>2</td>\n",
       "      <td>DSCF0180_corneille_2.JPG</td>\n",
       "    </tr>\n",
       "    <tr>\n",
       "      <td>3</td>\n",
       "      <td>./TGO 2019 - photos caméras/Parcelle 1 Guilbot...</td>\n",
       "      <td>DSCF0180.JPG</td>\n",
       "      <td>5200</td>\n",
       "      <td>3900</td>\n",
       "      <td>corneille</td>\n",
       "      <td>2799</td>\n",
       "      <td>2731</td>\n",
       "      <td>2833</td>\n",
       "      <td>2767</td>\n",
       "      <td>3</td>\n",
       "      <td>DSCF0180_corneille_3.JPG</td>\n",
       "    </tr>\n",
       "    <tr>\n",
       "      <td>4</td>\n",
       "      <td>./TGO 2019 - photos caméras/Parcelle 1 Guilbot...</td>\n",
       "      <td>DSCF0258.JPG</td>\n",
       "      <td>5200</td>\n",
       "      <td>3900</td>\n",
       "      <td>pigeon</td>\n",
       "      <td>3249</td>\n",
       "      <td>2638</td>\n",
       "      <td>3541</td>\n",
       "      <td>3286</td>\n",
       "      <td>4</td>\n",
       "      <td>DSCF0258_pigeon_4.JPG</td>\n",
       "    </tr>\n",
       "  </tbody>\n",
       "</table>\n",
       "</div>"
      ],
      "text/plain": [
       "                                                path      filename  width  \\\n",
       "0  ./TGO 2019 - photos caméras/Parcelle 1 Guilbot...  DSCF0029.JPG   5200   \n",
       "1  ./TGO 2019 - photos caméras/Parcelle 1 Guilbot...  DSCF0029.JPG   5200   \n",
       "2  ./TGO 2019 - photos caméras/Parcelle 1 Guilbot...  DSCF0180.JPG   5200   \n",
       "3  ./TGO 2019 - photos caméras/Parcelle 1 Guilbot...  DSCF0180.JPG   5200   \n",
       "4  ./TGO 2019 - photos caméras/Parcelle 1 Guilbot...  DSCF0258.JPG   5200   \n",
       "\n",
       "   height     classe  xmin  ymin  xmax  ymax  index              imagetteName  \n",
       "0    3900  incertain   828  1592   875  1641      0  DSCF0029_incertain_0.JPG  \n",
       "1    3900     ground   881  1587   928  1636      1     DSCF0029_ground_1.JPG  \n",
       "2    3900  corneille  2842  2731  2876  2767      2  DSCF0180_corneille_2.JPG  \n",
       "3    3900  corneille  2799  2731  2833  2767      3  DSCF0180_corneille_3.JPG  \n",
       "4    3900     pigeon  3249  2638  3541  3286      4     DSCF0258_pigeon_4.JPG  "
      ]
     },
     "execution_count": 21,
     "metadata": {},
     "output_type": "execute_result"
    }
   ],
   "source": [
    "imagettes=pd.read_csv(\"/mnt/VegaSlowDataDisk/c3po/Images_aquises/imagettes.csv\")\n",
    "imagettes.head()"
   ]
  },
  {
   "cell_type": "code",
   "execution_count": 24,
   "metadata": {},
   "outputs": [],
   "source": [
    "image_path=imagettes[\"path\"].unique()\n",
    "image_path\n",
    "\n",
    "\n",
    "to_choose=['./DonneesPI/timeLapsePhotos_Pi1_4',\n",
    "       './DonneesPI/timeLapsePhotos_Pi1_3',\n",
    "       './DonneesPI/timeLapsePhotos_Pi1_2',\n",
    "       './DonneesPI/timeLapsePhotos_Pi1_1',\n",
    "       './DonneesPI/timeLapsePhotos_Pi1_0']"
   ]
  },
  {
   "cell_type": "code",
   "execution_count": 28,
   "metadata": {},
   "outputs": [],
   "source": [
    "imagettes_choose=imagettes[imagettes[\"path\"].isin(to_choose)]"
   ]
  },
  {
   "cell_type": "code",
   "execution_count": 30,
   "metadata": {},
   "outputs": [
    {
     "data": {
      "text/plain": [
       "array([720])"
      ]
     },
     "execution_count": 30,
     "metadata": {},
     "output_type": "execute_result"
    }
   ],
   "source": [
    "(imagettes_choose.height).unique()"
   ]
  },
  {
   "cell_type": "code",
   "execution_count": 32,
   "metadata": {},
   "outputs": [
    {
     "data": {
      "text/plain": [
       "array([1280])"
      ]
     },
     "execution_count": 32,
     "metadata": {},
     "output_type": "execute_result"
    }
   ],
   "source": [
    "(imagettes_choose.width).unique()\n"
   ]
  },
  {
   "cell_type": "code",
   "execution_count": null,
   "metadata": {},
   "outputs": [],
   "source": []
  },
  {
   "cell_type": "code",
   "execution_count": null,
   "metadata": {},
   "outputs": [],
   "source": []
  }
 ],
 "metadata": {
  "kernelspec": {
   "display_name": "Python 3",
   "language": "python",
   "name": "python3"
  },
  "language_info": {
   "codemirror_mode": {
    "name": "ipython",
    "version": 3
   },
   "file_extension": ".py",
   "mimetype": "text/x-python",
   "name": "python",
   "nbconvert_exporter": "python",
   "pygments_lexer": "ipython3",
   "version": "3.7.4"
  }
 },
 "nbformat": 4,
 "nbformat_minor": 4
}
