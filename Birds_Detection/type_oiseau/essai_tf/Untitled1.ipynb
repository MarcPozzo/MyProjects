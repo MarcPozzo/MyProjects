{
 "cells": [
  {
   "cell_type": "code",
   "execution_count": 3,
   "metadata": {},
   "outputs": [],
   "source": [
    "import tensorflow as tf\n",
    "from tensorflow.keras import layers, models\n",
    "#import config\n",
    "\n",
    "nbr_boxes=3\n",
    "nbr_classes=5\n",
    "cellule_y=12\n",
    "cellule_x=16\n",
    "largeur=256\n",
    "hauteur=192\n",
    "\n",
    "def block_resnet(input, filters, kernel_size, reduce=False):\n",
    "    result=layers.Conv2D(filters, kernel_size, strides=1, padding='SAME')(input)\n",
    "    result=layers.BatchNormalization()(result)\n",
    "    result=layers.LeakyReLU(alpha=0.1)(result)\n",
    "\n",
    "    if reduce is True:\n",
    "        result=layers.Conv2D(filters, kernel_size, strides=2, padding='SAME')(result)\n",
    "    else:\n",
    "        result=layers.Conv2D(filters, kernel_size, strides=1, padding='SAME')(result)\n",
    "        \n",
    "    if input.shape[-1]==filters:\n",
    "        if reduce is True:\n",
    "            shortcut=layers.Conv2D(filters, 1, strides=2, padding='SAME')(input)\n",
    "        else:\n",
    "            shortcut=input\n",
    "    else:\n",
    "        if reduce is True:\n",
    "            shortcut=layers.Conv2D(filters, 1, strides=2, padding='SAME')(input)\n",
    "        else:\n",
    "            shortcut=layers.Conv2D(filters, 1, strides=1, padding='SAME')(input)\n",
    "    \n",
    "    result=layers.add([result, shortcut])\n",
    "    result=layers.LeakyReLU(alpha=0.1)(result)\n",
    "    result=layers.BatchNormalization()(result)\n",
    "    return result\n",
    "\n",
    "def model(nbr_classes, nbr_boxes, cellule_y, cellule_x):\n",
    "    entree=layers.Input(shape=(largeur, hauteur, 3), dtype='float32')\n",
    "\n",
    "    result=block_resnet(entree, 16, 3, False)\n",
    "    result=block_resnet(result, 16, 3, True)\n",
    "\n",
    "    result=block_resnet(result, 32, 3, False)\n",
    "    result=block_resnet(result, 32, 3, True)\n",
    "\n",
    "    result=block_resnet(result, 64, 3, False)\n",
    "    result=block_resnet(result, 64, 3, False)\n",
    "    result=block_resnet(result, 64, 3, True)\n",
    "\n",
    "    result=block_resnet(result, 128, 3, False)\n",
    "    result=block_resnet(result, 128, 3, False)\n",
    "    result=block_resnet(result, 128, 3, True)\n",
    "\n",
    "    result=layers.Conv2D(nbr_boxes*(5+nbr_classes), 1, padding='SAME')(result)\n",
    "    sortie=layers.Reshape((cellule_y, cellule_x, nbr_boxes, 5+nbr_classes))(result)\n",
    "\n",
    "    model=models.Model(inputs=entree, outputs=sortie)\n",
    "\n",
    "    return model\n",
    "\n"
   ]
  },
  {
   "cell_type": "code",
   "execution_count": 4,
   "metadata": {},
   "outputs": [],
   "source": [
    "if __name__ == '__main__':\n",
    "    # GPU settings\n",
    "    gpus = tf.config.experimental.list_physical_devices('GPU')\n",
    "    if gpus:\n",
    "        for gpu in gpus:\n",
    "            tf.config.experimental.set_memory_growth(gpu, True)"
   ]
  },
  {
   "cell_type": "code",
   "execution_count": 7,
   "metadata": {},
   "outputs": [
    {
     "data": {
      "text/plain": [
       "[PhysicalDevice(name='/physical_device:CPU:0', device_type='CPU'),\n",
       " PhysicalDevice(name='/physical_device:XLA_CPU:0', device_type='XLA_CPU')]"
      ]
     },
     "execution_count": 7,
     "metadata": {},
     "output_type": "execute_result"
    }
   ],
   "source": [
    "tf.config.experimental.list_physical_devices()"
   ]
  },
  {
   "cell_type": "code",
   "execution_count": null,
   "metadata": {},
   "outputs": [],
   "source": []
  }
 ],
 "metadata": {
  "kernelspec": {
   "display_name": "Python 3",
   "language": "python",
   "name": "python3"
  },
  "language_info": {
   "codemirror_mode": {
    "name": "ipython",
    "version": 3
   },
   "file_extension": ".py",
   "mimetype": "text/x-python",
   "name": "python",
   "nbconvert_exporter": "python",
   "pygments_lexer": "ipython3",
   "version": "3.7.4"
  }
 },
 "nbformat": 4,
 "nbformat_minor": 4
}
