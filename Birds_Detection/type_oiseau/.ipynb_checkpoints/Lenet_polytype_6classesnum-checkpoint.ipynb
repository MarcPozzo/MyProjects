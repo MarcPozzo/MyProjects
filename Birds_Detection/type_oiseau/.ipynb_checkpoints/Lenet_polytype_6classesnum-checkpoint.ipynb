{
 "cells": [
  {
   "cell_type": "code",
   "execution_count": 4,
   "metadata": {},
   "outputs": [],
   "source": [
    "import numpy as np # Pour la manipulation de tableaux\n",
    "from keras.applications import  resnet50\n",
    "from sklearn import metrics \n",
    "import os\n",
    "\n",
    "import pandas as pd # Pour manipuler des DataFrames pandas\n",
    "\n",
    "import matplotlib.pyplot as plt # Pour l'affichage d'images\n",
    "from matplotlib import cm # Pour importer de nouvelles cartes de couleur\n",
    "%matplotlib inline\n",
    "\n",
    "from keras.models import Sequential # Pour construire un réseau de neurones\n",
    "from keras.layers import Dense, Conv2D # Pour instancier une couche dense\n",
    "from keras.utils import np_utils\n",
    "\n",
    "from keras.models import Sequential\n",
    "from keras.layers import Dense, Activation,GlobalAveragePooling2D, MaxPooling2D\n",
    "from keras.layers import Dropout\n",
    "from keras.layers import Flatten\n",
    "from keras.layers.convolutional import Conv2D\n",
    "from keras.models import Model\n",
    "import cv2\n",
    "import keras\n",
    "from numpy.random import seed\n",
    "import tensorflow\n",
    "\n",
    "from keras.preprocessing.image import ImageDataGenerator\n",
    "import itertools # Pour créer des iterateurs\n",
    "\n",
    "from sklearn import linear_model, preprocessing \n",
    "\n",
    "\n",
    "\n",
    "%matplotlib inline\n",
    "import numpy as np\n",
    "\n",
    "import matplotlib.pyplot as plt\n",
    "import time, cv2\n",
    "import seaborn as sns\n",
    "\n",
    "import pandas as pd\n",
    "from sklearn.model_selection import train_test_split\n",
    "\n",
    "from keras.layers import Dense, Dropout, Flatten, GlobalAveragePooling2D\n",
    "from keras.optimizers import Adam\n",
    "from keras.models import Model, Sequential\n",
    "from keras.preprocessing.image import ImageDataGenerator\n",
    "import keras\n",
    "from keras import backend as K\n",
    "from keras.preprocessing.image import img_to_array\n",
    "from keras.preprocessing.image import load_img\n",
    "from keras.applications.vgg16 import preprocess_input"
   ]
  },
  {
   "cell_type": "code",
   "execution_count": 7,
   "metadata": {},
   "outputs": [
    {
     "ename": "NameError",
     "evalue": "name 'data_train' is not defined",
     "output_type": "error",
     "traceback": [
      "\u001b[0;31m---------------------------------------------------------------------------\u001b[0m",
      "\u001b[0;31mNameError\u001b[0m                                 Traceback (most recent call last)",
      "\u001b[0;32m<ipython-input-7-ad690db19156>\u001b[0m in \u001b[0;36m<module>\u001b[0;34m\u001b[0m\n\u001b[1;32m     10\u001b[0m \u001b[0mMinimum_Number_Class\u001b[0m\u001b[0;34m=\u001b[0m\u001b[0;36m100\u001b[0m\u001b[0;34m\u001b[0m\u001b[0;34m\u001b[0m\u001b[0m\n\u001b[1;32m     11\u001b[0m \u001b[0mdropout_rate\u001b[0m\u001b[0;34m=\u001b[0m\u001b[0;36m0\u001b[0m\u001b[0;34m\u001b[0m\u001b[0;34m\u001b[0m\u001b[0m\n\u001b[0;32m---> 12\u001b[0;31m \u001b[0msteps_per_epoch\u001b[0m\u001b[0;34m=\u001b[0m\u001b[0mlen\u001b[0m\u001b[0;34m(\u001b[0m\u001b[0mdata_train\u001b[0m\u001b[0;34m)\u001b[0m\u001b[0;34m//\u001b[0m\u001b[0mbatch_size\u001b[0m\u001b[0;34m\u001b[0m\u001b[0;34m\u001b[0m\u001b[0m\n\u001b[0m\u001b[1;32m     13\u001b[0m \u001b[0;31m#steps_per_epoch=1\u001b[0m\u001b[0;34m\u001b[0m\u001b[0;34m\u001b[0m\u001b[0;34m\u001b[0m\u001b[0m\n\u001b[1;32m     14\u001b[0m \u001b[0mvalidation_steps\u001b[0m\u001b[0;34m=\u001b[0m\u001b[0mlen\u001b[0m\u001b[0;34m(\u001b[0m\u001b[0mdata_test\u001b[0m\u001b[0;34m)\u001b[0m\u001b[0;34m//\u001b[0m\u001b[0mbatch_size\u001b[0m\u001b[0;34m\u001b[0m\u001b[0;34m\u001b[0m\u001b[0m\n",
      "\u001b[0;31mNameError\u001b[0m: name 'data_train' is not defined"
     ]
    }
   ],
   "source": [
    "#Paramètres\n",
    "base_img_paths=\"/home/marcpozzo/Desktop/c3po/Images_aquises/\"\n",
    "generateur_path='/mnt/VegaSlowDataDisk/c3po/Chaine_de_traitement/Train_imagettes_annotées/type_oiseau/generateur.csv'\n",
    "test_size=0.2\n",
    "epochs=200\n",
    "batch_size = 600\n",
    "class_mode=\"sparse\"\n",
    "zoom_range = 1.1\n",
    "horizontal_flip = False\n",
    "Minimum_Number_Class=100\n",
    "dropout_rate=0\n",
    "steps_per_epoch=len(data_train)//batch_size\n",
    "#steps_per_epoch=1\n",
    "validation_steps=len(data_test)//batch_size\n",
    "#validation_steps=1"
   ]
  },
  {
   "cell_type": "code",
   "execution_count": 6,
   "metadata": {},
   "outputs": [
    {
     "name": "stdout",
     "output_type": "stream",
     "text": [
      "labels       0\n",
      "class        0\n",
      "img_paths    0\n",
      "dtype: int64\n",
      "incertain 216\n",
      "ground 2975\n",
      "corneille 1044\n",
      "pigeon 828\n",
      "pie 1\n",
      "chat 2\n",
      "Abeille 1\n",
      "chevreuil 136\n",
      "Corneille 4\n",
      "Lapin 1\n",
      "lapin 176\n",
      "dirt 99\n",
      "crow 25\n",
      "leaf 12\n",
      "shadow 9\n",
      "faisan 335\n",
      "oiseau 2\n",
      "sanglier 4\n",
      "rock 14\n",
      "other 2\n",
      "plastic 1\n",
      "flying crow 1\n",
      "autre 18\n",
      "ciel 3\n",
      "ombre 4\n",
      "cheval 27\n",
      "voiture 133\n",
      "avion 6\n",
      "tracteur 141\n"
     ]
    }
   ],
   "source": [
    "#df=pd.read_csv(\"/home/marcpozzo/Desktop/c3po/Images_aquises/generateur.csv\")\n",
    "df=pd.read_csv(generateur_path)\n",
    "print(pd.isnull(df).sum())\n",
    "#df.drop('labels',inplace=True,axis=1)\n",
    "for i in df[\"labels\"].unique():\n",
    "    print(i,len(df[\"labels\"][df[\"labels\"]==i]))"
   ]
  },
  {
   "cell_type": "code",
   "execution_count": 8,
   "metadata": {},
   "outputs": [
    {
     "data": {
      "text/plain": [
       "array(['incertain', 'ground', 'corneille', 'pigeon', 'pie', 'chevreuil',\n",
       "       'Corneille', 'Lapin', 'lapin', 'dirt', 'crow', 'faisan', 'oiseau',\n",
       "       'flying crow', 'voiture', 'tracteur'], dtype=object)"
      ]
     },
     "execution_count": 8,
     "metadata": {},
     "output_type": "execute_result"
    }
   ],
   "source": [
    "Non_utilisable=['Abeille',\n",
    "                'chat','leaf','shadow','sanglier', 'rock','other', 'plastic','autre', 'ciel', 'ombre','cheval','avion']\n",
    "\n",
    "for i in Non_utilisable:\n",
    "    df=df[df[\"labels\"]!=i]\n",
    "df[\"labels\"].unique()"
   ]
  },
  {
   "cell_type": "code",
   "execution_count": 18,
   "metadata": {},
   "outputs": [
    {
     "data": {
      "text/html": [
       "<div>\n",
       "<style scoped>\n",
       "    .dataframe tbody tr th:only-of-type {\n",
       "        vertical-align: middle;\n",
       "    }\n",
       "\n",
       "    .dataframe tbody tr th {\n",
       "        vertical-align: top;\n",
       "    }\n",
       "\n",
       "    .dataframe thead th {\n",
       "        text-align: right;\n",
       "    }\n",
       "</style>\n",
       "<table border=\"1\" class=\"dataframe\">\n",
       "  <thead>\n",
       "    <tr style=\"text-align: right;\">\n",
       "      <th></th>\n",
       "      <th>labels</th>\n",
       "      <th>class</th>\n",
       "      <th>img_paths</th>\n",
       "    </tr>\n",
       "  </thead>\n",
       "  <tbody>\n",
       "    <tr>\n",
       "      <td>0</td>\n",
       "      <td>incertain</td>\n",
       "      <td>oiseau</td>\n",
       "      <td>/home/marcpozzo/Desktop/c3po/Images_aquises/Re...</td>\n",
       "    </tr>\n",
       "    <tr>\n",
       "      <td>1</td>\n",
       "      <td>ground</td>\n",
       "      <td>autre</td>\n",
       "      <td>/home/marcpozzo/Desktop/c3po/Images_aquises/Re...</td>\n",
       "    </tr>\n",
       "    <tr>\n",
       "      <td>2</td>\n",
       "      <td>corneille</td>\n",
       "      <td>corneille</td>\n",
       "      <td>/home/marcpozzo/Desktop/c3po/Images_aquises/Re...</td>\n",
       "    </tr>\n",
       "    <tr>\n",
       "      <td>3</td>\n",
       "      <td>corneille</td>\n",
       "      <td>corneille</td>\n",
       "      <td>/home/marcpozzo/Desktop/c3po/Images_aquises/Re...</td>\n",
       "    </tr>\n",
       "    <tr>\n",
       "      <td>4</td>\n",
       "      <td>pigeon</td>\n",
       "      <td>pigeon</td>\n",
       "      <td>/home/marcpozzo/Desktop/c3po/Images_aquises/Re...</td>\n",
       "    </tr>\n",
       "  </tbody>\n",
       "</table>\n",
       "</div>"
      ],
      "text/plain": [
       "      labels      class                                          img_paths\n",
       "0  incertain     oiseau  /home/marcpozzo/Desktop/c3po/Images_aquises/Re...\n",
       "1     ground      autre  /home/marcpozzo/Desktop/c3po/Images_aquises/Re...\n",
       "2  corneille  corneille  /home/marcpozzo/Desktop/c3po/Images_aquises/Re...\n",
       "3  corneille  corneille  /home/marcpozzo/Desktop/c3po/Images_aquises/Re...\n",
       "4     pigeon     pigeon  /home/marcpozzo/Desktop/c3po/Images_aquises/Re..."
      ]
     },
     "execution_count": 18,
     "metadata": {},
     "output_type": "execute_result"
    }
   ],
   "source": [
    "df.head()"
   ]
  },
  {
   "cell_type": "code",
   "execution_count": 9,
   "metadata": {},
   "outputs": [
    {
     "name": "stdout",
     "output_type": "stream",
     "text": [
      "9\n"
     ]
    },
    {
     "data": {
      "text/html": [
       "<div>\n",
       "<style scoped>\n",
       "    .dataframe tbody tr th:only-of-type {\n",
       "        vertical-align: middle;\n",
       "    }\n",
       "\n",
       "    .dataframe tbody tr th {\n",
       "        vertical-align: top;\n",
       "    }\n",
       "\n",
       "    .dataframe thead th {\n",
       "        text-align: right;\n",
       "    }\n",
       "</style>\n",
       "<table border=\"1\" class=\"dataframe\">\n",
       "  <thead>\n",
       "    <tr style=\"text-align: right;\">\n",
       "      <th></th>\n",
       "      <th>labels</th>\n",
       "      <th>class</th>\n",
       "      <th>img_paths</th>\n",
       "    </tr>\n",
       "  </thead>\n",
       "  <tbody>\n",
       "    <tr>\n",
       "      <td>0</td>\n",
       "      <td>incertain</td>\n",
       "      <td>oiseau</td>\n",
       "      <td>Rec_images/DSCF0029_incertain_0.JPG</td>\n",
       "    </tr>\n",
       "    <tr>\n",
       "      <td>1</td>\n",
       "      <td>ground</td>\n",
       "      <td>autre</td>\n",
       "      <td>Rec_images/DSCF0029_ground_1.JPG</td>\n",
       "    </tr>\n",
       "    <tr>\n",
       "      <td>2</td>\n",
       "      <td>corneille</td>\n",
       "      <td>corneille</td>\n",
       "      <td>Rec_images/DSCF0180_corneille_2.JPG</td>\n",
       "    </tr>\n",
       "    <tr>\n",
       "      <td>3</td>\n",
       "      <td>corneille</td>\n",
       "      <td>corneille</td>\n",
       "      <td>Rec_images/DSCF0180_corneille_3.JPG</td>\n",
       "    </tr>\n",
       "    <tr>\n",
       "      <td>4</td>\n",
       "      <td>pigeon</td>\n",
       "      <td>pigeon</td>\n",
       "      <td>Rec_images/DSCF0258_pigeon_4.JPG</td>\n",
       "    </tr>\n",
       "    <tr>\n",
       "      <td>...</td>\n",
       "      <td>...</td>\n",
       "      <td>...</td>\n",
       "      <td>...</td>\n",
       "    </tr>\n",
       "    <tr>\n",
       "      <td>6215</td>\n",
       "      <td>ground</td>\n",
       "      <td>autre</td>\n",
       "      <td>Rec_images/image_2019-04-30_18-55-20_ground_62...</td>\n",
       "    </tr>\n",
       "    <tr>\n",
       "      <td>6216</td>\n",
       "      <td>pigeon</td>\n",
       "      <td>pigeon</td>\n",
       "      <td>Rec_images/image_2019-04-30_18-55-20_pigeon_62...</td>\n",
       "    </tr>\n",
       "    <tr>\n",
       "      <td>6217</td>\n",
       "      <td>ground</td>\n",
       "      <td>autre</td>\n",
       "      <td>Rec_images/image_2019-04-30_18-55-20_ground_62...</td>\n",
       "    </tr>\n",
       "    <tr>\n",
       "      <td>6218</td>\n",
       "      <td>pigeon</td>\n",
       "      <td>pigeon</td>\n",
       "      <td>Rec_images/image_2019-04-30_18-55-20_pigeon_62...</td>\n",
       "    </tr>\n",
       "    <tr>\n",
       "      <td>6219</td>\n",
       "      <td>ground</td>\n",
       "      <td>autre</td>\n",
       "      <td>Rec_images/image_2019-04-30_18-55-20_ground_62...</td>\n",
       "    </tr>\n",
       "  </tbody>\n",
       "</table>\n",
       "<p>6117 rows × 3 columns</p>\n",
       "</div>"
      ],
      "text/plain": [
       "         labels      class                                          img_paths\n",
       "0     incertain     oiseau                Rec_images/DSCF0029_incertain_0.JPG\n",
       "1        ground      autre                   Rec_images/DSCF0029_ground_1.JPG\n",
       "2     corneille  corneille                Rec_images/DSCF0180_corneille_2.JPG\n",
       "3     corneille  corneille                Rec_images/DSCF0180_corneille_3.JPG\n",
       "4        pigeon     pigeon                   Rec_images/DSCF0258_pigeon_4.JPG\n",
       "...         ...        ...                                                ...\n",
       "6215     ground      autre  Rec_images/image_2019-04-30_18-55-20_ground_62...\n",
       "6216     pigeon     pigeon  Rec_images/image_2019-04-30_18-55-20_pigeon_62...\n",
       "6217     ground      autre  Rec_images/image_2019-04-30_18-55-20_ground_62...\n",
       "6218     pigeon     pigeon  Rec_images/image_2019-04-30_18-55-20_pigeon_62...\n",
       "6219     ground      autre  Rec_images/image_2019-04-30_18-55-20_ground_62...\n",
       "\n",
       "[6117 rows x 3 columns]"
      ]
     },
     "execution_count": 9,
     "metadata": {},
     "output_type": "execute_result"
    }
   ],
   "source": [
    "df[\"class\"]=df[\"class\"].replace(\"pie\",\"oiseau\")\n",
    "df[\"class\"][df[\"labels\"]==\"voiture\"]=\"voiture\"\n",
    "df[\"class\"][df[\"labels\"]==\"tracteur\"]=\"tracteur\"\n",
    "print(len(df[\"class\"].unique()))\n",
    "df"
   ]
  },
  {
   "cell_type": "code",
   "execution_count": 10,
   "metadata": {},
   "outputs": [
    {
     "data": {
      "text/plain": [
       "array(['incertain', 'ground', 'corneille', 'pigeon', 'pie', 'chevreuil',\n",
       "       'Corneille', 'Lapin', 'lapin', 'dirt', 'crow', 'faisan', 'oiseau',\n",
       "       'flying crow', 'voiture', 'tracteur'], dtype=object)"
      ]
     },
     "execution_count": 10,
     "metadata": {},
     "output_type": "execute_result"
    }
   ],
   "source": [
    "df[\"class\"].unique()\n",
    "to_change=['chat','abeille','sanglier','cheval']\n",
    "df[\"class\"]=df[\"class\"].replace(to_change,\"autre_animaux\")\n",
    "len(df[df[\"class\"]==\"autre_animaux\"])\n",
    "df1=df[df[\"class\"]!=\"autre_animaux\"]\n",
    "df1[\"labels\"].unique()"
   ]
  },
  {
   "cell_type": "code",
   "execution_count": 11,
   "metadata": {},
   "outputs": [
    {
     "name": "stdout",
     "output_type": "stream",
     "text": [
      "labels: 16\n",
      "class: 9\n",
      "img_paths: 6117\n"
     ]
    },
    {
     "data": {
      "text/plain": [
       "array(['incertain', 'ground', 'corneille', 'pigeon', 'pie', 'chevreuil',\n",
       "       'Corneille', 'Lapin', 'lapin', 'dirt', 'crow', 'faisan', 'oiseau',\n",
       "       'flying crow', 'voiture', 'tracteur'], dtype=object)"
      ]
     },
     "execution_count": 11,
     "metadata": {},
     "output_type": "execute_result"
    }
   ],
   "source": [
    "df[\"class\"].unique()\n",
    "for c in df:\n",
    "    print(''+c+':',len(df[c].unique()))\n",
    "df[\"labels\"].unique()"
   ]
  },
  {
   "cell_type": "code",
   "execution_count": 12,
   "metadata": {},
   "outputs": [
    {
     "name": "stdout",
     "output_type": "stream",
     "text": [
      "incertain 216\n",
      "ground 2975\n",
      "corneille 1044\n",
      "pigeon 828\n",
      "chevreuil 136\n",
      "lapin 176\n",
      "faisan 335\n",
      "voiture 133\n",
      "tracteur 141\n"
     ]
    }
   ],
   "source": [
    "All_Unique=df[\"labels\"].unique()\n",
    "Utilisable=[]\n",
    "for i in df[\"labels\"].unique():\n",
    "    if df[\"labels\"][df[\"labels\"]==i].count()>Minimum_Number_Class:\n",
    "        Utilisable.append(i)\n",
    "Utilisable\n",
    "Non_Utilisable=set(All_Unique)-set(Utilisable)\n",
    "Non_Utilisable\n",
    "for i in Non_Utilisable:\n",
    "    df=df[df[\"labels\"]!=i]\n",
    "#df=df[df[\"class\"]!=\"oiseau\"]  \n",
    "df[\"labels\"].unique()\n",
    "for i in df[\"labels\"].unique():\n",
    "    print(i,len(df[\"labels\"][df[\"labels\"]==i]))"
   ]
  },
  {
   "cell_type": "code",
   "execution_count": 13,
   "metadata": {},
   "outputs": [
    {
     "data": {
      "text/html": [
       "<div>\n",
       "<style scoped>\n",
       "    .dataframe tbody tr th:only-of-type {\n",
       "        vertical-align: middle;\n",
       "    }\n",
       "\n",
       "    .dataframe tbody tr th {\n",
       "        vertical-align: top;\n",
       "    }\n",
       "\n",
       "    .dataframe thead th {\n",
       "        text-align: right;\n",
       "    }\n",
       "</style>\n",
       "<table border=\"1\" class=\"dataframe\">\n",
       "  <thead>\n",
       "    <tr style=\"text-align: right;\">\n",
       "      <th></th>\n",
       "      <th>labels</th>\n",
       "      <th>class</th>\n",
       "      <th>img_paths</th>\n",
       "    </tr>\n",
       "  </thead>\n",
       "  <tbody>\n",
       "    <tr>\n",
       "      <td>0</td>\n",
       "      <td>incertain</td>\n",
       "      <td>oiseau</td>\n",
       "      <td>/home/marcpozzo/Desktop/c3po/Images_aquises/Re...</td>\n",
       "    </tr>\n",
       "    <tr>\n",
       "      <td>1</td>\n",
       "      <td>ground</td>\n",
       "      <td>autre</td>\n",
       "      <td>/home/marcpozzo/Desktop/c3po/Images_aquises/Re...</td>\n",
       "    </tr>\n",
       "    <tr>\n",
       "      <td>2</td>\n",
       "      <td>corneille</td>\n",
       "      <td>corneille</td>\n",
       "      <td>/home/marcpozzo/Desktop/c3po/Images_aquises/Re...</td>\n",
       "    </tr>\n",
       "    <tr>\n",
       "      <td>3</td>\n",
       "      <td>corneille</td>\n",
       "      <td>corneille</td>\n",
       "      <td>/home/marcpozzo/Desktop/c3po/Images_aquises/Re...</td>\n",
       "    </tr>\n",
       "    <tr>\n",
       "      <td>4</td>\n",
       "      <td>pigeon</td>\n",
       "      <td>pigeon</td>\n",
       "      <td>/home/marcpozzo/Desktop/c3po/Images_aquises/Re...</td>\n",
       "    </tr>\n",
       "  </tbody>\n",
       "</table>\n",
       "</div>"
      ],
      "text/plain": [
       "      labels      class                                          img_paths\n",
       "0  incertain     oiseau  /home/marcpozzo/Desktop/c3po/Images_aquises/Re...\n",
       "1     ground      autre  /home/marcpozzo/Desktop/c3po/Images_aquises/Re...\n",
       "2  corneille  corneille  /home/marcpozzo/Desktop/c3po/Images_aquises/Re...\n",
       "3  corneille  corneille  /home/marcpozzo/Desktop/c3po/Images_aquises/Re...\n",
       "4     pigeon     pigeon  /home/marcpozzo/Desktop/c3po/Images_aquises/Re..."
      ]
     },
     "execution_count": 13,
     "metadata": {},
     "output_type": "execute_result"
    }
   ],
   "source": [
    "\n",
    "for i in range(len(df[\"class\"])):\n",
    "    image_name=df[\"img_paths\"].iloc[i]\n",
    "    df[\"img_paths\"].iloc[i]=os.path.join(base_img_paths,image_name)\n",
    "    \n",
    "df.head()"
   ]
  },
  {
   "cell_type": "code",
   "execution_count": null,
   "metadata": {},
   "outputs": [],
   "source": []
  },
  {
   "cell_type": "code",
   "execution_count": 14,
   "metadata": {},
   "outputs": [],
   "source": [
    "#df[\"labels\"][df[\"class\"]==\"autre\"].unique()\n",
    "data_train,data_test= train_test_split(df,stratify=df[\"class\"], test_size=test_size,random_state=42)\n"
   ]
  },
  {
   "cell_type": "code",
   "execution_count": 124,
   "metadata": {},
   "outputs": [
    {
     "name": "stdout",
     "output_type": "stream",
     "text": [
      "Found 4893 validated image filenames belonging to 9 classes.\n",
      "Found 1224 validated image filenames belonging to 9 classes.\n",
      "Epoch 1/200\n",
      "8/8 [==============================] - 5s 613ms/step - loss: 7.9160 - accuracy: 0.2794 - val_loss: 3.1635 - val_accuracy: 0.2858\n",
      "Epoch 2/200\n",
      "8/8 [==============================] - 4s 527ms/step - loss: 2.4918 - accuracy: 0.3862 - val_loss: 2.3413 - val_accuracy: 0.4904\n",
      "Epoch 3/200\n",
      "8/8 [==============================] - 4s 514ms/step - loss: 2.0448 - accuracy: 0.5164 - val_loss: 2.1935 - val_accuracy: 0.5481\n",
      "Epoch 4/200\n",
      "8/8 [==============================] - 4s 545ms/step - loss: 1.8393 - accuracy: 0.5597 - val_loss: 1.9154 - val_accuracy: 0.5942\n",
      "Epoch 5/200\n",
      "8/8 [==============================] - 4s 503ms/step - loss: 1.8458 - accuracy: 0.5816 - val_loss: 1.8172 - val_accuracy: 0.6090\n",
      "Epoch 6/200\n",
      "8/8 [==============================] - 4s 515ms/step - loss: 1.7247 - accuracy: 0.5928 - val_loss: 1.4246 - val_accuracy: 0.5978\n",
      "Epoch 7/200\n",
      "8/8 [==============================] - 4s 561ms/step - loss: 1.7009 - accuracy: 0.5891 - val_loss: 1.5901 - val_accuracy: 0.6125\n",
      "Epoch 8/200\n",
      "8/8 [==============================] - 4s 516ms/step - loss: 1.5403 - accuracy: 0.6259 - val_loss: 1.4614 - val_accuracy: 0.6010\n",
      "Epoch 9/200\n",
      "8/8 [==============================] - 4s 516ms/step - loss: 1.4350 - accuracy: 0.6273 - val_loss: 0.9875 - val_accuracy: 0.6619\n",
      "Epoch 10/200\n",
      "8/8 [==============================] - 5s 629ms/step - loss: 1.2507 - accuracy: 0.6477 - val_loss: 1.1979 - val_accuracy: 0.6650\n",
      "Epoch 11/200\n",
      "8/8 [==============================] - 4s 526ms/step - loss: 1.1341 - accuracy: 0.6725 - val_loss: 1.0515 - val_accuracy: 0.7019\n",
      "Epoch 12/200\n",
      "8/8 [==============================] - 4s 516ms/step - loss: 1.0708 - accuracy: 0.6813 - val_loss: 0.8700 - val_accuracy: 0.6779\n",
      "Epoch 13/200\n",
      "8/8 [==============================] - 4s 542ms/step - loss: 1.0165 - accuracy: 0.6960 - val_loss: 0.9266 - val_accuracy: 0.7192\n",
      "Epoch 14/200\n",
      "8/8 [==============================] - 4s 511ms/step - loss: 0.9602 - accuracy: 0.7147 - val_loss: 0.9555 - val_accuracy: 0.6939\n",
      "Epoch 15/200\n",
      "8/8 [==============================] - 4s 516ms/step - loss: 0.9730 - accuracy: 0.7186 - val_loss: 0.9093 - val_accuracy: 0.7420\n",
      "Epoch 16/200\n",
      "8/8 [==============================] - 4s 560ms/step - loss: 0.9561 - accuracy: 0.7237 - val_loss: 0.8503 - val_accuracy: 0.7267\n",
      "Epoch 17/200\n",
      "8/8 [==============================] - 4s 489ms/step - loss: 0.9300 - accuracy: 0.7219 - val_loss: 0.9697 - val_accuracy: 0.7212\n",
      "Epoch 18/200\n",
      "8/8 [==============================] - 4s 485ms/step - loss: 0.9118 - accuracy: 0.7398 - val_loss: 1.2011 - val_accuracy: 0.7628\n",
      "Epoch 19/200\n",
      "8/8 [==============================] - 5s 615ms/step - loss: 0.8997 - accuracy: 0.7410 - val_loss: 0.9130 - val_accuracy: 0.7483\n",
      "Epoch 20/200\n",
      "8/8 [==============================] - 4s 515ms/step - loss: 0.8937 - accuracy: 0.7370 - val_loss: 0.8271 - val_accuracy: 0.7724\n",
      "Epoch 21/200\n",
      "8/8 [==============================] - 4s 514ms/step - loss: 0.9126 - accuracy: 0.7379 - val_loss: 2.1351 - val_accuracy: 0.7708\n",
      "Epoch 22/200\n",
      "8/8 [==============================] - 4s 554ms/step - loss: 0.8790 - accuracy: 0.7447 - val_loss: 0.8741 - val_accuracy: 0.7517\n",
      "Epoch 23/200\n",
      "8/8 [==============================] - 4s 522ms/step - loss: 0.8289 - accuracy: 0.7638 - val_loss: 0.7828 - val_accuracy: 0.7917\n",
      "Epoch 24/200\n",
      "8/8 [==============================] - 4s 512ms/step - loss: 0.7834 - accuracy: 0.7626 - val_loss: 0.5304 - val_accuracy: 0.7885\n",
      "Epoch 25/200\n",
      "8/8 [==============================] - 5s 571ms/step - loss: 0.7847 - accuracy: 0.7643 - val_loss: 0.6796 - val_accuracy: 0.7708\n",
      "Epoch 26/200\n",
      "8/8 [==============================] - 4s 534ms/step - loss: 0.7619 - accuracy: 0.7713 - val_loss: 0.7712 - val_accuracy: 0.8029\n",
      "Epoch 27/200\n",
      "8/8 [==============================] - 4s 509ms/step - loss: 0.7652 - accuracy: 0.7727 - val_loss: 0.4700 - val_accuracy: 0.7885\n",
      "Epoch 28/200\n",
      "8/8 [==============================] - 5s 638ms/step - loss: 0.7734 - accuracy: 0.7704 - val_loss: 0.7951 - val_accuracy: 0.7917\n",
      "Epoch 29/200\n",
      "8/8 [==============================] - 4s 505ms/step - loss: 0.7635 - accuracy: 0.7710 - val_loss: 0.6757 - val_accuracy: 0.8029\n",
      "Epoch 30/200\n",
      "8/8 [==============================] - 4s 507ms/step - loss: 0.7018 - accuracy: 0.7792 - val_loss: 0.6245 - val_accuracy: 0.7997\n",
      "Epoch 31/200\n",
      "8/8 [==============================] - 4s 544ms/step - loss: 0.7282 - accuracy: 0.7857 - val_loss: 0.6051 - val_accuracy: 0.8100\n",
      "Epoch 32/200\n",
      "8/8 [==============================] - 4s 510ms/step - loss: 0.6999 - accuracy: 0.7841 - val_loss: 0.6485 - val_accuracy: 0.8205\n",
      "Epoch 33/200\n",
      "8/8 [==============================] - 4s 523ms/step - loss: 0.6747 - accuracy: 0.7969 - val_loss: 1.0257 - val_accuracy: 0.8301\n",
      "Epoch 34/200\n",
      "8/8 [==============================] - 4s 544ms/step - loss: 0.6964 - accuracy: 0.7973 - val_loss: 0.6171 - val_accuracy: 0.8183\n",
      "Epoch 35/200\n",
      "8/8 [==============================] - 4s 521ms/step - loss: 0.7312 - accuracy: 0.7787 - val_loss: 0.5971 - val_accuracy: 0.8141\n",
      "Epoch 36/200\n",
      "8/8 [==============================] - 4s 509ms/step - loss: 0.7090 - accuracy: 0.7799 - val_loss: 1.0249 - val_accuracy: 0.7981\n",
      "Epoch 37/200\n",
      "8/8 [==============================] - 5s 602ms/step - loss: 0.6923 - accuracy: 0.7952 - val_loss: 0.6185 - val_accuracy: 0.8325\n",
      "Epoch 38/200\n",
      "8/8 [==============================] - 4s 529ms/step - loss: 0.6624 - accuracy: 0.7994 - val_loss: 0.5805 - val_accuracy: 0.8205\n",
      "Epoch 39/200\n",
      "8/8 [==============================] - 4s 527ms/step - loss: 0.6626 - accuracy: 0.8004 - val_loss: 0.4618 - val_accuracy: 0.8478\n",
      "Epoch 40/200\n",
      "8/8 [==============================] - 4s 537ms/step - loss: 0.6711 - accuracy: 0.7950 - val_loss: 0.5698 - val_accuracy: 0.8417\n",
      "Epoch 41/200\n",
      "8/8 [==============================] - 4s 513ms/step - loss: 0.6552 - accuracy: 0.8062 - val_loss: 0.6225 - val_accuracy: 0.8526\n",
      "Epoch 42/200\n",
      "8/8 [==============================] - 4s 500ms/step - loss: 0.6052 - accuracy: 0.8150 - val_loss: 0.5066 - val_accuracy: 0.8157\n",
      "Epoch 43/200\n",
      "8/8 [==============================] - 4s 543ms/step - loss: 0.6239 - accuracy: 0.8146 - val_loss: 0.6370 - val_accuracy: 0.8450\n",
      "Epoch 44/200\n",
      "8/8 [==============================] - 4s 521ms/step - loss: 0.5836 - accuracy: 0.8157 - val_loss: 0.6039 - val_accuracy: 0.8446\n",
      "Epoch 45/200\n",
      "8/8 [==============================] - 4s 514ms/step - loss: 0.6029 - accuracy: 0.8095 - val_loss: 0.2553 - val_accuracy: 0.8542\n",
      "Epoch 46/200\n",
      "8/8 [==============================] - 5s 606ms/step - loss: 0.6204 - accuracy: 0.8167 - val_loss: 0.5355 - val_accuracy: 0.8508\n",
      "Epoch 47/200\n",
      "8/8 [==============================] - 4s 543ms/step - loss: 0.6087 - accuracy: 0.8134 - val_loss: 0.6117 - val_accuracy: 0.8381\n",
      "Epoch 48/200\n",
      "8/8 [==============================] - 4s 528ms/step - loss: 0.6262 - accuracy: 0.8071 - val_loss: 0.1817 - val_accuracy: 0.8478\n",
      "Epoch 49/200\n",
      "8/8 [==============================] - 4s 535ms/step - loss: 0.6757 - accuracy: 0.8015 - val_loss: 0.5573 - val_accuracy: 0.8383\n",
      "Epoch 50/200\n",
      "8/8 [==============================] - 4s 522ms/step - loss: 0.6017 - accuracy: 0.8164 - val_loss: 0.5391 - val_accuracy: 0.8622\n",
      "Epoch 51/200\n",
      "8/8 [==============================] - 4s 515ms/step - loss: 0.6063 - accuracy: 0.8209 - val_loss: 0.2931 - val_accuracy: 0.8333\n",
      "Epoch 52/200\n",
      "8/8 [==============================] - 4s 542ms/step - loss: 0.6196 - accuracy: 0.8039 - val_loss: 0.5272 - val_accuracy: 0.8417\n",
      "Epoch 53/200\n",
      "8/8 [==============================] - 4s 511ms/step - loss: 0.6283 - accuracy: 0.8164 - val_loss: 0.4961 - val_accuracy: 0.8574\n",
      "Epoch 54/200\n",
      "8/8 [==============================] - 4s 540ms/step - loss: 0.5912 - accuracy: 0.8183 - val_loss: 0.8154 - val_accuracy: 0.8365\n",
      "Epoch 55/200\n",
      "8/8 [==============================] - 5s 598ms/step - loss: 0.5864 - accuracy: 0.8219 - val_loss: 0.5673 - val_accuracy: 0.8633\n",
      "Epoch 56/200\n",
      "8/8 [==============================] - 4s 524ms/step - loss: 0.5921 - accuracy: 0.8216 - val_loss: 0.5522 - val_accuracy: 0.8590\n",
      "Epoch 57/200\n",
      "8/8 [==============================] - 4s 529ms/step - loss: 0.5880 - accuracy: 0.8123 - val_loss: 0.4484 - val_accuracy: 0.8446\n",
      "Epoch 58/200\n",
      "8/8 [==============================] - 5s 566ms/step - loss: 0.5807 - accuracy: 0.8262 - val_loss: 0.4714 - val_accuracy: 0.8508\n",
      "Epoch 59/200\n",
      "8/8 [==============================] - 4s 523ms/step - loss: 0.5738 - accuracy: 0.8300 - val_loss: 0.4560 - val_accuracy: 0.8670\n",
      "Epoch 60/200\n",
      "8/8 [==============================] - 4s 513ms/step - loss: 0.5714 - accuracy: 0.8295 - val_loss: 1.5258 - val_accuracy: 0.8654\n",
      "Epoch 61/200\n",
      "8/8 [==============================] - 5s 563ms/step - loss: 0.5458 - accuracy: 0.8323 - val_loss: 0.4996 - val_accuracy: 0.8575\n",
      "Epoch 62/200\n",
      "8/8 [==============================] - 4s 517ms/step - loss: 0.5464 - accuracy: 0.8230 - val_loss: 0.5163 - val_accuracy: 0.8654\n",
      "Epoch 63/200\n",
      "8/8 [==============================] - 4s 509ms/step - loss: 0.5611 - accuracy: 0.8341 - val_loss: 0.9503 - val_accuracy: 0.8766\n",
      "Epoch 64/200\n",
      "8/8 [==============================] - 5s 614ms/step - loss: 0.5327 - accuracy: 0.8377 - val_loss: 0.4935 - val_accuracy: 0.8608\n",
      "Epoch 65/200\n",
      "8/8 [==============================] - 4s 511ms/step - loss: 0.5431 - accuracy: 0.8328 - val_loss: 0.5315 - val_accuracy: 0.8590\n",
      "Epoch 66/200\n",
      "8/8 [==============================] - 4s 521ms/step - loss: 0.5453 - accuracy: 0.8353 - val_loss: 0.8613 - val_accuracy: 0.8702\n",
      "Epoch 67/200\n",
      "8/8 [==============================] - 4s 544ms/step - loss: 0.5408 - accuracy: 0.8367 - val_loss: 0.5108 - val_accuracy: 0.8742\n",
      "Epoch 68/200\n",
      "8/8 [==============================] - 4s 539ms/step - loss: 0.5168 - accuracy: 0.8411 - val_loss: 0.5006 - val_accuracy: 0.8574\n",
      "Epoch 69/200\n",
      "8/8 [==============================] - 4s 522ms/step - loss: 0.5443 - accuracy: 0.8367 - val_loss: 1.1234 - val_accuracy: 0.8750\n",
      "Epoch 70/200\n",
      "8/8 [==============================] - 4s 548ms/step - loss: 0.4977 - accuracy: 0.8484 - val_loss: 0.5752 - val_accuracy: 0.8575\n",
      "Epoch 71/200\n",
      "8/8 [==============================] - 5s 575ms/step - loss: 0.5915 - accuracy: 0.8237 - val_loss: 0.5784 - val_accuracy: 0.8349\n",
      "Epoch 72/200\n",
      "8/8 [==============================] - 4s 541ms/step - loss: 0.5406 - accuracy: 0.8265 - val_loss: 0.3903 - val_accuracy: 0.8606\n",
      "Epoch 73/200\n",
      "8/8 [==============================] - 5s 634ms/step - loss: 0.5569 - accuracy: 0.8283 - val_loss: 0.3977 - val_accuracy: 0.8700\n",
      "Epoch 74/200\n",
      "8/8 [==============================] - 4s 531ms/step - loss: 0.5598 - accuracy: 0.8376 - val_loss: 0.4767 - val_accuracy: 0.8718\n",
      "Epoch 75/200\n",
      "8/8 [==============================] - 4s 535ms/step - loss: 0.5512 - accuracy: 0.8369 - val_loss: 0.0976 - val_accuracy: 0.8670\n",
      "Epoch 76/200\n",
      "8/8 [==============================] - 4s 560ms/step - loss: 0.5364 - accuracy: 0.8351 - val_loss: 0.4290 - val_accuracy: 0.8667\n",
      "Epoch 77/200\n",
      "8/8 [==============================] - 4s 533ms/step - loss: 0.5076 - accuracy: 0.8386 - val_loss: 0.4694 - val_accuracy: 0.8654\n",
      "Epoch 78/200\n",
      "8/8 [==============================] - 4s 502ms/step - loss: 0.5008 - accuracy: 0.8498 - val_loss: 0.4850 - val_accuracy: 0.8606\n",
      "Epoch 79/200\n",
      "8/8 [==============================] - 4s 559ms/step - loss: 0.5336 - accuracy: 0.8402 - val_loss: 0.4521 - val_accuracy: 0.8683\n",
      "Epoch 80/200\n",
      "8/8 [==============================] - 4s 516ms/step - loss: 0.5403 - accuracy: 0.8404 - val_loss: 0.5469 - val_accuracy: 0.8590\n",
      "Epoch 81/200\n",
      "8/8 [==============================] - 4s 514ms/step - loss: 0.4934 - accuracy: 0.8453 - val_loss: 0.2792 - val_accuracy: 0.8766\n",
      "Epoch 82/200\n",
      "8/8 [==============================] - 5s 633ms/step - loss: 0.4844 - accuracy: 0.8460 - val_loss: 0.4929 - val_accuracy: 0.8875\n",
      "Epoch 83/200\n",
      "8/8 [==============================] - 4s 530ms/step - loss: 0.4971 - accuracy: 0.8486 - val_loss: 0.4605 - val_accuracy: 0.8702\n",
      "Epoch 84/200\n",
      "8/8 [==============================] - 4s 520ms/step - loss: 0.4609 - accuracy: 0.8530 - val_loss: 0.4772 - val_accuracy: 0.8686\n",
      "Epoch 85/200\n",
      "8/8 [==============================] - 4s 536ms/step - loss: 0.5105 - accuracy: 0.8423 - val_loss: 0.4623 - val_accuracy: 0.8842\n",
      "Epoch 86/200\n",
      "8/8 [==============================] - 4s 519ms/step - loss: 0.4872 - accuracy: 0.8605 - val_loss: 0.4019 - val_accuracy: 0.8926\n",
      "Epoch 87/200\n",
      "8/8 [==============================] - 4s 524ms/step - loss: 0.4754 - accuracy: 0.8535 - val_loss: 0.1528 - val_accuracy: 0.8654\n",
      "Epoch 88/200\n",
      "8/8 [==============================] - 4s 536ms/step - loss: 0.4701 - accuracy: 0.8563 - val_loss: 0.4271 - val_accuracy: 0.8792\n",
      "Epoch 89/200\n",
      "8/8 [==============================] - 4s 537ms/step - loss: 0.4932 - accuracy: 0.8481 - val_loss: 0.4012 - val_accuracy: 0.9022\n",
      "Epoch 90/200\n",
      "8/8 [==============================] - 4s 516ms/step - loss: 0.5178 - accuracy: 0.8463 - val_loss: 0.8774 - val_accuracy: 0.8510\n",
      "Epoch 91/200\n",
      "8/8 [==============================] - 5s 624ms/step - loss: 0.5297 - accuracy: 0.8454 - val_loss: 0.4663 - val_accuracy: 0.8825\n",
      "Epoch 92/200\n",
      "8/8 [==============================] - 4s 525ms/step - loss: 0.4908 - accuracy: 0.8563 - val_loss: 0.4765 - val_accuracy: 0.8702\n",
      "Epoch 93/200\n",
      "8/8 [==============================] - 4s 522ms/step - loss: 0.4851 - accuracy: 0.8586 - val_loss: 0.1970 - val_accuracy: 0.8894\n",
      "Epoch 94/200\n",
      "8/8 [==============================] - 4s 542ms/step - loss: 0.4623 - accuracy: 0.8581 - val_loss: 0.4778 - val_accuracy: 0.8700\n",
      "Epoch 95/200\n",
      "8/8 [==============================] - 4s 526ms/step - loss: 0.4709 - accuracy: 0.8526 - val_loss: 0.4324 - val_accuracy: 0.8798\n",
      "Epoch 96/200\n",
      "8/8 [==============================] - 4s 545ms/step - loss: 0.4641 - accuracy: 0.8619 - val_loss: 0.4519 - val_accuracy: 0.8702\n",
      "Epoch 97/200\n",
      "8/8 [==============================] - 5s 574ms/step - loss: 0.4414 - accuracy: 0.8635 - val_loss: 0.4110 - val_accuracy: 0.8850\n",
      "Epoch 98/200\n",
      "8/8 [==============================] - 4s 514ms/step - loss: 0.4627 - accuracy: 0.8530 - val_loss: 0.4787 - val_accuracy: 0.8958\n",
      "Epoch 99/200\n",
      "8/8 [==============================] - 4s 525ms/step - loss: 0.4679 - accuracy: 0.8614 - val_loss: 0.1668 - val_accuracy: 0.8862\n",
      "Epoch 100/200\n",
      "8/8 [==============================] - 5s 598ms/step - loss: 0.4620 - accuracy: 0.8587 - val_loss: 0.3938 - val_accuracy: 0.8808\n",
      "Epoch 101/200\n",
      "8/8 [==============================] - 4s 538ms/step - loss: 0.4615 - accuracy: 0.8570 - val_loss: 0.5063 - val_accuracy: 0.8734\n",
      "Epoch 102/200\n",
      "8/8 [==============================] - 4s 548ms/step - loss: 0.4664 - accuracy: 0.8553 - val_loss: 0.3733 - val_accuracy: 0.8750\n",
      "Epoch 103/200\n",
      "8/8 [==============================] - 5s 589ms/step - loss: 0.4697 - accuracy: 0.8600 - val_loss: 0.4247 - val_accuracy: 0.8775\n",
      "Epoch 104/200\n",
      "8/8 [==============================] - 4s 496ms/step - loss: 0.4423 - accuracy: 0.8672 - val_loss: 0.4456 - val_accuracy: 0.8926\n",
      "Epoch 105/200\n",
      "8/8 [==============================] - 4s 521ms/step - loss: 0.4710 - accuracy: 0.8567 - val_loss: 0.6137 - val_accuracy: 0.8846\n",
      "Epoch 106/200\n",
      "8/8 [==============================] - 4s 558ms/step - loss: 0.4269 - accuracy: 0.8640 - val_loss: 0.3746 - val_accuracy: 0.8900\n",
      "Epoch 107/200\n",
      "8/8 [==============================] - 4s 522ms/step - loss: 0.4810 - accuracy: 0.8614 - val_loss: 0.3940 - val_accuracy: 0.8958\n",
      "Epoch 108/200\n",
      "8/8 [==============================] - 4s 523ms/step - loss: 0.4497 - accuracy: 0.8588 - val_loss: 0.4135 - val_accuracy: 0.8846\n",
      "Epoch 109/200\n",
      "8/8 [==============================] - 5s 636ms/step - loss: 0.4553 - accuracy: 0.8604 - val_loss: 0.4740 - val_accuracy: 0.8933\n",
      "Epoch 110/200\n",
      "8/8 [==============================] - 4s 539ms/step - loss: 0.4432 - accuracy: 0.8626 - val_loss: 0.4272 - val_accuracy: 0.8878\n",
      "Epoch 111/200\n",
      "8/8 [==============================] - 4s 509ms/step - loss: 0.4345 - accuracy: 0.8654 - val_loss: 0.3598 - val_accuracy: 0.8894\n",
      "Epoch 112/200\n",
      "8/8 [==============================] - 4s 552ms/step - loss: 0.4102 - accuracy: 0.8728 - val_loss: 0.4283 - val_accuracy: 0.8875\n",
      "Epoch 113/200\n",
      "8/8 [==============================] - 4s 546ms/step - loss: 0.4408 - accuracy: 0.8682 - val_loss: 0.4628 - val_accuracy: 0.8750\n",
      "Epoch 114/200\n",
      "8/8 [==============================] - 4s 534ms/step - loss: 0.4497 - accuracy: 0.8581 - val_loss: 0.7454 - val_accuracy: 0.8862\n",
      "Epoch 115/200\n",
      "8/8 [==============================] - 4s 559ms/step - loss: 0.4547 - accuracy: 0.8654 - val_loss: 0.4797 - val_accuracy: 0.8775\n",
      "Epoch 116/200\n",
      "8/8 [==============================] - 4s 544ms/step - loss: 0.4459 - accuracy: 0.8698 - val_loss: 0.4467 - val_accuracy: 0.8926\n",
      "Epoch 117/200\n",
      "8/8 [==============================] - 4s 529ms/step - loss: 0.4560 - accuracy: 0.8598 - val_loss: 0.4326 - val_accuracy: 0.8702\n",
      "Epoch 118/200\n",
      "8/8 [==============================] - 5s 633ms/step - loss: 0.4251 - accuracy: 0.8656 - val_loss: 0.4922 - val_accuracy: 0.8708\n",
      "Epoch 119/200\n",
      "8/8 [==============================] - 4s 502ms/step - loss: 0.4243 - accuracy: 0.8668 - val_loss: 0.4611 - val_accuracy: 0.8814\n",
      "Epoch 120/200\n",
      "8/8 [==============================] - 4s 513ms/step - loss: 0.4651 - accuracy: 0.8700 - val_loss: 0.1670 - val_accuracy: 0.8958\n",
      "Epoch 121/200\n",
      "8/8 [==============================] - 4s 545ms/step - loss: 0.4478 - accuracy: 0.8668 - val_loss: 0.5106 - val_accuracy: 0.8800\n",
      "Epoch 122/200\n",
      "8/8 [==============================] - 4s 520ms/step - loss: 0.4226 - accuracy: 0.8721 - val_loss: 0.4298 - val_accuracy: 0.8814\n",
      "Epoch 123/200\n",
      "8/8 [==============================] - 4s 536ms/step - loss: 0.4176 - accuracy: 0.8700 - val_loss: 0.2537 - val_accuracy: 0.8798\n",
      "Epoch 124/200\n",
      "8/8 [==============================] - 4s 539ms/step - loss: 0.4503 - accuracy: 0.8640 - val_loss: 0.4020 - val_accuracy: 0.8950\n",
      "Epoch 125/200\n",
      "8/8 [==============================] - 4s 541ms/step - loss: 0.4307 - accuracy: 0.8700 - val_loss: 0.4025 - val_accuracy: 0.8942\n",
      "Epoch 126/200\n",
      "8/8 [==============================] - 4s 505ms/step - loss: 0.4027 - accuracy: 0.8768 - val_loss: 0.1077 - val_accuracy: 0.8990\n",
      "Epoch 127/200\n",
      "8/8 [==============================] - 5s 603ms/step - loss: 0.3926 - accuracy: 0.8794 - val_loss: 0.3915 - val_accuracy: 0.8925\n",
      "Epoch 128/200\n",
      "8/8 [==============================] - 4s 541ms/step - loss: 0.4066 - accuracy: 0.8705 - val_loss: 0.3635 - val_accuracy: 0.9006\n",
      "Epoch 129/200\n",
      "8/8 [==============================] - 4s 514ms/step - loss: 0.4187 - accuracy: 0.8726 - val_loss: 0.3301 - val_accuracy: 0.8862\n",
      "Epoch 130/200\n",
      "8/8 [==============================] - 4s 559ms/step - loss: 0.3962 - accuracy: 0.8784 - val_loss: 0.4431 - val_accuracy: 0.9025\n",
      "Epoch 131/200\n",
      "8/8 [==============================] - 4s 514ms/step - loss: 0.3849 - accuracy: 0.8761 - val_loss: 0.4038 - val_accuracy: 0.9006\n",
      "Epoch 132/200\n",
      "8/8 [==============================] - 4s 532ms/step - loss: 0.3818 - accuracy: 0.8838 - val_loss: 0.2991 - val_accuracy: 0.8830\n",
      "Epoch 133/200\n",
      "8/8 [==============================] - 5s 579ms/step - loss: 0.4242 - accuracy: 0.8756 - val_loss: 0.3636 - val_accuracy: 0.8958\n",
      "Epoch 134/200\n",
      "8/8 [==============================] - 4s 509ms/step - loss: 0.3867 - accuracy: 0.8772 - val_loss: 0.4739 - val_accuracy: 0.8846\n",
      "Epoch 135/200\n",
      "8/8 [==============================] - 4s 504ms/step - loss: 0.4231 - accuracy: 0.8710 - val_loss: 0.2686 - val_accuracy: 0.9022\n",
      "Epoch 136/200\n",
      "8/8 [==============================] - 5s 594ms/step - loss: 0.4414 - accuracy: 0.8654 - val_loss: 0.3984 - val_accuracy: 0.8775\n",
      "Epoch 137/200\n",
      "8/8 [==============================] - 4s 507ms/step - loss: 0.3987 - accuracy: 0.8654 - val_loss: 0.4214 - val_accuracy: 0.8942\n",
      "Epoch 138/200\n",
      "8/8 [==============================] - 4s 533ms/step - loss: 0.4077 - accuracy: 0.8791 - val_loss: 0.3197 - val_accuracy: 0.8926\n",
      "Epoch 139/200\n",
      "8/8 [==============================] - 4s 558ms/step - loss: 0.4474 - accuracy: 0.8649 - val_loss: 0.3689 - val_accuracy: 0.8967\n",
      "Epoch 140/200\n",
      "8/8 [==============================] - 4s 513ms/step - loss: 0.4370 - accuracy: 0.8747 - val_loss: 0.3576 - val_accuracy: 0.9022\n",
      "Epoch 141/200\n",
      "8/8 [==============================] - 4s 505ms/step - loss: 0.4075 - accuracy: 0.8721 - val_loss: 0.3015 - val_accuracy: 0.8782\n",
      "Epoch 142/200\n",
      "8/8 [==============================] - 4s 551ms/step - loss: 0.4156 - accuracy: 0.8758 - val_loss: 0.4324 - val_accuracy: 0.8925\n",
      "Epoch 143/200\n",
      "8/8 [==============================] - 4s 508ms/step - loss: 0.4370 - accuracy: 0.8689 - val_loss: 0.3818 - val_accuracy: 0.8974\n",
      "Epoch 144/200\n",
      "8/8 [==============================] - 4s 529ms/step - loss: 0.3940 - accuracy: 0.8842 - val_loss: 0.3387 - val_accuracy: 0.8942\n",
      "Epoch 145/200\n",
      "8/8 [==============================] - 5s 595ms/step - loss: 0.3985 - accuracy: 0.8775 - val_loss: 0.3715 - val_accuracy: 0.8950\n",
      "Epoch 146/200\n",
      "8/8 [==============================] - 4s 505ms/step - loss: 0.3939 - accuracy: 0.8733 - val_loss: 0.5228 - val_accuracy: 0.8926\n",
      "Epoch 147/200\n",
      "8/8 [==============================] - 4s 502ms/step - loss: 0.4176 - accuracy: 0.8724 - val_loss: 0.5363 - val_accuracy: 0.8974\n",
      "Epoch 148/200\n",
      "8/8 [==============================] - 4s 555ms/step - loss: 0.3910 - accuracy: 0.8710 - val_loss: 0.4825 - val_accuracy: 0.8933\n",
      "Epoch 149/200\n",
      "8/8 [==============================] - 4s 532ms/step - loss: 0.4156 - accuracy: 0.8733 - val_loss: 0.4240 - val_accuracy: 0.8910\n",
      "Epoch 150/200\n",
      "8/8 [==============================] - 4s 501ms/step - loss: 0.3890 - accuracy: 0.8796 - val_loss: 1.0442 - val_accuracy: 0.9071\n",
      "Epoch 151/200\n",
      "8/8 [==============================] - 4s 550ms/step - loss: 0.4031 - accuracy: 0.8775 - val_loss: 0.3433 - val_accuracy: 0.8958\n",
      "Epoch 152/200\n",
      "8/8 [==============================] - 4s 512ms/step - loss: 0.3800 - accuracy: 0.8782 - val_loss: 0.4016 - val_accuracy: 0.8958\n",
      "Epoch 153/200\n",
      "8/8 [==============================] - 4s 509ms/step - loss: 0.3828 - accuracy: 0.8791 - val_loss: 0.9959 - val_accuracy: 0.8958\n",
      "Epoch 154/200\n",
      "8/8 [==============================] - 5s 608ms/step - loss: 0.4024 - accuracy: 0.8746 - val_loss: 0.5167 - val_accuracy: 0.8842\n",
      "Epoch 155/200\n",
      "8/8 [==============================] - 4s 505ms/step - loss: 0.3835 - accuracy: 0.8784 - val_loss: 0.3823 - val_accuracy: 0.9103\n",
      "Epoch 156/200\n",
      "8/8 [==============================] - 4s 496ms/step - loss: 0.3571 - accuracy: 0.8861 - val_loss: 0.2598 - val_accuracy: 0.8814\n",
      "Epoch 157/200\n",
      "8/8 [==============================] - 4s 538ms/step - loss: 0.4061 - accuracy: 0.8796 - val_loss: 0.4557 - val_accuracy: 0.8950\n",
      "Epoch 158/200\n",
      "8/8 [==============================] - 4s 511ms/step - loss: 0.3802 - accuracy: 0.8891 - val_loss: 0.3729 - val_accuracy: 0.8926\n",
      "Epoch 159/200\n",
      "8/8 [==============================] - 4s 549ms/step - loss: 0.3752 - accuracy: 0.8826 - val_loss: 0.7032 - val_accuracy: 0.8894\n",
      "Epoch 160/200\n",
      "8/8 [==============================] - 4s 530ms/step - loss: 0.3694 - accuracy: 0.8868 - val_loss: 0.5119 - val_accuracy: 0.8883\n",
      "Epoch 161/200\n",
      "8/8 [==============================] - 4s 508ms/step - loss: 0.3855 - accuracy: 0.8786 - val_loss: 0.4117 - val_accuracy: 0.8878\n",
      "Epoch 162/200\n",
      "8/8 [==============================] - 4s 542ms/step - loss: 0.3675 - accuracy: 0.8870 - val_loss: 0.2832 - val_accuracy: 0.8830\n",
      "Epoch 163/200\n",
      "8/8 [==============================] - 5s 645ms/step - loss: 0.3824 - accuracy: 0.8846 - val_loss: 0.4712 - val_accuracy: 0.8925\n",
      "Epoch 164/200\n",
      "8/8 [==============================] - 4s 504ms/step - loss: 0.3671 - accuracy: 0.8875 - val_loss: 0.4089 - val_accuracy: 0.9087\n",
      "Epoch 165/200\n",
      "8/8 [==============================] - 4s 521ms/step - loss: 0.3595 - accuracy: 0.8891 - val_loss: 0.3478 - val_accuracy: 0.8862\n",
      "Epoch 166/200\n",
      "8/8 [==============================] - 4s 561ms/step - loss: 0.3658 - accuracy: 0.8873 - val_loss: 0.4027 - val_accuracy: 0.9008\n",
      "Epoch 167/200\n",
      "8/8 [==============================] - 4s 508ms/step - loss: 0.3712 - accuracy: 0.8863 - val_loss: 0.3958 - val_accuracy: 0.9103\n",
      "Epoch 168/200\n",
      "8/8 [==============================] - 4s 505ms/step - loss: 0.3853 - accuracy: 0.8910 - val_loss: 0.2529 - val_accuracy: 0.8718\n",
      "Epoch 169/200\n",
      "8/8 [==============================] - 4s 539ms/step - loss: 0.3719 - accuracy: 0.8921 - val_loss: 0.4365 - val_accuracy: 0.8950\n",
      "Epoch 170/200\n",
      "8/8 [==============================] - 4s 526ms/step - loss: 0.3514 - accuracy: 0.8880 - val_loss: 0.4283 - val_accuracy: 0.9022\n",
      "Epoch 171/200\n",
      "8/8 [==============================] - 4s 528ms/step - loss: 0.3612 - accuracy: 0.8877 - val_loss: 0.0884 - val_accuracy: 0.9006\n",
      "Epoch 172/200\n",
      "8/8 [==============================] - 5s 624ms/step - loss: 0.3803 - accuracy: 0.8767 - val_loss: 0.3349 - val_accuracy: 0.8992\n",
      "Epoch 173/200\n",
      "8/8 [==============================] - 4s 510ms/step - loss: 0.3417 - accuracy: 0.8908 - val_loss: 0.3665 - val_accuracy: 0.9022\n",
      "Epoch 174/200\n",
      "8/8 [==============================] - 4s 497ms/step - loss: 0.3641 - accuracy: 0.8845 - val_loss: 0.1587 - val_accuracy: 0.8958\n",
      "Epoch 175/200\n",
      "8/8 [==============================] - 5s 566ms/step - loss: 0.3838 - accuracy: 0.8847 - val_loss: 0.3827 - val_accuracy: 0.9000\n",
      "Epoch 176/200\n",
      "8/8 [==============================] - 4s 517ms/step - loss: 0.3694 - accuracy: 0.8882 - val_loss: 0.4931 - val_accuracy: 0.8814\n",
      "Epoch 177/200\n",
      "8/8 [==============================] - 4s 532ms/step - loss: 0.3556 - accuracy: 0.8868 - val_loss: 0.2295 - val_accuracy: 0.9119\n",
      "Epoch 178/200\n",
      "8/8 [==============================] - 4s 536ms/step - loss: 0.3432 - accuracy: 0.8940 - val_loss: 0.4392 - val_accuracy: 0.8967\n",
      "Epoch 179/200\n",
      "8/8 [==============================] - 4s 559ms/step - loss: 0.3600 - accuracy: 0.8931 - val_loss: 0.4407 - val_accuracy: 0.9071\n",
      "Epoch 180/200\n",
      "8/8 [==============================] - 4s 511ms/step - loss: 0.3525 - accuracy: 0.8863 - val_loss: 1.4749 - val_accuracy: 0.8782\n",
      "Epoch 181/200\n",
      "8/8 [==============================] - 5s 630ms/step - loss: 0.3433 - accuracy: 0.8960 - val_loss: 0.4424 - val_accuracy: 0.9008\n",
      "Epoch 182/200\n",
      "8/8 [==============================] - 4s 493ms/step - loss: 0.3499 - accuracy: 0.8963 - val_loss: 0.4418 - val_accuracy: 0.9038\n",
      "Epoch 183/200\n",
      "8/8 [==============================] - 4s 501ms/step - loss: 0.3632 - accuracy: 0.8873 - val_loss: 0.4077 - val_accuracy: 0.9103\n",
      "Epoch 184/200\n",
      "8/8 [==============================] - 4s 549ms/step - loss: 0.3530 - accuracy: 0.8947 - val_loss: 0.4833 - val_accuracy: 0.8983\n",
      "Epoch 185/200\n",
      "8/8 [==============================] - 4s 526ms/step - loss: 0.3462 - accuracy: 0.8921 - val_loss: 0.3786 - val_accuracy: 0.8926\n",
      "Epoch 186/200\n",
      "8/8 [==============================] - 4s 512ms/step - loss: 0.3491 - accuracy: 0.8868 - val_loss: 0.8448 - val_accuracy: 0.8894\n",
      "Epoch 187/200\n",
      "8/8 [==============================] - 4s 546ms/step - loss: 0.3579 - accuracy: 0.8903 - val_loss: 0.4943 - val_accuracy: 0.8992\n",
      "Epoch 188/200\n",
      "8/8 [==============================] - 4s 504ms/step - loss: 0.3343 - accuracy: 0.8966 - val_loss: 0.4097 - val_accuracy: 0.9006\n",
      "Epoch 189/200\n",
      "8/8 [==============================] - 4s 497ms/step - loss: 0.3407 - accuracy: 0.8921 - val_loss: 0.0977 - val_accuracy: 0.8894\n",
      "Epoch 190/200\n",
      "8/8 [==============================] - 5s 595ms/step - loss: 0.3570 - accuracy: 0.8898 - val_loss: 0.4309 - val_accuracy: 0.8917\n",
      "Epoch 191/200\n",
      "8/8 [==============================] - 4s 514ms/step - loss: 0.3598 - accuracy: 0.8887 - val_loss: 0.3957 - val_accuracy: 0.8894\n",
      "Epoch 192/200\n",
      "8/8 [==============================] - 4s 491ms/step - loss: 0.3872 - accuracy: 0.8828 - val_loss: 0.4211 - val_accuracy: 0.8750\n",
      "Epoch 193/200\n",
      "8/8 [==============================] - 4s 547ms/step - loss: 0.3425 - accuracy: 0.8931 - val_loss: 0.4270 - val_accuracy: 0.9000\n",
      "Epoch 194/200\n",
      "8/8 [==============================] - 4s 510ms/step - loss: 0.3836 - accuracy: 0.8875 - val_loss: 0.3888 - val_accuracy: 0.8974\n",
      "Epoch 195/200\n",
      "8/8 [==============================] - 4s 477ms/step - loss: 0.3697 - accuracy: 0.8877 - val_loss: 1.1188 - val_accuracy: 0.8926\n",
      "Epoch 196/200\n",
      "8/8 [==============================] - 4s 513ms/step - loss: 0.3577 - accuracy: 0.8915 - val_loss: 0.3911 - val_accuracy: 0.9050\n",
      "Epoch 197/200\n",
      "8/8 [==============================] - 4s 501ms/step - loss: 0.3545 - accuracy: 0.8945 - val_loss: 0.3994 - val_accuracy: 0.8926\n",
      "Epoch 198/200\n",
      "8/8 [==============================] - 4s 503ms/step - loss: 0.3443 - accuracy: 0.8889 - val_loss: 0.1689 - val_accuracy: 0.9022\n",
      "Epoch 199/200\n",
      "8/8 [==============================] - 5s 606ms/step - loss: 0.3519 - accuracy: 0.8942 - val_loss: 0.3793 - val_accuracy: 0.8992\n",
      "Epoch 200/200\n",
      "8/8 [==============================] - 4s 517ms/step - loss: 0.3433 - accuracy: 0.8926 - val_loss: 0.4075 - val_accuracy: 0.9071\n"
     ]
    }
   ],
   "source": [
    "seed(1)\n",
    "tensorflow.random.set_seed(2)\n",
    "class_mode=\"sparse\"\n",
    "\n",
    "data_train,data_test= train_test_split(df,stratify=df[\"class\"], test_size=test_size,random_state=42)\n",
    "train_data_generator = ImageDataGenerator(\n",
    "        preprocessing_function = preprocess_input,\n",
    "        # data augmentation\n",
    "        #rotation_range = 10,\n",
    "        zoom_range = zoom_range,\n",
    "        horizontal_flip = horizontal_flip\n",
    "        )\n",
    "\n",
    "test_data_generator = ImageDataGenerator(\n",
    "    preprocessing_function = preprocess_input)\n",
    "\n",
    "\n",
    "\n",
    "\n",
    "train_generator = train_data_generator.flow_from_dataframe(dataframe=data_train,\n",
    "                                                          directory=\"\",\n",
    "                                                           x_col = \"img_paths\",\n",
    "                                                           class_mode =class_mode,\n",
    "                                                          target_size = (28 , 28), \n",
    "                                                          batch_size = batch_size)\n",
    "\n",
    "\n",
    "test_generator = test_data_generator.flow_from_dataframe(dataframe=data_test,\n",
    "                                                          directory=\"\",\n",
    "                                                           x_col = \"img_paths\",\n",
    "                                                           class_mode =class_mode,\n",
    "                                                          target_size = (28 , 28), \n",
    "                                                          batch_size = batch_size)\n",
    "\n",
    "\n",
    "\n",
    "lenet = Sequential()\n",
    "\n",
    "conv_1 = Conv2D(filters = 30,                     # Nombre de filtres\n",
    "                kernel_size = (5, 5),            # Dimensions du noyau\n",
    "                padding = 'valid',               # Mode de Dépassement\n",
    "                input_shape = (28, 28, 3),       # Dimensions de l'image en entrée\n",
    "                activation = 'relu')             # Fonction d'activation\n",
    "\n",
    "max_pool_1 = MaxPooling2D(pool_size = (2, 2))\n",
    "\n",
    "conv_2 = Conv2D(filters = 16,                    \n",
    "                kernel_size = (3, 3),          \n",
    "                padding = 'valid',             \n",
    "                activation = 'relu')\n",
    "\n",
    "max_pool_2 = MaxPooling2D(pool_size = (2, 2))\n",
    "\n",
    "flatten = Flatten()\n",
    "\n",
    "dropout = Dropout(rate = dropout_rate)\n",
    "\n",
    "dense_1 = Dense(units = 128,\n",
    "                activation = 'relu')\n",
    "\n",
    "dense_2 = Dense(units = 9,\n",
    "                activation = 'softmax')\n",
    "\n",
    "lenet.add(conv_1)\n",
    "lenet.add(max_pool_1)\n",
    "lenet.add(conv_2)\n",
    "lenet.add(max_pool_2)\n",
    "lenet.add(dropout)\n",
    "lenet.add(flatten)\n",
    "lenet.add(dense_1)\n",
    "lenet.add(dense_2)\n",
    "\n",
    "# Compilation\n",
    "lenet.compile(loss='sparse_categorical_crossentropy',  # fonction de perte\n",
    "              optimizer='adam',                 # algorithme de descente de gradient\n",
    "              metrics=['accuracy'])             # métrique d'évaluation\n",
    "\n",
    "\n",
    "\n",
    "\n",
    "history=lenet.fit_generator( train_generator,\n",
    "                           steps_per_epoch=len(data_train)//batch_size,\n",
    "                           epochs=epochs,\n",
    "                           workers=-1,\n",
    "                           validation_data=test_generator,\n",
    "                           validation_steps=len(data_test)//batch_size)\n",
    "                          "
   ]
  },
  {
   "cell_type": "code",
   "execution_count": 31,
   "metadata": {},
   "outputs": [],
   "source": [
    "error_indexes = []\n",
    "for i in range(len(test_pred_cnn)):\n",
    "    if (test_pred_lenet_class[i] != y_test_class[i]):\n",
    "        if(test_pred_dense_class[i] != y_test_class[i]):\n",
    "            if(test_pred_cnn_class[i] != y_test_class[i]):\n",
    "                error_indexes += [i]\n",
    "\n",
    "j = 1\n",
    "for i in np.random.choice(error_indexes, size = 3):\n",
    "    img = X_test[i] \n",
    "    img = img.reshape(28, 28)\n",
    "    \n",
    "    plt.subplot(1, 3, j)\n",
    "    j = j + 1\n",
    "    plt.axis('off')\n",
    "    plt.imshow(img,cmap = cm.binary, interpolation='None')\n",
    "    plt.title('True Label: ' + str(y_test_class[i]) \\\n",
    "              + '\\n' + 'Prediction: '+ str(test_pred_lenet_class[i]) \\\n",
    "              + '\\n' + 'Confidence: '+ str(round(test_pred_lenet[i][test_pred_lenet_class[i]], 2)))"
   ]
  },
  {
   "cell_type": "code",
   "execution_count": 31,
   "metadata": {},
   "outputs": [],
   "source": [
    "poch 1/10\n",
    "11/11 [==============================] - 5s 423ms/step - loss: 11.0089 - accuracy: 0.3093 - val_loss: 3.3225 - val_accuracy: 0.5163\n",
    "Epoch 2/10\n",
    "11/11 [==============================] - 4s 393ms/step - loss: 2.2479 - accuracy: 0.4860 - val_loss: 1.7218 - val_accuracy: 0.5533\n",
    "Epoch 3/10\n",
    "11/11 [==============================] - 4s 408ms/step - loss: 1.5495 - accuracy: 0.5701 - val_loss: 1.4726 - val_accuracy: 0.6073\n",
    "Epoch 4/10\n",
    "11/11 [==============================] - 5s 414ms/step - loss: 1.3544 - accuracy: 0.6036 - val_loss: 1.3181 - val_accuracy: 0.6413\n",
    "Epoch 5/10\n",
    "11/11 [==============================] - 4s 407ms/step - loss: 1.3109 - accuracy: 0.6082 - val_loss: 1.3447 - val_accuracy: 0.6173\n",
    "Epoch 6/10\n",
    "11/11 [==============================] - 4s 407ms/step - loss: 1.1939 - accuracy: 0.6364 - val_loss: 1.1633 - val_accuracy: 0.6713\n",
    "Epoch 7/10\n",
    "11/11 [==============================] - 5s 424ms/step - loss: 1.1752 - accuracy: 0.6419 - val_loss: 1.0568 - val_accuracy: 0.6675\n",
    "Epoch 8/10\n",
    "11/11 [==============================] - 5s 425ms/step - loss: 1.1314 - accuracy: 0.6512 - val_loss: 1.0385 - val_accuracy: 0.6750\n",
    "Epoch 9/10\n",
    "11/11 [==============================] - 5s 439ms/step - loss: 1.0817 - accuracy: 0.6834 - val_loss: 1.0033 - val_accuracy: 0.7026\n",
    "Epoch 10/10\n",
    "11/11 [==============================] - 5s 419ms/step - loss: 1.0667 - accuracy: 0.6738 - val_loss: 1.0028 - val_accuracy: 0.6975"
   ]
  },
  {
   "cell_type": "code",
   "execution_count": 93,
   "metadata": {},
   "outputs": [
    {
     "data": {
      "image/png": "[encoded data removed]",
      "text/plain": [
       "<Figure size 1152x864 with 1 Axes>"
      ]
     },
     "metadata": {
      "needs_background": "light"
     },
     "output_type": "display_data"
    }
   ],
   "source": [
    "train_acc=[]\n",
    "test_acc=[]\n",
    "train_acc=history.history['accuracy']\n",
    "test_acc=(history.history['val_accuracy'])\n",
    "test_acc.insert(0,0)    \n",
    "\n",
    "\n",
    "plt.figure(figsize=(16,12))\n",
    "plt.plot(train_acc,label=\"train\");\n",
    "plt.plot(test_acc,label=\"test\");\n",
    "plt.legend()\n",
    "plt.xlabel('Epochs')\n",
    "plt.ylabel('Accuracy')\n",
    "plt.title(\"Accuracy en fonction du nombre d'epoch\");\n",
    "plt.legend();"
   ]
  },
  {
   "cell_type": "code",
   "execution_count": null,
   "metadata": {},
   "outputs": [],
   "source": []
  },
  {
   "cell_type": "code",
   "execution_count": 114,
   "metadata": {},
   "outputs": [
    {
     "data": {
      "text/plain": [
       "'corneille'"
      ]
     },
     "execution_count": 114,
     "metadata": {},
     "output_type": "execute_result"
    }
   ],
   "source": [
    "y_test.iloc[-2]"
   ]
  },
  {
   "cell_type": "code",
   "execution_count": 103,
   "metadata": {},
   "outputs": [
    {
     "data": {
      "text/plain": [
       "array(['corneille', 'autre', 'corneille', ..., 'pigeon', 'corneille',\n",
       "       'autre'], dtype=object)"
      ]
     },
     "execution_count": 103,
     "metadata": {},
     "output_type": "execute_result"
    }
   ],
   "source": [
    "y_predict"
   ]
  },
  {
   "cell_type": "code",
   "execution_count": 104,
   "metadata": {},
   "outputs": [
    {
     "data": {
      "text/plain": [
       "838     corneille\n",
       "4468        autre\n",
       "2869    corneille\n",
       "6002       pigeon\n",
       "1552        autre\n",
       "          ...    \n",
       "300         lapin\n",
       "3028        autre\n",
       "4429       pigeon\n",
       "5527    corneille\n",
       "2490        autre\n",
       "Name: class, Length: 1224, dtype: object"
      ]
     },
     "execution_count": 104,
     "metadata": {},
     "output_type": "execute_result"
    }
   ],
   "source": [
    "y_test"
   ]
  },
  {
   "cell_type": "code",
   "execution_count": null,
   "metadata": {},
   "outputs": [],
   "source": []
  },
  {
   "cell_type": "code",
   "execution_count": null,
   "metadata": {},
   "outputs": [],
   "source": []
  },
  {
   "cell_type": "code",
   "execution_count": 186,
   "metadata": {},
   "outputs": [],
   "source": []
  },
  {
   "cell_type": "code",
   "execution_count": null,
   "metadata": {},
   "outputs": [],
   "source": []
  },
  {
   "cell_type": "code",
   "execution_count": null,
   "metadata": {},
   "outputs": [],
   "source": []
  },
  {
   "cell_type": "code",
   "execution_count": 16,
   "metadata": {},
   "outputs": [],
   "source": [
    "def convert_image(X):\n",
    "    X_img=[]\n",
    "    for image in X:\n",
    "        # Load image\n",
    "        img=cv2.imread(image)\n",
    "        # Resize image\n",
    "        img=cv2.resize(img,(28,28))\n",
    "        # for the black and white image\n",
    "        if img.shape==(28, 28):\n",
    "            img=img.reshape([28,28,1])\n",
    "            img=np.concatenate([img,img,img],axis=2)\n",
    "        # cv2 load the image BGR sequence color (not RGB)\n",
    "        X_img.append(img[...,::-1])\n",
    "    return np.array(X_img)\n",
    "\n",
    "# Load the images train\n",
    "X_train_img = convert_image(data_train.img_paths)\n",
    "Y_train = data_train['class']\n",
    "\n",
    "# Load the images test\n",
    "X_test_img = convert_image(data_test.img_paths)\n",
    "Y_test = data_test['class']"
   ]
  },
  {
   "cell_type": "code",
   "execution_count": 142,
   "metadata": {},
   "outputs": [
    {
     "name": "stderr",
     "output_type": "stream",
     "text": [
      "/home/marcpozzo/anaconda3/lib/python3.7/site-packages/ipykernel_launcher.py:1: UserWarning: Update your `Model` call to the Keras 2 API: `Model(inputs=Tensor(\"co..., outputs=Tensor(\"de...)`\n",
      "  \"\"\"Entry point for launching an IPython kernel.\n",
      "/home/marcpozzo/anaconda3/lib/python3.7/site-packages/sklearn/linear_model/logistic.py:469: FutureWarning: Default multi_class will be changed to 'auto' in 0.22. Specify the multi_class option to silence this warning.\n",
      "  \"this warning.\", FutureWarning)\n",
      "/home/marcpozzo/anaconda3/lib/python3.7/site-packages/sklearn/linear_model/sag.py:337: ConvergenceWarning: The max_iter was reached which means the coef_ did not converge\n",
      "  \"the coef_ did not converge\", ConvergenceWarning)\n"
     ]
    },
    {
     "name": "stdout",
     "output_type": "stream",
     "text": [
      "0.9044117647058824\n",
      "              precision    recall  f1-score   support\n",
      "\n",
      "       autre       0.93      0.98      0.95       615\n",
      "   chevreuil       0.89      0.89      0.89        27\n",
      "   corneille       0.88      0.91      0.89       215\n",
      "      faisan       0.91      0.75      0.82        67\n",
      "       lapin       0.75      0.69      0.72        35\n",
      "      oiseau       0.56      0.34      0.42        44\n",
      "      pigeon       0.89      0.87      0.88       166\n",
      "    tracteur       1.00      0.96      0.98        28\n",
      "     voiture       1.00      0.96      0.98        27\n",
      "\n",
      "    accuracy                           0.90      1224\n",
      "   macro avg       0.87      0.82      0.84      1224\n",
      "weighted avg       0.90      0.90      0.90      1224\n",
      "\n"
     ]
    }
   ],
   "source": [
    "intermediate_layer_model = Model(input=lenet.input, output=lenet.layers[-2].output)\n",
    "\n",
    "X_train_features = intermediate_layer_model.predict(preprocess_input(X_train_img))\n",
    "\n",
    "X_test_features = intermediate_layer_model.predict(preprocess_input(X_test_img))\n",
    "\n",
    "\n",
    "y_train=data_train[\"class\"]\n",
    "y_test=data_test[\"class\"]\n",
    "\n",
    "lg = linear_model.LogisticRegression(C = 1.0,solver='sag')\n",
    "lg.fit(X_train_features, y_train);\n",
    "y_predict=lg.predict(X_test_features)\n",
    "print(lg.score(X_test_features, y_test))\n",
    "print(metrics.classification_report(y_test, y_predict))"
   ]
  },
  {
   "cell_type": "code",
   "execution_count": 130,
   "metadata": {},
   "outputs": [
    {
     "data": {
      "text/plain": [
       "0.9428104575163399"
      ]
     },
     "execution_count": 130,
     "metadata": {},
     "output_type": "execute_result"
    }
   ],
   "source": [
    "Liste_Oiseau=[ 'oiseau', 'corneille', 'pigeon', \n",
    "       'faisan']\n",
    "Liste_Non_Oiseau=['autre', 'chevreuil', 'lapin',\n",
    "        'voiture', 'tracteur']\n",
    "prediction_correcte=0\n",
    "\n",
    "#index iloc\n",
    "#for i in range(10):\n",
    "for i in range(len(y_predict)):\n",
    "    if (  (   (y_test.iloc[i] in Liste_Oiseau) and (y_predict[i] in Liste_Oiseau)   ) or     (   (y_test.iloc[i] in Liste_Non_Oiseau) and (y_predict[i] in Liste_Non_Oiseau)   )                         ):\n",
    "        prediction_correcte+=1\n",
    "        \n",
    "prediction_correcte/len(y_predict)"
   ]
  },
  {
   "cell_type": "code",
   "execution_count": 143,
   "metadata": {},
   "outputs": [
    {
     "data": {
      "text/plain": [
       "0.9477124183006536"
      ]
     },
     "execution_count": 143,
     "metadata": {},
     "output_type": "execute_result"
    }
   ],
   "source": [
    "Liste_Oiseau=[ 'oiseau', 'corneille', 'pigeon', \n",
    "       'faisan']\n",
    "Liste_Non_Oiseau=['autre', 'chevreuil', 'lapin',\n",
    "        'voiture', 'tracteur']\n",
    "prediction_correcte=0\n",
    "\n",
    "#index iloc\n",
    "#for i in range(10):\n",
    "for i in range(len(y_predict)):\n",
    "    if (  (   (y_test.iloc[i] in Liste_Oiseau) and (y_predict[i] in Liste_Oiseau)   ) or     (   (y_test.iloc[i] in Liste_Non_Oiseau) and (y_predict[i] in Liste_Non_Oiseau)   )                         ):\n",
    "        prediction_correcte+=1\n",
    "        \n",
    "prediction_correcte/len(y_predict)"
   ]
  },
  {
   "cell_type": "code",
   "execution_count": 64,
   "metadata": {},
   "outputs": [
    {
     "name": "stdout",
     "output_type": "stream",
     "text": [
      "0.9212730318257957\n",
      "              precision    recall  f1-score   support\n",
      "\n",
      "       autre       0.94      0.97      0.96       684\n",
      "   chevreuil       0.96      0.85      0.90        27\n",
      "   corneille       0.88      0.93      0.90       215\n",
      "      faisan       0.87      0.81      0.84        67\n",
      "       lapin       0.75      0.60      0.67        35\n",
      "      pigeon       0.92      0.83      0.87       166\n",
      "\n",
      "    accuracy                           0.92      1194\n",
      "   macro avg       0.89      0.83      0.86      1194\n",
      "weighted avg       0.92      0.92      0.92      1194\n",
      "\n"
     ]
    },
    {
     "name": "stderr",
     "output_type": "stream",
     "text": [
      "/home/marcpozzo/anaconda3/lib/python3.7/site-packages/ipykernel_launcher.py:4: UserWarning: Update your `Model` call to the Keras 2 API: `Model(inputs=Tensor(\"co..., outputs=Tensor(\"de...)`\n",
      "  after removing the cwd from sys.path.\n"
     ]
    }
   ],
   "source": [
    "from keras.models import load_model\n",
    "\n",
    "lenet.save(\"model.h8\")\n",
    "model = load_model('model.h8')\n",
    "intermediate_layer_model = Model(input=model.input, output=model.layers[-2].output)\n",
    "X_test_features = intermediate_layer_model.predict(preprocess_input(X_test_img))\n",
    "y_predict=lg.predict(X_test_features)\n",
    "print(lg.score(X_test_features, y_test))\n",
    "print(metrics.classification_report(y_test, y_predict))"
   ]
  },
  {
   "cell_type": "code",
   "execution_count": 258,
   "metadata": {},
   "outputs": [
    {
     "name": "stderr",
     "output_type": "stream",
     "text": [
      "/home/marcpozzo/anaconda3/lib/python3.7/site-packages/sklearn/linear_model/logistic.py:432: FutureWarning: Default solver will be changed to 'lbfgs' in 0.22. Specify a solver to silence this warning.\n",
      "  FutureWarning)\n",
      "/home/marcpozzo/anaconda3/lib/python3.7/site-packages/sklearn/linear_model/logistic.py:469: FutureWarning: Default multi_class will be changed to 'auto' in 0.22. Specify the multi_class option to silence this warning.\n",
      "  \"this warning.\", FutureWarning)\n"
     ]
    },
    {
     "name": "stdout",
     "output_type": "stream",
     "text": [
      "0.9212730318257957\n",
      "              precision    recall  f1-score   support\n",
      "\n",
      "       autre       0.94      0.97      0.96       684\n",
      "   chevreuil       0.96      0.85      0.90        27\n",
      "   corneille       0.88      0.93      0.90       215\n",
      "      faisan       0.87      0.81      0.84        67\n",
      "       lapin       0.75      0.60      0.67        35\n",
      "      pigeon       0.92      0.83      0.87       166\n",
      "\n",
      "    accuracy                           0.92      1194\n",
      "   macro avg       0.89      0.83      0.86      1194\n",
      "weighted avg       0.92      0.92      0.92      1194\n",
      "\n"
     ]
    }
   ],
   "source": [
    "from sklearn.linear_model import LogisticRegression\n",
    "lg = LogisticRegression(C = 1.0)\n",
    "lg.fit(X_train_features, y_train);\n",
    "y_predict=lg.predict(X_test_features)\n",
    "print(lg.score(X_test_features, y_test))\n",
    "print(metrics.classification_report(y_test, y_predict))\n"
   ]
  },
  {
   "cell_type": "code",
   "execution_count": 251,
   "metadata": {},
   "outputs": [
    {
     "name": "stdout",
     "output_type": "stream",
     "text": [
      "0.9212730318257957\n",
      "              precision    recall  f1-score   support\n",
      "\n",
      "       autre       0.94      0.97      0.96       684\n",
      "   chevreuil       0.96      0.85      0.90        27\n",
      "   corneille       0.88      0.93      0.90       215\n",
      "      faisan       0.87      0.81      0.84        67\n",
      "       lapin       0.75      0.60      0.67        35\n",
      "      pigeon       0.92      0.83      0.87       166\n",
      "\n",
      "    accuracy                           0.92      1194\n",
      "   macro avg       0.89      0.83      0.86      1194\n",
      "weighted avg       0.92      0.92      0.92      1194\n",
      "\n"
     ]
    }
   ],
   "source": [
    "import pickle\n",
    "filename = 'finalized_model.sav'\n",
    "pickle.dump(lg, open(filename, 'wb'))\n",
    "\n",
    "model = load_model('model.h8')\n",
    "intermediate_layer_model = Model(input=model.input, output=model.layers[-2].output)\n",
    "X_test_features = intermediate_layer_model.predict(preprocess_input(X_test_img))\n",
    "# some time later...\n",
    "# load the model from disk\n",
    "loaded_model = pickle.load(open(filename, 'rb'))\n",
    "result = loaded_model.score(X_test_features, y_test)\n",
    "y_predict=loaded_model.predict(X_test_features)\n",
    "print(lg.score(X_test_features, y_test))\n",
    "print(metrics.classification_report(y_test, y_predict))\n"
   ]
  },
  {
   "cell_type": "code",
   "execution_count": 264,
   "metadata": {},
   "outputs": [
    {
     "name": "stdout",
     "output_type": "stream",
     "text": [
      "0.8492462311557789\n",
      "              precision    recall  f1-score   support\n",
      "\n",
      "       autre       0.92      0.92      0.92       684\n",
      "   chevreuil       0.62      0.74      0.68        27\n",
      "   corneille       0.78      0.88      0.83       215\n",
      "      faisan       0.77      0.73      0.75        67\n",
      "       lapin       0.45      0.43      0.44        35\n",
      "      pigeon       0.80      0.67      0.73       166\n",
      "\n",
      "    accuracy                           0.85      1194\n",
      "   macro avg       0.72      0.73      0.72      1194\n",
      "weighted avg       0.85      0.85      0.85      1194\n",
      "\n"
     ]
    }
   ],
   "source": [
    "from sklearn.tree import DecisionTreeClassifier\n",
    "dt_clf=DecisionTreeClassifier(criterion = \"entropy\",max_depth = 30,random_state = 123)\n",
    "dt_clf.fit(X_train_features, y_train);\n",
    "y_predict=dt_clf.predict(X_test_features)\n",
    "print(dt_clf.score(X_test_features, y_test))\n",
    "print(metrics.classification_report(y_test, y_predict))"
   ]
  },
  {
   "cell_type": "code",
   "execution_count": 257,
   "metadata": {},
   "outputs": [],
   "source": [
    "filename = 'dt_clf_model.sav'\n",
    "pickle.dump(dt_clf, open(filename, 'wb'))"
   ]
  },
  {
   "cell_type": "code",
   "execution_count": 16,
   "metadata": {},
   "outputs": [
    {
     "name": "stderr",
     "output_type": "stream",
     "text": [
      "/home/marcpozzo/anaconda3/lib/python3.7/site-packages/ipykernel_launcher.py:6: UserWarning: Update your `Model` call to the Keras 2 API: `Model(inputs=Tensor(\"co..., outputs=Tensor(\"de...)`\n",
      "  \n"
     ]
    },
    {
     "name": "stdout",
     "output_type": "stream",
     "text": [
      "              precision    recall  f1-score   support\n",
      "\n",
      "       autre       0.87      0.99      0.93       595\n",
      "   chevreuil       0.90      0.96      0.93        27\n",
      "   corneille       0.90      0.97      0.93       209\n",
      "      faisan       0.92      0.85      0.88        67\n",
      "       lapin       0.78      0.71      0.75        35\n",
      "      oiseau       0.00      0.00      0.00        43\n",
      "      pigeon       0.95      0.95      0.95       166\n",
      "    tracteur       0.00      0.00      0.00        28\n",
      "     voiture       0.00      0.00      0.00        27\n",
      "\n",
      "    accuracy                           0.88      1197\n",
      "   macro avg       0.59      0.60      0.60      1197\n",
      "weighted avg       0.81      0.88      0.85      1197\n",
      "\n"
     ]
    },
    {
     "name": "stderr",
     "output_type": "stream",
     "text": [
      "/home/marcpozzo/anaconda3/lib/python3.7/site-packages/sklearn/metrics/classification.py:1437: UndefinedMetricWarning: Precision and F-score are ill-defined and being set to 0.0 in labels with no predicted samples.\n",
      "  'precision', 'predicted', average, warn_for)\n"
     ]
    }
   ],
   "source": [
    "import pickle\n",
    "filename = 'finalized_model.sav'\n",
    "#pickle.dump(lg, open(filename, 'wb'))\n",
    "\n",
    "model = load_model('model.h8',compile=False)\n",
    "intermediate_layer_model = Model(input=model.input, output=model.layers[-2].output)\n",
    "X_test_features = intermediate_layer_model.predict(preprocess_input(X_test_img))\n",
    "# some time later...\n",
    "# load the model from disk\n",
    "loaded_model = pickle.load(open(filename, 'rb'))\n",
    "result = loaded_model.score(X_test_features, y_test)\n",
    "y_predict=loaded_model.predict(X_test_features)\n",
    "#print(lg.score(X_test_features, y_test))\n",
    "print(metrics.classification_report(y_test, y_predict))\n"
   ]
  },
  {
   "cell_type": "code",
   "execution_count": 2,
   "metadata": {},
   "outputs": [
    {
     "name": "stderr",
     "output_type": "stream",
     "text": [
      "Using TensorFlow backend.\n"
     ]
    }
   ],
   "source": [
    "from keras.models import load_model\n",
    " "
   ]
  },
  {
   "cell_type": "code",
   "execution_count": 15,
   "metadata": {},
   "outputs": [],
   "source": [
    "y_test = data_test['class']"
   ]
  },
  {
   "cell_type": "code",
   "execution_count": null,
   "metadata": {},
   "outputs": [],
   "source": []
  },
  {
   "cell_type": "code",
   "execution_count": 17,
   "metadata": {},
   "outputs": [
    {
     "name": "stderr",
     "output_type": "stream",
     "text": [
      "/home/marcpozzo/anaconda3/lib/python3.7/site-packages/ipykernel_launcher.py:6: UserWarning: Update your `Model` call to the Keras 2 API: `Model(inputs=Tensor(\"co..., outputs=Tensor(\"de...)`\n",
      "  \n"
     ]
    },
    {
     "ename": "NameError",
     "evalue": "name 'y_test' is not defined",
     "output_type": "error",
     "traceback": [
      "\u001b[0;31m---------------------------------------------------------------------------\u001b[0m",
      "\u001b[0;31mNameError\u001b[0m                                 Traceback (most recent call last)",
      "\u001b[0;32m<ipython-input-17-2563f6986a40>\u001b[0m in \u001b[0;36m<module>\u001b[0;34m\u001b[0m\n\u001b[1;32m      9\u001b[0m \u001b[0;31m# load the model from disk\u001b[0m\u001b[0;34m\u001b[0m\u001b[0;34m\u001b[0m\u001b[0;34m\u001b[0m\u001b[0m\n\u001b[1;32m     10\u001b[0m \u001b[0mloaded_model\u001b[0m \u001b[0;34m=\u001b[0m \u001b[0mpickle\u001b[0m\u001b[0;34m.\u001b[0m\u001b[0mload\u001b[0m\u001b[0;34m(\u001b[0m\u001b[0mopen\u001b[0m\u001b[0;34m(\u001b[0m\u001b[0mfilename\u001b[0m\u001b[0;34m,\u001b[0m \u001b[0;34m'rb'\u001b[0m\u001b[0;34m)\u001b[0m\u001b[0;34m)\u001b[0m\u001b[0;34m\u001b[0m\u001b[0;34m\u001b[0m\u001b[0m\n\u001b[0;32m---> 11\u001b[0;31m \u001b[0mresult\u001b[0m \u001b[0;34m=\u001b[0m \u001b[0mloaded_model\u001b[0m\u001b[0;34m.\u001b[0m\u001b[0mscore\u001b[0m\u001b[0;34m(\u001b[0m\u001b[0mX_train_features\u001b[0m\u001b[0;34m,\u001b[0m \u001b[0my_test\u001b[0m\u001b[0;34m)\u001b[0m\u001b[0;34m\u001b[0m\u001b[0;34m\u001b[0m\u001b[0m\n\u001b[0m\u001b[1;32m     12\u001b[0m \u001b[0my_predict\u001b[0m\u001b[0;34m=\u001b[0m\u001b[0mloaded_model\u001b[0m\u001b[0;34m.\u001b[0m\u001b[0mpredict\u001b[0m\u001b[0;34m(\u001b[0m\u001b[0mX_train_features\u001b[0m\u001b[0;34m)\u001b[0m\u001b[0;34m\u001b[0m\u001b[0;34m\u001b[0m\u001b[0m\n\u001b[1;32m     13\u001b[0m \u001b[0;31m#print(lg.score(X_test_features, y_test))\u001b[0m\u001b[0;34m\u001b[0m\u001b[0;34m\u001b[0m\u001b[0;34m\u001b[0m\u001b[0m\n",
      "\u001b[0;31mNameError\u001b[0m: name 'y_test' is not defined"
     ]
    }
   ],
   "source": [
    "import pickle\n",
    "filename = 'finalized_model.sav'\n",
    "#pickle.dump(lg, open(filename, 'wb'))\n",
    "\n",
    "model = load_model('model.h8',compile=False)\n",
    "intermediate_layer_model = Model(input=model.input, output=model.layers[-2].output)\n",
    "X_train_features = intermediate_layer_model.predict(preprocess_input(X_train_img))\n",
    "# some time later...\n",
    "# load the model from disk\n",
    "loaded_model = pickle.load(open(filename, 'rb'))\n",
    "result = loaded_model.score(X_train_features, y_test)\n",
    "y_predict=loaded_model.predict(X_train_features)\n",
    "#print(lg.score(X_test_features, y_test))\n",
    "print(metrics.classification_report(y_test, y_predict))\n"
   ]
  },
  {
   "cell_type": "code",
   "execution_count": null,
   "metadata": {},
   "outputs": [],
   "source": []
  }
 ],
 "metadata": {
  "kernelspec": {
   "display_name": "Python 3",
   "language": "python",
   "name": "python3"
  },
  "language_info": {
   "codemirror_mode": {
    "name": "ipython",
    "version": 3
   },
   "file_extension": ".py",
   "mimetype": "text/x-python",
   "name": "python",
   "nbconvert_exporter": "python",
   "pygments_lexer": "ipython3",
   "version": "3.7.4"
  }
 },
 "nbformat": 4,
 "nbformat_minor": 4
}
