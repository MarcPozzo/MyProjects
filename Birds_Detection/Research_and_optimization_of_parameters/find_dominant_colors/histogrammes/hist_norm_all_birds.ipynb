{
 "cells": [
  {
   "cell_type": "markdown",
   "metadata": {},
   "source": [
    "## Distribution of (median imagette - median image)/median image  only for birds imagettes from Alex Anotation and the picture corresponding"
   ]
  },
  {
   "cell_type": "code",
   "execution_count": 39,
   "metadata": {},
   "outputs": [],
   "source": [
    "#D'abord faire un histogramme tout court des birds par folder\n",
    "#Puis hist par rapport med(birds)-med(images)/med(images)\n",
    "liste_path=\"/mnt/VegaSlowDataDisk/c3po_interface_mark/Materiels/listes/pixels_normalized/\"\n",
    "import pandas as pd\n",
    "import cv2\n",
    "import matplotlib.pyplot as plt\n",
    "import colorsys\n",
    "import numpy as np\n",
    "import ast\n",
    "\n",
    "import pickle"
   ]
  },
  {
   "cell_type": "code",
   "execution_count": 40,
   "metadata": {},
   "outputs": [
    {
     "data": {
      "text/html": [
       "<div>\n",
       "<style scoped>\n",
       "    .dataframe tbody tr th:only-of-type {\n",
       "        vertical-align: middle;\n",
       "    }\n",
       "\n",
       "    .dataframe tbody tr th {\n",
       "        vertical-align: top;\n",
       "    }\n",
       "\n",
       "    .dataframe thead th {\n",
       "        text-align: right;\n",
       "    }\n",
       "</style>\n",
       "<table border=\"1\" class=\"dataframe\">\n",
       "  <thead>\n",
       "    <tr style=\"text-align: right;\">\n",
       "      <th></th>\n",
       "      <th>path</th>\n",
       "      <th>filename</th>\n",
       "      <th>width</th>\n",
       "      <th>height</th>\n",
       "      <th>classe</th>\n",
       "      <th>xmin</th>\n",
       "      <th>ymin</th>\n",
       "      <th>xmax</th>\n",
       "      <th>ymax</th>\n",
       "      <th>index</th>\n",
       "      <th>imagetteName</th>\n",
       "    </tr>\n",
       "  </thead>\n",
       "  <tbody>\n",
       "    <tr>\n",
       "      <td>0</td>\n",
       "      <td>./TGO 2019 - photos caméras/Parcelle 1 Guilbot...</td>\n",
       "      <td>DSCF0029.JPG</td>\n",
       "      <td>5200</td>\n",
       "      <td>3900</td>\n",
       "      <td>incertain</td>\n",
       "      <td>828</td>\n",
       "      <td>1592</td>\n",
       "      <td>875</td>\n",
       "      <td>1641</td>\n",
       "      <td>0</td>\n",
       "      <td>DSCF0029_incertain_0.JPG</td>\n",
       "    </tr>\n",
       "    <tr>\n",
       "      <td>1</td>\n",
       "      <td>./TGO 2019 - photos caméras/Parcelle 1 Guilbot...</td>\n",
       "      <td>DSCF0029.JPG</td>\n",
       "      <td>5200</td>\n",
       "      <td>3900</td>\n",
       "      <td>ground</td>\n",
       "      <td>881</td>\n",
       "      <td>1587</td>\n",
       "      <td>928</td>\n",
       "      <td>1636</td>\n",
       "      <td>1</td>\n",
       "      <td>DSCF0029_ground_1.JPG</td>\n",
       "    </tr>\n",
       "    <tr>\n",
       "      <td>2</td>\n",
       "      <td>./TGO 2019 - photos caméras/Parcelle 1 Guilbot...</td>\n",
       "      <td>DSCF0180.JPG</td>\n",
       "      <td>5200</td>\n",
       "      <td>3900</td>\n",
       "      <td>corneille</td>\n",
       "      <td>2842</td>\n",
       "      <td>2731</td>\n",
       "      <td>2876</td>\n",
       "      <td>2767</td>\n",
       "      <td>2</td>\n",
       "      <td>DSCF0180_corneille_2.JPG</td>\n",
       "    </tr>\n",
       "    <tr>\n",
       "      <td>3</td>\n",
       "      <td>./TGO 2019 - photos caméras/Parcelle 1 Guilbot...</td>\n",
       "      <td>DSCF0180.JPG</td>\n",
       "      <td>5200</td>\n",
       "      <td>3900</td>\n",
       "      <td>corneille</td>\n",
       "      <td>2799</td>\n",
       "      <td>2731</td>\n",
       "      <td>2833</td>\n",
       "      <td>2767</td>\n",
       "      <td>3</td>\n",
       "      <td>DSCF0180_corneille_3.JPG</td>\n",
       "    </tr>\n",
       "    <tr>\n",
       "      <td>4</td>\n",
       "      <td>./TGO 2019 - photos caméras/Parcelle 1 Guilbot...</td>\n",
       "      <td>DSCF0258.JPG</td>\n",
       "      <td>5200</td>\n",
       "      <td>3900</td>\n",
       "      <td>pigeon</td>\n",
       "      <td>3249</td>\n",
       "      <td>2638</td>\n",
       "      <td>3541</td>\n",
       "      <td>3286</td>\n",
       "      <td>4</td>\n",
       "      <td>DSCF0258_pigeon_4.JPG</td>\n",
       "    </tr>\n",
       "  </tbody>\n",
       "</table>\n",
       "</div>"
      ],
      "text/plain": [
       "                                                path      filename  width  \\\n",
       "0  ./TGO 2019 - photos caméras/Parcelle 1 Guilbot...  DSCF0029.JPG   5200   \n",
       "1  ./TGO 2019 - photos caméras/Parcelle 1 Guilbot...  DSCF0029.JPG   5200   \n",
       "2  ./TGO 2019 - photos caméras/Parcelle 1 Guilbot...  DSCF0180.JPG   5200   \n",
       "3  ./TGO 2019 - photos caméras/Parcelle 1 Guilbot...  DSCF0180.JPG   5200   \n",
       "4  ./TGO 2019 - photos caméras/Parcelle 1 Guilbot...  DSCF0258.JPG   5200   \n",
       "\n",
       "   height     classe  xmin  ymin  xmax  ymax  index              imagetteName  \n",
       "0    3900  incertain   828  1592   875  1641      0  DSCF0029_incertain_0.JPG  \n",
       "1    3900     ground   881  1587   928  1636      1     DSCF0029_ground_1.JPG  \n",
       "2    3900  corneille  2842  2731  2876  2767      2  DSCF0180_corneille_2.JPG  \n",
       "3    3900  corneille  2799  2731  2833  2767      3  DSCF0180_corneille_3.JPG  \n",
       "4    3900     pigeon  3249  2638  3541  3286      4     DSCF0258_pigeon_4.JPG  "
      ]
     },
     "execution_count": 40,
     "metadata": {},
     "output_type": "execute_result"
    }
   ],
   "source": [
    "images=pd.read_csv(\"/mnt/VegaSlowDataDisk/c3po/Images_aquises/imagettes.csv\")\n",
    "images.head()"
   ]
  },
  {
   "cell_type": "code",
   "execution_count": 41,
   "metadata": {},
   "outputs": [],
   "source": [
    "   \n",
    "fichierClasses= \"/mnt/VegaSlowDataDisk/c3po/Images_aquises/Table_Labels_to_Class.csv\" # overwritten by --classes myFile\n",
    "frame=pd.read_csv(fichierClasses,index_col=False)\n",
    "\n",
    "def to_reference_labels (df,class_colum,frame=frame):\n",
    "\n",
    "    #flatten list in Labels_File\n",
    "    cat=[]\n",
    "    for i in range(len(frame[\"categories\"]) ):\n",
    "        cat.append( frame[\"categories\"][i] )\n",
    "\n",
    "    liste = [ast.literal_eval(item) for item in cat]\n",
    "\n",
    "    # set nouvelle_classe to be the \"unified\" class name\n",
    "    for j in range(len(frame[\"categories\"])):\n",
    "        #classesToReplace = frame[\"categories\"][j].split(\",\")[0][2:-1]\n",
    "        className = frame[\"categories\"][j].split(\",\")[0][2:-1]\n",
    "        #df[\"nouvelle_classe\"]=df[\"classe\"].replace(classesToReplace,className)\n",
    "        df[class_colum]=df[class_colum].replace(liste[j],className)\n",
    "\n",
    "    return df\n",
    "\n",
    "images=to_reference_labels (images,\"classe\")\n",
    "liste_to_keep=[\"corneille\",\"faisan\",\"pigeon\",\"oiseau\"]\n",
    "images=images[images[\"classe\"].isin(liste_to_keep)]  \n",
    "fold_path=\"/mnt/VegaSlowDataDisk/c3po/Images_aquises/Rec_images/\""
   ]
  },
  {
   "cell_type": "markdown",
   "metadata": {},
   "source": [
    "## Dossier 0"
   ]
  },
  {
   "cell_type": "code",
   "execution_count": 42,
   "metadata": {},
   "outputs": [],
   "source": [
    "fold_path=\"/mnt/VegaSlowDataDisk/c3po/Images_aquises/Rec_images/\"\n",
    "images_0=images[images[\"path\"]=='./DonneesPI/timeLapsePhotos_Pi1_0']\n",
    "liste_images_fold0=list(images_0[\"filename\"].unique())\n",
    "liste_images_fold0=liste_images_fold0\n",
    "fold_path=\"/mnt/VegaSlowDataDisk/c3po/Images_aquises/DonneesPI/timeLapsePhotos_Pi1_0/\"\n",
    "imagettes_path=\"/mnt/VegaSlowDataDisk/c3po/Images_aquises/Rec_images/\"\n",
    "birds_norm_liste=[]\n",
    "\n",
    "\n",
    "\n",
    "\n",
    "\n",
    "for image_path in liste_images_fold0:\n",
    "    \n",
    "    path=fold_path+image_path\n",
    "    #print(path)\n",
    "    image_bgr=cv2.imread(path)\n",
    "    image_rgb = cv2.cvtColor(image_bgr, cv2.COLOR_BGR2RGB)\n",
    "    image_rgb_reshape=(image_rgb.reshape(-1,3))\n",
    "\n",
    "    color_image=[]\n",
    "\n",
    "\n",
    "    for i in range(len(image_rgb_reshape)):\n",
    "        pixel=image_rgb_reshape[i]\n",
    "        red=pixel[0]\n",
    "        green=pixel[1]\n",
    "        blue=pixel[2]\n",
    "        hsv=colorsys.rgb_to_hsv(red,green,blue)\n",
    "        color=hsv[0]*360\n",
    "        color_image.append(color)\n",
    "    \n",
    "    #Faire un filtre pour le ciel, éventuellement l'herbe\n",
    "    color_filtre=[ i for i in color_image if (i<100 and (i>10) )]\n",
    "    med_im_color=np.median(color_filtre)\n",
    "    #print(med_im_color)\n",
    "    \n",
    "    imagettes_liste=images[\"imagetteName\"][images[\"filename\"]==image_path]\n",
    "    imagettes_liste=list(imagettes_liste.unique())\n",
    "    \n",
    "    for imagette in imagettes_liste:\n",
    "        color_imagettes_liste=[]\n",
    "        #print(imagette)\n",
    "    \n",
    "    \n",
    "    \n",
    "\n",
    "\n",
    "        path=imagettes_path+imagette\n",
    "        #print(path)\n",
    "        image_bgr=cv2.imread(path)\n",
    "        image_rgb = cv2.cvtColor(image_bgr, cv2.COLOR_BGR2RGB)\n",
    "        image_rgb_reshape=(image_rgb.reshape(-1,3))\n",
    "\n",
    "\n",
    "\n",
    "\n",
    "        for i in range(len(image_rgb_reshape)):\n",
    "            pixel=image_rgb_reshape[i]\n",
    "            red=pixel[0]\n",
    "            green=pixel[1]\n",
    "            blue=pixel[2]\n",
    "            hsv=colorsys.rgb_to_hsv(red,green,blue)\n",
    "            color_imagettes=hsv[0]*360\n",
    "            color_imagettes_liste.append(color_imagettes)\n",
    "            \n",
    "        imagette_med=np.median(color_imagettes_liste)\n",
    "        birds_norm=(imagette_med-med_im_color)/imagette_med\n",
    "        #print(\"différence\",birds_norm)\n",
    "        birds_norm_liste.append(birds_norm)\n",
    "\n",
    "\n",
    "with open(liste_path+\"list0_bn.txt\", \"wb\") as fp:   #Pickling\n",
    "    pickle.dump(birds_norm_liste, fp)\n",
    "    "
   ]
  },
  {
   "cell_type": "code",
   "execution_count": 46,
   "metadata": {},
   "outputs": [
    {
     "data": {
      "image/png": "[encoded data removed]",
      "text/plain": [
       "<Figure size 864x864 with 1 Axes>"
      ]
     },
     "metadata": {
      "needs_background": "light"
     },
     "output_type": "display_data"
    }
   ],
   "source": [
    "liste_path=\"/mnt/VegaSlowDataDisk/c3po_interface_mark/Materiels/listes/pixels_normalized/\"\n",
    "\n",
    "with open(liste_path+\"list0_bn.txt\", \"rb\") as fp:   # Unpickling\n",
    "    birds_norm_0 = pickle.load(fp)\n",
    "\n",
    "plt.figure(figsize=(12,12))\n",
    "plt.title(\"distribution de la médiane d'imagettes d'oiseaux normalisée par la médiane de l'image correspondante pour le dossier 0\")\n",
    "plt.hist(birds_norm_0);"
   ]
  },
  {
   "cell_type": "code",
   "execution_count": null,
   "metadata": {},
   "outputs": [],
   "source": []
  },
  {
   "cell_type": "markdown",
   "metadata": {},
   "source": [
    "## Dossier 1"
   ]
  },
  {
   "cell_type": "code",
   "execution_count": 28,
   "metadata": {},
   "outputs": [
    {
     "name": "stderr",
     "output_type": "stream",
     "text": [
      "/home/marcpozzo/anaconda3/lib/python3.7/site-packages/ipykernel_launcher.py:68: RuntimeWarning: divide by zero encountered in double_scalars\n"
     ]
    }
   ],
   "source": [
    "fold_path=\"/mnt/VegaSlowDataDisk/c3po/Images_aquises/Rec_images/\"\n",
    "images_0=images[images[\"path\"]=='./DonneesPI/timeLapsePhotos_Pi1_1']\n",
    "liste_images_fold0=list(images_0[\"filename\"].unique())\n",
    "liste_images_fold0=liste_images_fold0\n",
    "fold_path=\"/mnt/VegaSlowDataDisk/c3po/Images_aquises/DonneesPI/timeLapsePhotos_Pi1_1/\"\n",
    "imagettes_path=\"/mnt/VegaSlowDataDisk/c3po/Images_aquises/Rec_images/\"\n",
    "birds_norm_liste=[]\n",
    "\n",
    "\n",
    "\n",
    "\n",
    "\n",
    "for image_path in liste_images_fold0:\n",
    "    \n",
    "    path=fold_path+image_path\n",
    "    #print(path)\n",
    "    image_bgr=cv2.imread(path)\n",
    "    image_rgb = cv2.cvtColor(image_bgr, cv2.COLOR_BGR2RGB)\n",
    "    image_rgb_reshape=(image_rgb.reshape(-1,3))\n",
    "\n",
    "    color_image=[]\n",
    "\n",
    "\n",
    "    for i in range(len(image_rgb_reshape)):\n",
    "        pixel=image_rgb_reshape[i]\n",
    "        red=pixel[0]\n",
    "        green=pixel[1]\n",
    "        blue=pixel[2]\n",
    "        hsv=colorsys.rgb_to_hsv(red,green,blue)\n",
    "        color=hsv[0]*360\n",
    "        color_image.append(color)\n",
    "    \n",
    "    #Faire un filtre pour le ciel, éventuellement l'herbe\n",
    "    color_filtre=[ i for i in color_image if (i<100 and (i>10) )]\n",
    "    med_im_color=np.median(color_filtre)\n",
    "    #print(med_im_color)\n",
    "    \n",
    "    imagettes_liste=images[\"imagetteName\"][images[\"filename\"]==image_path]\n",
    "    imagettes_liste=list(imagettes_liste.unique())\n",
    "    \n",
    "    for imagette in imagettes_liste:\n",
    "        color_imagettes_liste=[]\n",
    "        #print(imagette)\n",
    "    \n",
    "    \n",
    "    \n",
    "\n",
    "\n",
    "        path=imagettes_path+imagette\n",
    "        #print(path)\n",
    "        image_bgr=cv2.imread(path)\n",
    "        image_rgb = cv2.cvtColor(image_bgr, cv2.COLOR_BGR2RGB)\n",
    "        image_rgb_reshape=(image_rgb.reshape(-1,3))\n",
    "\n",
    "\n",
    "\n",
    "\n",
    "        for i in range(len(image_rgb_reshape)):\n",
    "            pixel=image_rgb_reshape[i]\n",
    "            red=pixel[0]\n",
    "            green=pixel[1]\n",
    "            blue=pixel[2]\n",
    "            hsv=colorsys.rgb_to_hsv(red,green,blue)\n",
    "            color_imagettes=hsv[0]*360\n",
    "            color_imagettes_liste.append(color_imagettes)\n",
    "            \n",
    "        imagette_med=np.median(color_imagettes_liste)\n",
    "        birds_norm=(imagette_med-med_im_color)/imagette_med\n",
    "        #print(\"différence\",birds_norm)\n",
    "        birds_norm_liste.append(birds_norm)\n",
    "\n",
    "\n",
    "with open(\"list1_bn.txt\", \"wb\") as fp:   #Pickling\n",
    "    pickle.dump(birds_norm_liste, fp)\n",
    "    \n",
    "    \n",
    "\n",
    "\n"
   ]
  },
  {
   "cell_type": "code",
   "execution_count": 64,
   "metadata": {},
   "outputs": [
    {
     "name": "stdout",
     "output_type": "stream",
     "text": [
      "70\n",
      "65\n"
     ]
    },
    {
     "data": {
      "image/png": "[encoded data removed]",
      "text/plain": [
       "<Figure size 432x288 with 1 Axes>"
      ]
     },
     "metadata": {
      "needs_background": "light"
     },
     "output_type": "display_data"
    }
   ],
   "source": [
    "hist_filtre=[ i for i in birds_norm_liste if (i>-100  )]\n",
    "plt.hist(hist_filtre)\n",
    "#plt.hist(birds_norm_liste[550:555])\n",
    "print(len(birds_norm_liste))\n",
    "print(len(hist_filtre))"
   ]
  },
  {
   "cell_type": "code",
   "execution_count": 65,
   "metadata": {},
   "outputs": [
    {
     "data": {
      "text/plain": [
       "(array([ 2.,  1.,  3.,  4.,  2.,  5.,  8., 14., 19.,  6.]),\n",
       " array([0.58260869, 0.61880484, 0.65500098, 0.69119712, 0.72739327,\n",
       "        0.76358941, 0.79978556, 0.8359817 , 0.87217784, 0.90837399,\n",
       "        0.94457013]),\n",
       " <a list of 10 Patch objects>)"
      ]
     },
     "execution_count": 65,
     "metadata": {},
     "output_type": "execute_result"
    },
    {
     "data": {
      "image/png": "[encoded data removed]",
      "text/plain": [
       "<Figure size 432x288 with 1 Axes>"
      ]
     },
     "metadata": {
      "needs_background": "light"
     },
     "output_type": "display_data"
    }
   ],
   "source": [
    "\n",
    "\n",
    "with open(liste_path+\"list1_bn.txt\", \"rb\") as fp:   # Unpickling\n",
    "    birds_norm_1 = pickle.load(fp)\n",
    "    \n",
    "\n",
    "hist_filtre_1=[ i for i in birds_norm_1 if (i>-0.5 and i>0.5)]\n",
    "\n",
    "#plt.figure(figsize=(12,12))\n",
    "plt.title(\"distribution de la médiane d'imagettes d'oiseaux normalisée par la médiane de l'image correspondante pour le dossier 1\")\n",
    "plt.hist(hist_filtre_1)"
   ]
  },
  {
   "cell_type": "code",
   "execution_count": null,
   "metadata": {},
   "outputs": [
    {
     "name": "stderr",
     "output_type": "stream",
     "text": [
      "/home/marcpozzo/anaconda3/lib/python3.7/site-packages/ipykernel_launcher.py:68: RuntimeWarning: divide by zero encountered in double_scalars\n"
     ]
    }
   ],
   "source": [
    "fold_path=\"/mnt/VegaSlowDataDisk/c3po/Images_aquises/Rec_images/\"\n",
    "images_0=images[images[\"path\"]=='./DonneesPI/timeLapsePhotos_Pi1_1']\n",
    "liste_images_fold0=list(images_0[\"filename\"].unique())\n",
    "liste_images_fold0=liste_images_fold0\n",
    "fold_path=\"/mnt/VegaSlowDataDisk/c3po/Images_aquises/DonneesPI/timeLapsePhotos_Pi1_1/\"\n",
    "imagettes_path=\"/mnt/VegaSlowDataDisk/c3po/Images_aquises/Rec_images/\"\n",
    "birds_norm_liste=[]\n",
    "\n",
    "\n",
    "\n",
    "\n",
    "\n",
    "for image_path in liste_images_fold0:\n",
    "    \n",
    "    path=fold_path+image_path\n",
    "    #print(path)\n",
    "    image_bgr=cv2.imread(path)\n",
    "    image_rgb = cv2.cvtColor(image_bgr, cv2.COLOR_BGR2RGB)\n",
    "    image_rgb_reshape=(image_rgb.reshape(-1,3))\n",
    "\n",
    "    color_image=[]\n",
    "\n",
    "\n",
    "    for i in range(len(image_rgb_reshape)):\n",
    "        pixel=image_rgb_reshape[i]\n",
    "        red=pixel[0]\n",
    "        green=pixel[1]\n",
    "        blue=pixel[2]\n",
    "        hsv=colorsys.rgb_to_hsv(red,green,blue)\n",
    "        color=hsv[0]*360\n",
    "        color_image.append(color)\n",
    "    \n",
    "    #Faire un filtre pour le ciel, éventuellement l'herbe\n",
    "    color_filtre=[ i for i in color_image if (i<100 and (i>10) )]\n",
    "    med_im_color=np.median(color_filtre)\n",
    "    #print(med_im_color)\n",
    "    \n",
    "    imagettes_liste=images[\"imagetteName\"][images[\"filename\"]==image_path]\n",
    "    imagettes_liste=list(imagettes_liste.unique())\n",
    "    \n",
    "    for imagette in imagettes_liste:\n",
    "        color_imagettes_liste=[]\n",
    "        #print(imagette)\n",
    "    \n",
    "    \n",
    "    \n",
    "\n",
    "\n",
    "        path=imagettes_path+imagette\n",
    "        #print(path)\n",
    "        image_bgr=cv2.imread(path)\n",
    "        image_rgb = cv2.cvtColor(image_bgr, cv2.COLOR_BGR2RGB)\n",
    "        image_rgb_reshape=(image_rgb.reshape(-1,3))\n",
    "\n",
    "\n",
    "\n",
    "\n",
    "        for i in range(len(image_rgb_reshape)):\n",
    "            pixel=image_rgb_reshape[i]\n",
    "            red=pixel[0]\n",
    "            green=pixel[1]\n",
    "            blue=pixel[2]\n",
    "            hsv=colorsys.rgb_to_hsv(red,green,blue)\n",
    "            color_imagettes=hsv[0]*360\n",
    "            color_imagettes_liste.append(color_imagettes)\n",
    "            \n",
    "        imagette_med=np.median(color_imagettes_liste)\n",
    "        birds_norm=(imagette_med-med_im_color)/imagette_med\n",
    "        #print(\"différence\",birds_norm)\n",
    "        birds_norm_liste.append(birds_norm)\n",
    "\n",
    "\"\"\"\n",
    "with open(\"list1_bn.txt\", \"wb\") as fp:   #Pickling\n",
    "    pickle.dump(birds_norm_liste, fp)\n",
    "    \n",
    "\"\"\"  \n",
    "\n",
    "\n",
    "plt.hist(birds_norm_liste)"
   ]
  },
  {
   "cell_type": "markdown",
   "metadata": {},
   "source": [
    "## Dossier 2"
   ]
  },
  {
   "cell_type": "code",
   "execution_count": 61,
   "metadata": {
    "jupyter": {
     "source_hidden": true
    }
   },
   "outputs": [],
   "source": [
    "fold_path=\"/mnt/VegaSlowDataDisk/c3po/Images_aquises/Rec_images/\"\n",
    "images_0=images[images[\"path\"]=='./DonneesPI/timeLapsePhotos_Pi1_2']\n",
    "liste_images_fold0=list(images_0[\"filename\"].unique())\n",
    "liste_images_fold0=liste_images_fold0\n",
    "fold_path=\"/mnt/VegaSlowDataDisk/c3po/Images_aquises/DonneesPI/timeLapsePhotos_Pi1_2/\"\n",
    "imagettes_path=\"/mnt/VegaSlowDataDisk/c3po/Images_aquises/Rec_images/\"\n",
    "birds_norm_liste=[]\n",
    "\n",
    "\n",
    "\n",
    "\n",
    "\n",
    "for image_path in liste_images_fold0:\n",
    "    \n",
    "    path=fold_path+image_path\n",
    "    #print(path)\n",
    "    image_bgr=cv2.imread(path)\n",
    "    image_rgb = cv2.cvtColor(image_bgr, cv2.COLOR_BGR2RGB)\n",
    "    image_rgb_reshape=(image_rgb.reshape(-1,3))\n",
    "\n",
    "    color_image=[]\n",
    "\n",
    "\n",
    "    for i in range(len(image_rgb_reshape)):\n",
    "        pixel=image_rgb_reshape[i]\n",
    "        red=pixel[0]\n",
    "        green=pixel[1]\n",
    "        blue=pixel[2]\n",
    "        hsv=colorsys.rgb_to_hsv(red,green,blue)\n",
    "        color=hsv[0]*360\n",
    "        color_image.append(color)\n",
    "    \n",
    "    #Faire un filtre pour le ciel, éventuellement l'herbe\n",
    "    color_filtre=[ i for i in color_image if ((i>200) )]\n",
    "    med_im_color=np.median(color_filtre)\n",
    "    #print(med_im_color)\n",
    "    \n",
    "    imagettes_liste=images[\"imagetteName\"][images[\"filename\"]==image_path]\n",
    "    imagettes_liste=list(imagettes_liste.unique())\n",
    "    \n",
    "    for imagette in imagettes_liste:\n",
    "        color_imagettes_liste=[]\n",
    "        #print(imagette)\n",
    "    \n",
    "    \n",
    "    \n",
    "\n",
    "\n",
    "        path=imagettes_path+imagette\n",
    "        #print(path)\n",
    "        image_bgr=cv2.imread(path)\n",
    "        image_rgb = cv2.cvtColor(image_bgr, cv2.COLOR_BGR2RGB)\n",
    "        image_rgb_reshape=(image_rgb.reshape(-1,3))\n",
    "\n",
    "\n",
    "\n",
    "\n",
    "        for i in range(len(image_rgb_reshape)):\n",
    "            pixel=image_rgb_reshape[i]\n",
    "            red=pixel[0]\n",
    "            green=pixel[1]\n",
    "            blue=pixel[2]\n",
    "            hsv=colorsys.rgb_to_hsv(red,green,blue)\n",
    "            color_imagettes=hsv[0]*360\n",
    "            color_imagettes_liste.append(color_imagettes)\n",
    "            \n",
    "        imagette_med=np.median(color_imagettes_liste)\n",
    "        birds_norm=(imagette_med-med_im_color)/imagette_med\n",
    "        #print(\"différence\",birds_norm)\n",
    "        birds_norm_liste.append(birds_norm)\n",
    "\n",
    "\n",
    "with open(\"list2_bn.txt\", \"wb\") as fp:   #Pickling\n",
    "    pickle.dump(birds_norm_liste, fp)\n",
    "    \n",
    "\n",
    "    \n",
    "with open(\"list2_bn.txt\", \"rb\") as fp:   # Unpickling\n",
    "    b = pickle.load(fp)"
   ]
  },
  {
   "cell_type": "code",
   "execution_count": 53,
   "metadata": {},
   "outputs": [],
   "source": [
    "with open(liste_path+\"list2_bn.txt\", \"rb\") as fp:   # Unpickling\n",
    "    birds_norm_2 = pickle.load(fp)\n",
    "    \n",
    "\n",
    "hist_filtre_2=[ i for i in birds_norm_2 if (i>-100  )]\n",
    "\n",
    "plt.figure(figsize=(12,12))\n",
    "plt.title(\"distribution de la médiane d'imagettes d'oiseaux normalisée par la médiane de l'image correspondante pour le dossier 2\")\n",
    "plt.hist(hist_filtre_2);"
   ]
  },
  {
   "cell_type": "code",
   "execution_count": 55,
   "metadata": {
    "jupyter": {
     "source_hidden": true
    }
   },
   "outputs": [
    {
     "data": {
      "image/png": "[encoded data removed]",
      "text/plain": [
       "<Figure size 864x864 with 1 Axes>"
      ]
     },
     "metadata": {
      "needs_background": "light"
     },
     "output_type": "display_data"
    }
   ],
   "source": [
    "with open(liste_path+\"list2_bn.txt\", \"rb\") as fp:   # Unpickling\n",
    "    birds_norm_2 = pickle.load(fp)\n",
    "    \n",
    "\n",
    "hist_filtre_2=[ i for i in birds_norm_2 if (i>-0.3  and i<1)]\n",
    "\n",
    "plt.figure(figsize=(12,12))\n",
    "plt.title(\"distribution de la médiane d'imagettes d'oiseaux normalisée par la médiane de l'image correspondante pour le dossier 2 sans outliers\")\n",
    "plt.hist(hist_filtre_2);"
   ]
  },
  {
   "cell_type": "markdown",
   "metadata": {},
   "source": [
    "## Dossier 3"
   ]
  },
  {
   "cell_type": "code",
   "execution_count": 71,
   "metadata": {},
   "outputs": [],
   "source": [
    "fold_path=\"/mnt/VegaSlowDataDisk/c3po/Images_aquises/Rec_images/\"\n",
    "images_0=images[images[\"path\"]=='./DonneesPI/timeLapsePhotos_Pi1_3']\n",
    "liste_images_fold0=list(images_0[\"filename\"].unique())\n",
    "liste_images_fold0=liste_images_fold0\n",
    "fold_path=\"/mnt/VegaSlowDataDisk/c3po/Images_aquises/DonneesPI/timeLapsePhotos_Pi1_3/\"\n",
    "imagettes_path=\"/mnt/VegaSlowDataDisk/c3po/Images_aquises/Rec_images/\"\n",
    "birds_norm_liste=[]\n",
    "\n",
    "\n",
    "\n",
    "\n",
    "\n",
    "for image_path in liste_images_fold0:\n",
    "    \n",
    "    path=fold_path+image_path\n",
    "    #print(path)\n",
    "    image_bgr=cv2.imread(path)\n",
    "    image_rgb = cv2.cvtColor(image_bgr, cv2.COLOR_BGR2RGB)\n",
    "    image_rgb_reshape=(image_rgb.reshape(-1,3))\n",
    "\n",
    "    color_image=[]\n",
    "\n",
    "\n",
    "    for i in range(len(image_rgb_reshape)):\n",
    "        pixel=image_rgb_reshape[i]\n",
    "        red=pixel[0]\n",
    "        green=pixel[1]\n",
    "        blue=pixel[2]\n",
    "        hsv=colorsys.rgb_to_hsv(red,green,blue)\n",
    "        color=hsv[0]*360\n",
    "        color_image.append(color)\n",
    "    \n",
    "    #Faire un filtre pour le ciel, éventuellement l'herbe\n",
    "    color_filtre=[ i for i in color_image if (i<100 and (i>10) )]\n",
    "    med_im_color=np.median(color_filtre)\n",
    "    #print(med_im_color)\n",
    "    \n",
    "    imagettes_liste=images[\"imagetteName\"][images[\"filename\"]==image_path]\n",
    "    imagettes_liste=list(imagettes_liste.unique())\n",
    "    \n",
    "    for imagette in imagettes_liste:\n",
    "        color_imagettes_liste=[]\n",
    "        #print(imagette)\n",
    "    \n",
    "    \n",
    "    \n",
    "\n",
    "\n",
    "        path=imagettes_path+imagette\n",
    "        #print(path)\n",
    "        image_bgr=cv2.imread(path)\n",
    "        image_rgb = cv2.cvtColor(image_bgr, cv2.COLOR_BGR2RGB)\n",
    "        image_rgb_reshape=(image_rgb.reshape(-1,3))\n",
    "\n",
    "\n",
    "\n",
    "\n",
    "        for i in range(len(image_rgb_reshape)):\n",
    "            pixel=image_rgb_reshape[i]\n",
    "            red=pixel[0]\n",
    "            green=pixel[1]\n",
    "            blue=pixel[2]\n",
    "            hsv=colorsys.rgb_to_hsv(red,green,blue)\n",
    "            color_imagettes=hsv[0]*360\n",
    "            color_imagettes_liste.append(color_imagettes)\n",
    "            \n",
    "        imagette_med=np.median(color_imagettes_liste)\n",
    "        birds_norm=(imagette_med-med_im_color)/imagette_med\n",
    "        #print(\"différence\",birds_norm)\n",
    "        birds_norm_liste.append(birds_norm)\n",
    "\n",
    "\n",
    "with open(\"list3_bn.txt\", \"wb\") as fp:   #Pickling\n",
    "    pickle.dump(birds_norm_liste, fp)\n",
    "    \n",
    "    \n",
    "with open(\"list3_bn.txt\", \"rb\") as fp:   # Unpickling\n",
    "    b = pickle.load(fp)\n",
    "\n",
    "plt.title(\"distribution des pixels des oiseaux normalisés par les pixels de l'image entière pour le dossier3 \")\n",
    "plt.hist(b)"
   ]
  },
  {
   "cell_type": "code",
   "execution_count": null,
   "metadata": {},
   "outputs": [],
   "source": []
  },
  {
   "cell_type": "code",
   "execution_count": 10,
   "metadata": {},
   "outputs": [
    {
     "name": "stdout",
     "output_type": "stream",
     "text": [
      "nombre d'imagettes total d'oiseaux 492\n",
      "nombre d'imagettes restants après avoir enlevé les outliers 354\n"
     ]
    },
    {
     "data": {
      "text/plain": [
       "(array([36., 30., 51., 72., 68., 57., 20.,  7.,  8.,  5.]),\n",
       " array([-0.49999989, -0.40129241, -0.30258494, -0.20387747, -0.10516999,\n",
       "        -0.00646252,  0.09224495,  0.19095242,  0.2896599 ,  0.38836737,\n",
       "         0.48707484]),\n",
       " <a list of 10 Patch objects>)"
      ]
     },
     "execution_count": 10,
     "metadata": {},
     "output_type": "execute_result"
    },
    {
     "data": {
      "image/png": "[encoded data removed]",
      "text/plain": [
       "<Figure size 432x288 with 1 Axes>"
      ]
     },
     "metadata": {
      "needs_background": "light"
     },
     "output_type": "display_data"
    }
   ],
   "source": [
    "\n",
    "with open(\"../list3_bn.txt\", \"rb\") as fp:   # Unpickling\n",
    "    liste3 = pickle.load(fp)\n",
    "\n",
    "hist_filtre=[ i for i in liste3 if (i>-0.5 and i<0.5 )]\n",
    "plt.hist(hist_filtre)\n",
    "print(\"nombre d'imagettes total d'oiseaux\",len(liste3))\n",
    "print(\"nombre d'imagettes restants après avoir enlevé les outliers\",len(hist_filtre))\n",
    "plt.hist(hist_filtre)"
   ]
  },
  {
   "cell_type": "code",
   "execution_count": 58,
   "metadata": {},
   "outputs": [],
   "source": [
    "with open(\"../list3_bn.txt\", \"rb\") as fp:   # Unpickling\n",
    "    birds_norm_3 = pickle.load(fp)\n",
    "    \n",
    "\n",
    "hist_filtre_3=[ i for i in birds_norm_liste if (i>-100  )]\n",
    "\n",
    "plt.figure(figsize=(12,12))\n",
    "plt.title(\"distribution de la médiane d'imagettes d'oiseaux normalisée par la médiane de l'image correspondante pour le dossier 3\")\n",
    "plt.hist(hist_filtre_3)"
   ]
  },
  {
   "cell_type": "code",
   "execution_count": 59,
   "metadata": {},
   "outputs": [
    {
     "data": {
      "text/plain": [
       "(array([  1.,   0.,   5.,  10., 102., 126.,  17.,   7.,   3.,   4.]),\n",
       " array([-0.47733909, -0.39577378, -0.31420847, -0.23264315, -0.15107784,\n",
       "        -0.06951252,  0.01205279,  0.0936181 ,  0.17518342,  0.25674873,\n",
       "         0.33831405]),\n",
       " <a list of 10 Patch objects>)"
      ]
     },
     "execution_count": 59,
     "metadata": {},
     "output_type": "execute_result"
    },
    {
     "data": {
      "image/png": "[encoded data removed]",
      "text/plain": [
       "<Figure size 864x864 with 1 Axes>"
      ]
     },
     "metadata": {
      "needs_background": "light"
     },
     "output_type": "display_data"
    }
   ],
   "source": [
    "with open(\"../list3_bn.txt\", \"rb\") as fp:   # Unpickling\n",
    "    birds_norm_3 = pickle.load(fp)\n",
    "    \n",
    "\n",
    "hist_filtre_3=[ i for i in birds_norm_liste if (i>-0.5 and i<0.5 )]\n",
    "\n",
    "plt.figure(figsize=(12,12))\n",
    "plt.title(\"distribution de la médiane d'imagettes d'oiseaux normalisée par la médiane de l'image correspondante pour le dossier 3\")\n",
    "plt.hist(hist_filtre_3)"
   ]
  },
  {
   "cell_type": "markdown",
   "metadata": {},
   "source": [
    "## Dossier 4"
   ]
  },
  {
   "cell_type": "code",
   "execution_count": 30,
   "metadata": {},
   "outputs": [
    {
     "data": {
      "text/plain": [
       "(array([  1.,   0.,   1.,   0.,   1.,   1.,  12., 118., 165.,  51.]),\n",
       " array([-4.83333371, -4.2578112 , -3.6822887 , -3.1067662 , -2.53124369,\n",
       "        -1.95572119, -1.38019869, -0.80467618, -0.22915368,  0.34636882,\n",
       "         0.92189133]),\n",
       " <a list of 10 Patch objects>)"
      ]
     },
     "execution_count": 30,
     "metadata": {},
     "output_type": "execute_result"
    },
    {
     "data": {
      "image/png": "[encoded data removed]",
      "text/plain": [
       "<Figure size 432x288 with 1 Axes>"
      ]
     },
     "metadata": {
      "needs_background": "light"
     },
     "output_type": "display_data"
    }
   ],
   "source": [
    "fold_path=\"/mnt/VegaSlowDataDisk/c3po/Images_aquises/Rec_images/\"\n",
    "images_0=images[images[\"path\"]=='./DonneesPI/timeLapsePhotos_Pi1_4']\n",
    "liste_images_fold0=list(images_0[\"filename\"].unique())\n",
    "liste_images_fold0=liste_images_fold0\n",
    "fold_path=\"/mnt/VegaSlowDataDisk/c3po/Images_aquises/DonneesPI/timeLapsePhotos_Pi1_4/\"\n",
    "imagettes_path=\"/mnt/VegaSlowDataDisk/c3po/Images_aquises/Rec_images/\"\n",
    "birds_norm_liste=[]\n",
    "\n",
    "\n",
    "\n",
    "\n",
    "\n",
    "for image_path in liste_images_fold0:\n",
    "    \n",
    "    path=fold_path+image_path\n",
    "    #print(path)\n",
    "    image_bgr=cv2.imread(path)\n",
    "    image_rgb = cv2.cvtColor(image_bgr, cv2.COLOR_BGR2RGB)\n",
    "    image_rgb_reshape=(image_rgb.reshape(-1,3))\n",
    "\n",
    "    color_image=[]\n",
    "\n",
    "\n",
    "    for i in range(len(image_rgb_reshape)):\n",
    "        pixel=image_rgb_reshape[i]\n",
    "        red=pixel[0]\n",
    "        green=pixel[1]\n",
    "        blue=pixel[2]\n",
    "        hsv=colorsys.rgb_to_hsv(red,green,blue)\n",
    "        color=hsv[0]*360\n",
    "        color_image.append(color)\n",
    "    \n",
    "    #Faire un filtre pour le ciel, éventuellement l'herbe\n",
    "    color_filtre=[ i for i in color_image if (i<100 and (i>10) )]\n",
    "    med_im_color=np.median(color_filtre)\n",
    "    #print(med_im_color)\n",
    "    \n",
    "    imagettes_liste=images[\"imagetteName\"][images[\"filename\"]==image_path]\n",
    "    imagettes_liste=list(imagettes_liste.unique())\n",
    "    \n",
    "    for imagette in imagettes_liste:\n",
    "        color_imagettes_liste=[]\n",
    "        #print(imagette)\n",
    "    \n",
    "    \n",
    "    \n",
    "\n",
    "\n",
    "        path=imagettes_path+imagette\n",
    "        #print(path)\n",
    "        image_bgr=cv2.imread(path)\n",
    "        image_rgb = cv2.cvtColor(image_bgr, cv2.COLOR_BGR2RGB)\n",
    "        image_rgb_reshape=(image_rgb.reshape(-1,3))\n",
    "\n",
    "\n",
    "\n",
    "\n",
    "        for i in range(len(image_rgb_reshape)):\n",
    "            pixel=image_rgb_reshape[i]\n",
    "            red=pixel[0]\n",
    "            green=pixel[1]\n",
    "            blue=pixel[2]\n",
    "            hsv=colorsys.rgb_to_hsv(red,green,blue)\n",
    "            color_imagettes=hsv[0]*360\n",
    "            color_imagettes_liste.append(color_imagettes)\n",
    "            \n",
    "        imagette_med=np.median(color_imagettes_liste)\n",
    "        birds_norm=(imagette_med-med_im_color)/imagette_med\n",
    "        #print(\"différence\",birds_norm)\n",
    "        birds_norm_liste.append(birds_norm)\n",
    "\n",
    "\n",
    "with open(\"list4_bn.txt\", \"wb\") as fp:   #Pickling\n",
    "    pickle.dump(birds_norm_liste, fp)\n",
    "    \n",
    "    \n",
    "with open(\"list4_bn.txt\", \"rb\") as fp:   # Unpickling\n",
    "    liste4 = pickle.load(fp)\n",
    "\n",
    "plt.title(\"distribution des pixels des oiseaux normalisés par les pixels de l'image entière pour le dossier4 \")\n",
    "plt.hist(liste4)"
   ]
  },
  {
   "cell_type": "code",
   "execution_count": null,
   "metadata": {},
   "outputs": [],
   "source": [
    "with open(\"list4_bn.txt\", \"rb\") as fp:   # Unpickling\n",
    "    liste3 = pickle.load(fp)\n",
    "\n",
    "hist_filtre=[ i for i in birds_norm_liste if (i>-0.3  and i<1)]\n",
    "plt.hist(hist_filtre)\n",
    "print(\"nombre d'imagettes total d'oiseaux\",len(liste3))\n",
    "print(\"nombre d'imagettes restants après avoir enlevé les outliers\",len(hist_filtre))\n",
    "plt.hist(hist_filtre)"
   ]
  },
  {
   "cell_type": "code",
   "execution_count": 61,
   "metadata": {},
   "outputs": [
    {
     "data": {
      "text/plain": [
       "(array([  1.,   0.,   5.,  10., 102., 126.,  17.,   7.,   3.,   4.]),\n",
       " array([-0.47733909, -0.39577378, -0.31420847, -0.23264315, -0.15107784,\n",
       "        -0.06951252,  0.01205279,  0.0936181 ,  0.17518342,  0.25674873,\n",
       "         0.33831405]),\n",
       " <a list of 10 Patch objects>)"
      ]
     },
     "execution_count": 61,
     "metadata": {},
     "output_type": "execute_result"
    },
    {
     "data": {
      "image/png": "[encoded data removed]",
      "text/plain": [
       "<Figure size 432x288 with 1 Axes>"
      ]
     },
     "metadata": {
      "needs_background": "light"
     },
     "output_type": "display_data"
    }
   ],
   "source": [
    "with open(\"list4_bn.txt\", \"rb\") as fp:   # Unpickling\n",
    "    birds_norm_4 = pickle.load(fp)\n",
    "    \n",
    "\n",
    "hist_filtre_4=[ i for i in birds_norm_liste if (i>-100  )]\n",
    "\n",
    "#plt.figure(figsize=(12,12))\n",
    "plt.title(\"distribution de la médiane d'imagettes d'oiseaux normalisée par la médiane de l'image correspondante pour le dossier 4\")\n",
    "plt.hist(hist_filtre_4)"
   ]
  },
  {
   "cell_type": "code",
   "execution_count": null,
   "metadata": {},
   "outputs": [],
   "source": []
  },
  {
   "cell_type": "code",
   "execution_count": null,
   "metadata": {},
   "outputs": [],
   "source": []
  },
  {
   "cell_type": "code",
   "execution_count": null,
   "metadata": {},
   "outputs": [],
   "source": []
  }
 ],
 "metadata": {
  "kernelspec": {
   "display_name": "Python 3",
   "language": "python",
   "name": "python3"
  },
  "language_info": {
   "codemirror_mode": {
    "name": "ipython",
    "version": 3
   },
   "file_extension": ".py",
   "mimetype": "text/x-python",
   "name": "python",
   "nbconvert_exporter": "python",
   "pygments_lexer": "ipython3",
   "version": "3.7.4"
  }
 },
 "nbformat": 4,
 "nbformat_minor": 4
}
