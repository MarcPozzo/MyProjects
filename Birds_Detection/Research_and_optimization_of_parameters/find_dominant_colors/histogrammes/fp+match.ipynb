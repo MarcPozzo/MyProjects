{
 "cells": [
  {
   "cell_type": "markdown",
   "metadata": {},
   "source": [
    "##  Distribution of (median imagette - median image)/median image  only for birds imagettes generated and the picture corresponding"
   ]
  },
  {
   "cell_type": "code",
   "execution_count": 6,
   "metadata": {},
   "outputs": [],
   "source": [
    "#Aller voir dans le masque en attendant \n",
    "#Une autre amélioration serait de regarder les distributions pour chaque type d'oiseau\n",
    "#Envoyer un message à Corentin pour vérifier que j'effectue la bonne normalisation avant de lui présenter tout\n",
    "\n",
    "\n",
    "#D'abord faire un histogramme tout court des birds par folder\n",
    "#Puis hist par rapport med(birds)-med(images)/med(images)"
   ]
  },
  {
   "cell_type": "code",
   "execution_count": 6,
   "metadata": {},
   "outputs": [],
   "source": [
    "\n",
    "import pandas as pd\n",
    "import cv2\n",
    "import matplotlib.pyplot as plt\n",
    "import colorsys\n",
    "import numpy as np\n",
    "import ast\n",
    "\n",
    "import pickle"
   ]
  },
  {
   "cell_type": "code",
   "execution_count": 7,
   "metadata": {},
   "outputs": [
    {
     "data": {
      "text/html": [
       "<div>\n",
       "<style scoped>\n",
       "    .dataframe tbody tr th:only-of-type {\n",
       "        vertical-align: middle;\n",
       "    }\n",
       "\n",
       "    .dataframe tbody tr th {\n",
       "        vertical-align: top;\n",
       "    }\n",
       "\n",
       "    .dataframe thead th {\n",
       "        text-align: right;\n",
       "    }\n",
       "</style>\n",
       "<table border=\"1\" class=\"dataframe\">\n",
       "  <thead>\n",
       "    <tr style=\"text-align: right;\">\n",
       "      <th></th>\n",
       "      <th>path</th>\n",
       "      <th>filename</th>\n",
       "      <th>imagetteName</th>\n",
       "      <th>max_cat</th>\n",
       "      <th>predict_cat</th>\n",
       "      <th>xmin</th>\n",
       "      <th>xmax</th>\n",
       "      <th>ymin</th>\n",
       "      <th>ymax</th>\n",
       "      <th>former_index</th>\n",
       "      <th>IsFP</th>\n",
       "      <th>reel_classe</th>\n",
       "    </tr>\n",
       "  </thead>\n",
       "  <tbody>\n",
       "    <tr>\n",
       "      <td>0</td>\n",
       "      <td>./DonneesPI/timeLapsePhotos_Pi1_0</td>\n",
       "      <td>image_2019-04-30_18-17-30.jpg</td>\n",
       "      <td>image_2019-04-30_18-17-30_356_51_5.jpg</td>\n",
       "      <td>0.513831</td>\n",
       "      <td>5.0</td>\n",
       "      <td>509</td>\n",
       "      <td>518</td>\n",
       "      <td>290</td>\n",
       "      <td>298</td>\n",
       "      <td>356.0</td>\n",
       "      <td>1</td>\n",
       "      <td>0</td>\n",
       "    </tr>\n",
       "    <tr>\n",
       "      <td>1</td>\n",
       "      <td>./DonneesPI/timeLapsePhotos_Pi1_0</td>\n",
       "      <td>image_2019-04-30_18-17-30.jpg</td>\n",
       "      <td>image_2019-04-30_18-17-30_295_91_5.jpg</td>\n",
       "      <td>0.914196</td>\n",
       "      <td>5.0</td>\n",
       "      <td>992</td>\n",
       "      <td>1014</td>\n",
       "      <td>321</td>\n",
       "      <td>339</td>\n",
       "      <td>295.0</td>\n",
       "      <td>1</td>\n",
       "      <td>0</td>\n",
       "    </tr>\n",
       "    <tr>\n",
       "      <td>2</td>\n",
       "      <td>./DonneesPI/timeLapsePhotos_Pi1_0</td>\n",
       "      <td>image_2019-04-30_18-17-30.jpg</td>\n",
       "      <td>image_2019-04-30_18-17-30_296_93_2.jpg</td>\n",
       "      <td>0.932135</td>\n",
       "      <td>2.0</td>\n",
       "      <td>1197</td>\n",
       "      <td>1211</td>\n",
       "      <td>319</td>\n",
       "      <td>333</td>\n",
       "      <td>296.0</td>\n",
       "      <td>0</td>\n",
       "      <td>2</td>\n",
       "    </tr>\n",
       "    <tr>\n",
       "      <td>3</td>\n",
       "      <td>./DonneesPI/timeLapsePhotos_Pi1_0</td>\n",
       "      <td>image_2019-04-30_18-17-47.jpg</td>\n",
       "      <td>image_2019-04-30_18-17-47_689_74_5.jpg</td>\n",
       "      <td>0.742045</td>\n",
       "      <td>5.0</td>\n",
       "      <td>982</td>\n",
       "      <td>987</td>\n",
       "      <td>334</td>\n",
       "      <td>339</td>\n",
       "      <td>689.0</td>\n",
       "      <td>1</td>\n",
       "      <td>0</td>\n",
       "    </tr>\n",
       "    <tr>\n",
       "      <td>4</td>\n",
       "      <td>./DonneesPI/timeLapsePhotos_Pi1_0</td>\n",
       "      <td>image_2019-04-30_18-17-47.jpg</td>\n",
       "      <td>image_2019-04-30_18-17-47_683_73_5.jpg</td>\n",
       "      <td>0.725646</td>\n",
       "      <td>5.0</td>\n",
       "      <td>853</td>\n",
       "      <td>867</td>\n",
       "      <td>339</td>\n",
       "      <td>356</td>\n",
       "      <td>683.0</td>\n",
       "      <td>1</td>\n",
       "      <td>0</td>\n",
       "    </tr>\n",
       "  </tbody>\n",
       "</table>\n",
       "</div>"
      ],
      "text/plain": [
       "                                path                       filename  \\\n",
       "0  ./DonneesPI/timeLapsePhotos_Pi1_0  image_2019-04-30_18-17-30.jpg   \n",
       "1  ./DonneesPI/timeLapsePhotos_Pi1_0  image_2019-04-30_18-17-30.jpg   \n",
       "2  ./DonneesPI/timeLapsePhotos_Pi1_0  image_2019-04-30_18-17-30.jpg   \n",
       "3  ./DonneesPI/timeLapsePhotos_Pi1_0  image_2019-04-30_18-17-47.jpg   \n",
       "4  ./DonneesPI/timeLapsePhotos_Pi1_0  image_2019-04-30_18-17-47.jpg   \n",
       "\n",
       "                             imagetteName   max_cat  predict_cat  xmin  xmax  \\\n",
       "0  image_2019-04-30_18-17-30_356_51_5.jpg  0.513831          5.0   509   518   \n",
       "1  image_2019-04-30_18-17-30_295_91_5.jpg  0.914196          5.0   992  1014   \n",
       "2  image_2019-04-30_18-17-30_296_93_2.jpg  0.932135          2.0  1197  1211   \n",
       "3  image_2019-04-30_18-17-47_689_74_5.jpg  0.742045          5.0   982   987   \n",
       "4  image_2019-04-30_18-17-47_683_73_5.jpg  0.725646          5.0   853   867   \n",
       "\n",
       "   ymin  ymax  former_index  IsFP  reel_classe  \n",
       "0   290   298         356.0     1            0  \n",
       "1   321   339         295.0     1            0  \n",
       "2   319   333         296.0     0            2  \n",
       "3   334   339         689.0     1            0  \n",
       "4   339   356         683.0     1            0  "
      ]
     },
     "execution_count": 7,
     "metadata": {},
     "output_type": "execute_result"
    }
   ],
   "source": [
    "#dic_labels_to_num,dic_num_to_labels=dictionnaire_conversion()\n",
    "\n",
    "n_path=\"/mnt/VegaSlowDataDisk/c3po/Annotation_automatique/\"\n",
    "images=pd.read_csv(n_path+\"fp+an_gen_tf.csv\")\n",
    "images.head()"
   ]
  },
  {
   "cell_type": "code",
   "execution_count": null,
   "metadata": {
    "jupyter": {
     "source_hidden": true
    }
   },
   "outputs": [],
   "source": [
    "folder_imagettes=\"tf_200ep/\"\n",
    "\n",
    "liste_img_paths=[]\n",
    "for i in range(len(gen_imagettes)):\n",
    "    liste_img_paths.append(n_path+folder_imagettes+gen_imagettes[\"imagetteName\"].iloc[i])\n",
    "\n",
    "gen_imagettes[\"img_paths\"]=liste_img_paths\n",
    "gen_imagettes.head()\n",
    "\n",
    "gen_imagettes[\"class\"]=\"autre\"\n",
    "\n",
    "for i in range(len(gen_imagettes)):\n",
    "    if gen_imagettes[\"IsFP\"].iloc[i]==0:\n",
    "        gen_imagettes[\"class\"].iloc[i]=dic_num_to_labels[gen_imagettes[\"reel_classe\"].iloc[i]]\n",
    "    \n",
    "gen_imagettes.head()  "
   ]
  },
  {
   "cell_type": "code",
   "execution_count": 13,
   "metadata": {},
   "outputs": [],
   "source": [
    "#4ème canal 0 ou 1 si ça change ou non\n",
    "#Ou sinon en amont du seuillage de poucentage \n",
    "\n",
    "#Rajouter masque \n",
    "#Refaire avec le meilleur modèle et voir ce que ça change\n",
    "\n",
    "#Positionner les changements \n",
    "\n",
    "#Pour la distance trouver comment évaluer sur le terrain sur quelques images .\n",
    "#Je regarde si la repésentation des oiseaux sur la carte et sur la prise de vue\n",
    "#Positionner masque sur la carte\n",
    "\n",
    "\n",
    "\n",
    "#Regarder modèle directement en hsv \n",
    "#Eventuellement rajouter 3 cannaux \n",
    "#D'abord rajouter avec  ou 1 avec un canal\n",
    "#3 canaux supp avec les pixels initiales et celles qui changent\n",
    "\n",
    "\n",
    "#Difference comme un canal \n",
    "\n",
    "#Que les pixels qui changent ou bien leur différence\n",
    "#Différence normale"
   ]
  },
  {
   "cell_type": "markdown",
   "metadata": {},
   "source": [
    "## Dossier 0"
   ]
  },
  {
   "cell_type": "code",
   "execution_count": 23,
   "metadata": {
    "jupyter": {
     "source_hidden": true
    }
   },
   "outputs": [
    {
     "data": {
      "text/plain": [
       "'\\n\\n\\nwith open(\"list0_bm.txt\", \"wb\") as fp:   #Pickling\\n    pickle.dump(birds_norm_liste, fp)\\n    \\n    \\nwith open(\"list0_bm.txt\", \"rb\") as fp:   # Unpickling\\n    b = pickle.load(fp)\\n'"
      ]
     },
     "execution_count": 23,
     "metadata": {},
     "output_type": "execute_result"
    }
   ],
   "source": [
    "images_0=images[images[\"path\"]=='./DonneesPI/timeLapsePhotos_Pi1_0']\n",
    "liste_images_fold0=list(images_0[\"filename\"].unique())\n",
    "\n",
    "fold_path=\"/mnt/VegaSlowDataDisk/c3po/Images_aquises/DonneesPI/timeLapsePhotos_Pi1_0/\"\n",
    "imagettes_path=\"/mnt/VegaSlowDataDisk/c3po/Annotation_automatique/tf_200ep/\"\n",
    "#Enlever les non oiseau\n",
    "match_animals=images_0[images_0[\"IsFP\"]==0]\n",
    "FP_birds=images_0[images_0[\"IsFP\"]==1]\n",
    "birds_index=[2,3,5,6]\n",
    "match_birds=match_animals[match_animals[\"reel_classe\"].isin(birds_index)]\n",
    "\n",
    "\n",
    "\n",
    "\n",
    "birds_norm_liste=[]\n",
    "FP_birds_norm_liste=[]\n",
    "\n",
    "\n",
    "\n",
    "\n",
    "for image_path in liste_images_fold0:\n",
    "    \n",
    "    path=fold_path+image_path\n",
    "    #print(path)\n",
    "    image_bgr=cv2.imread(path)\n",
    "    image_rgb = cv2.cvtColor(image_bgr, cv2.COLOR_BGR2RGB)\n",
    "    image_rgb_reshape=(image_rgb.reshape(-1,3))\n",
    "\n",
    "    color_image=[]\n",
    "\n",
    "\n",
    "    for i in range(len(image_rgb_reshape)):\n",
    "        pixel=image_rgb_reshape[i]\n",
    "        red=pixel[0]\n",
    "        green=pixel[1]\n",
    "        blue=pixel[2]\n",
    "        hsv=colorsys.rgb_to_hsv(red,green,blue)\n",
    "        color=hsv[0]*360\n",
    "        color_image.append(color)\n",
    "    \n",
    "    #Faire un filtre pour le ciel, éventuellement l'herbe\n",
    "    color_filtre=[ i for i in color_image if (i<100 and (i>10) )]\n",
    "    med_im_color=np.median(color_filtre)\n",
    "    #print(med_im_color)\n",
    "    \n",
    "    birds_liste=match_birds[\"imagetteName\"][match_birds[\"filename\"]==image_path]\n",
    "    birds_liste=list(birds_liste.unique())\n",
    "    \n",
    "    FP_liste=FP_birds[\"imagetteName\"][FP_birds[\"filename\"]==image_path]\n",
    "    FP_liste=list(FP_liste.unique())\n",
    "    \n",
    "    for imagette in birds_liste:\n",
    "        color_imagettes_liste=[]\n",
    "        #print(imagette)\n",
    "    \n",
    "    \n",
    "    \n",
    "\n",
    "\n",
    "        path=imagettes_path+imagette\n",
    "        #print(path)\n",
    "        image_bgr=cv2.imread(path)\n",
    "        image_rgb = cv2.cvtColor(image_bgr, cv2.COLOR_BGR2RGB)\n",
    "        image_rgb_reshape=(image_rgb.reshape(-1,3))\n",
    "\n",
    "\n",
    "\n",
    "\n",
    "        for i in range(len(image_rgb_reshape)):\n",
    "            pixel=image_rgb_reshape[i]\n",
    "            red=pixel[0]\n",
    "            green=pixel[1]\n",
    "            blue=pixel[2]\n",
    "            hsv=colorsys.rgb_to_hsv(red,green,blue)\n",
    "            color_imagettes=hsv[0]*360\n",
    "            color_imagettes_liste.append(color_imagettes)\n",
    "            \n",
    "        imagette_med=np.median(color_imagettes_liste)\n",
    "        birds_norm=(imagette_med-med_im_color)/imagette_med\n",
    "        #print(\"différence\",birds_norm)\n",
    "        birds_norm_liste.append(birds_norm)\n",
    "\n",
    "        \n",
    "        \n",
    "        \n",
    "        \n",
    "        \n",
    "        \n",
    "    for imagette in FP_liste:\n",
    "        color_imagettes_liste=[]\n",
    "        #print(imagette)\n",
    "    \n",
    "    \n",
    "    \n",
    "\n",
    "\n",
    "        path=imagettes_path+imagette\n",
    "        #print(path)\n",
    "        image_bgr=cv2.imread(path)\n",
    "        image_rgb = cv2.cvtColor(image_bgr, cv2.COLOR_BGR2RGB)\n",
    "        image_rgb_reshape=(image_rgb.reshape(-1,3))\n",
    "\n",
    "\n",
    "\n",
    "\n",
    "        for i in range(len(image_rgb_reshape)):\n",
    "            pixel=image_rgb_reshape[i]\n",
    "            red=pixel[0]\n",
    "            green=pixel[1]\n",
    "            blue=pixel[2]\n",
    "            hsv=colorsys.rgb_to_hsv(red,green,blue)\n",
    "            color_imagettes=hsv[0]*360\n",
    "            color_imagettes_liste.append(color_imagettes)\n",
    "            \n",
    "        imagette_med=np.median(color_imagettes_liste)\n",
    "        birds_norm=(imagette_med-med_im_color)/imagette_med\n",
    "        #print(\"différence\",birds_norm)\n",
    "        FP_birds_norm_liste.append(birds_norm)\n",
    "\n",
    "        \n",
    "with open(\"list0_bm.txt\", \"wb\") as fp:   #Pickling\n",
    "    pickle.dump(birds_norm_liste, fp)\n",
    "    \n",
    "    \n",
    "with open(\"list0_fp.txt\", \"wb\") as fp:   #Pickling\n",
    "    pickle.dump(FP_birds_norm_liste, fp)"
   ]
  },
  {
   "cell_type": "code",
   "execution_count": null,
   "metadata": {},
   "outputs": [],
   "source": []
  },
  {
   "cell_type": "code",
   "execution_count": null,
   "metadata": {},
   "outputs": [],
   "source": []
  },
  {
   "cell_type": "code",
   "execution_count": 60,
   "metadata": {
    "jupyter": {
     "source_hidden": true
    }
   },
   "outputs": [
    {
     "data": {
      "image/png": "[encoded data removed]",
      "text/plain": [
       "<Figure size 864x864 with 2 Axes>"
      ]
     },
     "metadata": {
      "needs_background": "light"
     },
     "output_type": "display_data"
    }
   ],
   "source": [
    "with open(\"list0_bm.txt\", \"rb\") as fp:   # Unpickling\n",
    "    bm_0 = pickle.load(fp)\n",
    "    \n",
    "with open(\"list0_fp.txt\", \"rb\") as fp:   # Unpickling\n",
    "    fp_0 = pickle.load(fp)\n",
    "\n",
    "\n",
    "\n",
    "plt.figure(figsize=(12,12))\n",
    "plt.subplot(2,1,1)\n",
    "plt.title(\"distribution du pixel median d'oiseau noramlisé par la médiane du pixel de la photo entière\")\n",
    "plt.hist(bm_0)\n",
    "plt.subplot(2,1,2)\n",
    "plt.title(\"distribution du pixel median de faux positif par la médiane du pixel de la photo entière\")\n",
    "plt.hist(fp_0);"
   ]
  },
  {
   "cell_type": "code",
   "execution_count": null,
   "metadata": {},
   "outputs": [],
   "source": []
  },
  {
   "cell_type": "markdown",
   "metadata": {},
   "source": [
    "## Dossier 1"
   ]
  },
  {
   "cell_type": "code",
   "execution_count": 27,
   "metadata": {
    "jupyter": {
     "source_hidden": true
    }
   },
   "outputs": [
    {
     "name": "stderr",
     "output_type": "stream",
     "text": [
      "/home/marcpozzo/anaconda3/lib/python3.7/site-packages/ipykernel_launcher.py:79: RuntimeWarning: divide by zero encountered in double_scalars\n"
     ]
    },
    {
     "data": {
      "text/plain": [
       "'\\n\\n\\nwith open(\"list0_bm.txt\", \"wb\") as fp:   #Pickling\\n    pickle.dump(birds_norm_liste, fp)\\n    \\n    \\nwith open(\"list0_bm.txt\", \"rb\") as fp:   # Unpickling\\n    b = pickle.load(fp)\\n'"
      ]
     },
     "execution_count": 27,
     "metadata": {},
     "output_type": "execute_result"
    }
   ],
   "source": [
    "images_0=images[images[\"path\"]=='./DonneesPI/timeLapsePhotos_Pi1_1']\n",
    "liste_images_fold0=list(images_0[\"filename\"].unique())\n",
    "\n",
    "fold_path=\"/mnt/VegaSlowDataDisk/c3po/Images_aquises/DonneesPI/timeLapsePhotos_Pi1_1/\"\n",
    "imagettes_path=\"/mnt/VegaSlowDataDisk/c3po/Annotation_automatique/tf_200ep/\"\n",
    "#Enlever les non oiseau\n",
    "match_animals=images_0[images_0[\"IsFP\"]==0]\n",
    "FP_birds=images_0[images_0[\"IsFP\"]==1]\n",
    "birds_index=[2,3,5,6]\n",
    "match_birds=match_animals[match_animals[\"reel_classe\"].isin(birds_index)]\n",
    "\n",
    "\n",
    "\n",
    "\n",
    "birds_norm_liste=[]\n",
    "FP_birds_norm_liste=[]\n",
    "\n",
    "\n",
    "\n",
    "\n",
    "for image_path in liste_images_fold0:\n",
    "    \n",
    "    path=fold_path+image_path\n",
    "    #print(path)\n",
    "    image_bgr=cv2.imread(path)\n",
    "    image_rgb = cv2.cvtColor(image_bgr, cv2.COLOR_BGR2RGB)\n",
    "    image_rgb_reshape=(image_rgb.reshape(-1,3))\n",
    "\n",
    "    color_image=[]\n",
    "\n",
    "\n",
    "    for i in range(len(image_rgb_reshape)):\n",
    "        pixel=image_rgb_reshape[i]\n",
    "        red=pixel[0]\n",
    "        green=pixel[1]\n",
    "        blue=pixel[2]\n",
    "        hsv=colorsys.rgb_to_hsv(red,green,blue)\n",
    "        color=hsv[0]*360\n",
    "        color_image.append(color)\n",
    "    \n",
    "    #Faire un filtre pour le ciel, éventuellement l'herbe\n",
    "    color_filtre=[ i for i in color_image if (i<100 and (i>10) )]\n",
    "    med_im_color=np.median(color_filtre)\n",
    "    #print(med_im_color)\n",
    "    \n",
    "    birds_liste=match_birds[\"imagetteName\"][match_birds[\"filename\"]==image_path]\n",
    "    birds_liste=list(birds_liste.unique())\n",
    "    \n",
    "    FP_liste=FP_birds[\"imagetteName\"][FP_birds[\"filename\"]==image_path]\n",
    "    FP_liste=list(FP_liste.unique())\n",
    "    \n",
    "    for imagette in birds_liste:\n",
    "        color_imagettes_liste=[]\n",
    "        #print(imagette)\n",
    "    \n",
    "    \n",
    "    \n",
    "\n",
    "\n",
    "        path=imagettes_path+imagette\n",
    "        #print(path)\n",
    "        image_bgr=cv2.imread(path)\n",
    "        image_rgb = cv2.cvtColor(image_bgr, cv2.COLOR_BGR2RGB)\n",
    "        image_rgb_reshape=(image_rgb.reshape(-1,3))\n",
    "\n",
    "\n",
    "\n",
    "\n",
    "        for i in range(len(image_rgb_reshape)):\n",
    "            pixel=image_rgb_reshape[i]\n",
    "            red=pixel[0]\n",
    "            green=pixel[1]\n",
    "            blue=pixel[2]\n",
    "            hsv=colorsys.rgb_to_hsv(red,green,blue)\n",
    "            color_imagettes=hsv[0]*360\n",
    "            color_imagettes_liste.append(color_imagettes)\n",
    "            \n",
    "        imagette_med=np.median(color_imagettes_liste)\n",
    "        birds_norm=(imagette_med-med_im_color)/imagette_med\n",
    "        #print(\"différence\",birds_norm)\n",
    "        birds_norm_liste.append(birds_norm)\n",
    "\n",
    "        \n",
    "        \n",
    "        \n",
    "        \n",
    "        \n",
    "        \n",
    "    for imagette in FP_liste:\n",
    "        color_imagettes_liste=[]\n",
    "        #print(imagette)\n",
    "    \n",
    "    \n",
    "    \n",
    "\n",
    "\n",
    "        path=imagettes_path+imagette\n",
    "        #print(path)\n",
    "        image_bgr=cv2.imread(path)\n",
    "        image_rgb = cv2.cvtColor(image_bgr, cv2.COLOR_BGR2RGB)\n",
    "        image_rgb_reshape=(image_rgb.reshape(-1,3))\n",
    "\n",
    "\n",
    "\n",
    "\n",
    "        for i in range(len(image_rgb_reshape)):\n",
    "            pixel=image_rgb_reshape[i]\n",
    "            red=pixel[0]\n",
    "            green=pixel[1]\n",
    "            blue=pixel[2]\n",
    "            hsv=colorsys.rgb_to_hsv(red,green,blue)\n",
    "            color_imagettes=hsv[0]*360\n",
    "            color_imagettes_liste.append(color_imagettes)\n",
    "            \n",
    "        imagette_med=np.median(color_imagettes_liste)\n",
    "        birds_norm=(imagette_med-med_im_color)/imagette_med\n",
    "        #print(\"différence\",birds_norm)\n",
    "        FP_birds_norm_liste.append(birds_norm)\n",
    "\n",
    "with open(\"list1_bm.txt\", \"wb\") as fp:   #Pickling\n",
    "    pickle.dump(birds_norm_liste, fp)\n",
    "    \n",
    "    \n",
    "with open(\"list1_fp.txt\", \"wb\") as fp:   #Pickling\n",
    "    pickle.dump(FP_birds_norm_liste, fp)"
   ]
  },
  {
   "cell_type": "code",
   "execution_count": 29,
   "metadata": {},
   "outputs": [],
   "source": []
  },
  {
   "cell_type": "code",
   "execution_count": 58,
   "metadata": {
    "jupyter": {
     "source_hidden": true
    }
   },
   "outputs": [
    {
     "data": {
      "image/png": "[encoded data removed]",
      "text/plain": [
       "<Figure size 864x864 with 2 Axes>"
      ]
     },
     "metadata": {
      "needs_background": "light"
     },
     "output_type": "display_data"
    }
   ],
   "source": [
    "with open(\"list1_bm.txt\", \"rb\") as fp:   # Unpickling\n",
    "    bm_1 = pickle.load(fp)\n",
    "    \n",
    "with open(\"list1_fp.txt\", \"rb\") as fp:   # Unpickling\n",
    "    fp_1 = pickle.load(fp)\n",
    "\n",
    "bm_1_filtre=[i for i in bm_1 if i>-100]\n",
    "fp_1_filtre=[i for i in fp_1 if i>-100]\n",
    "\n",
    "\n",
    "\n",
    "plt.figure(figsize=(12,12))\n",
    "plt.subplot(2,1,1)\n",
    "plt.title(\"distribution du pixel median d'oiseau noramlisé par la médiane du pixel de la photo entière\")\n",
    "plt.hist(bm_1_filtre)\n",
    "plt.subplot(2,1,2)\n",
    "plt.title(\"distribution du pixel median de faux positif par la médiane du pixel de la photo entière\")\n",
    "plt.hist(fp_1_filtre);\n"
   ]
  },
  {
   "cell_type": "code",
   "execution_count": 64,
   "metadata": {
    "jupyter": {
     "source_hidden": true
    }
   },
   "outputs": [
    {
     "name": "stdout",
     "output_type": "stream",
     "text": [
      "nombre oiseaux capturés : 874\n",
      "nombre oiseaux capturés à l'intérieur des outliers : 593\n"
     ]
    },
    {
     "data": {
      "image/png": "[encoded data removed]",
      "text/plain": [
       "<Figure size 864x864 with 2 Axes>"
      ]
     },
     "metadata": {
      "needs_background": "light"
     },
     "output_type": "display_data"
    }
   ],
   "source": [
    "with open(\"list1_bm.txt\", \"rb\") as fp:   # Unpickling\n",
    "    bm_1 = pickle.load(fp)\n",
    "    \n",
    "with open(\"list1_fp.txt\", \"rb\") as fp:   # Unpickling\n",
    "    fp_1 = pickle.load(fp)\n",
    "\n",
    "bm_1_filtre=[i for i in bm_1 if (i>-0.25 and i<0.25)]\n",
    "fp_1_filtre=[i for i in fp_1 if (i>-0.25 and i<0.25)]\n",
    "\n",
    "print(\"nombre oiseaux capturés :\", len(bm_1))\n",
    "print(\"nombre oiseaux capturés à l'intérieur des outliers :\", len(bm_1_filtre))\n",
    "\n",
    "plt.figure(figsize=(12,12))\n",
    "plt.subplot(2,1,1)\n",
    "plt.title(\"distribution du pixel median d'oiseau noramlisé par la médiane du pixel de la photo entière sans outliers\")\n",
    "plt.hist(bm_1_filtre)\n",
    "plt.subplot(2,1,2)\n",
    "plt.title(\"distribution du pixel median de faux positif par la médiane du pixel de la photo entière sans outliers\")\n",
    "plt.hist(fp_1_filtre);"
   ]
  },
  {
   "cell_type": "markdown",
   "metadata": {},
   "source": [
    "## Dossier 2"
   ]
  },
  {
   "cell_type": "code",
   "execution_count": 30,
   "metadata": {
    "jupyter": {
     "source_hidden": true
    }
   },
   "outputs": [
    {
     "data": {
      "text/plain": [
       "'\\n\\n\\nwith open(\"list0_bm.txt\", \"wb\") as fp:   #Pickling\\n    pickle.dump(birds_norm_liste, fp)\\n    \\n    \\nwith open(\"list0_bm.txt\", \"rb\") as fp:   # Unpickling\\n    b = pickle.load(fp)\\n'"
      ]
     },
     "execution_count": 30,
     "metadata": {},
     "output_type": "execute_result"
    }
   ],
   "source": [
    "images_0=images[images[\"path\"]=='./DonneesPI/timeLapsePhotos_Pi1_2']\n",
    "liste_images_fold0=list(images_0[\"filename\"].unique())\n",
    "\n",
    "fold_path=\"/mnt/VegaSlowDataDisk/c3po/Images_aquises/DonneesPI/timeLapsePhotos_Pi1_2/\"\n",
    "imagettes_path=\"/mnt/VegaSlowDataDisk/c3po/Annotation_automatique/tf_200ep/\"\n",
    "#Enlever les non oiseau\n",
    "match_animals=images_0[images_0[\"IsFP\"]==0]\n",
    "FP_birds=images_0[images_0[\"IsFP\"]==1]\n",
    "birds_index=[2,3,5,6]\n",
    "match_birds=match_animals[match_animals[\"reel_classe\"].isin(birds_index)]\n",
    "\n",
    "\n",
    "\n",
    "\n",
    "birds_norm_liste=[]\n",
    "FP_birds_norm_liste=[]\n",
    "\n",
    "\n",
    "\n",
    "\n",
    "for image_path in liste_images_fold0:\n",
    "    \n",
    "    path=fold_path+image_path\n",
    "    #print(path)\n",
    "    image_bgr=cv2.imread(path)\n",
    "    image_rgb = cv2.cvtColor(image_bgr, cv2.COLOR_BGR2RGB)\n",
    "    image_rgb_reshape=(image_rgb.reshape(-1,3))\n",
    "\n",
    "    color_image=[]\n",
    "\n",
    "\n",
    "    for i in range(len(image_rgb_reshape)):\n",
    "        pixel=image_rgb_reshape[i]\n",
    "        red=pixel[0]\n",
    "        green=pixel[1]\n",
    "        blue=pixel[2]\n",
    "        hsv=colorsys.rgb_to_hsv(red,green,blue)\n",
    "        color=hsv[0]*360\n",
    "        color_image.append(color)\n",
    "    \n",
    "    #Faire un filtre pour le ciel, éventuellement l'herbe\n",
    "    color_filtre=[ i for i in color_image if (i<100 and (i>10) )]\n",
    "    med_im_color=np.median(color_filtre)\n",
    "    #print(med_im_color)\n",
    "    \n",
    "    birds_liste=match_birds[\"imagetteName\"][match_birds[\"filename\"]==image_path]\n",
    "    birds_liste=list(birds_liste.unique())\n",
    "    \n",
    "    FP_liste=FP_birds[\"imagetteName\"][FP_birds[\"filename\"]==image_path]\n",
    "    FP_liste=list(FP_liste.unique())\n",
    "    \n",
    "    for imagette in birds_liste:\n",
    "        color_imagettes_liste=[]\n",
    "        #print(imagette)\n",
    "    \n",
    "    \n",
    "    \n",
    "\n",
    "\n",
    "        path=imagettes_path+imagette\n",
    "        #print(path)\n",
    "        image_bgr=cv2.imread(path)\n",
    "        image_rgb = cv2.cvtColor(image_bgr, cv2.COLOR_BGR2RGB)\n",
    "        image_rgb_reshape=(image_rgb.reshape(-1,3))\n",
    "\n",
    "\n",
    "\n",
    "\n",
    "        for i in range(len(image_rgb_reshape)):\n",
    "            pixel=image_rgb_reshape[i]\n",
    "            red=pixel[0]\n",
    "            green=pixel[1]\n",
    "            blue=pixel[2]\n",
    "            hsv=colorsys.rgb_to_hsv(red,green,blue)\n",
    "            color_imagettes=hsv[0]*360\n",
    "            color_imagettes_liste.append(color_imagettes)\n",
    "            \n",
    "        imagette_med=np.median(color_imagettes_liste)\n",
    "        birds_norm=(imagette_med-med_im_color)/imagette_med\n",
    "        #print(\"différence\",birds_norm)\n",
    "        birds_norm_liste.append(birds_norm)\n",
    "\n",
    "        \n",
    "        \n",
    "        \n",
    "        \n",
    "        \n",
    "        \n",
    "    for imagette in FP_liste:\n",
    "        color_imagettes_liste=[]\n",
    "        #print(imagette)\n",
    "    \n",
    "    \n",
    "    \n",
    "\n",
    "\n",
    "        path=imagettes_path+imagette\n",
    "        #print(path)\n",
    "        image_bgr=cv2.imread(path)\n",
    "        image_rgb = cv2.cvtColor(image_bgr, cv2.COLOR_BGR2RGB)\n",
    "        image_rgb_reshape=(image_rgb.reshape(-1,3))\n",
    "\n",
    "\n",
    "\n",
    "\n",
    "        for i in range(len(image_rgb_reshape)):\n",
    "            pixel=image_rgb_reshape[i]\n",
    "            red=pixel[0]\n",
    "            green=pixel[1]\n",
    "            blue=pixel[2]\n",
    "            hsv=colorsys.rgb_to_hsv(red,green,blue)\n",
    "            color_imagettes=hsv[0]*360\n",
    "            color_imagettes_liste.append(color_imagettes)\n",
    "            \n",
    "        imagette_med=np.median(color_imagettes_liste)\n",
    "        birds_norm=(imagette_med-med_im_color)/imagette_med\n",
    "        #print(\"différence\",birds_norm)\n",
    "        FP_birds_norm_liste.append(birds_norm)\n",
    "\n",
    "        \n",
    "with open(\"list2_bm.txt\", \"wb\") as fp:   #Pickling\n",
    "    pickle.dump(birds_norm_liste, fp)\n",
    "    \n",
    "    \n",
    "with open(\"list2_fp.txt\", \"wb\") as fp:   #Pickling\n",
    "    pickle.dump(FP_birds_norm_liste, fp)"
   ]
  },
  {
   "cell_type": "code",
   "execution_count": 31,
   "metadata": {},
   "outputs": [],
   "source": []
  },
  {
   "cell_type": "code",
   "execution_count": 56,
   "metadata": {
    "jupyter": {
     "source_hidden": true
    }
   },
   "outputs": [
    {
     "data": {
      "image/png": "[encoded data removed]",
      "text/plain": [
       "<Figure size 864x864 with 2 Axes>"
      ]
     },
     "metadata": {
      "needs_background": "light"
     },
     "output_type": "display_data"
    }
   ],
   "source": [
    "with open(\"list2_bm.txt\", \"rb\") as fp:   # Unpickling\n",
    "    bm_2 = pickle.load(fp)\n",
    "    \n",
    "with open(\"list2_fp.txt\", \"rb\") as fp:   # Unpickling\n",
    "    fp_2 = pickle.load(fp)\n",
    "\n",
    "bm_2_filtre=[i for i in bm_2 if i>-100]\n",
    "fp_2_filtre=[i for i in fp_2 if i>-100]\n",
    "\n",
    "\n",
    "\n",
    "\n",
    "\n",
    "plt.figure(figsize=(12,12))\n",
    "plt.subplot(2,1,1)\n",
    "plt.title(\"distribution du pixel median d'oiseau noramlisé par la médiane du pixel de la photo entière\")\n",
    "plt.hist(bm_2_filtre)\n",
    "plt.subplot(2,1,2)\n",
    "plt.title(\"distribution du pixel median de faux positif par la médiane du pixel de la photo entière\")\n",
    "plt.hist(fp_2_filtre);\n"
   ]
  },
  {
   "cell_type": "markdown",
   "metadata": {},
   "source": [
    "## Dossier 3"
   ]
  },
  {
   "cell_type": "code",
   "execution_count": 38,
   "metadata": {
    "jupyter": {
     "source_hidden": true
    }
   },
   "outputs": [
    {
     "name": "stderr",
     "output_type": "stream",
     "text": [
      "/home/marcpozzo/anaconda3/lib/python3.7/site-packages/ipykernel_launcher.py:116: RuntimeWarning: divide by zero encountered in double_scalars\n"
     ]
    }
   ],
   "source": [
    "images_0=images[images[\"path\"]=='./DonneesPI/timeLapsePhotos_Pi1_3']\n",
    "liste_images_fold0=list(images_0[\"filename\"].unique())\n",
    "\n",
    "fold_path=\"/mnt/VegaSlowDataDisk/c3po/Images_aquises/DonneesPI/timeLapsePhotos_Pi1_3/\"\n",
    "imagettes_path=\"/mnt/VegaSlowDataDisk/c3po/Annotation_automatique/tf_200ep/\"\n",
    "#Enlever les non oiseau\n",
    "match_animals=images_0[images_0[\"IsFP\"]==0]\n",
    "FP_birds=images_0[images_0[\"IsFP\"]==1]\n",
    "birds_index=[2,3,5,6]\n",
    "match_birds=match_animals[match_animals[\"reel_classe\"].isin(birds_index)]\n",
    "\n",
    "\n",
    "\n",
    "\n",
    "birds_norm_liste=[]\n",
    "FP_birds_norm_liste=[]\n",
    "\n",
    "\n",
    "\n",
    "\n",
    "for image_path in liste_images_fold0:\n",
    "    \n",
    "    path=fold_path+image_path\n",
    "    #print(path)\n",
    "    image_bgr=cv2.imread(path)\n",
    "    image_rgb = cv2.cvtColor(image_bgr, cv2.COLOR_BGR2RGB)\n",
    "    image_rgb_reshape=(image_rgb.reshape(-1,3))\n",
    "\n",
    "    color_image=[]\n",
    "\n",
    "\n",
    "    for i in range(len(image_rgb_reshape)):\n",
    "        pixel=image_rgb_reshape[i]\n",
    "        red=pixel[0]\n",
    "        green=pixel[1]\n",
    "        blue=pixel[2]\n",
    "        hsv=colorsys.rgb_to_hsv(red,green,blue)\n",
    "        color=hsv[0]*360\n",
    "        color_image.append(color)\n",
    "    \n",
    "    #Faire un filtre pour le ciel, éventuellement l'herbe\n",
    "    color_filtre=[ i for i in color_image if (i<100 and (i>10) )]\n",
    "    med_im_color=np.median(color_filtre)\n",
    "    #print(med_im_color)\n",
    "    \n",
    "    birds_liste=match_birds[\"imagetteName\"][match_birds[\"filename\"]==image_path]\n",
    "    birds_liste=list(birds_liste.unique())\n",
    "    \n",
    "    FP_liste=FP_birds[\"imagetteName\"][FP_birds[\"filename\"]==image_path]\n",
    "    FP_liste=list(FP_liste.unique())\n",
    "    \n",
    "    for imagette in birds_liste:\n",
    "        color_imagettes_liste=[]\n",
    "        #print(imagette)\n",
    "    \n",
    "    \n",
    "    \n",
    "\n",
    "\n",
    "        path=imagettes_path+imagette\n",
    "        #print(path)\n",
    "        image_bgr=cv2.imread(path)\n",
    "        image_rgb = cv2.cvtColor(image_bgr, cv2.COLOR_BGR2RGB)\n",
    "        image_rgb_reshape=(image_rgb.reshape(-1,3))\n",
    "\n",
    "\n",
    "\n",
    "\n",
    "        for i in range(len(image_rgb_reshape)):\n",
    "            pixel=image_rgb_reshape[i]\n",
    "            red=pixel[0]\n",
    "            green=pixel[1]\n",
    "            blue=pixel[2]\n",
    "            hsv=colorsys.rgb_to_hsv(red,green,blue)\n",
    "            color_imagettes=hsv[0]*360\n",
    "            color_imagettes_liste.append(color_imagettes)\n",
    "            \n",
    "        imagette_med=np.median(color_imagettes_liste)\n",
    "        birds_norm=(imagette_med-med_im_color)/imagette_med\n",
    "        #print(\"différence\",birds_norm)\n",
    "        birds_norm_liste.append(birds_norm)\n",
    "\n",
    "        \n",
    "        \n",
    "        \n",
    "        \n",
    "        \n",
    "        \n",
    "    for imagette in FP_liste:\n",
    "        color_imagettes_liste=[]\n",
    "        #print(imagette)\n",
    "    \n",
    "    \n",
    "    \n",
    "\n",
    "\n",
    "        path=imagettes_path+imagette\n",
    "        #print(path)\n",
    "        image_bgr=cv2.imread(path)\n",
    "        image_rgb = cv2.cvtColor(image_bgr, cv2.COLOR_BGR2RGB)\n",
    "        image_rgb_reshape=(image_rgb.reshape(-1,3))\n",
    "\n",
    "\n",
    "\n",
    "\n",
    "        for i in range(len(image_rgb_reshape)):\n",
    "            pixel=image_rgb_reshape[i]\n",
    "            red=pixel[0]\n",
    "            green=pixel[1]\n",
    "            blue=pixel[2]\n",
    "            hsv=colorsys.rgb_to_hsv(red,green,blue)\n",
    "            color_imagettes=hsv[0]*360\n",
    "            color_imagettes_liste.append(color_imagettes)\n",
    "            \n",
    "        imagette_med=np.median(color_imagettes_liste)\n",
    "        birds_norm=(imagette_med-med_im_color)/imagette_med\n",
    "        #print(\"différence\",birds_norm)\n",
    "        FP_birds_norm_liste.append(birds_norm)\n",
    "\n",
    "        \n",
    "with open(\"list3_bm.txt\", \"wb\") as fp:   #Pickling\n",
    "    pickle.dump(birds_norm_liste, fp)\n",
    "    \n",
    "    \n",
    "with open(\"list3_fp.txt\", \"wb\") as fp:   #Pickling\n",
    "    pickle.dump(FP_birds_norm_liste, fp)"
   ]
  },
  {
   "cell_type": "code",
   "execution_count": 53,
   "metadata": {
    "jupyter": {
     "source_hidden": true
    }
   },
   "outputs": [
    {
     "data": {
      "image/png": "[encoded data removed]",
      "text/plain": [
       "<Figure size 864x864 with 2 Axes>"
      ]
     },
     "metadata": {
      "needs_background": "light"
     },
     "output_type": "display_data"
    }
   ],
   "source": [
    "with open(\"list3_bm.txt\", \"rb\") as fp:   # Unpickling\n",
    "    bm_3 = pickle.load(fp)\n",
    "    \n",
    "with open(\"list3_fp.txt\", \"rb\") as fp:   # Unpickling\n",
    "    fp_3 = pickle.load(fp)\n",
    "\n",
    "bm_3_filtre=[i for i in bm_3 if i>-100]\n",
    "fp_3_filtre=[i for i in fp_3 if i>-100]\n",
    "\n",
    "\n",
    "\n",
    "\n",
    "\n",
    "plt.figure(figsize=(12,12))\n",
    "\n",
    "plt.subplot(2,1,1)\n",
    "plt.title(\"distribution du pixel median d'oiseau noramlisé par la médiane du pixel de la photo entière\")\n",
    "plt.hist(bm_3_filtre)\n",
    "plt.subplot(2,1,2)\n",
    "plt.title(\"distribution du pixel median de faux positif par la médiane du pixel de la photo entière\")\n",
    "plt.hist(fp_3_filtre);\n"
   ]
  },
  {
   "cell_type": "code",
   "execution_count": 63,
   "metadata": {
    "jupyter": {
     "source_hidden": true
    }
   },
   "outputs": [
    {
     "data": {
      "image/png": "[encoded data removed]",
      "text/plain": [
       "<Figure size 864x864 with 2 Axes>"
      ]
     },
     "metadata": {
      "needs_background": "light"
     },
     "output_type": "display_data"
    }
   ],
   "source": [
    "with open(\"list3_bm.txt\", \"rb\") as fp:   # Unpickling\n",
    "    bm_3 = pickle.load(fp)\n",
    "    \n",
    "with open(\"list3_fp.txt\", \"rb\") as fp:   # Unpickling\n",
    "    fp_3 = pickle.load(fp)\n",
    "\n",
    "bm_3_filtre=[i for i in bm_3 if (i>-1 and i<1)]\n",
    "fp_3_filtre=[i for i in fp_3 if (i>-1 and i<1)]\n",
    "\n",
    "\n",
    "\n",
    "\n",
    "\n",
    "plt.figure(figsize=(12,12))\n",
    "plt.subplot(2,1,1)\n",
    "plt.title(\"distribution du pixel median d'oiseau noramlisé par la médiane du pixel de la photo entière\")\n",
    "plt.hist(bm_3_filtre)\n",
    "plt.subplot(2,1,2)\n",
    "plt.title(\"distribution du pixel median de faux positif par la médiane du pixel de la photo entière sans les outliers\")\n",
    "plt.hist(fp_3_filtre);\n"
   ]
  },
  {
   "cell_type": "markdown",
   "metadata": {},
   "source": [
    "## Dossier 4"
   ]
  },
  {
   "cell_type": "code",
   "execution_count": 44,
   "metadata": {
    "jupyter": {
     "source_hidden": true
    }
   },
   "outputs": [
    {
     "name": "stderr",
     "output_type": "stream",
     "text": [
      "/home/marcpozzo/anaconda3/lib/python3.7/site-packages/ipykernel_launcher.py:116: RuntimeWarning: divide by zero encountered in double_scalars\n"
     ]
    }
   ],
   "source": [
    "images_0=images[images[\"path\"]=='./DonneesPI/timeLapsePhotos_Pi1_4']\n",
    "liste_images_fold0=list(images_0[\"filename\"].unique())\n",
    "\n",
    "fold_path=\"/mnt/VegaSlowDataDisk/c3po/Images_aquises/DonneesPI/timeLapsePhotos_Pi1_4/\"\n",
    "imagettes_path=\"/mnt/VegaSlowDataDisk/c3po/Annotation_automatique/tf_200ep/\"\n",
    "#Enlever les non oiseau\n",
    "match_animals=images_0[images_0[\"IsFP\"]==0]\n",
    "FP_birds=images_0[images_0[\"IsFP\"]==1]\n",
    "birds_index=[2,3,5,6]\n",
    "match_birds=match_animals[match_animals[\"reel_classe\"].isin(birds_index)]\n",
    "\n",
    "\n",
    "\n",
    "\n",
    "birds_norm_liste=[]\n",
    "FP_birds_norm_liste=[]\n",
    "\n",
    "\n",
    "\n",
    "\n",
    "for image_path in liste_images_fold0:\n",
    "    \n",
    "    path=fold_path+image_path\n",
    "    #print(path)\n",
    "    image_bgr=cv2.imread(path)\n",
    "    image_rgb = cv2.cvtColor(image_bgr, cv2.COLOR_BGR2RGB)\n",
    "    image_rgb_reshape=(image_rgb.reshape(-1,3))\n",
    "\n",
    "    color_image=[]\n",
    "\n",
    "\n",
    "    for i in range(len(image_rgb_reshape)):\n",
    "        pixel=image_rgb_reshape[i]\n",
    "        red=pixel[0]\n",
    "        green=pixel[1]\n",
    "        blue=pixel[2]\n",
    "        hsv=colorsys.rgb_to_hsv(red,green,blue)\n",
    "        color=hsv[0]*360\n",
    "        color_image.append(color)\n",
    "    \n",
    "    #Faire un filtre pour le ciel, éventuellement l'herbe\n",
    "    color_filtre=[ i for i in color_image if (i<100 and (i>10) )]\n",
    "    med_im_color=np.median(color_filtre)\n",
    "    #print(med_im_color)\n",
    "    \n",
    "    birds_liste=match_birds[\"imagetteName\"][match_birds[\"filename\"]==image_path]\n",
    "    birds_liste=list(birds_liste.unique())\n",
    "    \n",
    "    FP_liste=FP_birds[\"imagetteName\"][FP_birds[\"filename\"]==image_path]\n",
    "    FP_liste=list(FP_liste.unique())\n",
    "    \n",
    "    for imagette in birds_liste:\n",
    "        color_imagettes_liste=[]\n",
    "        #print(imagette)\n",
    "    \n",
    "    \n",
    "    \n",
    "\n",
    "\n",
    "        path=imagettes_path+imagette\n",
    "        #print(path)\n",
    "        image_bgr=cv2.imread(path)\n",
    "        image_rgb = cv2.cvtColor(image_bgr, cv2.COLOR_BGR2RGB)\n",
    "        image_rgb_reshape=(image_rgb.reshape(-1,3))\n",
    "\n",
    "\n",
    "\n",
    "\n",
    "        for i in range(len(image_rgb_reshape)):\n",
    "            pixel=image_rgb_reshape[i]\n",
    "            red=pixel[0]\n",
    "            green=pixel[1]\n",
    "            blue=pixel[2]\n",
    "            hsv=colorsys.rgb_to_hsv(red,green,blue)\n",
    "            color_imagettes=hsv[0]*360\n",
    "            color_imagettes_liste.append(color_imagettes)\n",
    "            \n",
    "        imagette_med=np.median(color_imagettes_liste)\n",
    "        birds_norm=(imagette_med-med_im_color)/imagette_med\n",
    "        #print(\"différence\",birds_norm)\n",
    "        birds_norm_liste.append(birds_norm)\n",
    "\n",
    "        \n",
    "        \n",
    "        \n",
    "        \n",
    "        \n",
    "        \n",
    "    for imagette in FP_liste:\n",
    "        color_imagettes_liste=[]\n",
    "        #print(imagette)\n",
    "    \n",
    "    \n",
    "    \n",
    "\n",
    "\n",
    "        path=imagettes_path+imagette\n",
    "        #print(path)\n",
    "        image_bgr=cv2.imread(path)\n",
    "        image_rgb = cv2.cvtColor(image_bgr, cv2.COLOR_BGR2RGB)\n",
    "        image_rgb_reshape=(image_rgb.reshape(-1,3))\n",
    "\n",
    "\n",
    "\n",
    "\n",
    "        for i in range(len(image_rgb_reshape)):\n",
    "            pixel=image_rgb_reshape[i]\n",
    "            red=pixel[0]\n",
    "            green=pixel[1]\n",
    "            blue=pixel[2]\n",
    "            hsv=colorsys.rgb_to_hsv(red,green,blue)\n",
    "            color_imagettes=hsv[0]*360\n",
    "            color_imagettes_liste.append(color_imagettes)\n",
    "            \n",
    "        imagette_med=np.median(color_imagettes_liste)\n",
    "        birds_norm=(imagette_med-med_im_color)/imagette_med\n",
    "        #print(\"différence\",birds_norm)\n",
    "        FP_birds_norm_liste.append(birds_norm)\n",
    "\n",
    "        \n",
    "with open(\"list4_bm.txt\", \"wb\") as fp:   #Pickling\n",
    "    pickle.dump(birds_norm_liste, fp)\n",
    "    \n",
    "    \n",
    "with open(\"list4_fp.txt\", \"wb\") as fp:   #Pickling\n",
    "    pickle.dump(FP_birds_norm_liste, fp)"
   ]
  },
  {
   "cell_type": "code",
   "execution_count": 50,
   "metadata": {
    "jupyter": {
     "source_hidden": true
    }
   },
   "outputs": [
    {
     "data": {
      "image/png": "[encoded data removed]",
      "text/plain": [
       "<Figure size 864x864 with 2 Axes>"
      ]
     },
     "metadata": {
      "needs_background": "light"
     },
     "output_type": "display_data"
    }
   ],
   "source": [
    "with open(\"list4_bm.txt\", \"rb\") as fp:   # Unpickling\n",
    "    bm_4 = pickle.load(fp)\n",
    "    \n",
    "with open(\"list4_fp.txt\", \"rb\") as fp:   # Unpickling\n",
    "    fp_4 = pickle.load(fp)\n",
    "\n",
    "bm_4_filtre=[i for i in bm_4 if i>-100]\n",
    "fp_4_filtre=[i for i in fp_4 if i>-100]\n",
    "\n",
    "\n",
    "\n",
    "\n",
    "\n",
    "plt.figure(figsize=(12,12))\n",
    "plt.subplot(2,1,1)\n",
    "plt.title(\"distribution du pixel median d'oiseau noramlisé par la médiane du pixel de la photo entière\")\n",
    "plt.hist(bm_4_filtre)\n",
    "plt.subplot(2,1,2)\n",
    "plt.title(\"distribution du pixel median de faux positif par la médiane du pixel de la photo entière\")\n",
    "plt.hist(fp_4_filtre);\n"
   ]
  },
  {
   "cell_type": "code",
   "execution_count": 49,
   "metadata": {
    "jupyter": {
     "source_hidden": true
    }
   },
   "outputs": [
    {
     "data": {
      "image/png": "[encoded data removed]",
      "text/plain": [
       "<Figure size 864x864 with 2 Axes>"
      ]
     },
     "metadata": {
      "needs_background": "light"
     },
     "output_type": "display_data"
    }
   ],
   "source": [
    "with open(\"list4_bm.txt\", \"rb\") as fp:   # Unpickling\n",
    "    bm_4 = pickle.load(fp)\n",
    "    \n",
    "with open(\"list4_fp.txt\", \"rb\") as fp:   # Unpickling\n",
    "    fp_4 = pickle.load(fp)\n",
    "\n",
    "bm_4_filtre=[i for i in bm_4 if (i>-1 and i<1)]\n",
    "fp_4_filtre=[i for i in fp_4 if (i>-1 and i<1)]\n",
    "\n",
    "\n",
    "\n",
    "\n",
    "\n",
    "plt.figure(figsize=(12,12))\n",
    "plt.subplot(2,1,1)\n",
    "plt.title(\"distribution du pixel median d'oiseau noramlisé par la médiane du pixel de la photo entière sans outliers\")\n",
    "plt.hist(bm_4_filtre)\n",
    "plt.subplot(2,1,2)\n",
    "plt.title(\"distribution du pixel median de faux positif par la médiane du pixel de la photo entière sans outliers\")\n",
    "plt.hist(fp_4_filtre);\n"
   ]
  },
  {
   "cell_type": "code",
   "execution_count": null,
   "metadata": {},
   "outputs": [],
   "source": []
  }
 ],
 "metadata": {
  "kernelspec": {
   "display_name": "Python 3",
   "language": "python",
   "name": "python3"
  },
  "language_info": {
   "codemirror_mode": {
    "name": "ipython",
    "version": 3
   },
   "file_extension": ".py",
   "mimetype": "text/x-python",
   "name": "python",
   "nbconvert_exporter": "python",
   "pygments_lexer": "ipython3",
   "version": "3.7.4"
  }
 },
 "nbformat": 4,
 "nbformat_minor": 4
}
