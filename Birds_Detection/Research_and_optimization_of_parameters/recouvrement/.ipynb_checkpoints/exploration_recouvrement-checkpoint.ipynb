{
 "cells": [
  {
   "cell_type": "code",
   "execution_count": 1,
   "metadata": {},
   "outputs": [],
   "source": [
    "import pandas as pd"
   ]
  },
  {
   "cell_type": "code",
   "execution_count": 2,
   "metadata": {},
   "outputs": [
    {
     "data": {
      "text/html": [
       "<div>\n",
       "<style scoped>\n",
       "    .dataframe tbody tr th:only-of-type {\n",
       "        vertical-align: middle;\n",
       "    }\n",
       "\n",
       "    .dataframe tbody tr th {\n",
       "        vertical-align: top;\n",
       "    }\n",
       "\n",
       "    .dataframe thead th {\n",
       "        text-align: right;\n",
       "    }\n",
       "</style>\n",
       "<table border=\"1\" class=\"dataframe\">\n",
       "  <thead>\n",
       "    <tr style=\"text-align: right;\">\n",
       "      <th></th>\n",
       "      <th>path</th>\n",
       "      <th>filename</th>\n",
       "      <th>width</th>\n",
       "      <th>height</th>\n",
       "      <th>classe</th>\n",
       "      <th>xmin</th>\n",
       "      <th>ymin</th>\n",
       "      <th>xmax</th>\n",
       "      <th>ymax</th>\n",
       "      <th>index</th>\n",
       "      <th>imagetteName</th>\n",
       "    </tr>\n",
       "  </thead>\n",
       "  <tbody>\n",
       "    <tr>\n",
       "      <td>0</td>\n",
       "      <td>./TGO 2019 - photos caméras/Parcelle 1 Guilbot...</td>\n",
       "      <td>DSCF0029.JPG</td>\n",
       "      <td>5200</td>\n",
       "      <td>3900</td>\n",
       "      <td>incertain</td>\n",
       "      <td>828</td>\n",
       "      <td>1592</td>\n",
       "      <td>875</td>\n",
       "      <td>1641</td>\n",
       "      <td>0</td>\n",
       "      <td>DSCF0029_incertain_0.JPG</td>\n",
       "    </tr>\n",
       "    <tr>\n",
       "      <td>1</td>\n",
       "      <td>./TGO 2019 - photos caméras/Parcelle 1 Guilbot...</td>\n",
       "      <td>DSCF0029.JPG</td>\n",
       "      <td>5200</td>\n",
       "      <td>3900</td>\n",
       "      <td>ground</td>\n",
       "      <td>881</td>\n",
       "      <td>1587</td>\n",
       "      <td>928</td>\n",
       "      <td>1636</td>\n",
       "      <td>1</td>\n",
       "      <td>DSCF0029_ground_1.JPG</td>\n",
       "    </tr>\n",
       "    <tr>\n",
       "      <td>2</td>\n",
       "      <td>./TGO 2019 - photos caméras/Parcelle 1 Guilbot...</td>\n",
       "      <td>DSCF0180.JPG</td>\n",
       "      <td>5200</td>\n",
       "      <td>3900</td>\n",
       "      <td>corneille</td>\n",
       "      <td>2842</td>\n",
       "      <td>2731</td>\n",
       "      <td>2876</td>\n",
       "      <td>2767</td>\n",
       "      <td>2</td>\n",
       "      <td>DSCF0180_corneille_2.JPG</td>\n",
       "    </tr>\n",
       "    <tr>\n",
       "      <td>3</td>\n",
       "      <td>./TGO 2019 - photos caméras/Parcelle 1 Guilbot...</td>\n",
       "      <td>DSCF0180.JPG</td>\n",
       "      <td>5200</td>\n",
       "      <td>3900</td>\n",
       "      <td>corneille</td>\n",
       "      <td>2799</td>\n",
       "      <td>2731</td>\n",
       "      <td>2833</td>\n",
       "      <td>2767</td>\n",
       "      <td>3</td>\n",
       "      <td>DSCF0180_corneille_3.JPG</td>\n",
       "    </tr>\n",
       "    <tr>\n",
       "      <td>4</td>\n",
       "      <td>./TGO 2019 - photos caméras/Parcelle 1 Guilbot...</td>\n",
       "      <td>DSCF0258.JPG</td>\n",
       "      <td>5200</td>\n",
       "      <td>3900</td>\n",
       "      <td>pigeon</td>\n",
       "      <td>3249</td>\n",
       "      <td>2638</td>\n",
       "      <td>3541</td>\n",
       "      <td>3286</td>\n",
       "      <td>4</td>\n",
       "      <td>DSCF0258_pigeon_4.JPG</td>\n",
       "    </tr>\n",
       "  </tbody>\n",
       "</table>\n",
       "</div>"
      ],
      "text/plain": [
       "                                                path      filename  width  \\\n",
       "0  ./TGO 2019 - photos caméras/Parcelle 1 Guilbot...  DSCF0029.JPG   5200   \n",
       "1  ./TGO 2019 - photos caméras/Parcelle 1 Guilbot...  DSCF0029.JPG   5200   \n",
       "2  ./TGO 2019 - photos caméras/Parcelle 1 Guilbot...  DSCF0180.JPG   5200   \n",
       "3  ./TGO 2019 - photos caméras/Parcelle 1 Guilbot...  DSCF0180.JPG   5200   \n",
       "4  ./TGO 2019 - photos caméras/Parcelle 1 Guilbot...  DSCF0258.JPG   5200   \n",
       "\n",
       "   height     classe  xmin  ymin  xmax  ymax  index              imagetteName  \n",
       "0    3900  incertain   828  1592   875  1641      0  DSCF0029_incertain_0.JPG  \n",
       "1    3900     ground   881  1587   928  1636      1     DSCF0029_ground_1.JPG  \n",
       "2    3900  corneille  2842  2731  2876  2767      2  DSCF0180_corneille_2.JPG  \n",
       "3    3900  corneille  2799  2731  2833  2767      3  DSCF0180_corneille_3.JPG  \n",
       "4    3900     pigeon  3249  2638  3541  3286      4     DSCF0258_pigeon_4.JPG  "
      ]
     },
     "execution_count": 2,
     "metadata": {},
     "output_type": "execute_result"
    }
   ],
   "source": [
    "imagettes=pd.read_csv(\"/mnt/VegaSlowDataDisk/c3po/Images_aquises/imagettes.csv\")\n",
    "imagettes.head()"
   ]
  },
  {
   "cell_type": "code",
   "execution_count": 6,
   "metadata": {},
   "outputs": [],
   "source": [
    "        donne=['./DonneesPI/timeLapsePhotos_Pi1_4',\n",
    "       './DonneesPI/timeLapsePhotos_Pi1_3',\n",
    "       './DonneesPI/timeLapsePhotos_Pi1_2',\n",
    "       './DonneesPI/timeLapsePhotos_Pi1_1',\n",
    "       './DonneesPI/timeLapsePhotos_Pi1_0']\n",
    "    \n",
    "a='./DonneesPI/timeLapsePhotos_Pi1_0' \n",
    "b='./DonneesPI/timeLapsePhotos_Pi1_1' \n",
    "c='./DonneesPI/timeLapsePhotos_Pi1_2' \n",
    "d='./DonneesPI/timeLapsePhotos_Pi1_3' \n",
    "e='./DonneesPI/timeLAapsePhotos_Pi1_4'"
   ]
  },
  {
   "cell_type": "code",
   "execution_count": null,
   "metadata": {},
   "outputs": [],
   "source": []
  },
  {
   "cell_type": "code",
   "execution_count": 7,
   "metadata": {},
   "outputs": [
    {
     "data": {
      "text/html": [
       "<div>\n",
       "<style scoped>\n",
       "    .dataframe tbody tr th:only-of-type {\n",
       "        vertical-align: middle;\n",
       "    }\n",
       "\n",
       "    .dataframe tbody tr th {\n",
       "        vertical-align: top;\n",
       "    }\n",
       "\n",
       "    .dataframe thead th {\n",
       "        text-align: right;\n",
       "    }\n",
       "</style>\n",
       "<table border=\"1\" class=\"dataframe\">\n",
       "  <thead>\n",
       "    <tr style=\"text-align: right;\">\n",
       "      <th></th>\n",
       "      <th>path</th>\n",
       "      <th>filename</th>\n",
       "      <th>width</th>\n",
       "      <th>height</th>\n",
       "      <th>classe</th>\n",
       "      <th>xmin</th>\n",
       "      <th>ymin</th>\n",
       "      <th>xmax</th>\n",
       "      <th>ymax</th>\n",
       "      <th>index</th>\n",
       "      <th>imagetteName</th>\n",
       "    </tr>\n",
       "  </thead>\n",
       "  <tbody>\n",
       "    <tr>\n",
       "      <td>1709</td>\n",
       "      <td>./DonneesPI/timeLapsePhotos_Pi1_3</td>\n",
       "      <td>image_2019-05-24_15-58-05.jpg</td>\n",
       "      <td>1280</td>\n",
       "      <td>720</td>\n",
       "      <td>incertain</td>\n",
       "      <td>346</td>\n",
       "      <td>335</td>\n",
       "      <td>360</td>\n",
       "      <td>348</td>\n",
       "      <td>1709</td>\n",
       "      <td>image_2019-05-24_15-58-05_incertain_1709.JPG</td>\n",
       "    </tr>\n",
       "    <tr>\n",
       "      <td>1710</td>\n",
       "      <td>./DonneesPI/timeLapsePhotos_Pi1_3</td>\n",
       "      <td>image_2019-05-24_15-58-05.jpg</td>\n",
       "      <td>1280</td>\n",
       "      <td>720</td>\n",
       "      <td>ground</td>\n",
       "      <td>330</td>\n",
       "      <td>333</td>\n",
       "      <td>344</td>\n",
       "      <td>346</td>\n",
       "      <td>1710</td>\n",
       "      <td>image_2019-05-24_15-58-05_ground_1710.JPG</td>\n",
       "    </tr>\n",
       "    <tr>\n",
       "      <td>1711</td>\n",
       "      <td>./DonneesPI/timeLapsePhotos_Pi1_3</td>\n",
       "      <td>image_2019-05-24_16-52-06.jpg</td>\n",
       "      <td>1280</td>\n",
       "      <td>720</td>\n",
       "      <td>incertain</td>\n",
       "      <td>894</td>\n",
       "      <td>68</td>\n",
       "      <td>925</td>\n",
       "      <td>93</td>\n",
       "      <td>1711</td>\n",
       "      <td>image_2019-05-24_16-52-06_incertain_1711.JPG</td>\n",
       "    </tr>\n",
       "    <tr>\n",
       "      <td>1712</td>\n",
       "      <td>./DonneesPI/timeLapsePhotos_Pi1_3</td>\n",
       "      <td>image_2019-05-24_16-52-06.jpg</td>\n",
       "      <td>1280</td>\n",
       "      <td>720</td>\n",
       "      <td>ground</td>\n",
       "      <td>861</td>\n",
       "      <td>66</td>\n",
       "      <td>892</td>\n",
       "      <td>91</td>\n",
       "      <td>1712</td>\n",
       "      <td>image_2019-05-24_16-52-06_ground_1712.JPG</td>\n",
       "    </tr>\n",
       "    <tr>\n",
       "      <td>1713</td>\n",
       "      <td>./DonneesPI/timeLapsePhotos_Pi1_3</td>\n",
       "      <td>image_2019-05-24_17-01-50.jpg</td>\n",
       "      <td>1280</td>\n",
       "      <td>720</td>\n",
       "      <td>faisan</td>\n",
       "      <td>482</td>\n",
       "      <td>604</td>\n",
       "      <td>559</td>\n",
       "      <td>668</td>\n",
       "      <td>1713</td>\n",
       "      <td>image_2019-05-24_17-01-50_faisan_1713.JPG</td>\n",
       "    </tr>\n",
       "  </tbody>\n",
       "</table>\n",
       "</div>"
      ],
      "text/plain": [
       "                                   path                       filename  width  \\\n",
       "1709  ./DonneesPI/timeLapsePhotos_Pi1_3  image_2019-05-24_15-58-05.jpg   1280   \n",
       "1710  ./DonneesPI/timeLapsePhotos_Pi1_3  image_2019-05-24_15-58-05.jpg   1280   \n",
       "1711  ./DonneesPI/timeLapsePhotos_Pi1_3  image_2019-05-24_16-52-06.jpg   1280   \n",
       "1712  ./DonneesPI/timeLapsePhotos_Pi1_3  image_2019-05-24_16-52-06.jpg   1280   \n",
       "1713  ./DonneesPI/timeLapsePhotos_Pi1_3  image_2019-05-24_17-01-50.jpg   1280   \n",
       "\n",
       "      height     classe  xmin  ymin  xmax  ymax  index  \\\n",
       "1709     720  incertain   346   335   360   348   1709   \n",
       "1710     720     ground   330   333   344   346   1710   \n",
       "1711     720  incertain   894    68   925    93   1711   \n",
       "1712     720     ground   861    66   892    91   1712   \n",
       "1713     720     faisan   482   604   559   668   1713   \n",
       "\n",
       "                                      imagetteName  \n",
       "1709  image_2019-05-24_15-58-05_incertain_1709.JPG  \n",
       "1710     image_2019-05-24_15-58-05_ground_1710.JPG  \n",
       "1711  image_2019-05-24_16-52-06_incertain_1711.JPG  \n",
       "1712     image_2019-05-24_16-52-06_ground_1712.JPG  \n",
       "1713     image_2019-05-24_17-01-50_faisan_1713.JPG  "
      ]
     },
     "execution_count": 7,
     "metadata": {},
     "output_type": "execute_result"
    }
   ],
   "source": [
    "imagettes_PI=imagettes[(imagettes[\"path\"]==a) | (imagettes[\"path\"]==b)  |  (imagettes[\"path\"]==c)  |  (imagettes[\"path\"]==d) |  (imagettes[\"path\"]==e)]\n",
    "imagettes_PI.head()\n"
   ]
  },
  {
   "cell_type": "code",
   "execution_count": 8,
   "metadata": {},
   "outputs": [
    {
     "data": {
      "text/plain": [
       "1460"
      ]
     },
     "execution_count": 8,
     "metadata": {},
     "output_type": "execute_result"
    }
   ],
   "source": [
    "len(imagettes_PI[\"filename\"].unique())"
   ]
  },
  {
   "cell_type": "code",
   "execution_count": 14,
   "metadata": {},
   "outputs": [
    {
     "name": "stdout",
     "output_type": "stream",
     "text": [
      "nombre d'images dossiers 0:  102\n",
      "nombre d'images dossiers 1:  804\n",
      "nombre d'images dossiers 2:  72\n",
      "nombre d'images dossiers 3:  482\n",
      "nombre d'images dossiers 4:  0\n"
     ]
    }
   ],
   "source": [
    "imagettes_PI_0=imagettes[(imagettes[\"path\"]==a) ]\n",
    "print(\"nombre d'images dossiers 0: \",len(imagettes_PI_0[\"filename\"].unique()))\n",
    "\n",
    "imagettes_PI_1=imagettes[(imagettes[\"path\"]==b) ]\n",
    "print(\"nombre d'images dossiers 1: \",len(imagettes_PI_1[\"filename\"].unique()))\n",
    "\n",
    "imagettes_PI_2=imagettes[(imagettes[\"path\"]==c) ]\n",
    "print(\"nombre d'images dossiers 2: \",len(imagettes_PI_2[\"filename\"].unique()))\n",
    "\n",
    "imagettes_PI_3=imagettes[(imagettes[\"path\"]==d) ]\n",
    "print(\"nombre d'images dossiers 3: \",len(imagettes_PI_3[\"filename\"].unique()))\n",
    "\n",
    "imagettes_PI_4=imagettes[(imagettes[\"path\"]==e) ]\n",
    "print(\"nombre d'images dossiers 4: \",len(imagettes_PI_4[\"filename\"].unique()))"
   ]
  },
  {
   "cell_type": "code",
   "execution_count": 10,
   "metadata": {},
   "outputs": [
    {
     "data": {
      "text/plain": [
       "102"
      ]
     },
     "execution_count": 10,
     "metadata": {},
     "output_type": "execute_result"
    }
   ],
   "source": [
    "#Pour un dossier données extraires les images surlesquelles on va procéder au différence\n",
    "\n",
    "##exple pour le dossier 0"
   ]
  },
  {
   "cell_type": "code",
   "execution_count": 21,
   "metadata": {},
   "outputs": [],
   "source": [
    "liste_image_PI_O=imagettes_PI_0[\"filename\"]"
   ]
  },
  {
   "cell_type": "code",
   "execution_count": null,
   "metadata": {},
   "outputs": [],
   "source": [
    "#Maintenant appliquons la procédure à un couple d'image (la ref puis l'image en question \n",
    "#avant de l'appliquer sur l'ensemble) avec une boucle"
   ]
  },
  {
   "cell_type": "code",
   "execution_count": 60,
   "metadata": {},
   "outputs": [],
   "source": [
    "fn.birds_is_catched(neurone_features,imageA,imageB,filtre_choice,coef_filtre,path_anotation,name2)"
   ]
  },
  {
   "cell_type": "code",
   "execution_count": null,
   "metadata": {},
   "outputs": [],
   "source": []
  },
  {
   "cell_type": "code",
   "execution_count": null,
   "metadata": {},
   "outputs": [],
   "source": []
  },
  {
   "cell_type": "code",
   "execution_count": null,
   "metadata": {},
   "outputs": [],
   "source": []
  },
  {
   "cell_type": "code",
   "execution_count": null,
   "metadata": {},
   "outputs": [],
   "source": []
  },
  {
   "cell_type": "code",
   "execution_count": null,
   "metadata": {},
   "outputs": [],
   "source": []
  }
 ],
 "metadata": {
  "kernelspec": {
   "display_name": "Python 3",
   "language": "python",
   "name": "python3"
  },
  "language_info": {
   "codemirror_mode": {
    "name": "ipython",
    "version": 3
   },
   "file_extension": ".py",
   "mimetype": "text/x-python",
   "name": "python",
   "nbconvert_exporter": "python",
   "pygments_lexer": "ipython3",
   "version": "3.7.4"
  }
 },
 "nbformat": 4,
 "nbformat_minor": 4
}
