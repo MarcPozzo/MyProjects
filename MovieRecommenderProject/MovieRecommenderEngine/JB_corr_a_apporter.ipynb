{
 "cells": [
  {
   "cell_type": "code",
   "execution_count": 1,
   "metadata": {},
   "outputs": [],
   "source": [
    "#Journal de Bord des corrections à apporter"
   ]
  },
  {
   "cell_type": "code",
   "execution_count": null,
   "metadata": {},
   "outputs": [],
   "source": [
    "Dans le script du moteur réduit, introduire des controles avec raise error si on rentre dans pour le nombre de films conseilles ou pour l'identifiant un string ou une valeur trop grande pour movie advie \n",
    "La valeur ne doit pas dépasser le nombre de films qu'il reste à voir."
   ]
  },
  {
   "cell_type": "code",
   "execution_count": null,
   "metadata": {},
   "outputs": [],
   "source": [
    "#Use Spark to implement the all solutions"
   ]
  },
  {
   "cell_type": "code",
   "execution_count": null,
   "metadata": {},
   "outputs": [],
   "source": [
    "#The RMSE is not the best you have to choose another way to evaluate"
   ]
  },
  {
   "cell_type": "code",
   "execution_count": null,
   "metadata": {},
   "outputs": [],
   "source": [
    "#Check these links\n",
    "\n",
    "follow these links for further explanations :\n",
    "https://medium.com/slalom-technology/building-and-evaluating-your-first-recommendation-engine-with-scikit-surprise-8681418ee367\n",
    "https://medium.com/datadriveninvestor/behind-spotify-recommendation-engine-a9b5a27a935\n",
    "https://mail.google.com/mail/u/0/#search/medium/FMfcgxwDqxRlPXlFsXPrDfSSxsznRHJF"
   ]
  }
 ],
 "metadata": {
  "kernelspec": {
   "display_name": "Python 3",
   "language": "python",
   "name": "python3"
  },
  "language_info": {
   "codemirror_mode": {
    "name": "ipython",
    "version": 3
   },
   "file_extension": ".py",
   "mimetype": "text/x-python",
   "name": "python",
   "nbconvert_exporter": "python",
   "pygments_lexer": "ipython3",
   "version": "3.7.1"
  }
 },
 "nbformat": 4,
 "nbformat_minor": 2
}
