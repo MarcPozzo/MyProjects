{
 "cells": [
  {
   "cell_type": "markdown",
   "metadata": {},
   "source": [
    "Please enter the two cases below"
   ]
  },
  {
   "cell_type": "code",
   "execution_count": 3,
   "metadata": {},
   "outputs": [],
   "source": [
    "import pandas as pd\n",
    "import numpy as np\n",
    "from sklearn.model_selection import train_test_split\n",
    "from numpy.linalg import inv\n",
    "from sklearn.metrics import mean_squared_error\n",
    "import matplotlib.pyplot as plt\n",
    "import sklearn.metrics.pairwise as dist\n",
    "from tqdm import tqdm\n",
    "import seaborn as sns\n",
    "%matplotlib inline\n",
    "ratings=pd.read_csv('../../new_dataset/action_movies.csv',index_col=0)\n",
    "movies=pd.read_csv('../../../../../dataset/ml-20m/movies.csv')\n",
    "df_ref=pd.read_csv('../../new_dataset/correspondances_Id_movie')"
   ]
  },
  {
   "cell_type": "code",
   "execution_count": 4,
   "metadata": {},
   "outputs": [
    {
     "name": "stdin",
     "output_type": "stream",
     "text": [
      "Type a number between 0 and 1168 to indicate your IdUser :  0\n",
      "Type the number of moovies you want to watch :  10\n"
     ]
    },
    {
     "name": "stdout",
     "output_type": "stream",
     "text": [
      "Bravo, you have already seen  394 movies\n",
      "The list of movies I advice you is below\n",
      "this is the list of movies already seen :  ['Sudden Death (1995)', 'GoldenEye (1995)', 'Cutthroat Island (1995)', 'Money Train (1995)', 'Assassins (1995)', 'Mortal Kombat (1995)', 'Lawnmower Man 2: Beyond Cyberspace (1996)', 'From Dusk Till Dawn (1996)', 'Broken Arrow (1996)', 'Muppet Treasure Island (1996)', 'Rumble in the Bronx (Hont faan kui) (1995)', 'Bad Boys (1995)', 'Batman Forever (1995)', 'Congo (1995)', 'Crimson Tide (1995)', 'Desperado (1995)', 'Die Hard: With a Vengeance (1995)', 'First Knight (1995)', 'Johnny Mnemonic (1995)', 'Judge Dredd (1995)', 'Mighty Morphin Power Rangers: The Movie (1995)', 'Net, The (1995)', 'Species (1995)', 'Under Siege 2: Dark Territory (1995)', 'Waterworld (1995)', 'Drop Zone (1994)', 'Star Wars: Episode IV - A New Hope (1977)', 'Outbreak (1995)', 'Quick and the Dead, The (1995)', 'Specialist, The (1994)', 'Stargate (1994)', 'Tank Girl (1995)', 'Star Trek: Generations (1994)', 'Virtuosity (1995)', 'Clear and Present Danger (1994)', 'Crow, The (1994)', 'Maverick (1994)', 'Speed (1994)', 'Timecop (1994)', 'True Lies (1994)', 'Low Down Dirty Shame, A (1994)', 'Street Fighter (1994)', 'Beverly Hills Cop III (1994)', 'Cliffhanger (1993)', 'Cowboy Way, The (1994)', 'Demolition Man (1993)', 'Fugitive, The (1993)', 'Hot Shots! Part Deux (1993)', 'In the Line of Fire (1993)', 'Last Action Hero (1993)', 'Executive Decision (1996)', 'Next Karate Kid, The (1994)', 'Program, The (1993)', 'RoboCop 3 (1993)', 'Terminal Velocity (1994)', 'Three Musketeers, The (1993)', 'Tombstone (1993)', 'Terminator 2: Judgment Day (1991)', 'Batman (1989)', 'Courage Under Fire (1996)', 'Mission: Impossible (1996)', 'Dragonheart (1996)', 'Operation Dumbo Drop (1995)', 'Solo (1996)', 'Substitute, The (1996)', 'Rock, The (1996)', 'Twister (1996)', 'Barb Wire (1996)', 'Spy Hard (1996)', 'Phantom, The (1996)', 'Independence Day (a.k.a. ID4) (1996)', 'Eraser (1996)', 'Daylight (1996)', 'Fled (1996)', 'Ransom (1996)', 'Chain Reaction (1996)', 'Crow: City of Angels, The (1996)', 'Escape from L.A. (1996)', 'Supercop (Police Story 3: Supercop) (Jing cha gu shi III: Chao ji jing cha) (1992)', 'Bulletproof (1996)', 'Last Man Standing (1996)', 'Glimmer Man, The (1996)', 'D3: The Mighty Ducks (1996)', 'Robin Hood: Prince of Thieves (1991)', 'Die Hard (1988)', 'Long Kiss Goodnight, The (1996)', 'Top Gun (1986)', 'Escape from New York (1981)', 'Star Wars: Episode V - The Empire Strikes Back (1980)', 'Raiders of the Lost Ark (Indiana Jones and the Raiders of the Lost Ark) (1981)', 'Star Wars: Episode VI - Return of the Jedi (1983)', 'Terminator, The (1984)', 'Indiana Jones and the Last Crusade (1989)', 'Alien³ (a.k.a. Alien 3) (1992)', 'Star Trek: First Contact (1996)', 'Die Hard 2 (1990)', 'Star Trek VI: The Undiscovered Country (1991)', 'Star Trek V: The Final Frontier (1989)', 'Star Trek II: The Wrath of Khan (1982)', 'Star Trek III: The Search for Spock (1984)', 'Batman Returns (1992)', 'Under Siege (1992)', 'Last of the Mohicans, The (1992)', 'Murder at 1600 (1997)', 'Turbulence (1997)', 'First Strike (Police Story 4: First Strike) (Ging chaat goo si 4: Ji gaan daan yam mo) (1996)', 'Beverly Hills Ninja (1997)', \"Dante's Peak (1997)\", \"McHale's Navy (1997)\", 'Saint, The (1997)', \"Devil's Own, The (1997)\", 'Double Team (1997)', 'Anaconda (1997)', 'Volcano (1997)', 'Breakdown (1997)', 'Fifth Element, The (1997)', 'Lost World: Jurassic Park, The (1997)', 'Con Air (1997)', 'Speed 2: Cruise Control (1997)', 'Batman & Robin (1997)', 'Face/Off (1997)', 'G.I. Jane (1997)', 'George of the Jungle (1997)', 'Spawn (1997)', 'Conspiracy Theory (1997)', 'Steel (1997)', 'Kull the Conqueror (1997)', 'Air Force One (1997)', 'Hunt for Red October, The (1990)', 'Edge, The (1997)', 'Peacemaker, The (1997)', 'Fire Down Below (1997)', 'Starship Troopers (1997)', 'Mortal Kombat: Annihilation (1997)', 'Jackal, The (1997)', 'Man Who Knew Too Little, The (1997)', 'Alien: Resurrection (1997)', 'Tomorrow Never Dies (1997)', 'Postman, The (1997)', 'Hard Rain (1998)', 'Deep Rising (1998)', 'Replacement Killers, The (1998)', 'Blues Brothers 2000 (1998)', 'U.S. Marshals (1998)', 'Newton Boys, The (1998)', 'Lost in Space (1998)', 'Mercury Rising (1998)', 'Mr. Nice Guy (Yat goh ho yan) (1997)', 'Big Hit, The (1998)', 'Deep Impact (1998)', 'Godzilla (1998)', 'Six Days Seven Nights (1998)', 'Armageddon (1998)', 'Lethal Weapon 4 (1998)', 'Small Soldiers (1998)', 'Lethal Weapon (1987)', 'Lethal Weapon 2 (1989)', 'Lethal Weapon 3 (1992)', 'Dune (1984)', 'Negotiator, The (1998)', 'Rocketeer, The (1991)', 'Indiana Jones and the Temple of Doom (1984)', 'Blade (1998)', 'Wrongfully Accused (1998)', 'Willow (1988)', 'Rush Hour (1998)', 'Ronin (1998)', 'Soldier (1998)', 'Siege, The (1998)', 'Enemy of the State (1998)', 'View to a Kill, A (1985)', 'Star Trek: Insurrection (1998)', 'Rambo: First Blood Part II (1985)', 'First Blood (Rambo: First Blood) (1982)', 'Romancing the Stone (1984)', 'Karate Kid, Part II, The (1986)', 'Karate Kid, Part III, The (1989)', 'Howard the Duck (1986)', 'Crocodile Dundee II (1988)', 'Payback (1999)', 'Beneath the Planet of the Apes (1970)', 'Battle for the Planet of the Apes (1973)', 'Escape from the Planet of the Apes (1971)', 'Matrix, The (1999)', 'Entrapment (1999)', 'Dick Tracy (1990)', 'Mummy, The (1999)', 'Star Wars: Episode I - The Phantom Menace (1999)', 'Austin Powers: The Spy Who Shagged Me (1999)', 'Wild Wild West (1999)', 'Lake Placid (1999)', 'Ghostbusters (a.k.a. Ghost Busters) (1984)', 'Ghostbusters II (1989)', 'Deep Blue Sea (1999)', 'Universal Soldier: The Return (1999)', 'Universal Soldier (1992)', 'Iron Eagle (1986)', 'Iron Eagle II (1988)', 'Aces: Iron Eagle III (1992)', 'Blue Streak (1999)', 'Armour of God II: Operation Condor (Operation Condor) (Fei ying gai wak) (1991)', 'Three Kings (1999)', 'Total Recall (1990)', 'Goldfinger (1964)', 'From Russia with Love (1963)', 'Dr. No (1962)', 'RoboCop (1987)', 'RoboCop 2 (1990)', 'For Your Eyes Only (1981)', 'Licence to Kill (1989)', 'Thunderball (1965)', 'Pokémon: The First Movie (1998)', 'World Is Not Enough, The (1999)', 'Backdraft (1991)', 'End of Days (1999)', \"Loaded Weapon 1 (National Lampoon's Loaded Weapon 1) (1993)\", 'Batman: Mask of the Phantasm (1993)', 'Buffy the Vampire Slayer (1992)', 'Stop! Or My Mom Will Shoot (1992)', 'Boondock Saints, The (2000)', 'Reindeer Games (2000)', 'Teenage Mutant Ninja Turtles (1990)', 'Teenage Mutant Ninja Turtles II: The Secret of the Ooze (1991)', 'Teenage Mutant Ninja Turtles III (1993)', 'Red Dawn (1984)', 'Romeo Must Die (2000)', 'Predator (1987)', 'U-571 (2000)', 'Crow: Salvation, The (2000)', 'Gladiator (2000)', 'Battlefield Earth (2000)', 'Mission: Impossible II (2000)', 'Shanghai Noon (2000)', 'Spy Who Loved Me, The (1977)', 'Moonraker (1979)', 'Man with the Golden Gun, The (1974)', \"Big Momma's House (2000)\", 'Predator 2 (1990)', 'Running Man, The (1987)', 'Alien Nation (1988)', 'Mad Max (1979)', 'Road Warrior, The (Mad Max 2) (1981)', 'Mad Max Beyond Thunderdome (1985)', 'Gone in 60 Seconds (2000)', 'Big Trouble in Little China (1986)', 'Shaft (2000)', 'Titan A.E. (2000)', 'Patriot, The (2000)', 'Perfect Storm, The (2000)', 'X-Men (2000)', 'Hollow Man (2000)', 'Space Cowboys (2000)', 'Godzilla 2000 (Gojira ni-sen mireniamu) (1999)', 'Art of War, The (2000)', 'Bait (2000)', 'Legend of Drunken Master, The (Jui kuen II) (1994)', \"Charlie's Angels (2000)\", 'Red Planet (2000)', 'Diamonds Are Forever (1971)', '6th Day, The (2000)', 'Crouching Tiger, Hidden Dragon (Wo hu cang long) (2000)', 'Transformers: The Movie (1986)', 'Dracula 2000 (2000)', 'Antitrust (2001)', 'Beverly Hills Cop II (1987)', 'Beverly Hills Cop (1984)', 'Innerspace (1987)', 'Masters of the Universe (1987)', '3000 Miles to Graceland (2001)', 'Double Impact (1991)', 'Exit Wounds (2001)', 'Mummy Returns, The (2001)', \"Knight's Tale, A (2001)\", 'Pearl Harbor (2001)', 'Swordfish (2001)', 'Lara Croft: Tomb Raider (2001)', 'Fast and the Furious, The (2001)', 'Cats & Dogs (2001)', 'Kiss of the Dragon (2001)', 'Final Fantasy: The Spirits Within (2001)', 'Shoot to Kill (1988)', 'Punisher, The (1989)', 'Jurassic Park III (2001)', 'Planet of the Apes (2001)', 'Tango & Cash (1989)', 'Rush Hour 2 (2001)', 'Osmosis Jones (2001)', '3 Ninjas (1992)', 'Last Castle, The (2001)', 'One, The (2001)', 'Heist (2001)', 'Behind Enemy Lines (2001)', 'Conan the Destroyer (1984)', 'Kung Pow: Enter the Fist (2002)', 'Blankman (1994)', 'Collateral Damage (2002)', 'We Were Soldiers (2002)', 'Time Machine, The (2002)', 'Resident Evil (2002)', 'Showtime (2002)', 'Blade II (2002)', 'Scorpion King, The (2002)', 'Jason X (2002)', 'Spider-Man (2002)', 'Star Wars: Episode II - Attack of the Clones (2002)', 'Sum of All Fears, The (2002)', 'Undercover Brother (2002)', 'Bad Company (2002)', 'Bourne Identity, The (2002)', 'Windtalkers (2002)', 'Minority Report (2002)', 'Men in Black II (a.k.a. MIIB) (a.k.a. MIB 2) (2002)', 'Reign of Fire (2002)', 'Eight Legged Freaks (2002)', 'Austin Powers in Goldmember (2002)', 'xXx (2002)', 'Hot Shots! (1991)', 'Stakeout (1987)', 'Transporter, The (2002)', 'Ballistic: Ecks vs. Sever (2002)', 'Tuxedo, The (2002)', 'Jackass: The Movie (2002)', 'I Spy (2002)', 'Die Another Day (2002)', 'Star Trek: Nemesis (2002)', 'Heavy Metal 2000 (2000)', 'Kangaroo Jack (2003)', 'National Security (2003)', 'Recruit, The (2003)', 'Shanghai Knights (2003)', 'Daredevil (2003)', 'Cradle 2 the Grave (2003)', 'Tears of the Sun (2003)', 'Man Apart, A (2003)', 'X2: X-Men United (2003)', 'Matrix Reloaded, The (2003)', 'In-Laws, The (2003)', \"Charlie's Angels: Full Throttle (2003)\", 'Hulk (2003)', 'Terminator 3: Rise of the Machines (2003)', 'Pirates of the Caribbean: The Curse of the Black Pearl (2003)', 'League of Extraordinary Gentlemen, The (a.k.a. LXG) (2003)', 'Bad Boys II (2003)', 'Lara Croft Tomb Raider: The Cradle of Life (2003)', 'S.W.A.T. (2003)', 'Freddy vs. Jason (2003)', 'Commando (1985)', 'Once Upon a Time in Mexico (2003)', 'Kuffs (1992)', 'Jungle Book (1942)', 'Underworld (2003)', 'Rundown, The (2003)', 'Kill Bill: Vol. 1 (2003)', 'Matrix Revolutions, The (2003)', 'Last Boy Scout, The (1991)', 'Passenger 57 (1992)', 'Nothing to Lose (1997)', 'Hero (Ying xiong) (2002)', 'Last Samurai, The (2003)', 'Hidalgo (2004)', 'Hellboy (2004)', 'Walking Tall (2004)', 'Kill Bill: Vol. 2 (2004)', 'Punisher, The (2004)', 'Man on Fire (2004)', 'Van Helsing (2004)', 'Octopussy (1983)', 'Never Say Never Again (1983)', 'Day After Tomorrow, The (2004)', 'Chronicles of Riddick, The (2004)', 'Spider-Man 2 (2004)', 'King Arthur (2004)', 'I, Robot (2004)', 'Bourne Supremacy, The (2004)', 'AVP: Alien vs. Predator (2004)', 'Cellular (2004)', 'Resident Evil: Apocalypse (2004)', 'Sky Captain and the World of Tomorrow (2004)', 'Ladder 49 (2004)', 'Team America: World Police (2004)', 'Incredibles, The (2004)', 'National Treasure (2004)', 'Alexander (2004)', 'House of Flying Daggers (Shi mian mai fu) (2004)', 'Blade: Trinity (2004)', 'Assault on Precinct 13 (2005)', 'Alone in the Dark (2005)', 'Constantine (2005)', 'Hostage (2005)', 'Kingdom of Heaven (2005)', 'Star Wars: Episode III - Revenge of the Sith (2005)', 'Mr. & Mrs. Smith (2005)', 'Batman Begins (2005)', 'Stealth (2005)']\n"
     ]
    },
    {
     "name": "stderr",
     "output_type": "stream",
     "text": [
      "/anaconda3/lib/python3.7/site-packages/pandas/core/frame.py:3697: SettingWithCopyWarning: \n",
      "A value is trying to be set on a copy of a slice from a DataFrame\n",
      "\n",
      "See the caveats in the documentation: http://pandas.pydata.org/pandas-docs/stable/indexing.html#indexing-view-versus-copy\n",
      "  errors=errors)\n",
      "100%|██████████| 667/667 [00:00<00:00, 29905.19it/s]"
     ]
    },
    {
     "name": "stdout",
     "output_type": "stream",
     "text": [
      "Here are movies you will love\n"
     ]
    },
    {
     "name": "stderr",
     "output_type": "stream",
     "text": [
      "\n"
     ]
    },
    {
     "data": {
      "text/plain": [
       "\"'Dark Knight, The (2008)', '300 (2007)', 'Casino Royale (2006)', 'V for Vendetta (2006)', 'King Kong (2005)', 'Serenity (2005)', 'Kung Fu Hustle (Gong fu) (2004)', 'Enter the Dragon (1973)', 'Equilibrium (2002)', 'Aliens (1986)'\""
      ]
     },
     "execution_count": 4,
     "metadata": {},
     "output_type": "execute_result"
    }
   ],
   "source": [
    "#Définition du nombre de users et du nombre de films\n",
    "user=0\n",
    "movies_asked=10\n",
    "user = input(\"Type a number between 0 and 1168 to indicate your IdUser : \")\n",
    "movies_asked= input(\"Type the number of moovies you want to watch : \")\n",
    "user=int(user)\n",
    "movies_asked=int(movies_asked)\n",
    "\n",
    "\n",
    "n_users = ratings.Id_Action.unique().shape[0]\n",
    "n_movies = ratings.movie_Action.unique().shape[0]\n",
    "\n",
    "filtre=list(ratings[\"movie_Action\"][ratings[\"Id_Action\"]==user].unique())\n",
    "\n",
    "films_vus_par_u = ratings[ratings[\"movie_Action\"].isin(filtre)]\n",
    "\n",
    "#In a first we suppose assume that there is no user to remove but only movies to reindex\n",
    "n_users=len(films_vus_par_u[\"Id_Action\"].unique())\n",
    "n_movies=len(films_vus_par_u[\"movie_Action\"].unique())\n",
    "\n",
    "\n",
    "jointure=pd.merge(movies,df_ref)\n",
    "jointure.drop(['movieId', 'genres', 'imdbId', 'movieId_2', 'imdbId.1'],axis=1,inplace=True)\n",
    "jointure=pd.merge(jointure,ratings)\n",
    "jointure.drop([\"movieId_ref\",\"userId\",\"Id_Action\",\"rating\"],axis=1,inplace=True)\n",
    "jointure.head()\n",
    "jointure.head()\n",
    "\n",
    "movies_seen=jointure[jointure[\"movie_Action\"].isin(filtre)]\n",
    "print(\"Bravo, you have already seen \",str(n_movies) + \" movies\")\n",
    "print(\"The list of movies I advice you is below\")\n",
    "print(\"this is the list of movies already seen : \",list(movies_seen[\"title\"].unique()))\n",
    "\n",
    "films_vus_par_u.drop([\"userId\",\"movieId_ref\"],axis=1,inplace=True)\n",
    "\n",
    "conversion_Id_movies_seen=pd.DataFrame({\"movie_Action\":list(films_vus_par_u[\"movie_Action\"].unique()),\"new_movies_Id\":range(0,n_movies)})\n",
    "result=pd.merge(films_vus_par_u, conversion_Id_movies_seen, how='inner', on=None, left_on=None, right_on=None,\n",
    "         left_index=False, right_index=False, sort=True,\n",
    "         suffixes=('_x', '_y'), copy=True, indicator=False,\n",
    "         validate=None)\n",
    "\n",
    "matrice=np.zeros(( n_users,n_movies))\n",
    "for line in result.itertuples():\n",
    "    matrice[line[1], line[4]]=line[2]\n",
    "\n",
    "user_similarity=dist.cosine_similarity(matrice)\n",
    "\n",
    "a=list(ratings[\"movie_Action\"].unique())\n",
    "b=list(movies_seen[\"movie_Action\"].unique())\n",
    "movie_no_seen=[item for item in a if item not in b]\n",
    "movie_no_seen=pd.DataFrame({\"movie_Action\" : movie_no_seen})\n",
    "movie_no_seen=pd.merge(movie_no_seen,ratings,how='inner')\n",
    "\n",
    "n_movies=len(movie_no_seen.movie_Action.unique())\n",
    "#Il faut construire un nouveau index des Id_movies\n",
    "conversion_Id_movies_no_seen=pd.DataFrame({\"movie_Action\":list(movie_no_seen[\"movie_Action\"].unique()),\"new_movies_Id\":range(0,n_movies)})\n",
    "\n",
    "result=pd.merge(movie_no_seen, conversion_Id_movies_no_seen, how='inner', on=None, left_on=None, right_on=None,\n",
    "         left_index=False, right_index=False, sort=True,\n",
    "         suffixes=('_x', '_y'), copy=True, indicator=False,\n",
    "         validate=None)\n",
    "\n",
    "matrice_new=np.zeros(( 1168,n_movies))\n",
    "for line in result.itertuples():\n",
    "    matrice_new[line[3], line[6]]=line[5]\n",
    "    \n",
    "def pred_user(matrice_modele, user_similarity, k, user):    \n",
    "    pred = np.zeros(matrice_modele.shape[1])\n",
    "    top_k_users = np.argsort(user_similarity[:,user])[-1:-k-1:-1]  \n",
    "    for i in tqdm(range(matrice_modele.shape[1])):\n",
    "        pred[i]=user_similarity[user,:][top_k_users].dot(matrice_modele[:,i][top_k_users])\n",
    "        pred[i]/=np.sum(np.abs(user_similarity[user,:][top_k_users]))+0.000001     \n",
    "    return pred \n",
    "\n",
    "movies_adviced=np.argsort(pred_user(matrice_new, user_similarity, 15, user))[-1:-1-movies_asked:-1]\n",
    "movies_adviced=list(result[\"movie_Action\"][result[\"new_movies_Id\"].isin(movies_adviced)].unique())\n",
    "movies_adviced=list(ratings[\"movieId_ref\"][ratings[\"movie_Action\"].isin(movies_adviced)].unique())\n",
    "movies_adviced=list(df_ref[\"movieId\"][df_ref[\"movieId_ref\"].isin(movies_adviced)].unique())\n",
    "\n",
    "movies_adviced=list(movies[\"title\"][movies[\"movieId\"].isin(movies_adviced)].unique())\n",
    "print(\"Here are movies you will love\")\n",
    "str(movies_adviced[::-1])[1:-1]"
   ]
  },
  {
   "cell_type": "code",
   "execution_count": 9,
   "metadata": {},
   "outputs": [
    {
     "name": "stdin",
     "output_type": "stream",
     "text": [
      "Type a number between 0 and 1168 to indicate your IdUser :  2\n",
      "Type the number of moovies you want to watch :  10\n"
     ]
    },
    {
     "name": "stdout",
     "output_type": "stream",
     "text": [
      "Bravo, you have already seen  648 movies\n",
      "The list of movies I advice you is below\n",
      "this is the list of movies already seen :  ['Sudden Death (1995)', 'GoldenEye (1995)', 'Cutthroat Island (1995)', 'Assassins (1995)', 'Mortal Kombat (1995)', 'From Dusk Till Dawn (1996)', 'Broken Arrow (1996)', 'Bad Boys (1995)', 'Batman Forever (1995)', 'Crimson Tide (1995)', 'Desperado (1995)', 'Die Hard: With a Vengeance (1995)', 'First Knight (1995)', 'Johnny Mnemonic (1995)', 'Judge Dredd (1995)', 'Prophecy, The (1995)', 'Species (1995)', 'Strange Days (1995)', 'Under Siege 2: Dark Territory (1995)', 'Waterworld (1995)', 'Star Wars: Episode IV - A New Hope (1977)', 'Quick and the Dead, The (1995)', 'Stargate (1994)', 'Tank Girl (1995)', 'Tales from the Crypt Presents: Demon Knight (1995)', 'Star Trek: Generations (1994)', 'Clear and Present Danger (1994)', 'Crow, The (1994)', 'Maverick (1994)', 'Speed (1994)', 'Timecop (1994)', 'True Lies (1994)', 'Faster Pussycat! Kill! Kill! (1965)', 'Highlander III: The Sorcerer (a.k.a. Highlander: The Final Dimension) (1994)', 'Bad Girls (1994)', 'Beverly Hills Cop III (1994)', 'Cliffhanger (1993)', 'Demolition Man (1993)', 'Fugitive, The (1993)', 'Getaway, The (1994)', 'Hard Target (1993)', 'Hot Shots! Part Deux (1993)', 'In the Line of Fire (1993)', 'Last Action Hero (1993)', 'Executive Decision (1996)', 'Rising Sun (1993)', 'RoboCop 3 (1993)', 'Striking Distance (1993)', 'Terminal Velocity (1994)', 'Three Musketeers, The (1993)', 'Tombstone (1993)', 'Terminator 2: Judgment Day (1991)', 'Batman (1989)', 'Mission: Impossible (1996)', 'Dragonheart (1996)', 'Solo (1996)', 'Rock, The (1996)', 'Twister (1996)', 'Barb Wire (1996)', 'Spy Hard (1996)', 'Phantom, The (1996)', 'Independence Day (a.k.a. ID4) (1996)', 'Eraser (1996)', 'Daylight (1996)', 'Ransom (1996)', 'Chain Reaction (1996)', 'Crow: City of Angels, The (1996)', 'Escape from L.A. (1996)', 'Last Man Standing (1996)', 'Robin Hood: Prince of Thieves (1991)', 'Die Hard (1988)', 'Long Kiss Goodnight, The (1996)', 'Bonnie and Clyde (1967)', 'Top Gun (1986)', 'Escape from New York (1981)', 'Star Wars: Episode V - The Empire Strikes Back (1980)', 'Raiders of the Lost Ark (Indiana Jones and the Raiders of the Lost Ark) (1981)', 'Aliens (1986)', 'Star Wars: Episode VI - Return of the Jedi (1983)', 'Ran (1985)', 'Terminator, The (1984)', 'Femme Nikita, La (Nikita) (1990)', 'Highlander (1986)', 'High Noon (1952)', 'Indiana Jones and the Last Crusade (1989)', 'Alien³ (a.k.a. Alien 3) (1992)', 'Star Trek: First Contact (1996)', 'Die Hard 2 (1990)', 'Star Trek VI: The Undiscovered Country (1991)', 'Star Trek V: The Final Frontier (1989)', 'Star Trek II: The Wrath of Khan (1982)', 'Star Trek III: The Search for Spock (1984)', 'Batman Returns (1992)', 'Young Guns (1988)', 'Young Guns II (1990)', 'Under Siege (1992)', 'Last of the Mohicans, The (1992)', 'Beverly Hills Ninja (1997)', \"Dante's Peak (1997)\", 'Absolute Power (1997)', 'Saint, The (1997)', 'Double Team (1997)', 'Anaconda (1997)', 'Volcano (1997)', 'Fifth Element, The (1997)', 'Lost World: Jurassic Park, The (1997)', 'Con Air (1997)', 'Speed 2: Cruise Control (1997)', 'Batman & Robin (1997)', 'Face/Off (1997)', 'G.I. Jane (1997)', 'Spawn (1997)', 'Conspiracy Theory (1997)', 'Steel (1997)', 'Kull the Conqueror (1997)', 'Air Force One (1997)', 'Hunt for Red October, The (1990)', 'Peacemaker, The (1997)', 'Starship Troopers (1997)', 'Jackal, The (1997)', 'Man Who Knew Too Little, The (1997)', 'Alien: Resurrection (1997)', 'Tomorrow Never Dies (1997)', 'Postman, The (1997)', 'Hard Rain (1998)', 'Deep Rising (1998)', 'Replacement Killers, The (1998)', 'Blues Brothers 2000 (1998)', 'U.S. Marshals (1998)', 'Man in the Iron Mask, The (1998)', 'Lost in Space (1998)', 'Mercury Rising (1998)', 'Species II (1998)', 'Big Hit, The (1998)', 'Deep Impact (1998)', 'Godzilla (1998)', 'Armageddon (1998)', 'Lethal Weapon 4 (1998)', 'Lethal Weapon (1987)', 'Lethal Weapon 2 (1989)', 'Lethal Weapon 3 (1992)', 'Mask of Zorro, The (1998)', 'Dune (1984)', 'Black Cauldron, The (1985)', 'Black Hole, The (1979)', 'Negotiator, The (1998)', 'Rocketeer, The (1991)', 'Indiana Jones and the Temple of Doom (1984)', 'Maximum Overdrive (1986)', 'Avengers, The (1998)', 'Blade (1998)', 'Wrongfully Accused (1998)', 'Willow (1988)', 'Rush Hour (1998)', 'Ronin (1998)', 'Vampires (1998)', 'Siege, The (1998)', 'Enemy of the State (1998)', 'Red Sonja (1985)', 'View to a Kill, A (1985)', 'Star Trek: Insurrection (1998)', 'Rambo: First Blood Part II (1985)', 'First Blood (Rambo: First Blood) (1982)', 'Rambo III (1988)', 'Jewel of the Nile, The (1985)', 'Romancing the Stone (1984)', 'Karate Kid, The (1984)', 'Karate Kid, Part II, The (1986)', 'Armed and Dangerous (1986)', 'Crocodile Dundee II (1988)', 'Payback (1999)', 'Airport (1970)', 'Beneath the Planet of the Apes (1970)', 'Battle for the Planet of the Apes (1973)', 'Conquest of the Planet of the Apes (1972)', 'Escape from the Planet of the Apes (1971)', 'Earthquake (1974)', 'Wing Commander (1999)', 'Matrix, The (1999)', 'Entrapment (1999)', 'Dick Tracy (1990)', 'Mummy, The (1999)', 'Star Wars: Episode I - The Phantom Menace (1999)', 'Superman (1978)', 'Superman II (1980)', 'Austin Powers: The Spy Who Shagged Me (1999)', 'Wild Wild West (1999)', 'Ghostbusters (a.k.a. Ghost Busters) (1984)', 'Ghostbusters II (1989)', 'Deep Blue Sea (1999)', 'Mystery Men (1999)', 'Allan Quatermain and the Lost City of Gold (1987)', 'Universal Soldier (1992)', 'Iron Eagle (1986)', '13th Warrior, The (1999)', 'Three Kings (1999)', 'Total Recall (1990)', 'Dirty Dozen, The (1967)', 'Goldfinger (1964)', 'From Russia with Love (1963)', 'Dr. No (1962)', 'RoboCop (1987)', 'RoboCop 2 (1990)', 'For Your Eyes Only (1981)', 'Licence to Kill (1989)', 'Live and Let Die (1973)', 'Thunderball (1965)', 'Tora! Tora! Tora! (1970)', 'World Is Not Enough, The (1999)', 'Backdraft (1991)', 'End of Days (1999)', \"Loaded Weapon 1 (National Lampoon's Loaded Weapon 1) (1993)\", 'Patriot Games (1992)', 'Buffy the Vampire Slayer (1992)', 'Hard-Boiled (Lat sau san taam) (1992)', 'Mariachi, El (1992)', 'Stop! Or My Mom Will Shoot (1992)', 'Reindeer Games (2000)', 'Death Wish (1974)', 'Teenage Mutant Ninja Turtles (1990)', 'Red Dawn (1984)', 'Romeo Must Die (2000)', 'Force 10 from Navarone (1978)', 'Predator (1987)', 'U-571 (2000)', 'Gladiator (2000)', 'Battlefield Earth (2000)', 'Mission: Impossible II (2000)', 'Shanghai Noon (2000)', \"On Her Majesty's Secret Service (1969)\", 'Spy Who Loved Me, The (1977)', 'Moonraker (1979)', 'Man with the Golden Gun, The (1974)', 'Guns of Navarone, The (1961)', 'Magnum Force (1973)', 'Toxic Avenger, The (1985)', 'Predator 2 (1990)', 'Running Man, The (1987)', 'Alien Nation (1988)', 'Mad Max (1979)', 'Road Warrior, The (Mad Max 2) (1981)', 'Mad Max Beyond Thunderdome (1985)', 'Firestarter (1984)', 'Gone in 60 Seconds (2000)', 'Near Dark (1987)', 'Shaft (1971)', 'Big Trouble in Little China (1986)', 'Shaft (2000)', 'Titan A.E. (2000)', 'Perfect Storm, The (2000)', 'F/X (1986)', 'X-Men (2000)', 'Freejack (1992)', 'Hollow Man (2000)', 'Space Cowboys (2000)', 'Air America (1990)', 'Art of War, The (2000)', 'Highlander: Endgame (Highlander IV) (2000)', 'Way of the Gun, The (2000)', 'Get Carter (2000)', \"Charlie's Angels (2000)\", 'Red Planet (2000)', 'Diamonds Are Forever (1971)', '6th Day, The (2000)', 'Crouching Tiger, Hidden Dragon (Wo hu cang long) (2000)', 'Dungeons & Dragons (2000)', 'Vertical Limit (2000)', 'Bounty, The (1984)', 'Living Daylights, The (1987)', 'Miss Congeniality (2000)', 'Dracula 2000 (2000)', 'Beverly Hills Cop II (1987)', 'Beverly Hills Cop (1984)', 'Cherry 2000 (1987)', 'Innerspace (1987)', 'Ishtar (1987)', 'Masters of the Universe (1987)', '3000 Miles to Graceland (2001)', '15 Minutes (2001)', 'Harley Davidson and the Marlboro Man (1991)', 'Navy Seals (1990)', 'Exit Wounds (2001)', 'Mummy Returns, The (2001)', 'Krull (1983)', \"Knight's Tale, A (2001)\", 'Pearl Harbor (2001)', 'Magnificent Seven, The (1960)', 'Rio Bravo (1959)', 'Swordfish (2001)', 'Lara Croft: Tomb Raider (2001)', 'Fast and the Furious, The (2001)', 'Cannonball Run II (1984)', 'Outland (1981)', 'Final Fantasy: The Spirits Within (2001)', 'Dead Pool, The (1988)', 'Red Heat (1988)', 'American Ninja (1985)', 'Black Rain (1989)', 'Blind Fury (1989)', 'Punisher, The (1989)', 'Jurassic Park III (2001)', 'Planet of the Apes (2001)', 'Warlock (1989)', 'Rush Hour 2 (2001)', 'Dirty Harry (1971)', 'Last Castle, The (2001)', 'Heist (2001)', 'Midway (1976)', 'Flash Gordon (1980)', 'Enforcer, The (1976)', 'Sudden Impact (1983)', 'Another 48 Hrs. (1990)', 'Dragonslayer (1981)', 'Conan the Destroyer (1984)', 'Kung Pow: Enter the Fist (2002)', '48 Hrs. (1982)', 'The Count of Monte Cristo (2002)', 'Collateral Damage (2002)', 'Time Machine, The (2002)', 'Resident Evil (2002)', 'Showtime (2002)', 'Smokey and the Bandit II (1980)', 'Smokey and the Bandit (1977)', 'Blade II (2002)', 'Scorpion King, The (2002)', 'Jason X (2002)', 'Spider-Man (2002)', 'Star Wars: Episode II - Attack of the Clones (2002)', 'Sum of All Fears, The (2002)', 'Bourne Identity, The (2002)', 'Windtalkers (2002)', 'V. I. Warshawski (1991)', 'Minority Report (2002)', 'Men in Black II (a.k.a. MIIB) (a.k.a. MIB 2) (2002)', 'Reign of Fire (2002)', 'Eight Legged Freaks (2002)', 'Austin Powers in Goldmember (2002)', 'Blood Work (2002)', 'xXx (2002)', 'Adventures of Pluto Nash, The (2002)', 'Hot Shots! (1991)', 'Transporter, The (2002)', 'Wasabi (2001)', 'Formula 51 (2001)', 'Die Another Day (2002)', 'Equilibrium (2002)', 'Star Trek: Nemesis (2002)', 'Recruit, The (2003)', 'Firefox (1982)', 'Daredevil (2003)', 'Tears of the Sun (2003)', 'Basic (2003)', 'Core, The (2003)', 'X2: X-Men United (2003)', 'Matrix Reloaded, The (2003)', 'Italian Job, The (2003)', '2 Fast 2 Furious (Fast and the Furious 2, The) (2003)', 'Hollywood Homicide (2003)', \"Charlie's Angels: Full Throttle (2003)\", 'Hulk (2003)', 'Terminator 3: Rise of the Machines (2003)', 'Pirates of the Caribbean: The Curse of the Black Pearl (2003)', 'League of Extraordinary Gentlemen, The (a.k.a. LXG) (2003)', 'Bad Boys II (2003)', 'Johnny English (2003)', 'Lara Croft Tomb Raider: The Cradle of Life (2003)', 'Remo Williams: The Adventure Begins (1985)', 'S.W.A.T. (2003)', 'Freddy vs. Jason (2003)', 'Shaolin Soccer (Siu lam juk kau) (2001)', 'Agent Cody Banks (2003)', 'Commando (1985)', 'Once Upon a Time in Mexico (2003)', 'Underworld (2003)', 'Cobra (1986)', 'Where Eagles Dare (1968)', 'House of the Dead, The (2003)', 'Kill Bill: Vol. 1 (2003)', 'Italian Job, The (1969)', 'Matrix Revolutions, The (2003)', 'Master and Commander: The Far Side of the World (2003)', 'Timeline (2003)', 'Darkman (1990)', 'Highlander II: The Quickening (1991)', 'Hudson Hawk (1991)', 'Last Boy Scout, The (1991)', 'Passenger 57 (1992)', 'Bullitt (1968)', 'Hero (Ying xiong) (2002)', '1941 (1979)', 'Last Samurai, The (2003)', 'Paycheck (2003)', 'Adventures of Ford Fairlane, The (1990)', \"King Solomon's Mines (1985)\", 'Raw Deal (1986)', 'Hellboy (2004)', 'Walking Tall (2004)', 'Kill Bill: Vol. 2 (2004)', 'Punisher, The (2004)', 'Van Helsing (2004)', 'You Only Live Twice (1967)', 'Octopussy (1983)', 'Never Say Never Again (1983)', 'Delta Force, The (1986)', 'Sniper (1993)', 'Death Race 2000 (1975)', 'Getaway, The (1972)', 'Day After Tomorrow, The (2004)', 'Chronicles of Riddick, The (2004)', 'Memphis Belle (1990)', 'Taxi (1998)', 'Last Starfighter, The (1984)', 'Spider-Man 2 (2004)', 'King Arthur (2004)', 'I, Robot (2004)', 'Bourne Supremacy, The (2004)', 'Catwoman (2004)', 'AVP: Alien vs. Predator (2004)', 'Resident Evil: Apocalypse (2004)', 'Sky Captain and the World of Tomorrow (2004)', 'Taxi (2004)', 'Team America: World Police (2004)', 'After the Sunset (2004)', 'National Treasure (2004)', 'Alexander (2004)', 'House of Flying Daggers (Shi mian mai fu) (2004)', 'Blade: Trinity (2004)', 'Fortress (1992)', 'Flight of the Phoenix (2004)', 'Elektra (2005)', 'Constantine (2005)', 'Night Watch (Nochnoy dozor) (2004)', 'Hostage (2005)', 'Sahara (2005)', 'xXx: State of the Union (2005)', 'Kingdom of Heaven (2005)', 'Star Wars: Episode III - Revenge of the Sith (2005)', 'Mr. & Mrs. Smith (2005)', 'Batman Begins (2005)', 'Fantastic Four (2005)', 'Island, The (2005)', 'Serenity (2005)', 'Brothers Grimm, The (2005)', 'Transporter 2 (2005)', 'Doom (2005)', 'Aeon Flux (2005)', 'Into the Blue (2005)', 'Revolver (2005)', 'Zathura (2005)', 'King Kong (2005)', 'BloodRayne (2005)', 'Underworld: Evolution (2006)', 'Ultraviolet (2006)', '16 Blocks (2006)', 'V for Vendetta (2006)', 'Mission: Impossible III (2006)', 'Poseidon (2006)', 'X-Men: The Last Stand (2006)', \"Pirates of the Caribbean: Dead Man's Chest (2006)\", 'Fast and the Furious: Tokyo Drift, The (Fast and the Furious 3, The) (2006)', 'Superman Returns (2006)', 'Snakes on a Plane (2006)', 'Miami Vice (2006)', 'Crank (2006)', 'Covenant, The (2006)', 'Apocalypto (2006)', 'Jackass Number Two (2006)', 'Casino Royale (2006)', 'Eragon (2006)', \"Smokin' Aces (2006)\", 'Ghost Rider (2007)', 'Hot Fuzz (2007)', 'Next (2007)', '300 (2007)', 'Grindhouse (2007)', 'Pathfinder (2007)', 'Spider-Man 3 (2007)', 'Day Watch (Dnevnoy dozor) (2006)', \"Pirates of the Caribbean: At World's End (2007)\", 'Fantastic Four: Rise of the Silver Surfer (2007)', 'Death Proof (2007)', 'Live Free or Die Hard (2007)', 'Transformers (2007)', 'Bourne Ultimatum, The (2007)', 'War (2007)', 'Planet Terror (2007)', '3:10 to Yuma (2007)', \"Shoot 'Em Up (2007)\", 'Resident Evil: Extinction (2007)', '30 Days of Night (2007)', 'Beowulf (2007)', 'Hitman (2007)', 'National Treasure: Book of Secrets (2007)', 'AVPR: Aliens vs. Predator - Requiem (2007)', 'Cloverfield (2008)', 'Rambo (Rambo 4) (2008)', 'Hellboy II: The Golden Army (2008)', \"Fool's Gold (2008)\", 'Jumper (2008)', 'Vantage Point (2008)', 'Spiderwick Chronicles, The (2008)', '10,000 BC (2008)', 'Doomsday (2008)', 'Mongol (2007)', 'Dark Knight, The (2008)', 'Superhero Movie (2008)', 'Street Kings (2008)', 'Speed Racer (2008)', 'Iron Man (2008)', 'Taken (2008)', 'Indiana Jones and the Kingdom of the Crystal Skull (2008)', 'Incredible Hulk, The (2008)', 'Wanted (2008)', 'Hancock (2008)', 'Get Smart (2008)', 'Watchmen (2009)', 'Mummy: Tomb of the Dragon Emperor, The (2008)', 'Tropic Thunder (2008)', 'Star Wars: The Clone Wars (2008)', 'Death Race (2008)', 'Babylon A.D. (2008)', 'Spirit, The (2008)', 'Eagle Eye (2008)', 'Body of Lies (2008)', 'Max Payne (2008)', 'RocknRolla (2008)', 'Quantum of Solace (2008)', 'JCVD (2008)', 'Transporter 3 (2008)', 'Punisher: War Zone (2008)', 'Underworld: Rise of the Lycans (2009)', 'Outlander (2008)', 'Crank: High Voltage (2009)', 'X-Men Origins: Wolverine (2009)', 'Star Trek (2009)', 'Terminator Salvation (2009)', 'Land of the Lost (2009)', 'Taking of Pelham 1 2 3, The (2009)', 'Transformers: Revenge of the Fallen (2009)', 'District 9 (2009)', 'G.I. Joe: The Rise of Cobra (2009)', 'Pandorum (2009)', 'Gamer (2009)', 'Surrogates (2009)', 'Black Dynamite (2009)', '2012 (2009)', 'Ninja Assassin (2009)', 'Avatar (2009)', 'Sherlock Holmes (2009)', 'Daybreakers (2010)', 'Book of Eli, The (2010)', 'Legion (2010)', 'Cop Out (2010)', 'From Paris with Love (2010)', 'How to Train Your Dragon (2010)', 'Clash of the Titans (2010)', 'Kick-Ass (2010)', 'Losers, The (2010)', 'Iron Man 2 (2010)', 'Robin Hood (2010)', 'Prince of Persia: The Sands of Time (2010)', 'Jonah Hex (2010)', 'A-Team, The (2010)', 'Last Airbender, The (2010)', 'Predators (2010)', 'Inception (2010)', \"Sorcerer's Apprentice, The (2010)\", 'Knight and Day (2010)', 'Salt (2010)', 'Other Guys, The (2010)', 'Expendables, The (2010)', 'Machete (2010)', 'Resident Evil: Afterlife (2010)', 'Red (2010)', 'Unstoppable (2010)', 'Skyline (2010)', 'Tron: Legacy (2010)', 'Cowboys & Aliens (2011)', 'Mechanic, The (2011)', 'I Am Number Four (2011)', 'Sucker Punch (2011)', 'Thor (2011)', 'Priest (2011)', 'Pirates of the Caribbean: On Stranger Tides (2011)', 'Attack the Block (2011)', 'X-Men: First Class (2011)', 'Transformers: Dark of the Moon (2011)', 'Captain America: The First Avenger (2011)', 'Rise of the Planet of the Apes (2011)', 'Conan the Barbarian (2011)', 'Contagion (2011)', 'Avengers, The (2012)', 'Killer Elite (2011)', 'Adventures of Tintin, The (2011)', 'Expendables 2, The (2012)', 'Hunger Games, The (2012)', 'Dark Knight Rises, The (2012)', 'Bourne Legacy, The (2012)', 'Sherlock Holmes: A Game of Shadows (2011)', 'Mission: Impossible - Ghost Protocol (2011)', 'Underworld: Awakening (2012)', 'John Carter (2012)', 'Wrath of the Titans (2012)', 'Iron Sky (2012)', 'The Raid: Redemption (2011)', 'Battleship (2012)', 'Men in Black III (M.III.B.) (M.I.B.³) (2012)', 'Abraham Lincoln: Vampire Hunter (2012)', 'Total Recall (2012)', 'Skyfall (2012)', 'Looper (2012)', 'Dredd (2012)', 'Cloud Atlas (2012)', 'Jack Reacher (2012)', 'Last Stand, The (2013)', 'Hansel & Gretel: Witch Hunters (2013)', 'Good Day to Die Hard, A (2013)', 'Olympus Has Fallen (2013)', 'Oblivion (2013)', 'Iron Man 3 (2013)', 'Star Trek Into Darkness (2013)', 'Man of Steel (2013)', 'Pacific Rim (2013)', 'World War Z (2013)', 'Elysium (2013)', 'Lone Ranger, The (2013)', 'Wolverine, The (2013)', 'Red 2 (2013)', 'Riddick (2013)', 'Rush (2013)', \"Ender's Game (2013)\", 'Thor: The Dark World (2013)', 'Hunger Games: Catching Fire, The (2013)', 'Snowpiercer (2013)', 'RoboCop (2014)', '300: Rise of an Empire (2014)', 'Captain America: The Winter Soldier (2014)', 'Noah (2014)', 'Transcendence (2014)', 'Lucy (2014)', 'X-Men: Days of Future Past (2014)', 'Godzilla (2014)', 'Maleficent (2014)', 'Edge of Tomorrow (2014)', 'Dawn of the Planet of the Apes (2014)', 'Guardians of the Galaxy (2014)', 'John Wick (2014)', 'The Hunger Games: Mockingjay - Part 1 (2014)']\n"
     ]
    },
    {
     "name": "stderr",
     "output_type": "stream",
     "text": [
      "/anaconda3/lib/python3.7/site-packages/pandas/core/frame.py:4117: SettingWithCopyWarning: \n",
      "A value is trying to be set on a copy of a slice from a DataFrame\n",
      "\n",
      "See the caveats in the documentation: http://pandas.pydata.org/pandas-docs/stable/user_guide/indexing.html#returning-a-view-versus-a-copy\n",
      "  errors=errors,\n",
      "100%|██████████| 413/413 [00:00<00:00, 26467.54it/s]"
     ]
    },
    {
     "name": "stdout",
     "output_type": "stream",
     "text": [
      "Here are movies you will love\n"
     ]
    },
    {
     "name": "stderr",
     "output_type": "stream",
     "text": [
      "\n"
     ]
    },
    {
     "data": {
      "text/plain": [
       "\"'Scott Pilgrim vs. the World (2010)', 'Kingdom, The (2007)', 'Shooter (2007)', 'Kiss Kiss Bang Bang (2005)', 'Unleashed (Danny the Dog) (2005)', 'Kung Fu Hustle (Gong fu) (2004)', 'Incredibles, The (2004)', 'Enter the Dragon (1973)', 'Man on Fire (2004)', 'Grosse Pointe Blank (1997)'\""
      ]
     },
     "execution_count": 9,
     "metadata": {},
     "output_type": "execute_result"
    }
   ],
   "source": [
    "#Définition du nombre de users et du nombre de films\n",
    "user=0\n",
    "movies_asked=10\n",
    "user = input(\"Type a number between 0 and 1168 to indicate your IdUser : \")\n",
    "movies_asked= input(\"Type the number of moovies you want to watch : \")\n",
    "user=int(user)\n",
    "movies_asked=int(movies_asked)\n",
    "\n",
    "\n",
    "n_users = ratings.Id_Action.unique().shape[0]\n",
    "n_movies = ratings.movie_Action.unique().shape[0]\n",
    "\n",
    "filtre=list(ratings[\"movie_Action\"][ratings[\"Id_Action\"]==user].unique())\n",
    "\n",
    "films_vus_par_u = ratings[ratings[\"movie_Action\"].isin(filtre)]\n",
    "\n",
    "#In a first we suppose assume that there is no user to remove but only movies to reindex\n",
    "n_users=len(films_vus_par_u[\"Id_Action\"].unique())\n",
    "n_movies=len(films_vus_par_u[\"movie_Action\"].unique())\n",
    "\n",
    "\n",
    "jointure=pd.merge(movies,df_ref)\n",
    "jointure.drop(['movieId', 'genres', 'imdbId', 'movieId_2', 'imdbId.1'],axis=1,inplace=True)\n",
    "jointure=pd.merge(jointure,ratings)\n",
    "jointure.drop([\"movieId_ref\",\"userId\",\"Id_Action\",\"rating\"],axis=1,inplace=True)\n",
    "jointure.head()\n",
    "jointure.head()\n",
    "\n",
    "movies_seen=jointure[jointure[\"movie_Action\"].isin(filtre)]\n",
    "print(\"Bravo, you have already seen \",str(n_movies) + \" movies\")\n",
    "print(\"The list of movies I advice you is below\")\n",
    "print(\"this is the list of movies already seen : \",list(movies_seen[\"title\"].unique()))\n",
    "\n",
    "films_vus_par_u.drop([\"userId\",\"movieId_ref\"],axis=1,inplace=True)\n",
    "\n",
    "conversion_Id_movies_seen=pd.DataFrame({\"movie_Action\":list(films_vus_par_u[\"movie_Action\"].unique()),\"new_movies_Id\":range(0,n_movies)})\n",
    "result=pd.merge(films_vus_par_u, conversion_Id_movies_seen, how='inner', on=None, left_on=None, right_on=None,\n",
    "         left_index=False, right_index=False, sort=True,\n",
    "         suffixes=('_x', '_y'), copy=True, indicator=False,\n",
    "         validate=None)\n",
    "\n",
    "matrice=np.zeros(( n_users,n_movies))\n",
    "for line in result.itertuples():\n",
    "    matrice[line[1], line[4]]=line[2]\n",
    "\n",
    "user_similarity=dist.cosine_similarity(matrice)\n",
    "\n",
    "a=list(ratings[\"movie_Action\"].unique())\n",
    "b=list(movies_seen[\"movie_Action\"].unique())\n",
    "movie_no_seen=[item for item in a if item not in b]\n",
    "movie_no_seen=pd.DataFrame({\"movie_Action\" : movie_no_seen})\n",
    "movie_no_seen=pd.merge(movie_no_seen,ratings,how='inner')\n",
    "\n",
    "n_movies=len(movie_no_seen.movie_Action.unique())\n",
    "#Il faut construire un nouveau index des Id_movies\n",
    "conversion_Id_movies_no_seen=pd.DataFrame({\"movie_Action\":list(movie_no_seen[\"movie_Action\"].unique()),\"new_movies_Id\":range(0,n_movies)})\n",
    "\n",
    "result=pd.merge(movie_no_seen, conversion_Id_movies_no_seen, how='inner', on=None, left_on=None, right_on=None,\n",
    "         left_index=False, right_index=False, sort=True,\n",
    "         suffixes=('_x', '_y'), copy=True, indicator=False,\n",
    "         validate=None)\n",
    "\n",
    "matrice_new=np.zeros(( 1168,n_movies))\n",
    "for line in result.itertuples():\n",
    "    matrice_new[line[3], line[6]]=line[5]\n",
    "    \n",
    "def pred_user(matrice_modele, user_similarity, k, user):    \n",
    "    pred = np.zeros(matrice_modele.shape[1])\n",
    "    top_k_users = np.argsort(user_similarity[:,user])[-1:-k-1:-1]  \n",
    "    for i in tqdm(range(matrice_modele.shape[1])):\n",
    "        pred[i]=user_similarity[user,:][top_k_users].dot(matrice_modele[:,i][top_k_users])\n",
    "        pred[i]/=np.sum(np.abs(user_similarity[user,:][top_k_users]))+0.000001     \n",
    "    return pred \n",
    "\n",
    "movies_adviced=np.argsort(pred_user(matrice_new, user_similarity, 15, user))[-1:-1-movies_asked:-1]\n",
    "movies_adviced=list(result[\"movie_Action\"][result[\"new_movies_Id\"].isin(movies_adviced)].unique())\n",
    "movies_adviced=list(ratings[\"movieId_ref\"][ratings[\"movie_Action\"].isin(movies_adviced)].unique())\n",
    "movies_adviced=list(df_ref[\"movieId\"][df_ref[\"movieId_ref\"].isin(movies_adviced)].unique())\n",
    "\n",
    "movies_adviced=list(movies[\"title\"][movies[\"movieId\"].isin(movies_adviced)].unique())\n",
    "print(\"Here are movies you will love\")\n",
    "str(movies_adviced[::-1])[1:-1]"
   ]
  },
  {
   "cell_type": "code",
   "execution_count": 8,
   "metadata": {},
   "outputs": [],
   "source": []
  },
  {
   "cell_type": "code",
   "execution_count": null,
   "metadata": {},
   "outputs": [],
   "source": []
  }
 ],
 "metadata": {
  "kernelspec": {
   "display_name": "Python 3",
   "language": "python",
   "name": "python3"
  },
  "language_info": {
   "codemirror_mode": {
    "name": "ipython",
    "version": 3
   },
   "file_extension": ".py",
   "mimetype": "text/x-python",
   "name": "python",
   "nbconvert_exporter": "python",
   "pygments_lexer": "ipython3",
   "version": "3.7.1"
  }
 },
 "nbformat": 4,
 "nbformat_minor": 2
}
