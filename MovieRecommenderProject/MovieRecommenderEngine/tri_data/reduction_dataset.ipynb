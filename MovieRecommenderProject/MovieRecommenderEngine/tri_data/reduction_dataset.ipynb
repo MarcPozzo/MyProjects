{
 "cells": [
  {
   "cell_type": "code",
   "execution_count": 21,
   "metadata": {},
   "outputs": [],
   "source": [
    "#Réduction du dataset pour trouver les meilleirs algorithme\n",
    "#sans que ca prenne trop de temps\n",
    "#on divise par 5 les données : on garde 5000 movies et 25000 users\n",
    "\n",
    "import pandas as pd\n",
    "import numpy as np\n",
    "\n",
    "movie_df=pd.read_csv('../new_dataset/movie_df.csv')\n",
    "ratings=pd.read_csv('../../dataset/ml-20m/ratings.csv')"
   ]
  },
  {
   "cell_type": "code",
   "execution_count": 23,
   "metadata": {
    "scrolled": true
   },
   "outputs": [],
   "source": [
    "list_movieId=np.sort(np.random.randint(low=movie_df.movieId_ref.min(), high=movie_df.movieId_ref.max(), size=5000))\n",
    "list_userId=np.sort(np.random.randint(low=ratings.userId.min(), high=ratings.userId.max(), size=25000))"
   ]
  },
  {
   "cell_type": "code",
   "execution_count": 24,
   "metadata": {},
   "outputs": [],
   "source": [
    "np.savetxt('./reduced_list_movieId.txt', list_movieId, fmt='%i')\n",
    "np.savetxt('./reduced_list_userId.txt', list_userId, fmt='%i')"
   ]
  }
 ],
 "metadata": {
  "kernelspec": {
   "display_name": "Python 3",
   "language": "python",
   "name": "python3"
  },
  "language_info": {
   "codemirror_mode": {
    "name": "ipython",
    "version": 3
   },
   "file_extension": ".py",
   "mimetype": "text/x-python",
   "name": "python",
   "nbconvert_exporter": "python",
   "pygments_lexer": "ipython3",
   "version": "3.7.1"
  }
 },
 "nbformat": 4,
 "nbformat_minor": 2
}
