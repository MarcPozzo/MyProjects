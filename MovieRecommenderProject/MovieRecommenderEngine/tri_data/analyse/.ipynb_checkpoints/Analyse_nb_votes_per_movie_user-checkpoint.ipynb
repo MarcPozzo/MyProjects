{
 "cells": [
  {
   "cell_type": "code",
   "execution_count": 1,
   "metadata": {},
   "outputs": [],
   "source": [
    "import pandas as pd\n",
    "import seaborn as sns\n",
    "import matplotlib.pyplot as plt\n",
    "%matplotlib inline\n",
    "\n",
    "df=pd.read_csv('../new_dataset/nb_votes_per_movie.csv', header=None, names=['movie', 'nb_votes'])"
   ]
  },
  {
   "cell_type": "code",
   "execution_count": 2,
   "metadata": {},
   "outputs": [
    {
     "name": "stdout",
     "output_type": "stream",
     "text": [
      "               movie      nb_votes\n",
      "count   26744.000000  26744.000000\n",
      "mean    58789.612436    747.841123\n",
      "std     44159.344871   3085.818268\n",
      "min         1.000000      1.000000\n",
      "25%      6795.750000      3.000000\n",
      "50%     65880.000000     18.000000\n",
      "75%     99110.500000    205.000000\n",
      "max    131262.000000  67310.000000\n"
     ]
    }
   ],
   "source": [
    "print(df.describe())\n",
    "df=df.sort_values(by='nb_votes')"
   ]
  },
  {
   "cell_type": "code",
   "execution_count": null,
   "metadata": {},
   "outputs": [],
   "source": [
    "plt.figure(figsize=(15,10))\n",
    "plt.subplot(121)\n",
    "plt.hist(df.nb_votes, bins=30000, orientation='horizontal')\n",
    "plt.ylim((-10,100))\n",
    "plt.xlim(0,12000)\n",
    "plt.subplot(122)\n",
    "plt.boxplot(df.nb_votes);"
   ]
  },
  {
   "cell_type": "code",
   "execution_count": null,
   "metadata": {},
   "outputs": [],
   "source": [
    "df2=pd.read_csv('../new_dataset/nb_votes_per_user.csv', header=None, names=['movie', 'nb_votes'])"
   ]
  },
  {
   "cell_type": "code",
   "execution_count": 5,
   "metadata": {},
   "outputs": [
    {
     "name": "stdout",
     "output_type": "stream",
     "text": [
      "               movie       nb_votes\n",
      "count  138493.000000  138493.000000\n",
      "mean    69247.000000     144.413530\n",
      "std     39979.629753     230.267257\n",
      "min         1.000000      20.000000\n",
      "25%     34624.000000      35.000000\n",
      "50%     69247.000000      68.000000\n",
      "75%    103870.000000     155.000000\n",
      "max    138493.000000    9254.000000\n"
     ]
    },
    {
     "data": {
      "text/html": [
       "<div>\n",
       "<style scoped>\n",
       "    .dataframe tbody tr th:only-of-type {\n",
       "        vertical-align: middle;\n",
       "    }\n",
       "\n",
       "    .dataframe tbody tr th {\n",
       "        vertical-align: top;\n",
       "    }\n",
       "\n",
       "    .dataframe thead th {\n",
       "        text-align: right;\n",
       "    }\n",
       "</style>\n",
       "<table border=\"1\" class=\"dataframe\">\n",
       "  <thead>\n",
       "    <tr style=\"text-align: right;\">\n",
       "      <th></th>\n",
       "      <th>movie</th>\n",
       "      <th>nb_votes</th>\n",
       "    </tr>\n",
       "  </thead>\n",
       "  <tbody>\n",
       "    <tr>\n",
       "      <th>0</th>\n",
       "      <td>1</td>\n",
       "      <td>175</td>\n",
       "    </tr>\n",
       "    <tr>\n",
       "      <th>1</th>\n",
       "      <td>2</td>\n",
       "      <td>61</td>\n",
       "    </tr>\n",
       "    <tr>\n",
       "      <th>2</th>\n",
       "      <td>3</td>\n",
       "      <td>187</td>\n",
       "    </tr>\n",
       "    <tr>\n",
       "      <th>3</th>\n",
       "      <td>4</td>\n",
       "      <td>28</td>\n",
       "    </tr>\n",
       "    <tr>\n",
       "      <th>4</th>\n",
       "      <td>5</td>\n",
       "      <td>66</td>\n",
       "    </tr>\n",
       "  </tbody>\n",
       "</table>\n",
       "</div>"
      ],
      "text/plain": [
       "   movie  nb_votes\n",
       "0      1       175\n",
       "1      2        61\n",
       "2      3       187\n",
       "3      4        28\n",
       "4      5        66"
      ]
     },
     "execution_count": 5,
     "metadata": {},
     "output_type": "execute_result"
    }
   ],
   "source": [
    "print(df2.describe())\n",
    "df2.head()"
   ]
  },
  {
   "cell_type": "code",
   "execution_count": 6,
   "metadata": {},
   "outputs": [
    {
     "data": {
      "image/png": "[encoded data removed]",
      "text/plain": [
       "<Figure size 1080x720 with 2 Axes>"
      ]
     },
     "metadata": {
      "needs_background": "light"
     },
     "output_type": "display_data"
    }
   ],
   "source": [
    "plt.figure(figsize=(15,10))\n",
    "plt.subplot(121)\n",
    "plt.hist(df2.nb_votes, bins=1000, orientation='horizontal')\n",
    "plt.ylim((-200,2000))\n",
    "plt.subplot(122)\n",
    "plt.boxplot(df2.nb_votes);"
   ]
  }
 ],
 "metadata": {
  "kernelspec": {
   "display_name": "Python 3",
   "language": "python",
   "name": "python3"
  },
  "language_info": {
   "codemirror_mode": {
    "name": "ipython",
    "version": 3
   },
   "file_extension": ".py",
   "mimetype": "text/x-python",
   "name": "python",
   "nbconvert_exporter": "python",
   "pygments_lexer": "ipython3",
   "version": "3.7.1"
  }
 },
 "nbformat": 4,
 "nbformat_minor": 2
}
