{
 "cells": [
  {
   "cell_type": "code",
   "execution_count": 1,
   "metadata": {},
   "outputs": [],
   "source": [
    "#Alternating Least Square\n",
    "#recommender system algorithm\n",
    "#noyau plante lorsque l'algo tourne, ou ordi pleure. voir journal de bord en bas de page"
   ]
  },
  {
   "cell_type": "code",
   "execution_count": 54,
   "metadata": {},
   "outputs": [],
   "source": [
    "#Création matrice modèle\n",
    "import pandas as pd\n",
    "import numpy as np\n",
    "from sklearn.model_selection import train_test_split\n",
    "from sklearn.metrics import mean_squared_error\n",
    "from scipy import sparse\n",
    "from numpy.linalg import inv\n",
    "from time import time\n",
    "import matplotlib.pyplot as plt"
   ]
  },
  {
   "cell_type": "code",
   "execution_count": 55,
   "metadata": {},
   "outputs": [],
   "source": [
    "#Create functions\n",
    "\n",
    "#Définition des fonctions\n",
    "\n",
    "\n",
    "\n"
   ]
  },
  {
   "cell_type": "code",
   "execution_count": null,
   "metadata": {},
   "outputs": [],
   "source": []
  },
  {
   "cell_type": "code",
   "execution_count": null,
   "metadata": {},
   "outputs": [],
   "source": []
  },
  {
   "cell_type": "code",
   "execution_count": null,
   "metadata": {},
   "outputs": [],
   "source": []
  },
  {
   "cell_type": "code",
   "execution_count": 76,
   "metadata": {},
   "outputs": [],
   "source": [
    "\n",
    "#Fonctions d'évaluation\n",
    "def get_rmse(pred, actual):\n",
    "    # Ignore non zero terms.\n",
    "    pred = pred[actual.nonzero()].flatten()\n",
    "    actual = actual[actual.nonzero()].flatten()\n",
    "    return np.sqrt(mean_squared_error(pred, actual))\n",
    "\n",
    "\n",
    "#Script algo ALS avec nombre d'itérations différentes, pour définir le meilleur nombre d'itérations\n",
    "#On construit la courbe des RMSE train et test en fonction du nombre d'itérations de l'algo\n",
    "\n",
    "def calculate_learning_curve_als(matrice_modele, matrice_test, iter_array, user_reg, movie_reg, n_factors):   \n",
    "    iter_array.sort()\n",
    "    train_rmse =[]\n",
    "    test_rmse = []\n",
    "    for (i, n_iter) in enumerate(iter_array):\n",
    "        predictions = MovieRecommender_als(matrice_modele, n_factors = n_factors, n_iter = n_iter,\n",
    "                             user_reg = user_reg, movie_reg = movie_reg)\n",
    "        train_rmse += [get_rmse(predictions, matrice_modele)]\n",
    "        test_rmse += [get_rmse(predictions, matrice_test)]\n",
    "    return train_rmse, test_rmse\n",
    "\n",
    "#Fonction d'affichage\n",
    "def plot_learning_curve(iter_array, model):\n",
    "    plt.figure()\n",
    "    plt.plot(iter_array, model[0], label='Training', linewidth=5)\n",
    "    plt.plot(iter_array, model[1], label='Test', linewidth=5)\n",
    "    plt.xticks(fontsize=16);\n",
    "    plt.yticks(fontsize=16);\n",
    "    plt.xlabel('iterations', fontsize=30);\n",
    "    plt.ylabel('RMSE', fontsize=30);\n",
    "    plt.legend(loc='best', fontsize=20);\n",
    "    \n",
    "    \n",
    "\n",
    "#Fonction Algorithme complet\n",
    "def MovieRecommender_als(matrice_modele,n_factors,n_iter,user_reg,movie_reg):\n",
    "    n_users,n_movies=matrice_modele.shape\n",
    "    X,Y=initialisation(n_users,n_movies,n_factors)\n",
    "    for i in range(n_iter):\n",
    "        X=user_step(X,Y,matrice_modele,user_reg)\n",
    "        Y=movie_step(X,Y,matrice_modele,movie_reg)\n",
    "    mat_pred=get_pred(X,Y)\n",
    "    return mat_pred\n",
    "\n",
    "def movie_step(X,Y,matrice_modele,movie_reg):\n",
    "    identite=np.eye\n",
    "    Y=matrice_modele.T.dot(X).dot(inv((X.T).dot(X)+movie_reg*identite(Y.shape[1])))\n",
    "    return Y\n",
    "\n",
    "\n",
    "#Etape 1 : initialisation\n",
    "def initialisation(n_users, n_movies, n_factors):\n",
    "    X=np.random.random((n_users,n_factors))\n",
    "    Y=np.random.random((n_movies,n_factors))\n",
    "    return X,Y\n",
    "\n",
    "#Etape 2 : Calcul des vecteurs latents pendant une itération\n",
    "def user_step(X,Y,matrice_modele,user_reg):\n",
    "    identite=np.eye\n",
    "    X=matrice_modele.dot(Y).dot(inv((Y.T).dot(Y)+user_reg*identite(X.shape[1])))\n",
    "    return X  \n",
    "\n",
    "#Etape 3 : Prédictions\n",
    "def get_pred(X,Y):\n",
    "    return X.dot(Y.T)\n"
   ]
  },
  {
   "cell_type": "code",
   "execution_count": 78,
   "metadata": {},
   "outputs": [
    {
     "name": "stdout",
     "output_type": "stream",
     "text": [
      "Nombre d'utilisateurs : 1168 | Nombre de films : 1061\n",
      "rmse_train 0.5814449048932717\n",
      "rmse_test 0.5736417056429876\n",
      "time : 0.14751410484313965\n"
     ]
    }
   ],
   "source": [
    "\n",
    "\n",
    "\n",
    "\n",
    "\n",
    "\n",
    "#Chargement des df ratings et df qui contient conversion entre movielens et imdb\n",
    "ratings=pd.read_csv('../../new_dataset/action_movies.csv',index_col=0)\n",
    "movie_similarity=np.loadtxt('../../../../../dataset/movie_similarity_action.csv')\n",
    "\n",
    "ratings.rating=ratings.rating/5\n",
    "ratings=ratings.sort_values(by='movie_Action')\n",
    "ratings.head()\n",
    "ratings.describe()\n",
    "\n",
    "#Définition du nombre de users et du nombre de films\n",
    "n_users = ratings.Id_Action.unique().shape[0]\n",
    "n_movies = ratings.movie_Action.unique().shape[0]\n",
    "print (\"Nombre d'utilisateurs : \" + str(n_users) + \" | Nombre de films : \" + str(n_movies))\n",
    "\n",
    "#séparer jeu de test et jeu d entrainement\n",
    "\n",
    "train_data, test_data=train_test_split(ratings, test_size=0.2)\n",
    "\n",
    "#del ratings\n",
    "\n",
    "\n",
    "offset=0\n",
    "# Création de 2 matrices modèles train et test\n",
    "\n",
    "matrice_train=np.zeros((n_users, n_movies))\n",
    "for line in train_data.itertuples():\n",
    "    matrice_train[line[2]-offset, line[5]-offset]=line[4]\n",
    "\n",
    "del train_data\n",
    "    \n",
    "matrice_test=np.zeros((n_users, n_movies))\n",
    "for line in test_data.itertuples():\n",
    "    matrice_test[line[2]-offset, line[5]-offset]=line[4]\n",
    "    \n",
    "del test_data\n",
    "\n",
    "\n",
    "#Création matrice creuse\n",
    "\n",
    "matrice_train_creuse=sparse.csr_matrix(matrice_train)\n",
    "matrice_test_creuse=sparse.csr_matrix(matrice_test)\n",
    "\n",
    "\n",
    "# Essai pour un nombre unique d'itération\n",
    "\n",
    "t0=time()\n",
    "pred=MovieRecommender_als(matrice_modele=matrice_test_creuse,n_factors=3,n_iter=6,user_reg=0,movie_reg=0)\n",
    "rmse_train=get_rmse(pred,matrice_train)\n",
    "rmse_test=get_rmse(pred,matrice_test)\n",
    "t1=time()\n",
    "print(\"rmse_train\",rmse_train)\n",
    "print(\"rmse_test\",rmse_test)\n",
    "print(\"time :\", t1-t0)"
   ]
  },
  {
   "cell_type": "code",
   "execution_count": null,
   "metadata": {},
   "outputs": [],
   "source": []
  },
  {
   "cell_type": "code",
   "execution_count": null,
   "metadata": {},
   "outputs": [],
   "source": []
  },
  {
   "cell_type": "code",
   "execution_count": null,
   "metadata": {},
   "outputs": [],
   "source": []
  },
  {
   "cell_type": "code",
   "execution_count": null,
   "metadata": {},
   "outputs": [],
   "source": []
  },
  {
   "cell_type": "code",
   "execution_count": null,
   "metadata": {},
   "outputs": [],
   "source": []
  },
  {
   "cell_type": "code",
   "execution_count": 29,
   "metadata": {},
   "outputs": [
    {
     "data": {
      "text/plain": [
       "0.5924780640518774"
      ]
     },
     "execution_count": 29,
     "metadata": {},
     "output_type": "execute_result"
    }
   ],
   "source": [
    "rmse_train"
   ]
  },
  {
   "cell_type": "code",
   "execution_count": 30,
   "metadata": {},
   "outputs": [
    {
     "data": {
      "text/plain": [
       "0.5935881934529997"
      ]
     },
     "execution_count": 30,
     "metadata": {},
     "output_type": "execute_result"
    }
   ],
   "source": [
    "rmse_test"
   ]
  },
  {
   "cell_type": "code",
   "execution_count": 25,
   "metadata": {},
   "outputs": [
    {
     "ename": "NameError",
     "evalue": "name 'matrice_creuse' is not defined",
     "output_type": "error",
     "traceback": [
      "\u001b[0;31m---------------------------------------------------------------------------\u001b[0m",
      "\u001b[0;31mNameError\u001b[0m                                 Traceback (most recent call last)",
      "\u001b[0;32m<ipython-input-25-98cd8ca55b8c>\u001b[0m in \u001b[0;36m<module>\u001b[0;34m\u001b[0m\n\u001b[1;32m      2\u001b[0m \u001b[0;34m\u001b[0m\u001b[0m\n\u001b[1;32m      3\u001b[0m \u001b[0mt0\u001b[0m\u001b[0;34m=\u001b[0m\u001b[0mtime\u001b[0m\u001b[0;34m(\u001b[0m\u001b[0;34m)\u001b[0m\u001b[0;34m\u001b[0m\u001b[0;34m\u001b[0m\u001b[0m\n\u001b[0;32m----> 4\u001b[0;31m \u001b[0mpred\u001b[0m\u001b[0;34m=\u001b[0m\u001b[0mMovieRecommender_als\u001b[0m\u001b[0;34m(\u001b[0m\u001b[0mmatrice_modele\u001b[0m\u001b[0;34m=\u001b[0m\u001b[0mmatrice_creuse\u001b[0m\u001b[0;34m,\u001b[0m\u001b[0mn_factors\u001b[0m\u001b[0;34m=\u001b[0m\u001b[0;36m3\u001b[0m\u001b[0;34m,\u001b[0m\u001b[0mn_iter\u001b[0m\u001b[0;34m=\u001b[0m\u001b[0;36m6\u001b[0m\u001b[0;34m,\u001b[0m\u001b[0muser_reg\u001b[0m\u001b[0;34m=\u001b[0m\u001b[0;36m0\u001b[0m\u001b[0;34m,\u001b[0m\u001b[0mmovie_reg\u001b[0m\u001b[0;34m=\u001b[0m\u001b[0;36m0\u001b[0m\u001b[0;34m)\u001b[0m\u001b[0;34m\u001b[0m\u001b[0;34m\u001b[0m\u001b[0m\n\u001b[0m\u001b[1;32m      5\u001b[0m \u001b[0mrmse_train\u001b[0m\u001b[0;34m=\u001b[0m\u001b[0mget_rmse\u001b[0m\u001b[0;34m(\u001b[0m\u001b[0mpred\u001b[0m\u001b[0;34m,\u001b[0m\u001b[0mmatrice_train\u001b[0m\u001b[0;34m)\u001b[0m\u001b[0;34m\u001b[0m\u001b[0;34m\u001b[0m\u001b[0m\n\u001b[1;32m      6\u001b[0m \u001b[0mrmse_test\u001b[0m\u001b[0;34m=\u001b[0m\u001b[0mget_rmse\u001b[0m\u001b[0;34m(\u001b[0m\u001b[0mpred\u001b[0m\u001b[0;34m,\u001b[0m\u001b[0mmatrice_test\u001b[0m\u001b[0;34m)\u001b[0m\u001b[0;34m\u001b[0m\u001b[0;34m\u001b[0m\u001b[0m\n",
      "\u001b[0;31mNameError\u001b[0m: name 'matrice_creuse' is not defined"
     ]
    }
   ],
   "source": [
    "# Essai pour un nombre unique d'itération\n",
    "\n",
    "t0=time()\n",
    "pred=MovieRecommender_als(matrice_modele=matrice_creuse,n_factors=3,n_iter=6,user_reg=0,movie_reg=0)\n",
    "rmse_train=get_rmse(pred,matrice_train)\n",
    "rmse_test=get_rmse(pred,matrice_test)\n",
    "t1=time()\n",
    "print(\"rmse_train\",rmse_train)\n",
    "print(\"rmse_test\",rmse_test)\n",
    "print(\"time :\", t1-t0)"
   ]
  },
  {
   "cell_type": "code",
   "execution_count": null,
   "metadata": {},
   "outputs": [],
   "source": []
  }
 ],
 "metadata": {
  "kernelspec": {
   "display_name": "Python 3",
   "language": "python",
   "name": "python3"
  },
  "language_info": {
   "codemirror_mode": {
    "name": "ipython",
    "version": 3
   },
   "file_extension": ".py",
   "mimetype": "text/x-python",
   "name": "python",
   "nbconvert_exporter": "python",
   "pygments_lexer": "ipython3",
   "version": "3.7.1"
  }
 },
 "nbformat": 4,
 "nbformat_minor": 2
}
