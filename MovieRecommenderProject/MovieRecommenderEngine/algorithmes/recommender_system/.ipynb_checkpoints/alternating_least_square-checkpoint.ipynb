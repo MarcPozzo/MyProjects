{
 "cells": [
  {
   "cell_type": "code",
   "execution_count": null,
   "metadata": {},
   "outputs": [],
   "source": [
    "#Alternating Least Square\n",
    "#recommender system algorithm\n",
    "#noyau plante lorsque l'algo tourne, ou ordi pleure. voir journal de bord en bas de page"
   ]
  },
  {
   "cell_type": "code",
   "execution_count": 1,
   "metadata": {},
   "outputs": [],
   "source": [
    "#Création matrice modèle\n",
    "import pandas as pd\n",
    "import numpy as np\n",
    "from sklearn.model_selection import train_test_split\n",
    "from sklearn.metrics import mean_squared_error\n",
    "from scipy import sparse\n",
    "from numpy.linalg import inv\n",
    "from time import time"
   ]
  },
  {
   "cell_type": "code",
   "execution_count": 2,
   "metadata": {},
   "outputs": [],
   "source": [
    "#Chargement des df ratings et df qui contient conversion entre movielens et imdb\n",
    "ratings=pd.read_csv('../../../dataset/ml-20m/ratings.csv')\n",
    "df_ref=pd.read_csv('../../new_dataset/correspondances_Id_movie')"
   ]
  },
  {
   "cell_type": "code",
   "execution_count": 3,
   "metadata": {},
   "outputs": [
    {
     "name": "stdout",
     "output_type": "stream",
     "text": [
      "23608\n"
     ]
    }
   ],
   "source": [
    "# Ajout de movieId_ref dans fichier ratings, et suppression infos inutiles\n",
    "ratings.index=ratings.movieId\n",
    "df_ref.index=df_ref.movieId\n",
    "ratings=ratings.join(df_ref.movieId_ref)\n",
    "ratings=ratings.drop([\"timestamp\", \"movieId\"], axis=1)\n",
    "ratings=ratings.dropna(subset=[\"movieId_ref\"])\n",
    "print(len(ratings.movieId_ref.unique()))\n",
    "ratings.movieId_ref=ratings.movieId_ref.astype(int)\n",
    "ratings.head()\n",
    "\n",
    "del df_ref"
   ]
  },
  {
   "cell_type": "code",
   "execution_count": 4,
   "metadata": {},
   "outputs": [
    {
     "data": {
      "text/html": [
       "<div>\n",
       "<style scoped>\n",
       "    .dataframe tbody tr th:only-of-type {\n",
       "        vertical-align: middle;\n",
       "    }\n",
       "\n",
       "    .dataframe tbody tr th {\n",
       "        vertical-align: top;\n",
       "    }\n",
       "\n",
       "    .dataframe thead th {\n",
       "        text-align: right;\n",
       "    }\n",
       "</style>\n",
       "<table border=\"1\" class=\"dataframe\">\n",
       "  <thead>\n",
       "    <tr style=\"text-align: right;\">\n",
       "      <th></th>\n",
       "      <th>userId</th>\n",
       "      <th>rating</th>\n",
       "      <th>movieId_ref</th>\n",
       "    </tr>\n",
       "  </thead>\n",
       "  <tbody>\n",
       "    <tr>\n",
       "      <th>count</th>\n",
       "      <td>1.947224e+07</td>\n",
       "      <td>1.947224e+07</td>\n",
       "      <td>1.947224e+07</td>\n",
       "    </tr>\n",
       "    <tr>\n",
       "      <th>mean</th>\n",
       "      <td>6.903976e+04</td>\n",
       "      <td>7.051749e-01</td>\n",
       "      <td>3.382450e+03</td>\n",
       "    </tr>\n",
       "    <tr>\n",
       "      <th>std</th>\n",
       "      <td>4.003917e+04</td>\n",
       "      <td>2.101493e-01</td>\n",
       "      <td>3.821379e+03</td>\n",
       "    </tr>\n",
       "    <tr>\n",
       "      <th>min</th>\n",
       "      <td>1.000000e+00</td>\n",
       "      <td>1.000000e-01</td>\n",
       "      <td>1.000000e+00</td>\n",
       "    </tr>\n",
       "    <tr>\n",
       "      <th>25%</th>\n",
       "      <td>3.438500e+04</td>\n",
       "      <td>6.000000e-01</td>\n",
       "      <td>8.350000e+02</td>\n",
       "    </tr>\n",
       "    <tr>\n",
       "      <th>50%</th>\n",
       "      <td>6.912800e+04</td>\n",
       "      <td>7.000000e-01</td>\n",
       "      <td>1.984000e+03</td>\n",
       "    </tr>\n",
       "    <tr>\n",
       "      <th>75%</th>\n",
       "      <td>1.036330e+05</td>\n",
       "      <td>8.000000e-01</td>\n",
       "      <td>4.408000e+03</td>\n",
       "    </tr>\n",
       "    <tr>\n",
       "      <th>max</th>\n",
       "      <td>1.384930e+05</td>\n",
       "      <td>1.000000e+00</td>\n",
       "      <td>2.360800e+04</td>\n",
       "    </tr>\n",
       "  </tbody>\n",
       "</table>\n",
       "</div>"
      ],
      "text/plain": [
       "             userId        rating   movieId_ref\n",
       "count  1.947224e+07  1.947224e+07  1.947224e+07\n",
       "mean   6.903976e+04  7.051749e-01  3.382450e+03\n",
       "std    4.003917e+04  2.101493e-01  3.821379e+03\n",
       "min    1.000000e+00  1.000000e-01  1.000000e+00\n",
       "25%    3.438500e+04  6.000000e-01  8.350000e+02\n",
       "50%    6.912800e+04  7.000000e-01  1.984000e+03\n",
       "75%    1.036330e+05  8.000000e-01  4.408000e+03\n",
       "max    1.384930e+05  1.000000e+00  2.360800e+04"
      ]
     },
     "execution_count": 4,
     "metadata": {},
     "output_type": "execute_result"
    }
   ],
   "source": [
    "ratings.rating=ratings.rating/5\n",
    "ratings=ratings.sort_values(by='movieId')\n",
    "ratings.head()\n",
    "ratings.describe()"
   ]
  },
  {
   "cell_type": "code",
   "execution_count": 5,
   "metadata": {},
   "outputs": [
    {
     "name": "stdout",
     "output_type": "stream",
     "text": [
      "Nombre d'utilisateurs : 138493 | Nombre de films : 23608\n"
     ]
    }
   ],
   "source": [
    "#Définition du nombre de users et du nombre de films\n",
    "n_users = ratings.userId.unique().shape[0]\n",
    "n_movies = ratings.movieId_ref.unique().shape[0]\n",
    "print (\"Nombre d'utilisateurs : \" + str(n_users) + \" | Nombre de films : \" + str(n_movies))"
   ]
  },
  {
   "cell_type": "code",
   "execution_count": 6,
   "metadata": {},
   "outputs": [],
   "source": [
    "#séparer jeu de test et jeu d entrainement\n",
    "\n",
    "train_data, test_data=train_test_split(ratings, test_size=0.2)\n",
    "\n",
    "del ratings"
   ]
  },
  {
   "cell_type": "code",
   "execution_count": null,
   "metadata": {},
   "outputs": [],
   "source": [
    "# Création de 2 matrices modèles train et test\n",
    "\n",
    "matrice_train=np.zeros((n_users, n_movies))\n",
    "for line in train_data.itertuples():\n",
    "    matrice_train[line[1]-1, line[3]-1]=line[2]\n",
    "\n",
    "del train_data\n",
    "    \n",
    "matrice_test=np.zeros((n_users, n_movies))\n",
    "for line in test_data.itertuples():\n",
    "    matrice_test[line[1]-1, line[3]-1]=line[2]\n",
    "    \n",
    "del test_data"
   ]
  },
  {
   "cell_type": "code",
   "execution_count": 9,
   "metadata": {},
   "outputs": [],
   "source": [
    "#Création matrice creuse\n",
    "\n",
    "matrice_creuse=sparse.csr_matrix(matrice_train)"
   ]
  },
  {
   "cell_type": "code",
   "execution_count": 10,
   "metadata": {},
   "outputs": [],
   "source": [
    "#Définition des fonctions\n",
    "\n",
    "#Etape 1 : initialisation\n",
    "def initialisation(n_users, n_movies, n_factors):\n",
    "    X=np.random.random((n_users,n_factors))\n",
    "    Y=np.random.random((n_movies,n_factors))\n",
    "    return X,Y\n",
    "\n",
    "#Etape 2 : Calcul des vecteurs latents pendant une itération\n",
    "def user_step(X,Y,matrice_modele,user_reg):\n",
    "    identite=np.eye\n",
    "    X=matrice_modele.dot(Y).dot(inv((Y.T).dot(Y)+user_reg*identite(X.shape[1])))\n",
    "    return X  \n",
    "def movie_step(X,Y,matrice_modele,movie_reg):\n",
    "    identite=np.eye\n",
    "    Y=matrice_modele.T.dot(X).dot(inv((X.T).dot(X)+movie_reg*identite(Y.shape[1])))\n",
    "    return Y\n",
    "\n",
    "#Etape 3 : Prédictions\n",
    "def pred(X,Y):\n",
    "    return X.dot(Y.T)\n",
    "\n",
    "#Fonction Algorithme complet\n",
    "def MovieRecommender_als(matrice_modele,n_factors,n_iter,user_reg,movie_reg):\n",
    "    n_users,n_movies=matrice_modele.shape\n",
    "    X,Y=initialisation(n_users,n_movies,n_factors)\n",
    "    for i in range(n_iter):\n",
    "        X=user_step(X,Y,matrice_modele,user_reg)\n",
    "        Y=movie_step(X,Y,matrice_modele,movie_reg)\n",
    "    return pred(X,Y)\n",
    "\n",
    "#Fonctions d'évaluation\n",
    "def get_rmse(pred, actual):\n",
    "    # Ignore non zero terms.\n",
    "    pred = pred[actual.nonzero()].flatten()\n",
    "    actual = actual[actual.nonzero()].flatten()\n",
    "    return np.sqrt(mean_squared_error(pred, actual))"
   ]
  },
  {
   "cell_type": "code",
   "execution_count": 11,
   "metadata": {},
   "outputs": [],
   "source": [
    "#Script algo ALS avec nombre d'itérations différentes, pour définir le meilleur nombre d'itérations\n",
    "#On construit la courbe des RMSE train et test en fonction du nombre d'itérations de l'algo\n",
    "\n",
    "def calculate_learning_curve_als(matrice_modele, matrice_test, iter_array, user_reg, movie_reg, n_factors):   \n",
    "    iter_array.sort()\n",
    "    train_rmse =[]\n",
    "    test_rmse = []\n",
    "    for (i, n_iter) in enumerate(iter_array):\n",
    "        predictions = MovieRecommender_als(matrice_modele, n_factors = n_factors, n_iter = n_iter,\n",
    "                             user_reg = user_reg, movie_reg = movie_reg)\n",
    "        train_rmse += [get_rmse(predictions, matrice_modele)]\n",
    "        test_rmse += [get_rmse(predictions, matrice_test)]\n",
    "    return train_rmse, test_rmse\n",
    "\n",
    "#Fonction d'affichage\n",
    "def plot_learning_curve(iter_array, model):\n",
    "    plt.figure()\n",
    "    plt.plot(iter_array, model[0], label='Training', linewidth=5)\n",
    "    plt.plot(iter_array, model[1], label='Test', linewidth=5)\n",
    "    plt.xticks(fontsize=16);\n",
    "    plt.yticks(fontsize=16);\n",
    "    plt.xlabel('iterations', fontsize=30);\n",
    "    plt.ylabel('RMSE', fontsize=30);\n",
    "    plt.legend(loc='best', fontsize=20);"
   ]
  },
  {
   "cell_type": "code",
   "execution_count": null,
   "metadata": {},
   "outputs": [],
   "source": [
    "# Essai pour un nombre unique d'itération\n",
    "\n",
    "t0=time()\n",
    "pred=MovieRecommender_als(matrice_modele=matrice_creuse,n_factors=3,n_iter=6,user_reg=0,movie_reg=0)\n",
    "rmse_train=get_rmse(pred,matrice_train)\n",
    "rmse_test=get_rmse(pred,matrice_test)\n",
    "t1=time()\n",
    "print(\"time :\", t1-t0)\n",
    "\n"
   ]
  },
  {
   "cell_type": "markdown",
   "metadata": {},
   "source": [
    "Journal de bord :\n",
    "1. début 16h41, arrêt 16h49, 13Go de fichiers d'échange utilisés \n",
    "car trop de pression sur la mémoire virtuelle. Ordi hurle. Oubli : je n'avais pas utilisé matrice creuse.\n",
    "2. avec matrice creuse : début 17h05, à 17h06 déjà 9Go de fichiers d'échange utilisés\n",
    "mais ordi ne pleure pas. à 17h09 20Go\n",
    "17h16, noyau a planté, alors que pression sur la mémoire avait bcp rediminué, fichiers d'échange stables autour de 15Go"
   ]
  },
  {
   "cell_type": "code",
   "execution_count": null,
   "metadata": {},
   "outputs": [],
   "source": []
  }
 ],
 "metadata": {
  "kernelspec": {
   "display_name": "Python 3",
   "language": "python",
   "name": "python3"
  },
  "language_info": {
   "codemirror_mode": {
    "name": "ipython",
    "version": 3
   },
   "file_extension": ".py",
   "mimetype": "text/x-python",
   "name": "python",
   "nbconvert_exporter": "python",
   "pygments_lexer": "ipython3",
   "version": "3.6.8"
  }
 },
 "nbformat": 4,
 "nbformat_minor": 2
}
