{
 "cells": [
  {
   "cell_type": "code",
   "execution_count": null,
   "metadata": {},
   "outputs": [],
   "source": [
    "#Alternating Least Square\n",
    "#recommender system algorithm\n",
    "#noyau plante lorsque l'algo tourne, ou ordi pleure. voir journal de bord en bas de page"
   ]
  },
  {
   "cell_type": "code",
   "execution_count": 43,
   "metadata": {},
   "outputs": [],
   "source": [
    "#Création matrice modèle\n",
    "import pandas as pd\n",
    "import numpy as np\n",
    "from sklearn.model_selection import train_test_split\n",
    "from sklearn.metrics import mean_squared_error\n",
    "from scipy import sparse\n",
    "from numpy.linalg import inv\n",
    "from time import time\n",
    "import matplotlib.pyplot as plt"
   ]
  },
  {
   "cell_type": "code",
   "execution_count": 35,
   "metadata": {},
   "outputs": [],
   "source": [
    "#Chargement des df ratings et df qui contient conversion entre movielens et imdb\n",
    "ratings=pd.read_csv('../../new_dataset/action_movies.csv',index_col=0)\n",
    "#ratings.drop([\"nb_userId\",\"nb_movieId\"],axis=1,inplace=True)\n",
    "#ratings=ratings.reset_index()\n",
    "ratings.head()\n",
    "movie_similarity=np.loadtxt('../../../dataset/movie_similarity_action.csv')\n",
    "#df_ref=pd.read_csv('../../new_dataset/correspondances_Id_movie')"
   ]
  },
  {
   "cell_type": "code",
   "execution_count": null,
   "metadata": {},
   "outputs": [],
   "source": []
  },
  {
   "cell_type": "code",
   "execution_count": 36,
   "metadata": {},
   "outputs": [
    {
     "data": {
      "text/html": [
       "<div>\n",
       "<style scoped>\n",
       "    .dataframe tbody tr th:only-of-type {\n",
       "        vertical-align: middle;\n",
       "    }\n",
       "\n",
       "    .dataframe tbody tr th {\n",
       "        vertical-align: top;\n",
       "    }\n",
       "\n",
       "    .dataframe thead th {\n",
       "        text-align: right;\n",
       "    }\n",
       "</style>\n",
       "<table border=\"1\" class=\"dataframe\">\n",
       "  <thead>\n",
       "    <tr style=\"text-align: right;\">\n",
       "      <th></th>\n",
       "      <th>Id_Action</th>\n",
       "      <th>rating</th>\n",
       "      <th>movie_Action</th>\n",
       "    </tr>\n",
       "  </thead>\n",
       "  <tbody>\n",
       "    <tr>\n",
       "      <th>count</th>\n",
       "      <td>442548.000000</td>\n",
       "      <td>442548.000000</td>\n",
       "      <td>442548.000000</td>\n",
       "    </tr>\n",
       "    <tr>\n",
       "      <th>mean</th>\n",
       "      <td>560.793543</td>\n",
       "      <td>0.622789</td>\n",
       "      <td>449.735522</td>\n",
       "    </tr>\n",
       "    <tr>\n",
       "      <th>std</th>\n",
       "      <td>339.012901</td>\n",
       "      <td>0.203563</td>\n",
       "      <td>294.085097</td>\n",
       "    </tr>\n",
       "    <tr>\n",
       "      <th>min</th>\n",
       "      <td>0.000000</td>\n",
       "      <td>0.100000</td>\n",
       "      <td>0.000000</td>\n",
       "    </tr>\n",
       "    <tr>\n",
       "      <th>25%</th>\n",
       "      <td>258.000000</td>\n",
       "      <td>0.500000</td>\n",
       "      <td>190.000000</td>\n",
       "    </tr>\n",
       "    <tr>\n",
       "      <th>50%</th>\n",
       "      <td>554.000000</td>\n",
       "      <td>0.600000</td>\n",
       "      <td>411.000000</td>\n",
       "    </tr>\n",
       "    <tr>\n",
       "      <th>75%</th>\n",
       "      <td>856.000000</td>\n",
       "      <td>0.800000</td>\n",
       "      <td>698.000000</td>\n",
       "    </tr>\n",
       "    <tr>\n",
       "      <th>max</th>\n",
       "      <td>1167.000000</td>\n",
       "      <td>1.000000</td>\n",
       "      <td>1060.000000</td>\n",
       "    </tr>\n",
       "  </tbody>\n",
       "</table>\n",
       "</div>"
      ],
      "text/plain": [
       "           Id_Action         rating   movie_Action\n",
       "count  442548.000000  442548.000000  442548.000000\n",
       "mean      560.793543       0.622789     449.735522\n",
       "std       339.012901       0.203563     294.085097\n",
       "min         0.000000       0.100000       0.000000\n",
       "25%       258.000000       0.500000     190.000000\n",
       "50%       554.000000       0.600000     411.000000\n",
       "75%       856.000000       0.800000     698.000000\n",
       "max      1167.000000       1.000000    1060.000000"
      ]
     },
     "execution_count": 36,
     "metadata": {},
     "output_type": "execute_result"
    }
   ],
   "source": [
    "ratings.rating=ratings.rating/5\n",
    "ratings=ratings.sort_values(by='movie_Action')\n",
    "ratings.head()\n",
    "ratings.describe()"
   ]
  },
  {
   "cell_type": "code",
   "execution_count": 37,
   "metadata": {},
   "outputs": [
    {
     "name": "stdout",
     "output_type": "stream",
     "text": [
      "Nombre d'utilisateurs : 1168 | Nombre de films : 1061\n"
     ]
    }
   ],
   "source": [
    "#Définition du nombre de users et du nombre de films\n",
    "n_users = ratings.Id_Action.unique().shape[0]\n",
    "n_movies = ratings.movie_Action.unique().shape[0]\n",
    "print (\"Nombre d'utilisateurs : \" + str(n_users) + \" | Nombre de films : \" + str(n_movies))"
   ]
  },
  {
   "cell_type": "code",
   "execution_count": 38,
   "metadata": {},
   "outputs": [],
   "source": [
    "#séparer jeu de test et jeu d entrainement\n",
    "\n",
    "train_data, test_data=train_test_split(ratings, test_size=0.2)\n",
    "\n",
    "#del ratings"
   ]
  },
  {
   "cell_type": "code",
   "execution_count": 24,
   "metadata": {},
   "outputs": [],
   "source": [
    "# Création de 2 matrices modèles train et test\n",
    "\n",
    "matrice_train=np.zeros((n_users, n_movies))\n",
    "for line in train_data.itertuples():\n",
    "    matrice_train[line[1]-1, line[3]-1]=line[2]\n",
    "\n",
    "del train_data\n",
    "    \n",
    "matrice_test=np.zeros((n_users, n_movies))\n",
    "for line in test_data.itertuples():\n",
    "    matrice_test[line[1]-1, line[3]-1]=line[2]\n",
    "    \n",
    "del test_data"
   ]
  },
  {
   "cell_type": "code",
   "execution_count": 47,
   "metadata": {},
   "outputs": [],
   "source": [
    "#Création matrice creuse\n",
    "\n",
    "matrice_train_creuse=sparse.csr_matrix(matrice_train)\n",
    "matrice_test_creuse=sparse.csr_matrix(matrice_test)"
   ]
  },
  {
   "cell_type": "code",
   "execution_count": 26,
   "metadata": {},
   "outputs": [],
   "source": [
    "#Définition des fonctions\n",
    "\n",
    "#Etape 1 : initialisation\n",
    "def initialisation(n_users, n_movies, n_factors):\n",
    "    X=np.random.random((n_users,n_factors))\n",
    "    Y=np.random.random((n_movies,n_factors))\n",
    "    return X,Y\n",
    "\n",
    "#Etape 2 : Calcul des vecteurs latents pendant une itération\n",
    "def user_step(X,Y,matrice_modele,user_reg):\n",
    "    identite=np.eye\n",
    "    X=matrice_modele.dot(Y).dot(inv((Y.T).dot(Y)+user_reg*identite(X.shape[1])))\n",
    "    return X  \n",
    "def movie_step(X,Y,matrice_modele,movie_reg):\n",
    "    identite=np.eye\n",
    "    Y=matrice_modele.T.dot(X).dot(inv((X.T).dot(X)+movie_reg*identite(Y.shape[1])))\n",
    "    return Y\n",
    "\n",
    "#Etape 3 : Prédictions\n",
    "def pred(X,Y):\n",
    "    return X.dot(Y.T)\n",
    "\n",
    "#Fonction Algorithme complet\n",
    "def MovieRecommender_als(matrice_modele,n_factors,n_iter,user_reg,movie_reg):\n",
    "    n_users,n_movies=matrice_modele.shape\n",
    "    X,Y=initialisation(n_users,n_movies,n_factors)\n",
    "    for i in range(n_iter):\n",
    "        X=user_step(X,Y,matrice_modele,user_reg)\n",
    "        Y=movie_step(X,Y,matrice_modele,movie_reg)\n",
    "    return pred(X,Y)\n",
    "\n",
    "#Fonctions d'évaluation\n",
    "def get_rmse(pred, actual):\n",
    "    # Ignore non zero terms.\n",
    "    pred = pred[actual.nonzero()].flatten()\n",
    "    actual = actual[actual.nonzero()].flatten()\n",
    "    return np.sqrt(mean_squared_error(pred, actual))"
   ]
  },
  {
   "cell_type": "code",
   "execution_count": 27,
   "metadata": {},
   "outputs": [],
   "source": [
    "#Script algo ALS avec nombre d'itérations différentes, pour définir le meilleur nombre d'itérations\n",
    "#On construit la courbe des RMSE train et test en fonction du nombre d'itérations de l'algo\n",
    "\n",
    "def calculate_learning_curve_als(matrice_modele, matrice_test, iter_array, user_reg, movie_reg, n_factors):   \n",
    "    iter_array.sort()\n",
    "    train_rmse =[]\n",
    "    test_rmse = []\n",
    "    for (i, n_iter) in enumerate(iter_array):\n",
    "        predictions = MovieRecommender_als(matrice_modele, n_factors = n_factors, n_iter = n_iter,\n",
    "                             user_reg = user_reg, movie_reg = movie_reg)\n",
    "        train_rmse += [get_rmse(predictions, matrice_modele)]\n",
    "        test_rmse += [get_rmse(predictions, matrice_test)]\n",
    "    return train_rmse, test_rmse\n",
    "\n",
    "#Fonction d'affichage\n",
    "def plot_learning_curve(iter_array, model):\n",
    "    plt.figure()\n",
    "    plt.plot(iter_array, model[0], label='Training', linewidth=5)\n",
    "    plt.plot(iter_array, model[1], label='Test', linewidth=5)\n",
    "    plt.xticks(fontsize=16);\n",
    "    plt.yticks(fontsize=16);\n",
    "    plt.xlabel('iterations', fontsize=30);\n",
    "    plt.ylabel('RMSE', fontsize=30);\n",
    "    plt.legend(loc='best', fontsize=20);"
   ]
  },
  {
   "cell_type": "code",
   "execution_count": 28,
   "metadata": {},
   "outputs": [
    {
     "name": "stdout",
     "output_type": "stream",
     "text": [
      "rmse_train 0.5924780640518774\n",
      "rmse_test 0.5935881934529997\n",
      "time : 0.2685871124267578\n"
     ]
    }
   ],
   "source": [
    "# Essai pour un nombre unique d'itération\n",
    "\n",
    "t0=time()\n",
    "pred=MovieRecommender_als(matrice_modele=matrice_creuse,n_factors=3,n_iter=6,user_reg=0,movie_reg=0)\n",
    "rmse_train=get_rmse(pred,matrice_train)\n",
    "rmse_test=get_rmse(pred,matrice_test)\n",
    "t1=time()\n",
    "print(\"rmse_train\",rmse_train)\n",
    "print(\"rmse_test\",rmse_test)\n",
    "print(\"time :\", t1-t0)"
   ]
  },
  {
   "cell_type": "code",
   "execution_count": 29,
   "metadata": {},
   "outputs": [
    {
     "data": {
      "text/plain": [
       "0.5924780640518774"
      ]
     },
     "execution_count": 29,
     "metadata": {},
     "output_type": "execute_result"
    }
   ],
   "source": [
    "rmse_train"
   ]
  },
  {
   "cell_type": "code",
   "execution_count": 30,
   "metadata": {},
   "outputs": [
    {
     "data": {
      "text/plain": [
       "0.5935881934529997"
      ]
     },
     "execution_count": 30,
     "metadata": {},
     "output_type": "execute_result"
    }
   ],
   "source": [
    "rmse_test"
   ]
  },
  {
   "cell_type": "code",
   "execution_count": null,
   "metadata": {},
   "outputs": [],
   "source": []
  },
  {
   "cell_type": "code",
   "execution_count": null,
   "metadata": {},
   "outputs": [],
   "source": []
  }
 ],
 "metadata": {
  "kernelspec": {
   "display_name": "Python 3",
   "language": "python",
   "name": "python3"
  },
  "language_info": {
   "codemirror_mode": {
    "name": "ipython",
    "version": 3
   },
   "file_extension": ".py",
   "mimetype": "text/x-python",
   "name": "python",
   "nbconvert_exporter": "python",
   "pygments_lexer": "ipython3",
   "version": "3.7.1"
  }
 },
 "nbformat": 4,
 "nbformat_minor": 2
}
