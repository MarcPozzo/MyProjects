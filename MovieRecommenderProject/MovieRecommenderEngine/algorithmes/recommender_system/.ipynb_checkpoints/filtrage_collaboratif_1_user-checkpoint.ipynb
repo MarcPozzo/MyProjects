{
 "cells": [
  {
   "cell_type": "markdown",
   "metadata": {},
   "source": [
    "Script pour algorithme de recommender system : filtrage collaboratif sur 1 user, c'est-à-dire que dans le script, on dit pour quel user on veut des prédictions sur des films qu'il n'a pas vu.\n",
    "\n",
    "Pb : fonctionne une fois qu'on a évalué et validé modèle, car on ne peut pas évaluer sur un user seulement.\n",
    "Script faux ici quand on calcule RMSE_test"
   ]
  },
  {
   "cell_type": "code",
   "execution_count": 1,
   "metadata": {},
   "outputs": [],
   "source": [
    "import pandas as pd\n",
    "import numpy as np\n",
    "%matplotlib inline\n",
    "import matplotlib.pyplot as plt\n",
    "import seaborn as sns\n",
    "from sklearn.model_selection import train_test_split\n",
    "from sklearn.metrics import mean_squared_error\n",
    "from tqdm import tqdm\n",
    "from scipy import sparse"
   ]
  },
  {
   "cell_type": "markdown",
   "metadata": {},
   "source": [
    "# Préparation des données\n",
    "création matrices modèles"
   ]
  },
  {
   "cell_type": "markdown",
   "metadata": {},
   "source": [
    "J'ai essayé d'enregistrer matrice modèle dans fichier création matrice_modèle, \n",
    "mais le fichier fait 35Go, donc je préfère refaire les matrices dans chaque script"
   ]
  },
  {
   "cell_type": "code",
   "execution_count": 2,
   "metadata": {},
   "outputs": [],
   "source": [
    "ratings=pd.read_csv('../../../dataset/ml-20m/ratings.csv')\n",
    "df_ref=pd.read_csv('../../new_dataset/correspondances_Id_movie')"
   ]
  },
  {
   "cell_type": "code",
   "execution_count": 3,
   "metadata": {},
   "outputs": [
    {
     "name": "stdout",
     "output_type": "stream",
     "text": [
      "23608\n"
     ]
    }
   ],
   "source": [
    "# Ajout de movieId_ref dans fichier ratings, et suppression infos inutiles\n",
    "\n",
    "ratings.index=ratings.movieId\n",
    "df_ref.index=df_ref.movieId\n",
    "ratings=ratings.join(df_ref.movieId_ref)\n",
    "ratings=ratings.drop([\"timestamp\", \"movieId\"], axis=1)\n",
    "ratings=ratings.dropna(subset=[\"movieId_ref\"])\n",
    "print(len(ratings.movieId_ref.unique()))\n",
    "ratings.movieId_ref=ratings.movieId_ref.astype(int)\n",
    "ratings.head()\n",
    "\n",
    "del df_ref"
   ]
  },
  {
   "cell_type": "code",
   "execution_count": 4,
   "metadata": {},
   "outputs": [],
   "source": [
    "#séparer jeu de test jeu d entrainement\n",
    "\n",
    "train_data, test_data=train_test_split(ratings, test_size=0.2, random_state=222)"
   ]
  },
  {
   "cell_type": "code",
   "execution_count": 5,
   "metadata": {},
   "outputs": [
    {
     "name": "stdout",
     "output_type": "stream",
     "text": [
      "Nombre d'utilisateurs : 138493 | Nombre de films : 23608\n"
     ]
    }
   ],
   "source": [
    "#Définition du nombre de users et du nombre de films\n",
    "\n",
    "n_users = ratings.userId.unique().shape[0]\n",
    "n_movies = ratings.movieId_ref.unique().shape[0]\n",
    "print (\"Nombre d'utilisateurs : \" + str(n_users) + \" | Nombre de films : \" + str(n_movies))\n",
    "\n",
    "del ratings"
   ]
  },
  {
   "cell_type": "code",
   "execution_count": 6,
   "metadata": {},
   "outputs": [],
   "source": [
    "# Création de matrice modèles train (je crée la matrice modèle test plus tard)\n",
    "\n",
    "matrice_train=np.zeros((n_users, n_movies))\n",
    "for line in train_data.itertuples():\n",
    "    matrice_train[line[1]-1, line[3]-1]=line[2]\n",
    "\n",
    "del train_data\n",
    "    \n",
    "matrice_test=np.zeros((n_users, n_movies))\n",
    "for line in test_data.itertuples():\n",
    "    matrice_test[line[1]-1, line[3]-1]=line[2]\n",
    "\n",
    "del test_data"
   ]
  },
  {
   "cell_type": "markdown",
   "metadata": {},
   "source": [
    "# Filtrage collaboratif :\n",
    "Ici movie-based filtering"
   ]
  },
  {
   "cell_type": "code",
   "execution_count": 68,
   "metadata": {},
   "outputs": [],
   "source": [
    "#Chargement matrice similarité\n",
    "\n",
    "movie_similarity=np.loadtxt('../../../dataset/movie_similarity.csv')"
   ]
  },
  {
   "cell_type": "code",
   "execution_count": 117,
   "metadata": {},
   "outputs": [],
   "source": [
    "#on se base sur un utilisateur seulement, \n",
    "#et on calcul les prédictions pour cet utilisateur uniquement\n",
    "\n",
    "def pred_movie(matrice_modele, movie_similarity, k, user):    \n",
    "    pred = np.zeros(matrice_modele.shape[1])\n",
    "    for i in range(matrice_modele.shape[1]):     \n",
    "        top_k_movies = np.argsort(movie_similarity[:,i])[-1:-k-1:-1]\n",
    "        mov=movie_similarity[i,top_k_movies]\n",
    "        mat=matrice_modele[user,top_k_movies]\n",
    "        pred[i]=mov.dot(mat.T)/(np.sum(np.abs(mov))+0.000001)   \n",
    "        del mat\n",
    "        del mov\n",
    "    return pred \n",
    "\n",
    "def get_rmse(pred, actual):\n",
    "    return np.sqrt(mean_squared_error(pred, actual))"
   ]
  },
  {
   "cell_type": "code",
   "execution_count": 120,
   "metadata": {},
   "outputs": [
    {
     "name": "stdout",
     "output_type": "stream",
     "text": [
      "[0.16059312680138355]\n",
      "[0.2725545210523048]\n",
      "temps :  37.45721912384033\n"
     ]
    }
   ],
   "source": [
    "# essai avec k=5\n",
    "\n",
    "from time import time\n",
    "t0=time()\n",
    "\n",
    "movie_pred = pred_movie(matrice_modele=matrice_train, movie_similarity=movie_similarity, k=5, user=600)      \n",
    "movie_train_rmse = [get_rmse(movie_pred, matrice_train[600,:]) ]       \n",
    "movie_test_rmse =  [get_rmse(movie_pred, matrice_test[600,:]) ]\n",
    "print(movie_train_rmse)\n",
    "print(movie_test_rmse)\n",
    "\n",
    "t1=time()\n",
    "print(\"temps : \", t1-t0)"
   ]
  },
  {
   "cell_type": "code",
   "execution_count": 124,
   "metadata": {},
   "outputs": [
    {
     "data": {
      "text/plain": [
       "<matplotlib.legend.Legend at 0x1a288fcdd8>"
      ]
     },
     "execution_count": 124,
     "metadata": {},
     "output_type": "execute_result"
    },
    {
     "data": {
      "image/png": "[encoded data removed]",
      "text/plain": [
       "<Figure size 576x576 with 1 Axes>"
      ]
     },
     "metadata": {},
     "output_type": "display_data"
    }
   ],
   "source": [
    "#Script pour algo filtrage collaboratif, sur movies\n",
    "#avec k-array pour trouver meilleur nombre de films à comparer\n",
    "#affichage courbe RMSE train et test en fonction de k\n",
    "\n",
    "k_array = [5, 15, 30, 50, 80, 100]\n",
    "movie_test_rmse = []\n",
    "movie_train_rmse = []\n",
    "for k in k_array:\n",
    "    movie_pred = pred_movie(matrice_modele=matrice_train, movie_similarity=movie_similarity, k=k, user=600)      \n",
    "    movie_train_rmse += [get_rmse(movie_pred, matrice_train[600,:]) ]       \n",
    "    movie_test_rmse +=  [get_rmse(movie_pred, matrice_test[600,:]) ]\n",
    "\n",
    "\n",
    "sns.set()\n",
    "pal = sns.color_palette(\"Set1\", 4)\n",
    "plt.figure(figsize=(8, 8))\n",
    "plt.plot(k_array, movie_train_rmse, c=pal[2], label='Item-based train', alpha=0.5, linewidth=2)\n",
    "plt.plot(k_array, movie_test_rmse, c=pal[3], label='Item-based test', linewidth=2)\n",
    "plt.legend(loc='best', fontsize=20)\n",
    "plt.xlabel('k', fontsize=10);\n",
    "plt.ylabel('RMSE', fontsize=10);\n"
   ]
  },
  {
   "cell_type": "markdown",
   "metadata": {},
   "source": [
    "k idéal : 40, ensuite les scores se dégradent. avant, overfitting."
   ]
  },
  {
   "cell_type": "code",
   "execution_count": 125,
   "metadata": {},
   "outputs": [],
   "source": [
    "#Suppression fichier inutile pour la suite\n",
    "del movie_similarity\n",
    "del movie_test_rmse\n",
    "del movie_train_rmse"
   ]
  },
  {
   "cell_type": "markdown",
   "metadata": {},
   "source": [
    "# Filtrage collaboratif :\n",
    "Ici user-based filtering"
   ]
  },
  {
   "cell_type": "code",
   "execution_count": 7,
   "metadata": {},
   "outputs": [],
   "source": [
    "#Création matrice creuse\n",
    "matrice_creuse=sparse.csr_matrix(matrice_train)"
   ]
  },
  {
   "cell_type": "code",
   "execution_count": null,
   "metadata": {},
   "outputs": [],
   "source": [
    "#Problème ici, noyau plante.\n",
    "#Je n'arrive pas non plus à enregistrer user_similarity dans fichier création matrice\n",
    "#donc je n'arrive pas à faire la suite\n",
    "\n",
    "from sklearn.metrics.pairwise import cosine_similarity\n",
    "user_similarity=cosine_similarity(matrice_creuse)"
   ]
  },
  {
   "cell_type": "code",
   "execution_count": 126,
   "metadata": {},
   "outputs": [
    {
     "ename": "OSError",
     "evalue": "../../../dataset/user_similarity.csv not found.",
     "output_type": "error",
     "traceback": [
      "\u001b[0;31m---------------------------------------------------------------------------\u001b[0m",
      "\u001b[0;31mOSError\u001b[0m                                   Traceback (most recent call last)",
      "\u001b[0;32m<ipython-input-126-8501edf5904b>\u001b[0m in \u001b[0;36m<module>\u001b[0;34m\u001b[0m\n\u001b[1;32m      1\u001b[0m \u001b[0;31m#Chargement matrice similarité sur les users\u001b[0m\u001b[0;34m\u001b[0m\u001b[0;34m\u001b[0m\u001b[0;34m\u001b[0m\u001b[0m\n\u001b[0;32m----> 2\u001b[0;31m \u001b[0muser_similarity\u001b[0m\u001b[0;34m=\u001b[0m\u001b[0mnp\u001b[0m\u001b[0;34m.\u001b[0m\u001b[0mloadtxt\u001b[0m\u001b[0;34m(\u001b[0m\u001b[0;34m'../../../dataset/user_similarity.csv'\u001b[0m\u001b[0;34m)\u001b[0m\u001b[0;34m\u001b[0m\u001b[0;34m\u001b[0m\u001b[0m\n\u001b[0m",
      "\u001b[0;32m~/anaconda3/lib/python3.6/site-packages/numpy/lib/npyio.py\u001b[0m in \u001b[0;36mloadtxt\u001b[0;34m(fname, dtype, comments, delimiter, converters, skiprows, usecols, unpack, ndmin, encoding, max_rows)\u001b[0m\n\u001b[1;32m    953\u001b[0m             \u001b[0mfname\u001b[0m \u001b[0;34m=\u001b[0m \u001b[0mos_fspath\u001b[0m\u001b[0;34m(\u001b[0m\u001b[0mfname\u001b[0m\u001b[0;34m)\u001b[0m\u001b[0;34m\u001b[0m\u001b[0;34m\u001b[0m\u001b[0m\n\u001b[1;32m    954\u001b[0m         \u001b[0;32mif\u001b[0m \u001b[0m_is_string_like\u001b[0m\u001b[0;34m(\u001b[0m\u001b[0mfname\u001b[0m\u001b[0;34m)\u001b[0m\u001b[0;34m:\u001b[0m\u001b[0;34m\u001b[0m\u001b[0;34m\u001b[0m\u001b[0m\n\u001b[0;32m--> 955\u001b[0;31m             \u001b[0mfh\u001b[0m \u001b[0;34m=\u001b[0m \u001b[0mnp\u001b[0m\u001b[0;34m.\u001b[0m\u001b[0mlib\u001b[0m\u001b[0;34m.\u001b[0m\u001b[0m_datasource\u001b[0m\u001b[0;34m.\u001b[0m\u001b[0mopen\u001b[0m\u001b[0;34m(\u001b[0m\u001b[0mfname\u001b[0m\u001b[0;34m,\u001b[0m \u001b[0;34m'rt'\u001b[0m\u001b[0;34m,\u001b[0m \u001b[0mencoding\u001b[0m\u001b[0;34m=\u001b[0m\u001b[0mencoding\u001b[0m\u001b[0;34m)\u001b[0m\u001b[0;34m\u001b[0m\u001b[0;34m\u001b[0m\u001b[0m\n\u001b[0m\u001b[1;32m    956\u001b[0m             \u001b[0mfencoding\u001b[0m \u001b[0;34m=\u001b[0m \u001b[0mgetattr\u001b[0m\u001b[0;34m(\u001b[0m\u001b[0mfh\u001b[0m\u001b[0;34m,\u001b[0m \u001b[0;34m'encoding'\u001b[0m\u001b[0;34m,\u001b[0m \u001b[0;34m'latin1'\u001b[0m\u001b[0;34m)\u001b[0m\u001b[0;34m\u001b[0m\u001b[0;34m\u001b[0m\u001b[0m\n\u001b[1;32m    957\u001b[0m             \u001b[0mfh\u001b[0m \u001b[0;34m=\u001b[0m \u001b[0miter\u001b[0m\u001b[0;34m(\u001b[0m\u001b[0mfh\u001b[0m\u001b[0;34m)\u001b[0m\u001b[0;34m\u001b[0m\u001b[0;34m\u001b[0m\u001b[0m\n",
      "\u001b[0;32m~/anaconda3/lib/python3.6/site-packages/numpy/lib/_datasource.py\u001b[0m in \u001b[0;36mopen\u001b[0;34m(path, mode, destpath, encoding, newline)\u001b[0m\n\u001b[1;32m    264\u001b[0m \u001b[0;34m\u001b[0m\u001b[0m\n\u001b[1;32m    265\u001b[0m     \u001b[0mds\u001b[0m \u001b[0;34m=\u001b[0m \u001b[0mDataSource\u001b[0m\u001b[0;34m(\u001b[0m\u001b[0mdestpath\u001b[0m\u001b[0;34m)\u001b[0m\u001b[0;34m\u001b[0m\u001b[0;34m\u001b[0m\u001b[0m\n\u001b[0;32m--> 266\u001b[0;31m     \u001b[0;32mreturn\u001b[0m \u001b[0mds\u001b[0m\u001b[0;34m.\u001b[0m\u001b[0mopen\u001b[0m\u001b[0;34m(\u001b[0m\u001b[0mpath\u001b[0m\u001b[0;34m,\u001b[0m \u001b[0mmode\u001b[0m\u001b[0;34m,\u001b[0m \u001b[0mencoding\u001b[0m\u001b[0;34m=\u001b[0m\u001b[0mencoding\u001b[0m\u001b[0;34m,\u001b[0m \u001b[0mnewline\u001b[0m\u001b[0;34m=\u001b[0m\u001b[0mnewline\u001b[0m\u001b[0;34m)\u001b[0m\u001b[0;34m\u001b[0m\u001b[0;34m\u001b[0m\u001b[0m\n\u001b[0m\u001b[1;32m    267\u001b[0m \u001b[0;34m\u001b[0m\u001b[0m\n\u001b[1;32m    268\u001b[0m \u001b[0;34m\u001b[0m\u001b[0m\n",
      "\u001b[0;32m~/anaconda3/lib/python3.6/site-packages/numpy/lib/_datasource.py\u001b[0m in \u001b[0;36mopen\u001b[0;34m(self, path, mode, encoding, newline)\u001b[0m\n\u001b[1;32m    622\u001b[0m                                       encoding=encoding, newline=newline)\n\u001b[1;32m    623\u001b[0m         \u001b[0;32melse\u001b[0m\u001b[0;34m:\u001b[0m\u001b[0;34m\u001b[0m\u001b[0;34m\u001b[0m\u001b[0m\n\u001b[0;32m--> 624\u001b[0;31m             \u001b[0;32mraise\u001b[0m \u001b[0mIOError\u001b[0m\u001b[0;34m(\u001b[0m\u001b[0;34m\"%s not found.\"\u001b[0m \u001b[0;34m%\u001b[0m \u001b[0mpath\u001b[0m\u001b[0;34m)\u001b[0m\u001b[0;34m\u001b[0m\u001b[0;34m\u001b[0m\u001b[0m\n\u001b[0m\u001b[1;32m    625\u001b[0m \u001b[0;34m\u001b[0m\u001b[0m\n\u001b[1;32m    626\u001b[0m \u001b[0;34m\u001b[0m\u001b[0m\n",
      "\u001b[0;31mOSError\u001b[0m: ../../../dataset/user_similarity.csv not found."
     ]
    }
   ],
   "source": [
    "#Chargement matrice similarité sur les users\n",
    "user_similarity=np.loadtxt('../../../dataset/user_similarity.csv')"
   ]
  },
  {
   "cell_type": "code",
   "execution_count": null,
   "metadata": {},
   "outputs": [],
   "source": [
    "#Calcul du vecteur prédictions des movies pour user demandé\n",
    "def pred_user(matrice_modele, user_similarity, k, user):    \n",
    "    pred = np.zeros(matrice_modele.shape[1])\n",
    "    top_k_users = np.argsort(user_similarity[:,user])[-1:-k-1:-1]  \n",
    "    for i in tqdm(range(matrice_modele.shape[1])):\n",
    "        pred[i]=user_similarity[user,:][top_k_users].dot(matrice_modele[:,i][top_k_users])\n",
    "        pred[i]/=np.sum(np.abs(user_similarity[user,:][top_k_users]))+0.000001     \n",
    "    return pred \n",
    "\n",
    "\n",
    "def get_rmse(pred, actual):\n",
    "    pred = pred[actual.nonzero()].flatten() # Ignore nonzero terms.\n",
    "    actual = actual[actual.nonzero()].flatten()\n",
    "    return np.sqrt(mean_squared_error(pred, actual))"
   ]
  },
  {
   "cell_type": "code",
   "execution_count": null,
   "metadata": {},
   "outputs": [],
   "source": [
    "# Script pour faire tourner algo filtrage collaboratif, sur users\n",
    "#avec k-array pour trouver meilleur nombre de films à comparer\n",
    "#affichage courbe RMSE train et test en fonction de k\n",
    "\n",
    "\n",
    "k_array = [5, 15, 30, 50]\n",
    "user_test_rmse = []\n",
    "user_train_rmse = []\n",
    "for k in k_array:\n",
    "    user_pred = pred_user(matrice_modele, user_similarity, k=k, user=600)      \n",
    "    user_train_rmse += [get_rmse(user_pred, matrice_train[600,:]) ]       \n",
    "    user_test_rmse +=  [get_rmse(user_pred, matrice_test[600,:]) ]\n",
    "\n",
    "\n",
    "sns.set()\n",
    "pal = sns.color_palette(\"Set1\", 4)\n",
    "plt.figure(figsize=(8, 8))\n",
    "plt.plot(k_array, user_train_rmse, c=pal[2], label='User-based train', alpha=0.5, linewidth=2)\n",
    "plt.plot(k_array, user_test_rmse, c=pal[3], label='User-based test', linewidth=2)\n",
    "plt.legend(loc='best', fontsize=20)\n",
    "plt.xlabel('k', fontsize=30);\n",
    "plt.ylabel('RMSE', fontsize=30);\n",
    "plt.legend(loc='center left', bbox_to_anchor=(1, 0.8))"
   ]
  }
 ],
 "metadata": {
  "kernelspec": {
   "display_name": "Python 3",
   "language": "python",
   "name": "python3"
  },
  "language_info": {
   "codemirror_mode": {
    "name": "ipython",
    "version": 3
   },
   "file_extension": ".py",
   "mimetype": "text/x-python",
   "name": "python",
   "nbconvert_exporter": "python",
   "pygments_lexer": "ipython3",
   "version": "3.6.8"
  }
 },
 "nbformat": 4,
 "nbformat_minor": 2
}
