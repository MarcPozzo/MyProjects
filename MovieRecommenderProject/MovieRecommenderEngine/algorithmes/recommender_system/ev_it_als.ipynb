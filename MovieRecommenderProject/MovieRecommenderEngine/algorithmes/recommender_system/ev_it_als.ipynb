{
 "cells": [
  {
   "cell_type": "code",
   "execution_count": 2,
   "metadata": {},
   "outputs": [],
   "source": [
    "#Création matrice modèle\n",
    "import pandas as pd\n",
    "import numpy as np\n",
    "from sklearn.model_selection import train_test_split\n",
    "from sklearn.metrics import mean_squared_error\n",
    "import matplotlib.pyplot as plt\n",
    "%matplotlib inline\n",
    "\n",
    "ratings=pd.read_csv('../../../dataset/ml-20m/ratings.csv')\n",
    "df_ref=pd.read_csv('../../new_dataset/correspondances_Id_movie')\n",
    "\n",
    "list_movieId=pd.read_csv('../reduced_list_movieId.txt', header=None, names=[\"movieId_ref\"])\n",
    "list_userId=pd.read_csv('../reduced_list_userId.txt', header=None, names=[\"userId\"])"
   ]
  },
  {
   "cell_type": "code",
   "execution_count": 3,
   "metadata": {},
   "outputs": [
    {
     "name": "stdout",
     "output_type": "stream",
     "text": [
      "23608\n"
     ]
    },
    {
     "data": {
      "text/html": [
       "<div>\n",
       "<style scoped>\n",
       "    .dataframe tbody tr th:only-of-type {\n",
       "        vertical-align: middle;\n",
       "    }\n",
       "\n",
       "    .dataframe tbody tr th {\n",
       "        vertical-align: top;\n",
       "    }\n",
       "\n",
       "    .dataframe thead th {\n",
       "        text-align: right;\n",
       "    }\n",
       "</style>\n",
       "<table border=\"1\" class=\"dataframe\">\n",
       "  <thead>\n",
       "    <tr style=\"text-align: right;\">\n",
       "      <th></th>\n",
       "      <th>userId</th>\n",
       "      <th>rating</th>\n",
       "      <th>movieId_ref</th>\n",
       "    </tr>\n",
       "    <tr>\n",
       "      <th>movieId</th>\n",
       "      <th></th>\n",
       "      <th></th>\n",
       "      <th></th>\n",
       "    </tr>\n",
       "  </thead>\n",
       "  <tbody>\n",
       "    <tr>\n",
       "      <th>1</th>\n",
       "      <td>3</td>\n",
       "      <td>4.0</td>\n",
       "      <td>1</td>\n",
       "    </tr>\n",
       "    <tr>\n",
       "      <th>1</th>\n",
       "      <td>6</td>\n",
       "      <td>5.0</td>\n",
       "      <td>1</td>\n",
       "    </tr>\n",
       "    <tr>\n",
       "      <th>1</th>\n",
       "      <td>8</td>\n",
       "      <td>4.0</td>\n",
       "      <td>1</td>\n",
       "    </tr>\n",
       "    <tr>\n",
       "      <th>1</th>\n",
       "      <td>10</td>\n",
       "      <td>4.0</td>\n",
       "      <td>1</td>\n",
       "    </tr>\n",
       "    <tr>\n",
       "      <th>1</th>\n",
       "      <td>11</td>\n",
       "      <td>4.5</td>\n",
       "      <td>1</td>\n",
       "    </tr>\n",
       "  </tbody>\n",
       "</table>\n",
       "</div>"
      ],
      "text/plain": [
       "         userId  rating  movieId_ref\n",
       "movieId                             \n",
       "1             3     4.0            1\n",
       "1             6     5.0            1\n",
       "1             8     4.0            1\n",
       "1            10     4.0            1\n",
       "1            11     4.5            1"
      ]
     },
     "execution_count": 3,
     "metadata": {},
     "output_type": "execute_result"
    }
   ],
   "source": [
    "# Ajout de movieId_ref dans fichier ratings, et suppression infos inutiles\n",
    "ratings.index=ratings.movieId\n",
    "df_ref.index=df_ref.movieId\n",
    "ratings=ratings.join(df_ref.movieId_ref)\n",
    "ratings=ratings.drop([\"timestamp\", \"movieId\"], axis=1)\n",
    "ratings=ratings.dropna(subset=[\"movieId_ref\"])\n",
    "print(len(ratings.movieId_ref.unique()))\n",
    "ratings.movieId_ref=ratings.movieId_ref.astype(int)\n",
    "ratings.head()"
   ]
  },
  {
   "cell_type": "code",
   "execution_count": 5,
   "metadata": {},
   "outputs": [
    {
     "name": "stdout",
     "output_type": "stream",
     "text": [
      "(567692, 3)\n",
      "22812\n",
      "3220\n"
     ]
    }
   ],
   "source": [
    "liste1=list(list_movieId.movieId_ref)\n",
    "liste2=list(list_userId.userId)\n",
    "\n",
    "#Réduction des données avec les movies set Id sélectionnés dans fichier reduction_Dataset\n",
    "ratings=ratings[(ratings.movieId_ref.isin(liste1))]\n",
    "ratings=ratings[(ratings.userId.isin(liste2))]\n",
    "print(ratings.shape)\n",
    "print(len(ratings.userId.unique()))\n",
    "print(len(ratings.movieId_ref.unique()))\n",
    "\n",
    "#Renumérotation des movieId et user Id de manière continue\n",
    "ratings_user=ratings.groupby(\"userId\").count()\n",
    "ratings_user[\"userId_red\"]=np.arange(1,22813)\n",
    "ratings=ratings.join(ratings_user.userId_red, on=\"userId\")\n",
    "ratings.head(40)\n",
    "\n",
    "ratings_movie=ratings.groupby(\"movieId_ref\").count()\n",
    "ratings_movie[\"movieId_red\"]=np.arange(1,3221)\n",
    "ratings=ratings.join(ratings_movie.movieId_red, on=\"movieId_ref\")\n",
    "ratings.head(40)\n",
    "\n",
    "ratings=ratings.sort_values(by='userId_red')\n",
    "ratings=ratings.drop([\"movieId_ref\", \"userId\"], axis=1)"
   ]
  },
  {
   "cell_type": "code",
   "execution_count": null,
   "metadata": {},
   "outputs": [],
   "source": [
    "ratings.head()\n",
    "ratings.describe()"
   ]
  },
  {
   "cell_type": "code",
   "execution_count": 26,
   "metadata": {},
   "outputs": [],
   "source": [
    "#séparer jeu de test jeu d entrainement\n",
    "train_data, test_data=train_test_split(ratings, test_size=0.2)"
   ]
  },
  {
   "cell_type": "code",
   "execution_count": 27,
   "metadata": {},
   "outputs": [
    {
     "name": "stdout",
     "output_type": "stream",
     "text": [
      "Nombre d'utilisateurs : 22812 | Nombre de films : 3220\n"
     ]
    }
   ],
   "source": [
    "#Définition du nombre de users et du nombre de films\n",
    "n_users = ratings.userId_red.unique().shape[0]\n",
    "n_movies = ratings.movieId_red.unique().shape[0]\n",
    "print (\"Nombre d'utilisateurs : \" + str(n_users) + \" | Nombre de films : \" + str(n_movies))"
   ]
  },
  {
   "cell_type": "code",
   "execution_count": 28,
   "metadata": {},
   "outputs": [],
   "source": [
    "# Création de 2 matrices modèles train et test\n",
    "\n",
    "matrice_train=np.zeros((n_users, n_movies))\n",
    "for line in train_data.itertuples():\n",
    "    matrice_train[line[2]-1, line[3]-1]=line[1]\n",
    "\n",
    "matrice_test=np.zeros((n_users, n_movies))\n",
    "for line in test_data.itertuples():\n",
    "    matrice_test[line[2]-1, line[3]-1]=line[1]"
   ]
  },
  {
   "cell_type": "code",
   "execution_count": 29,
   "metadata": {},
   "outputs": [],
   "source": [
    "#Définition des fonctions\n",
    "\n",
    "#Etape 1 initialisation\n",
    "def initialisation(n_users, n_movies, n_factors):\n",
    "    X=np.random.random((n_users,n_factors))\n",
    "    Y=np.random.random((n_movies,n_factors))\n",
    "    return X,Y\n",
    "\n",
    "#Etape 2 : Calcul des vecteurs latents pendant une itération\n",
    "from numpy.linalg import inv\n",
    "def user_step(X,Y,matrice_train,user_reg):\n",
    "    for u in range(X.shape[0]):\n",
    "        X[u,:]=matrice_train[u,:].dot(Y).dot(inv((Y.T).dot(Y)+user_reg*np.eye(X.shape[1])))\n",
    "    return X  \n",
    "def movie_step(X,Y,matrice_train,movie_reg):\n",
    "    for i in range(Y.shape[0]):\n",
    "        Y[i,:]=matrice_train[:,i].T.dot(X).dot(inv((X.T).dot(X)+movie_reg*np.eye(Y.shape[1])))\n",
    "    return Y\n",
    "\n",
    "#Etape 3 : Prédictions\n",
    "def predict_all(X,Y):\n",
    "    return X.dot(Y.T)"
   ]
  },
  {
   "cell_type": "code",
   "execution_count": 30,
   "metadata": {},
   "outputs": [],
   "source": [
    "#Algorithme complet\n",
    "def MovieRecommender_als(matrice_train,n_factors,n_iter,user_reg,movie_reg):\n",
    "    n_users,n_movies=train_data.shape\n",
    "    X,Y=initialisation(n_users,n_movies,n_factors)\n",
    "    for i in range(n_iter):\n",
    "        X=user_step(X,Y,matrice_train,user_reg)\n",
    "        Y=movie_step(X,Y,matrice_train,movie_reg)\n",
    "    return predict_all(X,Y)"
   ]
  },
  {
   "cell_type": "code",
   "execution_count": 31,
   "metadata": {},
   "outputs": [],
   "source": [
    "#Evaluation\n",
    "#Fonction d'évaluation\n",
    "def get_rmse(pred, actual):\n",
    "    # Ignore non zero terms.\n",
    "    pred = pred[actual.nonzero()].flatten()\n",
    "    actual = actual[actual.nonzero()].flatten()\n",
    "    return np.sqrt(mean_squared_error(pred, actual))\n",
    "def calculate_learning_curve_als(matrice_train, matrice_test, iter_array, user_reg, movie_reg, n_factors):   \n",
    "        iter_array.sort()\n",
    "        train_rmse =[]\n",
    "        test_rmse = []\n",
    "        iter_diff = 0\n",
    "        for (i, n_iter) in enumerate(iter_array):\n",
    "            predictions = MovieRecommender_als(matrice_train, n_factors = n_factors, n_iter = n_iter,\n",
    "                                 user_reg = user_reg, movie_reg = movie_reg)\n",
    "            train_rmse += [get_rmse(predictions, matrice_train)]\n",
    "            test_rmse += [get_rmse(predictions, matrice_test)]\n",
    "            iter_diff = n_iter\n",
    "        return train_rmse, test_rmse\n",
    "\n",
    "#Fonction d'affichage\n",
    "def plot_learning_curve(iter_array, model):\n",
    "    plt.figure()\n",
    "    plt.plot(iter_array, model[0], label='Training', linewidth=1)\n",
    "    plt.plot(iter_array, model[1], label='Test', linewidth=1)\n",
    "    plt.xticks(fontsize=16);\n",
    "    plt.yticks(fontsize=16);\n",
    "    plt.xlabel('iterations', fontsize=30);\n",
    "    plt.ylabel('RMSE', fontsize=30);\n",
    "    plt.legend(loc='best', fontsize=20);"
   ]
  },
  {
   "cell_type": "code",
   "execution_count": 32,
   "metadata": {},
   "outputs": [
    {
     "data": {
      "image/png": "[encoded data removed]",
      "text/plain": [
       "<Figure size 432x288 with 1 Axes>"
      ]
     },
     "metadata": {
      "needs_background": "light"
     },
     "output_type": "display_data"
    }
   ],
   "source": [
    "%timeit\n",
    "iter_array = [1, 2, 5, 10, 20]\n",
    "\n",
    "reg = 0.01 # regularization level\n",
    "n_factors = 10 # nombre de variables latentes\n",
    "plot_learning_curve(iter_array, calculate_learning_curve_als(matrice_train, matrice_test, iter_array,  user_reg=reg, movie_reg=reg, n_factors=n_factors))\n",
    "#40 min\n",
    "#scores moyens : k=5 best, score test 3, score train 2.8"
   ]
  },
  {
   "cell_type": "code",
   "execution_count": null,
   "metadata": {},
   "outputs": [],
   "source": []
  }
 ],
 "metadata": {
  "kernelspec": {
   "display_name": "Python 3",
   "language": "python",
   "name": "python3"
  },
  "language_info": {
   "codemirror_mode": {
    "name": "ipython",
    "version": 3
   },
   "file_extension": ".py",
   "mimetype": "text/x-python",
   "name": "python",
   "nbconvert_exporter": "python",
   "pygments_lexer": "ipython3",
   "version": "3.7.1"
  }
 },
 "nbformat": 4,
 "nbformat_minor": 2
}
