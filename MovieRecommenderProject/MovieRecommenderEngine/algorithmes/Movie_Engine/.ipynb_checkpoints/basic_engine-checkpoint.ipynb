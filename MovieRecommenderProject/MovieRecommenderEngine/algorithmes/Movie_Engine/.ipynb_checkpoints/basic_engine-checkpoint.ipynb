{
 "cells": [
  {
   "cell_type": "code",
   "execution_count": 272,
   "metadata": {},
   "outputs": [
    {
     "data": {
      "text/html": [
       "<div>\n",
       "<style scoped>\n",
       "    .dataframe tbody tr th:only-of-type {\n",
       "        vertical-align: middle;\n",
       "    }\n",
       "\n",
       "    .dataframe tbody tr th {\n",
       "        vertical-align: top;\n",
       "    }\n",
       "\n",
       "    .dataframe thead th {\n",
       "        text-align: right;\n",
       "    }\n",
       "</style>\n",
       "<table border=\"1\" class=\"dataframe\">\n",
       "  <thead>\n",
       "    <tr style=\"text-align: right;\">\n",
       "      <th></th>\n",
       "      <th>userId</th>\n",
       "      <th>Id_Action</th>\n",
       "      <th>movieId_ref</th>\n",
       "      <th>rating</th>\n",
       "      <th>movie_Action</th>\n",
       "    </tr>\n",
       "  </thead>\n",
       "  <tbody>\n",
       "    <tr>\n",
       "      <th>0</th>\n",
       "      <td>116</td>\n",
       "      <td>0</td>\n",
       "      <td>9</td>\n",
       "      <td>1.5</td>\n",
       "      <td>0</td>\n",
       "    </tr>\n",
       "    <tr>\n",
       "      <th>1</th>\n",
       "      <td>116</td>\n",
       "      <td>0</td>\n",
       "      <td>10</td>\n",
       "      <td>2.0</td>\n",
       "      <td>1</td>\n",
       "    </tr>\n",
       "    <tr>\n",
       "      <th>2</th>\n",
       "      <td>116</td>\n",
       "      <td>0</td>\n",
       "      <td>15</td>\n",
       "      <td>0.5</td>\n",
       "      <td>2</td>\n",
       "    </tr>\n",
       "    <tr>\n",
       "      <th>3</th>\n",
       "      <td>116</td>\n",
       "      <td>0</td>\n",
       "      <td>20</td>\n",
       "      <td>2.0</td>\n",
       "      <td>3</td>\n",
       "    </tr>\n",
       "    <tr>\n",
       "      <th>4</th>\n",
       "      <td>116</td>\n",
       "      <td>0</td>\n",
       "      <td>23</td>\n",
       "      <td>1.5</td>\n",
       "      <td>4</td>\n",
       "    </tr>\n",
       "  </tbody>\n",
       "</table>\n",
       "</div>"
      ],
      "text/plain": [
       "   userId  Id_Action  movieId_ref  rating  movie_Action\n",
       "0     116          0            9     1.5             0\n",
       "1     116          0           10     2.0             1\n",
       "2     116          0           15     0.5             2\n",
       "3     116          0           20     2.0             3\n",
       "4     116          0           23     1.5             4"
      ]
     },
     "execution_count": 272,
     "metadata": {},
     "output_type": "execute_result"
    }
   ],
   "source": [
    "#Enter this case\n",
    "import pandas as pd\n",
    "import numpy as np\n",
    "from sklearn.model_selection import train_test_split\n",
    "from numpy.linalg import inv\n",
    "from sklearn.metrics import mean_squared_error\n",
    "import matplotlib.pyplot as plt\n",
    "import sklearn.metrics.pairwise as dist\n",
    "from tqdm import tqdm\n",
    "import seaborn as sns\n",
    "%matplotlib inline\n",
    "ratings=pd.read_csv('../../new_dataset/action_movies.csv',index_col=0)\n",
    "ratings.head()"
   ]
  },
  {
   "cell_type": "code",
   "execution_count": 273,
   "metadata": {},
   "outputs": [],
   "source": [
    "#On selectionne l'utilisateur et on les films qu'il a déjà vu"
   ]
  },
  {
   "cell_type": "code",
   "execution_count": 274,
   "metadata": {},
   "outputs": [
    {
     "name": "stdout",
     "output_type": "stream",
     "text": [
      "Nombre d'utilisateurs : 1168 | Nombre de films dans la base : 1061\n"
     ]
    }
   ],
   "source": [
    "user=0\n",
    "\n",
    "#Définition du nombre de users et du nombre de films\n",
    "\n",
    "n_users = ratings.Id_Action.unique().shape[0]\n",
    "n_movies = ratings.movie_Action.unique().shape[0]\n",
    "print (\"Nombre d'utilisateurs : \" + str(n_users) + \" | Nombre de films dans la base : \" + str(n_movies))\n",
    "\n",
    "filtre=list(ratings[\"movie_Action\"][ratings[\"Id_Action\"]==user].unique())"
   ]
  },
  {
   "cell_type": "code",
   "execution_count": 275,
   "metadata": {},
   "outputs": [
    {
     "data": {
      "text/html": [
       "<div>\n",
       "<style scoped>\n",
       "    .dataframe tbody tr th:only-of-type {\n",
       "        vertical-align: middle;\n",
       "    }\n",
       "\n",
       "    .dataframe tbody tr th {\n",
       "        vertical-align: top;\n",
       "    }\n",
       "\n",
       "    .dataframe thead th {\n",
       "        text-align: right;\n",
       "    }\n",
       "</style>\n",
       "<table border=\"1\" class=\"dataframe\">\n",
       "  <thead>\n",
       "    <tr style=\"text-align: right;\">\n",
       "      <th></th>\n",
       "      <th>movieId</th>\n",
       "      <th>title</th>\n",
       "      <th>genres</th>\n",
       "    </tr>\n",
       "  </thead>\n",
       "  <tbody>\n",
       "    <tr>\n",
       "      <th>0</th>\n",
       "      <td>1</td>\n",
       "      <td>Toy Story (1995)</td>\n",
       "      <td>Adventure|Animation|Children|Comedy|Fantasy</td>\n",
       "    </tr>\n",
       "    <tr>\n",
       "      <th>1</th>\n",
       "      <td>2</td>\n",
       "      <td>Jumanji (1995)</td>\n",
       "      <td>Adventure|Children|Fantasy</td>\n",
       "    </tr>\n",
       "    <tr>\n",
       "      <th>2</th>\n",
       "      <td>3</td>\n",
       "      <td>Grumpier Old Men (1995)</td>\n",
       "      <td>Comedy|Romance</td>\n",
       "    </tr>\n",
       "    <tr>\n",
       "      <th>3</th>\n",
       "      <td>4</td>\n",
       "      <td>Waiting to Exhale (1995)</td>\n",
       "      <td>Comedy|Drama|Romance</td>\n",
       "    </tr>\n",
       "    <tr>\n",
       "      <th>4</th>\n",
       "      <td>5</td>\n",
       "      <td>Father of the Bride Part II (1995)</td>\n",
       "      <td>Comedy</td>\n",
       "    </tr>\n",
       "  </tbody>\n",
       "</table>\n",
       "</div>"
      ],
      "text/plain": [
       "   movieId                               title  \\\n",
       "0        1                    Toy Story (1995)   \n",
       "1        2                      Jumanji (1995)   \n",
       "2        3             Grumpier Old Men (1995)   \n",
       "3        4            Waiting to Exhale (1995)   \n",
       "4        5  Father of the Bride Part II (1995)   \n",
       "\n",
       "                                        genres  \n",
       "0  Adventure|Animation|Children|Comedy|Fantasy  \n",
       "1                   Adventure|Children|Fantasy  \n",
       "2                               Comedy|Romance  \n",
       "3                         Comedy|Drama|Romance  \n",
       "4                                       Comedy  "
      ]
     },
     "execution_count": 275,
     "metadata": {},
     "output_type": "execute_result"
    }
   ],
   "source": [
    "movies=pd.read_csv('../../../dataset/ml-20m/movies.csv')\n",
    "movies.head()"
   ]
  },
  {
   "cell_type": "code",
   "execution_count": 276,
   "metadata": {},
   "outputs": [
    {
     "data": {
      "text/plain": [
       "(23608, 5)"
      ]
     },
     "execution_count": 276,
     "metadata": {},
     "output_type": "execute_result"
    }
   ],
   "source": [
    "df_ref=pd.read_csv('../../new_dataset/correspondances_Id_movie')\n",
    "df_ref.head()\n",
    "df_ref.shape"
   ]
  },
  {
   "cell_type": "code",
   "execution_count": 301,
   "metadata": {},
   "outputs": [
    {
     "name": "stdout",
     "output_type": "stream",
     "text": [
      "1168 394\n",
      "Nombre d'utilisateurs : 1168 | Nombre de films vus : 394\n"
     ]
    }
   ],
   "source": [
    "films_vus_par_u = ratings[ratings[\"movie_Action\"].isin(filtre)]\n",
    "\n",
    "#In a first we suppose assume that there is no user to remove but only movies to reindex\n",
    "n_users=len(films_vus_par_u[\"Id_Action\"].unique())\n",
    "n_movies=len(films_vus_par_u[\"movie_Action\"].unique())\n",
    "print(n_users,n_movies)\n",
    "print (\"Nombre d'utilisateurs : \" + str(n_users) + \" | Nombre de films vus : \" + str(n_movies))"
   ]
  },
  {
   "cell_type": "code",
   "execution_count": 302,
   "metadata": {},
   "outputs": [
    {
     "name": "stdout",
     "output_type": "stream",
     "text": [
      "title           0\n",
      "movie_Action    0\n",
      "dtype: int64\n",
      "Bravo, you have already seen :  394 movies\n",
      "this is the list of movies already seen ['Sudden Death (1995)', 'GoldenEye (1995)', 'Cutthroat Island (1995)', 'Money Train (1995)', 'Assassins (1995)', 'Mortal Kombat (1995)', 'Lawnmower Man 2: Beyond Cyberspace (1996)', 'From Dusk Till Dawn (1996)', 'Broken Arrow (1996)', 'Muppet Treasure Island (1996)', 'Rumble in the Bronx (Hont faan kui) (1995)', 'Bad Boys (1995)', 'Batman Forever (1995)', 'Congo (1995)', 'Crimson Tide (1995)', 'Desperado (1995)', 'Die Hard: With a Vengeance (1995)', 'First Knight (1995)', 'Johnny Mnemonic (1995)', 'Judge Dredd (1995)', 'Mighty Morphin Power Rangers: The Movie (1995)', 'Net, The (1995)', 'Species (1995)', 'Under Siege 2: Dark Territory (1995)', 'Waterworld (1995)', 'Drop Zone (1994)', 'Star Wars: Episode IV - A New Hope (1977)', 'Outbreak (1995)', 'Quick and the Dead, The (1995)', 'Specialist, The (1994)', 'Stargate (1994)', 'Tank Girl (1995)', 'Star Trek: Generations (1994)', 'Virtuosity (1995)', 'Clear and Present Danger (1994)', 'Crow, The (1994)', 'Maverick (1994)', 'Speed (1994)', 'Timecop (1994)', 'True Lies (1994)', 'Low Down Dirty Shame, A (1994)', 'Street Fighter (1994)', 'Beverly Hills Cop III (1994)', 'Cliffhanger (1993)', 'Cowboy Way, The (1994)', 'Demolition Man (1993)', 'Fugitive, The (1993)', 'Hot Shots! Part Deux (1993)', 'In the Line of Fire (1993)', 'Last Action Hero (1993)', 'Executive Decision (1996)', 'Next Karate Kid, The (1994)', 'Program, The (1993)', 'RoboCop 3 (1993)', 'Terminal Velocity (1994)', 'Three Musketeers, The (1993)', 'Tombstone (1993)', 'Terminator 2: Judgment Day (1991)', 'Batman (1989)', 'Courage Under Fire (1996)', 'Mission: Impossible (1996)', 'Dragonheart (1996)', 'Operation Dumbo Drop (1995)', 'Solo (1996)', 'Substitute, The (1996)', 'Rock, The (1996)', 'Twister (1996)', 'Barb Wire (1996)', 'Spy Hard (1996)', 'Phantom, The (1996)', 'Independence Day (a.k.a. ID4) (1996)', 'Eraser (1996)', 'Daylight (1996)', 'Fled (1996)', 'Ransom (1996)', 'Chain Reaction (1996)', 'Crow: City of Angels, The (1996)', 'Escape from L.A. (1996)', 'Supercop (Police Story 3: Supercop) (Jing cha gu shi III: Chao ji jing cha) (1992)', 'Bulletproof (1996)', 'Last Man Standing (1996)', 'Glimmer Man, The (1996)', 'D3: The Mighty Ducks (1996)', 'Robin Hood: Prince of Thieves (1991)', 'Die Hard (1988)', 'Long Kiss Goodnight, The (1996)', 'Top Gun (1986)', 'Escape from New York (1981)', 'Star Wars: Episode V - The Empire Strikes Back (1980)', 'Raiders of the Lost Ark (Indiana Jones and the Raiders of the Lost Ark) (1981)', 'Star Wars: Episode VI - Return of the Jedi (1983)', 'Terminator, The (1984)', 'Indiana Jones and the Last Crusade (1989)', 'Alien³ (a.k.a. Alien 3) (1992)', 'Star Trek: First Contact (1996)', 'Die Hard 2 (1990)', 'Star Trek VI: The Undiscovered Country (1991)', 'Star Trek V: The Final Frontier (1989)', 'Star Trek II: The Wrath of Khan (1982)', 'Star Trek III: The Search for Spock (1984)', 'Batman Returns (1992)', 'Under Siege (1992)', 'Last of the Mohicans, The (1992)', 'Murder at 1600 (1997)', 'Turbulence (1997)', 'First Strike (Police Story 4: First Strike) (Ging chaat goo si 4: Ji gaan daan yam mo) (1996)', 'Beverly Hills Ninja (1997)', \"Dante's Peak (1997)\", \"McHale's Navy (1997)\", 'Saint, The (1997)', \"Devil's Own, The (1997)\", 'Double Team (1997)', 'Anaconda (1997)', 'Volcano (1997)', 'Breakdown (1997)', 'Fifth Element, The (1997)', 'Lost World: Jurassic Park, The (1997)', 'Con Air (1997)', 'Speed 2: Cruise Control (1997)', 'Batman & Robin (1997)', 'Face/Off (1997)', 'G.I. Jane (1997)', 'George of the Jungle (1997)', 'Spawn (1997)', 'Conspiracy Theory (1997)', 'Steel (1997)', 'Kull the Conqueror (1997)', 'Air Force One (1997)', 'Hunt for Red October, The (1990)', 'Edge, The (1997)', 'Peacemaker, The (1997)', 'Fire Down Below (1997)', 'Starship Troopers (1997)', 'Mortal Kombat: Annihilation (1997)', 'Jackal, The (1997)', 'Man Who Knew Too Little, The (1997)', 'Alien: Resurrection (1997)', 'Tomorrow Never Dies (1997)', 'Postman, The (1997)', 'Hard Rain (1998)', 'Deep Rising (1998)', 'Replacement Killers, The (1998)', 'Blues Brothers 2000 (1998)', 'U.S. Marshals (1998)', 'Newton Boys, The (1998)', 'Lost in Space (1998)', 'Mercury Rising (1998)', 'Mr. Nice Guy (Yat goh ho yan) (1997)', 'Big Hit, The (1998)', 'Deep Impact (1998)', 'Godzilla (1998)', 'Six Days Seven Nights (1998)', 'Armageddon (1998)', 'Lethal Weapon 4 (1998)', 'Small Soldiers (1998)', 'Lethal Weapon (1987)', 'Lethal Weapon 2 (1989)', 'Lethal Weapon 3 (1992)', 'Dune (1984)', 'Negotiator, The (1998)', 'Rocketeer, The (1991)', 'Indiana Jones and the Temple of Doom (1984)', 'Blade (1998)', 'Wrongfully Accused (1998)', 'Willow (1988)', 'Rush Hour (1998)', 'Ronin (1998)', 'Soldier (1998)', 'Siege, The (1998)', 'Enemy of the State (1998)', 'View to a Kill, A (1985)', 'Star Trek: Insurrection (1998)', 'Rambo: First Blood Part II (1985)', 'First Blood (Rambo: First Blood) (1982)', 'Romancing the Stone (1984)', 'Karate Kid, Part II, The (1986)', 'Karate Kid, Part III, The (1989)', 'Howard the Duck (1986)', 'Crocodile Dundee II (1988)', 'Payback (1999)', 'Beneath the Planet of the Apes (1970)', 'Battle for the Planet of the Apes (1973)', 'Escape from the Planet of the Apes (1971)', 'Matrix, The (1999)', 'Entrapment (1999)', 'Dick Tracy (1990)', 'Mummy, The (1999)', 'Star Wars: Episode I - The Phantom Menace (1999)', 'Austin Powers: The Spy Who Shagged Me (1999)', 'Wild Wild West (1999)', 'Lake Placid (1999)', 'Ghostbusters (a.k.a. Ghost Busters) (1984)', 'Ghostbusters II (1989)', 'Deep Blue Sea (1999)', 'Universal Soldier: The Return (1999)', 'Universal Soldier (1992)', 'Iron Eagle (1986)', 'Iron Eagle II (1988)', 'Aces: Iron Eagle III (1992)', 'Blue Streak (1999)', 'Armour of God II: Operation Condor (Operation Condor) (Fei ying gai wak) (1991)', 'Three Kings (1999)', 'Total Recall (1990)', 'Goldfinger (1964)', 'From Russia with Love (1963)', 'Dr. No (1962)', 'RoboCop (1987)', 'RoboCop 2 (1990)', 'For Your Eyes Only (1981)', 'Licence to Kill (1989)', 'Thunderball (1965)', 'Pokémon: The First Movie (1998)', 'World Is Not Enough, The (1999)', 'Backdraft (1991)', 'End of Days (1999)', \"Loaded Weapon 1 (National Lampoon's Loaded Weapon 1) (1993)\", 'Batman: Mask of the Phantasm (1993)', 'Buffy the Vampire Slayer (1992)', 'Stop! Or My Mom Will Shoot (1992)', 'Boondock Saints, The (2000)', 'Reindeer Games (2000)', 'Teenage Mutant Ninja Turtles (1990)', 'Teenage Mutant Ninja Turtles II: The Secret of the Ooze (1991)', 'Teenage Mutant Ninja Turtles III (1993)', 'Red Dawn (1984)', 'Romeo Must Die (2000)', 'Predator (1987)', 'U-571 (2000)', 'Crow: Salvation, The (2000)', 'Gladiator (2000)', 'Battlefield Earth (2000)', 'Mission: Impossible II (2000)', 'Shanghai Noon (2000)', 'Spy Who Loved Me, The (1977)', 'Moonraker (1979)', 'Man with the Golden Gun, The (1974)', \"Big Momma's House (2000)\", 'Predator 2 (1990)', 'Running Man, The (1987)', 'Alien Nation (1988)', 'Mad Max (1979)', 'Road Warrior, The (Mad Max 2) (1981)', 'Mad Max Beyond Thunderdome (1985)', 'Gone in 60 Seconds (2000)', 'Big Trouble in Little China (1986)', 'Shaft (2000)', 'Titan A.E. (2000)', 'Patriot, The (2000)', 'Perfect Storm, The (2000)', 'X-Men (2000)', 'Hollow Man (2000)', 'Space Cowboys (2000)', 'Godzilla 2000 (Gojira ni-sen mireniamu) (1999)', 'Art of War, The (2000)', 'Bait (2000)', 'Legend of Drunken Master, The (Jui kuen II) (1994)', \"Charlie's Angels (2000)\", 'Red Planet (2000)', 'Diamonds Are Forever (1971)', '6th Day, The (2000)', 'Crouching Tiger, Hidden Dragon (Wo hu cang long) (2000)', 'Transformers: The Movie (1986)', 'Dracula 2000 (2000)', 'Antitrust (2001)', 'Beverly Hills Cop II (1987)', 'Beverly Hills Cop (1984)', 'Innerspace (1987)', 'Masters of the Universe (1987)', '3000 Miles to Graceland (2001)', 'Double Impact (1991)', 'Exit Wounds (2001)', 'Mummy Returns, The (2001)', \"Knight's Tale, A (2001)\", 'Pearl Harbor (2001)', 'Swordfish (2001)', 'Lara Croft: Tomb Raider (2001)', 'Fast and the Furious, The (2001)', 'Cats & Dogs (2001)', 'Kiss of the Dragon (2001)', 'Final Fantasy: The Spirits Within (2001)', 'Shoot to Kill (1988)', 'Punisher, The (1989)', 'Jurassic Park III (2001)', 'Planet of the Apes (2001)', 'Tango & Cash (1989)', 'Rush Hour 2 (2001)', 'Osmosis Jones (2001)', '3 Ninjas (1992)', 'Last Castle, The (2001)', 'One, The (2001)', 'Heist (2001)', 'Behind Enemy Lines (2001)', 'Conan the Destroyer (1984)', 'Kung Pow: Enter the Fist (2002)', 'Blankman (1994)', 'Collateral Damage (2002)', 'We Were Soldiers (2002)', 'Time Machine, The (2002)', 'Resident Evil (2002)', 'Showtime (2002)', 'Blade II (2002)', 'Scorpion King, The (2002)', 'Jason X (2002)', 'Spider-Man (2002)', 'Star Wars: Episode II - Attack of the Clones (2002)', 'Sum of All Fears, The (2002)', 'Undercover Brother (2002)', 'Bad Company (2002)', 'Bourne Identity, The (2002)', 'Windtalkers (2002)', 'Minority Report (2002)', 'Men in Black II (a.k.a. MIIB) (a.k.a. MIB 2) (2002)', 'Reign of Fire (2002)', 'Eight Legged Freaks (2002)', 'Austin Powers in Goldmember (2002)', 'xXx (2002)', 'Hot Shots! (1991)', 'Stakeout (1987)', 'Transporter, The (2002)', 'Ballistic: Ecks vs. Sever (2002)', 'Tuxedo, The (2002)', 'Jackass: The Movie (2002)', 'I Spy (2002)', 'Die Another Day (2002)', 'Star Trek: Nemesis (2002)', 'Heavy Metal 2000 (2000)', 'Kangaroo Jack (2003)', 'National Security (2003)', 'Recruit, The (2003)', 'Shanghai Knights (2003)', 'Daredevil (2003)', 'Cradle 2 the Grave (2003)', 'Tears of the Sun (2003)', 'Man Apart, A (2003)', 'X2: X-Men United (2003)', 'Matrix Reloaded, The (2003)', 'In-Laws, The (2003)', \"Charlie's Angels: Full Throttle (2003)\", 'Hulk (2003)', 'Terminator 3: Rise of the Machines (2003)', 'Pirates of the Caribbean: The Curse of the Black Pearl (2003)', 'League of Extraordinary Gentlemen, The (a.k.a. LXG) (2003)', 'Bad Boys II (2003)', 'Lara Croft Tomb Raider: The Cradle of Life (2003)', 'S.W.A.T. (2003)', 'Freddy vs. Jason (2003)', 'Commando (1985)', 'Once Upon a Time in Mexico (2003)', 'Kuffs (1992)', 'Jungle Book (1942)', 'Underworld (2003)', 'Rundown, The (2003)', 'Kill Bill: Vol. 1 (2003)', 'Matrix Revolutions, The (2003)', 'Last Boy Scout, The (1991)', 'Passenger 57 (1992)', 'Nothing to Lose (1997)', 'Hero (Ying xiong) (2002)', 'Last Samurai, The (2003)', 'Hidalgo (2004)', 'Hellboy (2004)', 'Walking Tall (2004)', 'Kill Bill: Vol. 2 (2004)', 'Punisher, The (2004)', 'Man on Fire (2004)', 'Van Helsing (2004)', 'Octopussy (1983)', 'Never Say Never Again (1983)', 'Day After Tomorrow, The (2004)', 'Chronicles of Riddick, The (2004)', 'Spider-Man 2 (2004)', 'King Arthur (2004)', 'I, Robot (2004)', 'Bourne Supremacy, The (2004)', 'AVP: Alien vs. Predator (2004)', 'Cellular (2004)', 'Resident Evil: Apocalypse (2004)', 'Sky Captain and the World of Tomorrow (2004)', 'Ladder 49 (2004)', 'Team America: World Police (2004)', 'Incredibles, The (2004)', 'National Treasure (2004)', 'Alexander (2004)', 'House of Flying Daggers (Shi mian mai fu) (2004)', 'Blade: Trinity (2004)', 'Assault on Precinct 13 (2005)', 'Alone in the Dark (2005)', 'Constantine (2005)', 'Hostage (2005)', 'Kingdom of Heaven (2005)', 'Star Wars: Episode III - Revenge of the Sith (2005)', 'Mr. & Mrs. Smith (2005)', 'Batman Begins (2005)', 'Stealth (2005)']\n"
     ]
    }
   ],
   "source": [
    "jointure=pd.merge(movies,df_ref)\n",
    "jointure.drop(['movieId', 'genres', 'imdbId', 'movieId_2', 'imdbId.1'],axis=1,inplace=True)\n",
    "jointure=pd.merge(jointure,ratings)\n",
    "jointure.drop([\"movieId_ref\",\"userId\",\"Id_Action\",\"rating\"],axis=1,inplace=True)\n",
    "jointure.head()\n",
    "print(pd.isnull(jointure).sum())\n",
    "jointure.head()\n",
    "\n",
    "movies_seen=jointure[jointure[\"movie_Action\"].isin(filtre)]\n",
    "print(\"Bravo, you have already seen : \",str(n_movies) + \" movies\")\n",
    "print(\"this is the list of movies already seen\",list(movies_seen[\"title\"].unique()))"
   ]
  },
  {
   "cell_type": "code",
   "execution_count": 279,
   "metadata": {},
   "outputs": [],
   "source": [
    "#Avec cette table contenant uniquement les films vu on va établir une matrice de similarité"
   ]
  },
  {
   "cell_type": "code",
   "execution_count": 280,
   "metadata": {},
   "outputs": [
    {
     "name": "stderr",
     "output_type": "stream",
     "text": [
      "/anaconda3/lib/python3.7/site-packages/pandas/core/frame.py:3697: SettingWithCopyWarning: \n",
      "A value is trying to be set on a copy of a slice from a DataFrame\n",
      "\n",
      "See the caveats in the documentation: http://pandas.pydata.org/pandas-docs/stable/indexing.html#indexing-view-versus-copy\n",
      "  errors=errors)\n"
     ]
    },
    {
     "data": {
      "text/html": [
       "<div>\n",
       "<style scoped>\n",
       "    .dataframe tbody tr th:only-of-type {\n",
       "        vertical-align: middle;\n",
       "    }\n",
       "\n",
       "    .dataframe tbody tr th {\n",
       "        vertical-align: top;\n",
       "    }\n",
       "\n",
       "    .dataframe thead th {\n",
       "        text-align: right;\n",
       "    }\n",
       "</style>\n",
       "<table border=\"1\" class=\"dataframe\">\n",
       "  <thead>\n",
       "    <tr style=\"text-align: right;\">\n",
       "      <th></th>\n",
       "      <th>Id_Action</th>\n",
       "      <th>rating</th>\n",
       "      <th>movie_Action</th>\n",
       "    </tr>\n",
       "  </thead>\n",
       "  <tbody>\n",
       "    <tr>\n",
       "      <th>count</th>\n",
       "      <td>250594.000000</td>\n",
       "      <td>250594.000000</td>\n",
       "      <td>250594.000000</td>\n",
       "    </tr>\n",
       "    <tr>\n",
       "      <th>mean</th>\n",
       "      <td>550.415305</td>\n",
       "      <td>3.076754</td>\n",
       "      <td>314.821540</td>\n",
       "    </tr>\n",
       "    <tr>\n",
       "      <th>std</th>\n",
       "      <td>336.522040</td>\n",
       "      <td>1.035330</td>\n",
       "      <td>219.075237</td>\n",
       "    </tr>\n",
       "    <tr>\n",
       "      <th>min</th>\n",
       "      <td>0.000000</td>\n",
       "      <td>0.500000</td>\n",
       "      <td>0.000000</td>\n",
       "    </tr>\n",
       "    <tr>\n",
       "      <th>25%</th>\n",
       "      <td>248.000000</td>\n",
       "      <td>2.500000</td>\n",
       "      <td>127.000000</td>\n",
       "    </tr>\n",
       "    <tr>\n",
       "      <th>50%</th>\n",
       "      <td>542.000000</td>\n",
       "      <td>3.000000</td>\n",
       "      <td>282.000000</td>\n",
       "    </tr>\n",
       "    <tr>\n",
       "      <th>75%</th>\n",
       "      <td>842.000000</td>\n",
       "      <td>4.000000</td>\n",
       "      <td>501.000000</td>\n",
       "    </tr>\n",
       "    <tr>\n",
       "      <th>max</th>\n",
       "      <td>1167.000000</td>\n",
       "      <td>5.000000</td>\n",
       "      <td>758.000000</td>\n",
       "    </tr>\n",
       "  </tbody>\n",
       "</table>\n",
       "</div>"
      ],
      "text/plain": [
       "           Id_Action         rating   movie_Action\n",
       "count  250594.000000  250594.000000  250594.000000\n",
       "mean      550.415305       3.076754     314.821540\n",
       "std       336.522040       1.035330     219.075237\n",
       "min         0.000000       0.500000       0.000000\n",
       "25%       248.000000       2.500000     127.000000\n",
       "50%       542.000000       3.000000     282.000000\n",
       "75%       842.000000       4.000000     501.000000\n",
       "max      1167.000000       5.000000     758.000000"
      ]
     },
     "execution_count": 280,
     "metadata": {},
     "output_type": "execute_result"
    }
   ],
   "source": [
    "films_vus_par_u.drop([\"userId\",\"movieId_ref\"],axis=1,inplace=True)\n",
    "films_vus_par_u.describe()"
   ]
  },
  {
   "cell_type": "code",
   "execution_count": 281,
   "metadata": {},
   "outputs": [
    {
     "data": {
      "text/html": [
       "<div>\n",
       "<style scoped>\n",
       "    .dataframe tbody tr th:only-of-type {\n",
       "        vertical-align: middle;\n",
       "    }\n",
       "\n",
       "    .dataframe tbody tr th {\n",
       "        vertical-align: top;\n",
       "    }\n",
       "\n",
       "    .dataframe thead th {\n",
       "        text-align: right;\n",
       "    }\n",
       "</style>\n",
       "<table border=\"1\" class=\"dataframe\">\n",
       "  <thead>\n",
       "    <tr style=\"text-align: right;\">\n",
       "      <th></th>\n",
       "      <th>Id_Action</th>\n",
       "      <th>rating</th>\n",
       "      <th>movie_Action</th>\n",
       "      <th>new_movies_Id</th>\n",
       "    </tr>\n",
       "  </thead>\n",
       "  <tbody>\n",
       "    <tr>\n",
       "      <th>count</th>\n",
       "      <td>250594.000000</td>\n",
       "      <td>250594.000000</td>\n",
       "      <td>250594.000000</td>\n",
       "      <td>250594.000000</td>\n",
       "    </tr>\n",
       "    <tr>\n",
       "      <th>mean</th>\n",
       "      <td>550.415305</td>\n",
       "      <td>3.076754</td>\n",
       "      <td>314.821540</td>\n",
       "      <td>189.516748</td>\n",
       "    </tr>\n",
       "    <tr>\n",
       "      <th>std</th>\n",
       "      <td>336.522040</td>\n",
       "      <td>1.035330</td>\n",
       "      <td>219.075237</td>\n",
       "      <td>113.662408</td>\n",
       "    </tr>\n",
       "    <tr>\n",
       "      <th>min</th>\n",
       "      <td>0.000000</td>\n",
       "      <td>0.500000</td>\n",
       "      <td>0.000000</td>\n",
       "      <td>0.000000</td>\n",
       "    </tr>\n",
       "    <tr>\n",
       "      <th>25%</th>\n",
       "      <td>248.000000</td>\n",
       "      <td>2.500000</td>\n",
       "      <td>127.000000</td>\n",
       "      <td>91.000000</td>\n",
       "    </tr>\n",
       "    <tr>\n",
       "      <th>50%</th>\n",
       "      <td>542.000000</td>\n",
       "      <td>3.000000</td>\n",
       "      <td>282.000000</td>\n",
       "      <td>186.000000</td>\n",
       "    </tr>\n",
       "    <tr>\n",
       "      <th>75%</th>\n",
       "      <td>842.000000</td>\n",
       "      <td>4.000000</td>\n",
       "      <td>501.000000</td>\n",
       "      <td>285.000000</td>\n",
       "    </tr>\n",
       "    <tr>\n",
       "      <th>max</th>\n",
       "      <td>1167.000000</td>\n",
       "      <td>5.000000</td>\n",
       "      <td>758.000000</td>\n",
       "      <td>393.000000</td>\n",
       "    </tr>\n",
       "  </tbody>\n",
       "</table>\n",
       "</div>"
      ],
      "text/plain": [
       "           Id_Action         rating   movie_Action  new_movies_Id\n",
       "count  250594.000000  250594.000000  250594.000000  250594.000000\n",
       "mean      550.415305       3.076754     314.821540     189.516748\n",
       "std       336.522040       1.035330     219.075237     113.662408\n",
       "min         0.000000       0.500000       0.000000       0.000000\n",
       "25%       248.000000       2.500000     127.000000      91.000000\n",
       "50%       542.000000       3.000000     282.000000     186.000000\n",
       "75%       842.000000       4.000000     501.000000     285.000000\n",
       "max      1167.000000       5.000000     758.000000     393.000000"
      ]
     },
     "execution_count": 281,
     "metadata": {},
     "output_type": "execute_result"
    }
   ],
   "source": [
    "conversion_Id_movies_seen=pd.DataFrame({\"movie_Action\":list(films_vus_par_u[\"movie_Action\"].unique()),\"new_movies_Id\":range(0,n_movies)})\n",
    "\n",
    "\n",
    "\n",
    "result=pd.merge(films_vus_par_u, conversion_Id_movies_seen, how='inner', on=None, left_on=None, right_on=None,\n",
    "         left_index=False, right_index=False, sort=True,\n",
    "         suffixes=('_x', '_y'), copy=True, indicator=False,\n",
    "         validate=None)\n",
    "\n",
    "result.describe()"
   ]
  },
  {
   "cell_type": "code",
   "execution_count": 282,
   "metadata": {},
   "outputs": [
    {
     "data": {
      "text/plain": [
       "1168"
      ]
     },
     "execution_count": 282,
     "metadata": {},
     "output_type": "execute_result"
    }
   ],
   "source": [
    "len(list(result.Id_Action.unique()))"
   ]
  },
  {
   "cell_type": "code",
   "execution_count": 285,
   "metadata": {},
   "outputs": [],
   "source": [
    "matrice=np.zeros(( n_users,n_movies))\n",
    "for line in result.itertuples():\n",
    "    matrice[line[1], line[4]]=line[2]\n",
    "    "
   ]
  },
  {
   "cell_type": "code",
   "execution_count": null,
   "metadata": {},
   "outputs": [],
   "source": [
    "user_similarity=dist.cosine_similarity(matrice)"
   ]
  },
  {
   "cell_type": "code",
   "execution_count": 233,
   "metadata": {},
   "outputs": [],
   "source": []
  },
  {
   "cell_type": "markdown",
   "metadata": {},
   "source": [
    "Maintenant on va déterminer les notes mais seulement sur les films non vus, ensuite on les triera"
   ]
  },
  {
   "cell_type": "code",
   "execution_count": 234,
   "metadata": {},
   "outputs": [],
   "source": [
    "#D'abord on sélectionne seulement les films non vus\n",
    "#On fera une étape en faisant un merge entre les films vus et non vus et en s'assurant que l'intersection est nulle."
   ]
  },
  {
   "cell_type": "code",
   "execution_count": 247,
   "metadata": {},
   "outputs": [
    {
     "data": {
      "text/html": [
       "<div>\n",
       "<style scoped>\n",
       "    .dataframe tbody tr th:only-of-type {\n",
       "        vertical-align: middle;\n",
       "    }\n",
       "\n",
       "    .dataframe tbody tr th {\n",
       "        vertical-align: top;\n",
       "    }\n",
       "\n",
       "    .dataframe thead th {\n",
       "        text-align: right;\n",
       "    }\n",
       "</style>\n",
       "<table border=\"1\" class=\"dataframe\">\n",
       "  <thead>\n",
       "    <tr style=\"text-align: right;\">\n",
       "      <th></th>\n",
       "      <th>movie_Action</th>\n",
       "      <th>userId</th>\n",
       "      <th>Id_Action</th>\n",
       "      <th>movieId_ref</th>\n",
       "      <th>rating</th>\n",
       "    </tr>\n",
       "  </thead>\n",
       "  <tbody>\n",
       "    <tr>\n",
       "      <th>0</th>\n",
       "      <td>5</td>\n",
       "      <td>156</td>\n",
       "      <td>1</td>\n",
       "      <td>41</td>\n",
       "      <td>3.0</td>\n",
       "    </tr>\n",
       "    <tr>\n",
       "      <th>1</th>\n",
       "      <td>5</td>\n",
       "      <td>903</td>\n",
       "      <td>3</td>\n",
       "      <td>41</td>\n",
       "      <td>4.0</td>\n",
       "    </tr>\n",
       "    <tr>\n",
       "      <th>2</th>\n",
       "      <td>5</td>\n",
       "      <td>2945</td>\n",
       "      <td>6</td>\n",
       "      <td>41</td>\n",
       "      <td>3.0</td>\n",
       "    </tr>\n",
       "    <tr>\n",
       "      <th>3</th>\n",
       "      <td>5</td>\n",
       "      <td>5393</td>\n",
       "      <td>11</td>\n",
       "      <td>41</td>\n",
       "      <td>3.0</td>\n",
       "    </tr>\n",
       "    <tr>\n",
       "      <th>4</th>\n",
       "      <td>5</td>\n",
       "      <td>6978</td>\n",
       "      <td>13</td>\n",
       "      <td>41</td>\n",
       "      <td>3.0</td>\n",
       "    </tr>\n",
       "  </tbody>\n",
       "</table>\n",
       "</div>"
      ],
      "text/plain": [
       "   movie_Action  userId  Id_Action  movieId_ref  rating\n",
       "0             5     156          1           41     3.0\n",
       "1             5     903          3           41     4.0\n",
       "2             5    2945          6           41     3.0\n",
       "3             5    5393         11           41     3.0\n",
       "4             5    6978         13           41     3.0"
      ]
     },
     "execution_count": 247,
     "metadata": {},
     "output_type": "execute_result"
    }
   ],
   "source": [
    "a=list(ratings[\"movie_Action\"].unique())\n",
    "b=list(movies_seen[\"movie_Action\"].unique())\n",
    "movie_no_seen=[item for item in a if item not in b]\n",
    "movie_no_seen=pd.DataFrame({\"movie_Action\" : movie_no_seen})\n",
    "movie_no_seen=pd.merge(movie_no_seen,ratings,how='inner')\n",
    "#y=movie_no_seen.drop([\"userId\",\"movieId_ref\"],axis=1)\n",
    "movie_no_seen.head()\n",
    "#len(movie_no_seen.movie_Action.unique())"
   ]
  },
  {
   "cell_type": "code",
   "execution_count": 288,
   "metadata": {},
   "outputs": [],
   "source": [
    "n_movies=len(movie_no_seen.movie_Action.unique())\n",
    "#Il faut construire un nouveau index des Id_movies\n",
    "conversion_Id_movies_no_seen=pd.DataFrame({\"movie_Action\":list(movie_no_seen[\"movie_Action\"].unique()),\"new_movies_Id\":range(0,n_movies)})"
   ]
  },
  {
   "cell_type": "code",
   "execution_count": 289,
   "metadata": {},
   "outputs": [
    {
     "data": {
      "text/html": [
       "<div>\n",
       "<style scoped>\n",
       "    .dataframe tbody tr th:only-of-type {\n",
       "        vertical-align: middle;\n",
       "    }\n",
       "\n",
       "    .dataframe tbody tr th {\n",
       "        vertical-align: top;\n",
       "    }\n",
       "\n",
       "    .dataframe thead th {\n",
       "        text-align: right;\n",
       "    }\n",
       "</style>\n",
       "<table border=\"1\" class=\"dataframe\">\n",
       "  <thead>\n",
       "    <tr style=\"text-align: right;\">\n",
       "      <th></th>\n",
       "      <th>movie_Action</th>\n",
       "      <th>userId</th>\n",
       "      <th>Id_Action</th>\n",
       "      <th>movieId_ref</th>\n",
       "      <th>rating</th>\n",
       "      <th>new_movies_Id</th>\n",
       "    </tr>\n",
       "  </thead>\n",
       "  <tbody>\n",
       "    <tr>\n",
       "      <th>0</th>\n",
       "      <td>5</td>\n",
       "      <td>156</td>\n",
       "      <td>1</td>\n",
       "      <td>41</td>\n",
       "      <td>3.0</td>\n",
       "      <td>0</td>\n",
       "    </tr>\n",
       "    <tr>\n",
       "      <th>1</th>\n",
       "      <td>5</td>\n",
       "      <td>903</td>\n",
       "      <td>3</td>\n",
       "      <td>41</td>\n",
       "      <td>4.0</td>\n",
       "      <td>0</td>\n",
       "    </tr>\n",
       "    <tr>\n",
       "      <th>2</th>\n",
       "      <td>5</td>\n",
       "      <td>2945</td>\n",
       "      <td>6</td>\n",
       "      <td>41</td>\n",
       "      <td>3.0</td>\n",
       "      <td>0</td>\n",
       "    </tr>\n",
       "    <tr>\n",
       "      <th>3</th>\n",
       "      <td>5</td>\n",
       "      <td>5393</td>\n",
       "      <td>11</td>\n",
       "      <td>41</td>\n",
       "      <td>3.0</td>\n",
       "      <td>0</td>\n",
       "    </tr>\n",
       "    <tr>\n",
       "      <th>4</th>\n",
       "      <td>5</td>\n",
       "      <td>6978</td>\n",
       "      <td>13</td>\n",
       "      <td>41</td>\n",
       "      <td>3.0</td>\n",
       "      <td>0</td>\n",
       "    </tr>\n",
       "  </tbody>\n",
       "</table>\n",
       "</div>"
      ],
      "text/plain": [
       "   movie_Action  userId  Id_Action  movieId_ref  rating  new_movies_Id\n",
       "0             5     156          1           41     3.0              0\n",
       "1             5     903          3           41     4.0              0\n",
       "2             5    2945          6           41     3.0              0\n",
       "3             5    5393         11           41     3.0              0\n",
       "4             5    6978         13           41     3.0              0"
      ]
     },
     "execution_count": 289,
     "metadata": {},
     "output_type": "execute_result"
    }
   ],
   "source": [
    "result=pd.merge(movie_no_seen, conversion_Id_movies_no_seen, how='inner', on=None, left_on=None, right_on=None,\n",
    "         left_index=False, right_index=False, sort=True,\n",
    "         suffixes=('_x', '_y'), copy=True, indicator=False,\n",
    "         validate=None)\n",
    "\n",
    "result.head()"
   ]
  },
  {
   "cell_type": "code",
   "execution_count": 299,
   "metadata": {},
   "outputs": [],
   "source": [
    "matrice_new=np.zeros(( 1168,n_movies))\n",
    "for line in result.itertuples():\n",
    "    matrice_n[line[3], line[6]]=line[5]"
   ]
  },
  {
   "cell_type": "code",
   "execution_count": 298,
   "metadata": {},
   "outputs": [
    {
     "data": {
      "text/plain": [
       "1"
      ]
     },
     "execution_count": 298,
     "metadata": {},
     "output_type": "execute_result"
    }
   ],
   "source": [
    "result.Id_Action.min()\n",
    "#Logique vu qu'on a n'a que les films non vu par le user 0"
   ]
  },
  {
   "cell_type": "code",
   "execution_count": 291,
   "metadata": {},
   "outputs": [
    {
     "data": {
      "text/plain": [
       "1168"
      ]
     },
     "execution_count": 291,
     "metadata": {},
     "output_type": "execute_result"
    }
   ],
   "source": [
    "n_users"
   ]
  },
  {
   "cell_type": "code",
   "execution_count": 296,
   "metadata": {},
   "outputs": [],
   "source": [
    "n_users=len(films_vus_par_u[\"Id_Action\"].unique())"
   ]
  },
  {
   "cell_type": "code",
   "execution_count": 297,
   "metadata": {},
   "outputs": [
    {
     "data": {
      "text/plain": [
       "array([[0. , 0. , 0. , ..., 0. , 0. , 0. ],\n",
       "       [3. , 4. , 4. , ..., 0. , 0. , 0. ],\n",
       "       [0. , 0. , 3.5, ..., 0. , 0. , 0. ],\n",
       "       ...,\n",
       "       [0. , 0. , 0. , ..., 0. , 0. , 1.5],\n",
       "       [0. , 0. , 2.5, ..., 3.5, 0. , 0. ],\n",
       "       [0. , 0. , 0. , ..., 3.5, 1.5, 3. ]])"
      ]
     },
     "execution_count": 297,
     "metadata": {},
     "output_type": "execute_result"
    }
   ],
   "source": [
    "matrice_n"
   ]
  },
  {
   "cell_type": "code",
   "execution_count": null,
   "metadata": {},
   "outputs": [],
   "source": []
  },
  {
   "cell_type": "code",
   "execution_count": 300,
   "metadata": {},
   "outputs": [
    {
     "name": "stderr",
     "output_type": "stream",
     "text": [
      "100%|██████████| 667/667 [00:00<00:00, 18325.58it/s]\n"
     ]
    },
    {
     "data": {
      "text/plain": [
       "['How to Train Your Dragon 2 (2014)',\n",
       " 'Brothers Grimm, The (2005)',\n",
       " 'Island, The (2005)',\n",
       " 'Fantastic Four (2005)',\n",
       " 'xXx: State of the Union (2005)']"
      ]
     },
     "execution_count": 300,
     "metadata": {},
     "output_type": "execute_result"
    }
   ],
   "source": [
    "movies_adviced=np.argsort(pred_user(matrice_new, user_similarity, 15, user))[-1:-6:-1]\n",
    "movies_adviced=list(result[\"movie_Action\"][result[\"new_movies_Id\"].isin(movies_adviced)].unique())\n",
    "movies_adviced=list(ratings[\"movieId_ref\"][ratings[\"movie_Action\"].isin(movies_adviced)].unique())\n",
    "movies_adviced=list(df_ref[\"movieId\"][df_ref[\"movieId_ref\"].isin(movies_adviced)].unique())\n",
    "\n",
    "movies_adviced=list(movies[\"title\"][movies[\"movieId\"].isin(movies_adviced)].unique())\n",
    "movies_adviced[::-1]"
   ]
  },
  {
   "cell_type": "code",
   "execution_count": null,
   "metadata": {},
   "outputs": [],
   "source": []
  },
  {
   "cell_type": "code",
   "execution_count": 209,
   "metadata": {},
   "outputs": [
    {
     "name": "stderr",
     "output_type": "stream",
     "text": [
      "100%|██████████| 394/394 [00:00<00:00, 30142.93it/s]\n"
     ]
    },
    {
     "data": {
      "text/plain": [
       "394"
      ]
     },
     "execution_count": 209,
     "metadata": {},
     "output_type": "execute_result"
    }
   ],
   "source": [
    "#movies_adviced=list(result[\"movie_Action\"][result[\"new_movies_Id\"].isin(movies_adviced)].unique())\n",
    "len(np.argsort(pred_user(matrice, user_similarity, 15, user)))"
   ]
  },
  {
   "cell_type": "code",
   "execution_count": 210,
   "metadata": {},
   "outputs": [
    {
     "data": {
      "text/plain": [
       "[]"
      ]
     },
     "execution_count": 210,
     "metadata": {},
     "output_type": "execute_result"
    }
   ],
   "source": [
    "movies_adviced"
   ]
  },
  {
   "cell_type": "code",
   "execution_count": null,
   "metadata": {},
   "outputs": [],
   "source": []
  },
  {
   "cell_type": "code",
   "execution_count": 211,
   "metadata": {},
   "outputs": [],
   "source": []
  },
  {
   "cell_type": "code",
   "execution_count": null,
   "metadata": {},
   "outputs": [],
   "source": []
  },
  {
   "cell_type": "code",
   "execution_count": 212,
   "metadata": {},
   "outputs": [
    {
     "name": "stderr",
     "output_type": "stream",
     "text": [
      "100%|██████████| 21946/21946 [00:01<00:00, 12888.08it/s]\n"
     ]
    },
    {
     "data": {
      "text/plain": [
       "array([ 1128, 11827,  2463, 10849, 10329])"
      ]
     },
     "execution_count": 212,
     "metadata": {},
     "output_type": "execute_result"
    }
   ],
   "source": [
    "np.argsort(pred_user(matrice_new, user_similarity, 138397, 0))[-1:-6:-1]"
   ]
  },
  {
   "cell_type": "code",
   "execution_count": 213,
   "metadata": {},
   "outputs": [
    {
     "data": {
      "text/plain": [
       "(1128, 2463, 11827, 1197, 10849)"
      ]
     },
     "execution_count": 213,
     "metadata": {},
     "output_type": "execute_result"
    }
   ],
   "source": [
    " 1128,  2463, 11827,  1197, 10849"
   ]
  },
  {
   "cell_type": "code",
   "execution_count": 214,
   "metadata": {},
   "outputs": [
    {
     "data": {
      "text/html": [
       "<div>\n",
       "<style scoped>\n",
       "    .dataframe tbody tr th:only-of-type {\n",
       "        vertical-align: middle;\n",
       "    }\n",
       "\n",
       "    .dataframe tbody tr th {\n",
       "        vertical-align: top;\n",
       "    }\n",
       "\n",
       "    .dataframe thead th {\n",
       "        text-align: right;\n",
       "    }\n",
       "</style>\n",
       "<table border=\"1\" class=\"dataframe\">\n",
       "  <thead>\n",
       "    <tr style=\"text-align: right;\">\n",
       "      <th></th>\n",
       "      <th>movie_Action</th>\n",
       "      <th>userId</th>\n",
       "      <th>Id_Action</th>\n",
       "      <th>movieId_ref</th>\n",
       "      <th>rating</th>\n",
       "    </tr>\n",
       "  </thead>\n",
       "  <tbody>\n",
       "    <tr>\n",
       "      <th>0</th>\n",
       "      <td>5</td>\n",
       "      <td>156</td>\n",
       "      <td>1</td>\n",
       "      <td>41</td>\n",
       "      <td>3.0</td>\n",
       "    </tr>\n",
       "    <tr>\n",
       "      <th>1</th>\n",
       "      <td>5</td>\n",
       "      <td>903</td>\n",
       "      <td>3</td>\n",
       "      <td>41</td>\n",
       "      <td>4.0</td>\n",
       "    </tr>\n",
       "    <tr>\n",
       "      <th>2</th>\n",
       "      <td>5</td>\n",
       "      <td>2945</td>\n",
       "      <td>6</td>\n",
       "      <td>41</td>\n",
       "      <td>3.0</td>\n",
       "    </tr>\n",
       "    <tr>\n",
       "      <th>3</th>\n",
       "      <td>5</td>\n",
       "      <td>5393</td>\n",
       "      <td>11</td>\n",
       "      <td>41</td>\n",
       "      <td>3.0</td>\n",
       "    </tr>\n",
       "    <tr>\n",
       "      <th>4</th>\n",
       "      <td>5</td>\n",
       "      <td>6978</td>\n",
       "      <td>13</td>\n",
       "      <td>41</td>\n",
       "      <td>3.0</td>\n",
       "    </tr>\n",
       "  </tbody>\n",
       "</table>\n",
       "</div>"
      ],
      "text/plain": [
       "   movie_Action  userId  Id_Action  movieId_ref  rating\n",
       "0             5     156          1           41     3.0\n",
       "1             5     903          3           41     4.0\n",
       "2             5    2945          6           41     3.0\n",
       "3             5    5393         11           41     3.0\n",
       "4             5    6978         13           41     3.0"
      ]
     },
     "execution_count": 214,
     "metadata": {},
     "output_type": "execute_result"
    }
   ],
   "source": [
    "movie_no_seen.head()"
   ]
  },
  {
   "cell_type": "code",
   "execution_count": 215,
   "metadata": {},
   "outputs": [
    {
     "data": {
      "text/plain": [
       "138397"
      ]
     },
     "execution_count": 215,
     "metadata": {},
     "output_type": "execute_result"
    }
   ],
   "source": [
    "movie_no_seen[\"userId\"].max()"
   ]
  },
  {
   "cell_type": "code",
   "execution_count": 216,
   "metadata": {},
   "outputs": [
    {
     "name": "stderr",
     "output_type": "stream",
     "text": [
      "100%|██████████| 21946/21946 [00:00<00:00, 29642.73it/s]\n"
     ]
    },
    {
     "data": {
      "text/plain": [
       "4.450472172034082"
      ]
     },
     "execution_count": 216,
     "metadata": {},
     "output_type": "execute_result"
    }
   ],
   "source": [
    "pred_user(matrice_new, user_similarity, 15,1167).max()"
   ]
  },
  {
   "cell_type": "code",
   "execution_count": 217,
   "metadata": {},
   "outputs": [
    {
     "data": {
      "text/plain": [
       "(1168, 21946)"
      ]
     },
     "execution_count": 217,
     "metadata": {},
     "output_type": "execute_result"
    }
   ],
   "source": [
    "matrice_new.shape"
   ]
  },
  {
   "cell_type": "code",
   "execution_count": 218,
   "metadata": {},
   "outputs": [],
   "source": [
    "#Vérifier que les films trouvés ne soient pas en commun avec le reste."
   ]
  },
  {
   "cell_type": "code",
   "execution_count": null,
   "metadata": {},
   "outputs": [],
   "source": []
  },
  {
   "cell_type": "code",
   "execution_count": 219,
   "metadata": {},
   "outputs": [
    {
     "data": {
      "text/plain": [
       "667"
      ]
     },
     "execution_count": 219,
     "metadata": {},
     "output_type": "execute_result"
    }
   ],
   "source": [
    "len(list(movie_no_seen[\"movie_Action\"].unique()))"
   ]
  },
  {
   "cell_type": "code",
   "execution_count": 221,
   "metadata": {},
   "outputs": [
    {
     "ename": "NameError",
     "evalue": "name 'user_similarity' is not defined",
     "output_type": "error",
     "traceback": [
      "\u001b[0;31m---------------------------------------------------------------------------\u001b[0m",
      "\u001b[0;31mNameError\u001b[0m                                 Traceback (most recent call last)",
      "\u001b[0;32m<ipython-input-221-53d232da29c5>\u001b[0m in \u001b[0;36m<module>\u001b[0;34m\u001b[0m\n\u001b[0;32m----> 1\u001b[0;31m \u001b[0;32mdel\u001b[0m \u001b[0muser_similarity\u001b[0m\u001b[0;34m\u001b[0m\u001b[0;34m\u001b[0m\u001b[0m\n\u001b[0m",
      "\u001b[0;31mNameError\u001b[0m: name 'user_similarity' is not defined"
     ]
    }
   ],
   "source": [
    "del user_similarity"
   ]
  },
  {
   "cell_type": "code",
   "execution_count": 159,
   "metadata": {},
   "outputs": [],
   "source": [
    "def pred_user(matrice_modele, user_similarity, k, user):    \n",
    "    pred = np.zeros(matrice_modele.shape[1])\n",
    "    top_k_users = np.argsort(user_similarity[:,user])[-1:-k-1:-1]  \n",
    "    for i in tqdm(range(matrice_modele.shape[1])):\n",
    "        pred[i]=user_similarity[user,:][top_k_users].dot(matrice_modele[:,i][top_k_users])\n",
    "        pred[i]/=np.sum(np.abs(user_similarity[user,:][top_k_users]))+0.000001     \n",
    "    return pred "
   ]
  },
  {
   "cell_type": "code",
   "execution_count": 159,
   "metadata": {},
   "outputs": [],
   "source": [
    "matrice_new=np.zeros(( movie_no_seen[\"Id_Action\"].max()+1,movie_no_seen[\"movieId_ref\"].max()+1))\n",
    "for line in movie_no_seen.itertuples():\n",
    "    matrice_new[line[3], line[4]]=line[5]"
   ]
  },
  {
   "cell_type": "code",
   "execution_count": null,
   "metadata": {},
   "outputs": [],
   "source": []
  }
 ],
 "metadata": {
  "kernelspec": {
   "display_name": "Python 3",
   "language": "python",
   "name": "python3"
  },
  "language_info": {
   "codemirror_mode": {
    "name": "ipython",
    "version": 3
   },
   "file_extension": ".py",
   "mimetype": "text/x-python",
   "name": "python",
   "nbconvert_exporter": "python",
   "pygments_lexer": "ipython3",
   "version": "3.7.1"
  }
 },
 "nbformat": 4,
 "nbformat_minor": 2
}
