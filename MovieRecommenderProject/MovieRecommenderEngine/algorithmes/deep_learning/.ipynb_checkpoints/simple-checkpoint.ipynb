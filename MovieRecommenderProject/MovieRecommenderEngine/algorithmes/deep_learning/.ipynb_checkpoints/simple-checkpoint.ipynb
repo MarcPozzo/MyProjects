{
 "cells": [
  {
   "cell_type": "code",
   "execution_count": 1,
   "metadata": {},
   "outputs": [
    {
     "name": "stderr",
     "output_type": "stream",
     "text": [
      "Using TensorFlow backend.\n"
     ]
    }
   ],
   "source": [
    "import pandas as pd\n",
    "import numpy as np\n",
    "from sklearn.preprocessing import MinMaxScaler\n",
    "from sklearn.model_selection import train_test_split\n",
    "from sklearn.linear_model import LinearRegression\n",
    "import matplotlib.pyplot as plt\n",
    "from sklearn.metrics import mean_squared_error\n",
    "from keras.models import Sequential\n",
    "from keras.layers import Dense"
   ]
  },
  {
   "cell_type": "code",
   "execution_count": 2,
   "metadata": {},
   "outputs": [],
   "source": [
    "#Chargement de df_user\n",
    "df_user=pd.read_csv('../../../dataset/data_regression/df_user.csv')\n",
    "\n",
    "#Gestion des valeurs nulles\n",
    "dico={}\n",
    "for column in df_user.columns:\n",
    "    if \"nb_note_user\" in str(column):\n",
    "        dico[column]=0\n",
    "    elif \"avg_note_user\" in str(column):\n",
    "        dico[column]=df_user[column].mean()\n",
    "    elif \"avg_year_user\" in str(column):\n",
    "        dico[column]=df_user[column].mean()\n",
    "\n",
    "df_user=df_user.fillna(value=dico)\n",
    "del dico"
   ]
  },
  {
   "cell_type": "code",
   "execution_count": 3,
   "metadata": {},
   "outputs": [
    {
     "name": "stderr",
     "output_type": "stream",
     "text": [
      "/Users/Moon/anaconda3/lib/python3.6/site-packages/numpy/lib/arraysetops.py:569: FutureWarning: elementwise comparison failed; returning scalar instead, but in the future will perform elementwise comparison\n",
      "  mask |= (ar1 == a)\n"
     ]
    }
   ],
   "source": [
    "#Chargement de df_note\n",
    "df_note=pd.read_csv('../../../dataset/data_regression/df_note.csv', index_col=0)"
   ]
  },
  {
   "cell_type": "code",
   "execution_count": 4,
   "metadata": {},
   "outputs": [],
   "source": [
    "#Join de df_user et df_note  -> df\n",
    "df=df_note.merge(df_user, how='outer', on=\"userId\")\n",
    "del df_user\n",
    "del df_note"
   ]
  },
  {
   "cell_type": "code",
   "execution_count": 5,
   "metadata": {},
   "outputs": [],
   "source": [
    "#Join de df et df_movie \n",
    "df_movie=pd.read_csv('../../../dataset/data_regression/df_movie.csv')\n",
    "df=df.merge(df_movie, how='outer', on=\"movieId_ref\")\n",
    "del df_movie\n",
    "df=df.drop([\"userId\", \"movieId_ref\"], axis=1)"
   ]
  },
  {
   "cell_type": "code",
   "execution_count": 6,
   "metadata": {},
   "outputs": [
    {
     "data": {
      "text/html": [
       "<div>\n",
       "<style scoped>\n",
       "    .dataframe tbody tr th:only-of-type {\n",
       "        vertical-align: middle;\n",
       "    }\n",
       "\n",
       "    .dataframe tbody tr th {\n",
       "        vertical-align: top;\n",
       "    }\n",
       "\n",
       "    .dataframe thead th {\n",
       "        text-align: right;\n",
       "    }\n",
       "</style>\n",
       "<table border=\"1\" class=\"dataframe\">\n",
       "  <thead>\n",
       "    <tr style=\"text-align: right;\">\n",
       "      <th></th>\n",
       "      <th>rating</th>\n",
       "      <th>time_btw_vote</th>\n",
       "      <th>rating_user_avg</th>\n",
       "      <th>rating_user_nb</th>\n",
       "      <th>action_nb_note_user</th>\n",
       "      <th>action_avg_note_user</th>\n",
       "      <th>action_avg_year_user</th>\n",
       "      <th>adventure_nb_note_user</th>\n",
       "      <th>adventure_avg_note_user</th>\n",
       "      <th>adventure_avg_year_user</th>\n",
       "      <th>...</th>\n",
       "      <th>fantasy</th>\n",
       "      <th>history</th>\n",
       "      <th>horror</th>\n",
       "      <th>romance</th>\n",
       "      <th>sci-fi</th>\n",
       "      <th>thriller</th>\n",
       "      <th>war</th>\n",
       "      <th>western</th>\n",
       "      <th>averageRating</th>\n",
       "      <th>numVotes</th>\n",
       "    </tr>\n",
       "  </thead>\n",
       "  <tbody>\n",
       "    <tr>\n",
       "      <th>0</th>\n",
       "      <td>0.777778</td>\n",
       "      <td>8.824853e-08</td>\n",
       "      <td>0.806607</td>\n",
       "      <td>0.019911</td>\n",
       "      <td>0.040945</td>\n",
       "      <td>0.790598</td>\n",
       "      <td>0.680070</td>\n",
       "      <td>0.045763</td>\n",
       "      <td>0.831276</td>\n",
       "      <td>0.676023</td>\n",
       "      <td>...</td>\n",
       "      <td>0.0</td>\n",
       "      <td>0.0</td>\n",
       "      <td>0.0</td>\n",
       "      <td>0.0</td>\n",
       "      <td>0.0</td>\n",
       "      <td>0.0</td>\n",
       "      <td>0.0</td>\n",
       "      <td>0.0</td>\n",
       "      <td>0.864198</td>\n",
       "      <td>0.377335</td>\n",
       "    </tr>\n",
       "    <tr>\n",
       "      <th>1</th>\n",
       "      <td>1.000000</td>\n",
       "      <td>0.000000e+00</td>\n",
       "      <td>0.722222</td>\n",
       "      <td>0.001488</td>\n",
       "      <td>0.006299</td>\n",
       "      <td>0.666667</td>\n",
       "      <td>0.768466</td>\n",
       "      <td>0.006780</td>\n",
       "      <td>0.722222</td>\n",
       "      <td>0.784211</td>\n",
       "      <td>...</td>\n",
       "      <td>0.0</td>\n",
       "      <td>0.0</td>\n",
       "      <td>0.0</td>\n",
       "      <td>0.0</td>\n",
       "      <td>0.0</td>\n",
       "      <td>0.0</td>\n",
       "      <td>0.0</td>\n",
       "      <td>0.0</td>\n",
       "      <td>0.864198</td>\n",
       "      <td>0.377335</td>\n",
       "    </tr>\n",
       "    <tr>\n",
       "      <th>2</th>\n",
       "      <td>0.777778</td>\n",
       "      <td>2.152403e-09</td>\n",
       "      <td>0.733333</td>\n",
       "      <td>0.006751</td>\n",
       "      <td>0.020472</td>\n",
       "      <td>0.683761</td>\n",
       "      <td>0.773601</td>\n",
       "      <td>0.018644</td>\n",
       "      <td>0.686869</td>\n",
       "      <td>0.782775</td>\n",
       "      <td>...</td>\n",
       "      <td>0.0</td>\n",
       "      <td>0.0</td>\n",
       "      <td>0.0</td>\n",
       "      <td>0.0</td>\n",
       "      <td>0.0</td>\n",
       "      <td>0.0</td>\n",
       "      <td>0.0</td>\n",
       "      <td>0.0</td>\n",
       "      <td>0.864198</td>\n",
       "      <td>0.377335</td>\n",
       "    </tr>\n",
       "    <tr>\n",
       "      <th>3</th>\n",
       "      <td>0.777778</td>\n",
       "      <td>1.054678e-07</td>\n",
       "      <td>0.754386</td>\n",
       "      <td>0.003090</td>\n",
       "      <td>0.007874</td>\n",
       "      <td>0.733333</td>\n",
       "      <td>0.597727</td>\n",
       "      <td>0.011864</td>\n",
       "      <td>0.761905</td>\n",
       "      <td>0.575940</td>\n",
       "      <td>...</td>\n",
       "      <td>0.0</td>\n",
       "      <td>0.0</td>\n",
       "      <td>0.0</td>\n",
       "      <td>0.0</td>\n",
       "      <td>0.0</td>\n",
       "      <td>0.0</td>\n",
       "      <td>0.0</td>\n",
       "      <td>0.0</td>\n",
       "      <td>0.864198</td>\n",
       "      <td>0.377335</td>\n",
       "    </tr>\n",
       "    <tr>\n",
       "      <th>4</th>\n",
       "      <td>0.888889</td>\n",
       "      <td>2.582884e-08</td>\n",
       "      <td>0.773416</td>\n",
       "      <td>0.054125</td>\n",
       "      <td>0.156693</td>\n",
       "      <td>0.748744</td>\n",
       "      <td>0.836855</td>\n",
       "      <td>0.149153</td>\n",
       "      <td>0.792929</td>\n",
       "      <td>0.831758</td>\n",
       "      <td>...</td>\n",
       "      <td>0.0</td>\n",
       "      <td>0.0</td>\n",
       "      <td>0.0</td>\n",
       "      <td>0.0</td>\n",
       "      <td>0.0</td>\n",
       "      <td>0.0</td>\n",
       "      <td>0.0</td>\n",
       "      <td>0.0</td>\n",
       "      <td>0.864198</td>\n",
       "      <td>0.377335</td>\n",
       "    </tr>\n",
       "  </tbody>\n",
       "</table>\n",
       "<p>5 rows × 77 columns</p>\n",
       "</div>"
      ],
      "text/plain": [
       "     rating  time_btw_vote  rating_user_avg  rating_user_nb  \\\n",
       "0  0.777778   8.824853e-08         0.806607        0.019911   \n",
       "1  1.000000   0.000000e+00         0.722222        0.001488   \n",
       "2  0.777778   2.152403e-09         0.733333        0.006751   \n",
       "3  0.777778   1.054678e-07         0.754386        0.003090   \n",
       "4  0.888889   2.582884e-08         0.773416        0.054125   \n",
       "\n",
       "   action_nb_note_user  action_avg_note_user  action_avg_year_user  \\\n",
       "0             0.040945              0.790598              0.680070   \n",
       "1             0.006299              0.666667              0.768466   \n",
       "2             0.020472              0.683761              0.773601   \n",
       "3             0.007874              0.733333              0.597727   \n",
       "4             0.156693              0.748744              0.836855   \n",
       "\n",
       "   adventure_nb_note_user  adventure_avg_note_user  adventure_avg_year_user  \\\n",
       "0                0.045763                 0.831276                 0.676023   \n",
       "1                0.006780                 0.722222                 0.784211   \n",
       "2                0.018644                 0.686869                 0.782775   \n",
       "3                0.011864                 0.761905                 0.575940   \n",
       "4                0.149153                 0.792929                 0.831758   \n",
       "\n",
       "   ...  fantasy  history  horror  romance  sci-fi  thriller  war  western  \\\n",
       "0  ...      0.0      0.0     0.0      0.0     0.0       0.0  0.0      0.0   \n",
       "1  ...      0.0      0.0     0.0      0.0     0.0       0.0  0.0      0.0   \n",
       "2  ...      0.0      0.0     0.0      0.0     0.0       0.0  0.0      0.0   \n",
       "3  ...      0.0      0.0     0.0      0.0     0.0       0.0  0.0      0.0   \n",
       "4  ...      0.0      0.0     0.0      0.0     0.0       0.0  0.0      0.0   \n",
       "\n",
       "   averageRating  numVotes  \n",
       "0       0.864198  0.377335  \n",
       "1       0.864198  0.377335  \n",
       "2       0.864198  0.377335  \n",
       "3       0.864198  0.377335  \n",
       "4       0.864198  0.377335  \n",
       "\n",
       "[5 rows x 77 columns]"
      ]
     },
     "execution_count": 6,
     "metadata": {},
     "output_type": "execute_result"
    }
   ],
   "source": [
    "#preprocessing des données\n",
    "\n",
    "for column in df.columns:\n",
    "    scaler=MinMaxScaler()\n",
    "    df[column]=scaler.fit_transform(pd.DataFrame(df[column]))\n",
    "    \n",
    "df.head()"
   ]
  },
  {
   "cell_type": "code",
   "execution_count": 7,
   "metadata": {},
   "outputs": [],
   "source": [
    "#Séparation des données train et test\n",
    "data=df.drop([\"rating\"], axis=1)\n",
    "target=df.rating\n",
    "del df\n",
    "X_train,X_test,y_train,y_test=train_test_split(data, target, test_size=0.05, train_size=0.2, random_state=222)\n",
    "del data\n",
    "del target"
   ]
  },
  {
   "cell_type": "code",
   "execution_count": 8,
   "metadata": {},
   "outputs": [
    {
     "name": "stdout",
     "output_type": "stream",
     "text": [
      "WARNING:tensorflow:From /Users/Moon/anaconda3/lib/python3.6/site-packages/tensorflow/python/framework/op_def_library.py:263: colocate_with (from tensorflow.python.framework.ops) is deprecated and will be removed in a future version.\n",
      "Instructions for updating:\n",
      "Colocations handled automatically by placer.\n"
     ]
    },
    {
     "name": "stderr",
     "output_type": "stream",
     "text": [
      "/Users/Moon/anaconda3/lib/python3.6/site-packages/ipykernel_launcher.py:3: UserWarning: Update your `Dense` call to the Keras 2 API: `Dense(input_dim=76, activation=\"relu\", units=76, kernel_initializer=\"normal\")`\n",
      "  This is separate from the ipykernel package so we can avoid doing imports until\n",
      "/Users/Moon/anaconda3/lib/python3.6/site-packages/ipykernel_launcher.py:4: UserWarning: Update your `Dense` call to the Keras 2 API: `Dense(activation=\"softmax\", units=1, kernel_initializer=\"normal\")`\n",
      "  after removing the cwd from sys.path.\n"
     ]
    }
   ],
   "source": [
    "#Création du modèle de réseaux de neurones\n",
    "model=Sequential()\n",
    "model.add(Dense(76, input_dim=76, kernel_initializer='normal', activation='relu'))\n",
    "model.add(Dense(1, kernel_initializer='normal'))"
   ]
  },
  {
   "cell_type": "code",
   "execution_count": 9,
   "metadata": {},
   "outputs": [],
   "source": [
    "#Compilation du modèle\n",
    "model.compile(optimizer='adam', loss='mean_squared_error')"
   ]
  },
  {
   "cell_type": "code",
   "execution_count": null,
   "metadata": {},
   "outputs": [
    {
     "name": "stdout",
     "output_type": "stream",
     "text": [
      "WARNING:tensorflow:From /Users/Moon/anaconda3/lib/python3.6/site-packages/tensorflow/python/ops/math_ops.py:3066: to_int32 (from tensorflow.python.ops.math_ops) is deprecated and will be removed in a future version.\n",
      "Instructions for updating:\n",
      "Use tf.cast instead.\n",
      "Epoch 1/10\n"
     ]
    }
   ],
   "source": [
    "#Entrainement du modèle\n",
    "model.fit(X_train, y_train, batch_size=50, epochs=10, verbose=2)"
   ]
  },
  {
   "cell_type": "code",
   "execution_count": null,
   "metadata": {},
   "outputs": [],
   "source": [
    "#Evaluation du modèle\n",
    "y_pred=model.predict(X_test)\n",
    "evaluate=model.evaluate(X_test, y_test)\n",
    "print(\"perte : \\t\", evaluate[0])\n",
    "print(\"erreur : \\t\", (1-evaluate[1])*100)"
   ]
  },
  {
   "cell_type": "code",
   "execution_count": null,
   "metadata": {},
   "outputs": [],
   "source": []
  }
 ],
 "metadata": {
  "kernelspec": {
   "display_name": "Python 3",
   "language": "python",
   "name": "python3"
  },
  "language_info": {
   "codemirror_mode": {
    "name": "ipython",
    "version": 3
   },
   "file_extension": ".py",
   "mimetype": "text/x-python",
   "name": "python",
   "nbconvert_exporter": "python",
   "pygments_lexer": "ipython3",
   "version": "3.6.8"
  }
 },
 "nbformat": 4,
 "nbformat_minor": 2
}
