{
 "cells": [
  {
   "cell_type": "markdown",
   "metadata": {},
   "source": [
    "READ ME"
   ]
  },
  {
   "cell_type": "markdown",
   "metadata": {},
   "source": [
    "Projet Datascientest\n",
    "Movie Recommender System\n",
    "\n",
    "Le projet a pour objectif de déterminer un ou des modèles de data-science capables de prédire un film qu'un utilisateur va aimer, en réponse à une liste de films qu'À aimé cet utilisateur.\n",
    "\n",
    "Il se base sur 2 datasets : \n",
    "- IMDB qui recense 500K films et leurs caractéristiques (année, durée, genre, réal, acteurs...)\n",
    "- MovieLens qui recense 27K films et 138K utilisateurs ayant chacun notés certains de ces films.\n",
    "Les 2 databases sont ensuite merge pour travailler sur 27K films uniquement. On a ainsi pour chaque film des notes d'utilisateurs, et leurs caractéristiques. Les prédictions sont réalisées sur les notes des utilisateurs.\n",
    "\n",
    "Plusieurs modèles sont étudiés :\n",
    "- recommender system\n",
    "- regression \n",
    "- deep-learning\n",
    "A ces modèles de prédiction s'ajoutent des modèles de clustering pour regrouper des utilisateurs et/des movies.\n",
    "- clustering K-Means\n",
    "- detection de communautes graphes nx\n",
    "Les films proposés sont alors issus du recoupement des 2 types de modèles"
   ]
  },
  {
   "cell_type": "markdown",
   "metadata": {},
   "source": [
    "Avant de commencer :\n",
    "\n",
    "- S'assurer de la bonne architecture du dossier dataset, à l'exterieur du git-repo.\n",
    "- Faire tourner le script MovieRecommenderSystem/tri_data/infos_users pour créer les dataframes qui s'enregistrent dans dataset/data_regression (on en a besoin pour les scripts de regression et de deep-learning).\n",
    "- Faire tourner le script MovieRecommenderSystem/algorithmes/recommender_system/creation_matrices_similarites jusqu'à l'enregistrement de la matrice movie_similarity.csv (ensuite ordi plante normalement). On en a besoin pour algorithmes/alternating_least_square\n",
    "\n",
    "Ensuite pas d'ordre"
   ]
  },
  {
   "cell_type": "markdown",
   "metadata": {},
   "source": [
    "Architecture du projet :\n",
    "\n",
    "dataset\n",
    "--- ml-20m\n",
    "--- --- genome-scores.csv\n",
    "--- --- genome-tags.csv\n",
    "--- --- links.csv\n",
    "--- --- movies.csv\n",
    "--- --- ratings.csv\n",
    "--- --- tags.csv\n",
    "--- data_regression\n",
    "--- --- df_movie.csv\n",
    "--- --- df_note.csv\n",
    "--- --- df_user.csv\n",
    "--- name.basics.tsv\n",
    "--- title.akas.tsv\n",
    "--- title.basics.tsv\n",
    "--- title.crew.tsv\n",
    "--- title.episode.tsv\n",
    "--- title.principals.tsv\n",
    "--- title.ratings.tsv\n",
    "MovieRecommenderSystem (git-repo)\n",
    "--- README\n",
    "--- algorithmes\n",
    "--- analyses_data\n",
    "--- new_dataset\n",
    "--- tri_data"
   ]
  },
  {
   "cell_type": "markdown",
   "metadata": {},
   "source": [
    "Dossier algorithmes\n",
    "\n",
    "regroupe les différents algorithmes de data-science étudiés ici\n",
    "\n",
    "- clustering\n",
    "\n",
    "- théorie des graphes\n",
    "--- detection_communautes_movies est un fichier utilisant networkX pour tracer des graphes reliant les films entre eux. 2 films sont reliés entre eux si 1 même utilisateur a voté pour les 2. Sont ensuite réalisés des détections de communautés\n",
    "--- detection_communautes_movies est un fichier reliant les users entre eux via des graphes. 1 arête est créée entre 2 users si ils ont votés pour le même film. Nombre d'arêtes trop élevée, à revoir.\n",
    "\n",
    "- regression\n",
    "--- regression_all fait une régression linéaire sur Scikit-Learn en utilisant les informations des films et les informations des utilisateurs, pour prédire la note qu'un utilisateur va donner à un film\n",
    "--- regression_keras fait la même chose, mais sur Keras\n",
    "--- regression_moy est un fichier pourri\n",
    "--- regression_note est un ancien fichier, voir regression_all\n",
    "\n",
    "- deep-learning\n",
    "--- simple.ipynb est un 1er essai de deep-learning avec seulement 2 Dense Layers. \n",
    "--- CNN pour l'instant pas développé\n",
    "\n",
    "- recommender system\n",
    "--- creation_matrices_similarites permet de créer des matrices modèles train et test sur les notes des utilisateurs. Crée également le fichier movie_similarity, utile pour le filtrage collaboratif.\n",
    "--- alternating_least_square est un modèle de recommender system \n",
    "--- filtrage collaboratif est un autre modèle, basé sur les similarités entre movies, et plus loin dans le fichier sur les similarités entre users (avoir d'abord fait tourner le script creation_matrices_similarites.ipynb\n",
    "--- reduced... sont des copies des scripts cités plus haut, réalisés sur une portion réduite du dataset.\n"
   ]
  },
  {
   "cell_type": "markdown",
   "metadata": {},
   "source": [
    "Dossier analyses_data\n",
    "\n",
    "?"
   ]
  },
  {
   "cell_type": "markdown",
   "metadata": {},
   "source": [
    "Dossier new_dataset\n",
    "\n",
    "regroupe les dataframes créés lors des scripts de MovieRecommenderSystem/tri_data. Lorsque les df sont trop lourds pour être comités, ils sont stockés dans dataset (c'est le cas pour les df créés dans MovieRecommenderSystem/tri_data/infos_users et les matrices créées dans MovieRecommenderSystem/algorithmes/recommendersystem)\n",
    "\n",
    "- correspondances_Id_movie fait le lien entre les movieId utilisés dans MovieLens, movieId utilisés dans IMDB, et la clé movieId (recréée pour être continue) utilisée par la suite = appelée movieId_ref partout\n",
    "- imdb_db est le df créé la suite du tri des données IMDB\n",
    "- movie_df est le df créé à la suite du regroupement des 2 db, donc il a les bons movieId_ref\n"
   ]
  },
  {
   "cell_type": "markdown",
   "metadata": {},
   "source": [
    "Dossier tri_data\n",
    "\n",
    "regroupe les scripts triant les données des 2 datasets, et les regroupant via des clés représentant les films. \n",
    "\n",
    "- comp_2_datasets est le script permettant de lier les 2 databases IMDB et MovieLens\n",
    "- infos_users est un script recoupant des informations sur les utilisateurs (nombre de vote pour chaque utilisateur, moyenne de votes, nombre de vote pour chaque genre de film...)\n",
    "- tri_IMDB est le script permettant de trier la database IMDB\n",
    "- tri_MovieLens est le script permettant de trier la base de donnée MovieLens"
   ]
  }
 ],
 "metadata": {
  "kernelspec": {
   "display_name": "Python 3",
   "language": "python",
   "name": "python3"
  },
  "language_info": {
   "codemirror_mode": {
    "name": "ipython",
    "version": 3
   },
   "file_extension": ".py",
   "mimetype": "text/x-python",
   "name": "python",
   "nbconvert_exporter": "python",
   "pygments_lexer": "ipython3",
   "version": "3.6.8"
  }
 },
 "nbformat": 4,
 "nbformat_minor": 2
}
