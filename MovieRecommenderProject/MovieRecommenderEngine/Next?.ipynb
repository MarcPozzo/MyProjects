{
 "cells": [
  {
   "cell_type": "code",
   "execution_count": null,
   "metadata": {},
   "outputs": [],
   "source": [
    "The RMSE is not the best you have to choose another way to evaluate"
   ]
  },
  {
   "cell_type": "code",
   "execution_count": null,
   "metadata": {},
   "outputs": [],
   "source": [
    "Action movies is not enought, I will do next with spark"
   ]
  },
  {
   "cell_type": "code",
   "execution_count": null,
   "metadata": {},
   "outputs": [],
   "source": [
    "Implement a type solution like that : type a number between N1 et N2. You have seen these movies, the recommender system \n",
    "    propose you these 3 movies. Maybe you can add an optinal butom to display if the movies seen"
   ]
  },
  {
   "cell_type": "code",
   "execution_count": null,
   "metadata": {},
   "outputs": [],
   "source": [
    "Similarity should be without null values if not the similarity will be more mad non rating and not the others. So for one user remove non rating zero and normalized the rest"
   ]
  },
  {
   "cell_type": "code",
   "execution_count": null,
   "metadata": {},
   "outputs": [],
   "source": [
    "Normalization by movie, remove the means and delete by standart error the no rating keep being in zeros. The movie under the means have negative value."
   ]
  },
  {
   "cell_type": "code",
   "execution_count": null,
   "metadata": {},
   "outputs": [],
   "source": [
    "Check ALS, is it not overfitt ? check train and test sets."
   ]
  },
  {
   "cell_type": "code",
   "execution_count": null,
   "metadata": {},
   "outputs": [],
   "source": [
    "follow these links for further explanations :\n",
    "https://medium.com/slalom-technology/building-and-evaluating-your-first-recommendation-engine-with-scikit-surprise-8681418ee367\n",
    "https://medium.com/datadriveninvestor/behind-spotify-recommendation-engine-a9b5a27a935\n",
    "https://mail.google.com/mail/u/0/#search/medium/FMfcgxwDqxRlPXlFsXPrDfSSxsznRHJF"
   ]
  }
 ],
 "metadata": {
  "kernelspec": {
   "display_name": "Python 3",
   "language": "python",
   "name": "python3"
  },
  "language_info": {
   "codemirror_mode": {
    "name": "ipython",
    "version": 3
   },
   "file_extension": ".py",
   "mimetype": "text/x-python",
   "name": "python",
   "nbconvert_exporter": "python",
   "pygments_lexer": "ipython3",
   "version": "3.7.1"
  }
 },
 "nbformat": 4,
 "nbformat_minor": 2
}
